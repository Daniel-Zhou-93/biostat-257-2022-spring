{
 "cells": [
  {
   "cell_type": "markdown",
   "metadata": {},
   "source": [
    "# Biostat 257 Homework 4\n",
    "\n",
    "**Due May 20 @ 11:59PM**"
   ]
  },
  {
   "cell_type": "code",
   "execution_count": 1,
   "metadata": {},
   "outputs": [
    {
     "name": "stdout",
     "output_type": "stream",
     "text": [
      "Julia Version 1.7.1\n",
      "Commit ac5cc99908 (2021-12-22 19:35 UTC)\n",
      "Platform Info:\n",
      "  OS: macOS (x86_64-apple-darwin19.5.0)\n",
      "  CPU: Intel(R) Core(TM) i5-8279U CPU @ 2.40GHz\n",
      "  WORD_SIZE: 64\n",
      "  LIBM: libopenlibm\n",
      "  LLVM: libLLVM-12.0.1 (ORCJIT, skylake)\n"
     ]
    }
   ],
   "source": [
    "versioninfo()"
   ]
  },
  {
   "cell_type": "markdown",
   "metadata": {},
   "source": [
    "We are going to try different numerical methods learnt in class on the [Google PageRank problem](https://en.wikipedia.org/wiki/PageRank)."
   ]
  },
  {
   "cell_type": "markdown",
   "metadata": {},
   "source": [
    "## Q1 (5 pts) Recognize structure\n",
    "\n",
    "Let $\\mathbf{A} \\in \\{0,1\\}^{n \\times n}$ be the connectivity matrix of $n$ web pages with entries\n",
    "$$\n",
    "\\begin{eqnarray*}\n",
    "\ta_{ij}= \\begin{cases}\n",
    "\t1 & \\text{if page $i$ links to page $j$} \\\\\n",
    "\t0 & \\text{otherwise}\n",
    "\t\\end{cases}.\n",
    "\\end{eqnarray*}\n",
    "$$\n",
    "$r_i = \\sum_j a_{ij}$ is the out-degree of page $i$. That is $r_i$ is the number of links on page $i$. Imagine a random surfer exploring the space of $n$ pages according to the following rules.  \n",
    "\n",
    "- From a page $i$ with $r_i>0$\n",
    "    * with probability $p$, (s)he randomly chooses a link on page $i$ (uniformly) and follows that link to the next page  \n",
    "    * with probability $1-p$, (s)he randomly chooses one page from the set of all $n$ pages (uniformly) and proceeds to that page  \n",
    "- From a page $i$ with $r_i=0$ (a dangling page), (s)he randomly chooses one page from the set of all $n$ pages (uniformly) and proceeds to that page  \n",
    "    \n",
    "The process defines a Markov chain on the space of $n$ pages. Write the transition matrix $\\mathbf{P}$ of the Markov chain as a sparse matrix plus rank 1 matrix."
   ]
  },
  {
   "cell_type": "markdown",
   "metadata": {},
   "source": [
    "### Answer\n",
    "\n",
    "Since $A$ is a binary matrix with links and $r_{i} = \\sum_{j}a_{ij}$ is the out-degree of page $i$, assuming $r_{i} > 0$ for all $i$, a natural transition probability based on $A$ is $\\mathrm{diag}(1/r_{i})A$, where we scale the columns of $A$ by their respective out-degrees. Accounting for $p$, we have $p\\mathrm{diag}(1/r_{i})A + (1 - p)\\frac{1}{n}1_{n}1_{n}^{T}$. Next, let $z_{i} = 1(r_{i} = 0)$. Next, set $r_{i}^{*} = \\infty$ if $r_{i} = 0$ and $r_{i}^{*} = r_{i}$ otherwise, so that $1/r_{i}^{*} = 0$ for $z_{i} = 1$. (Alternatively, letting $r$ be the vector of $r_{i}$ values and $z$ be the vector of $z_{i}$ values, $1/r^{*} = 1/r \\odot (1-z)$, where $\\odot$ is the entrywise Hadamard product.) Our final $P$ follows:\n",
    "\n",
    "\\begin{eqnarray*}\n",
    "P &=& p\\mathrm{diag}(1/r_{i}^{*})A + (1 - p)\\frac{1}{n}1_{n}1_{n}^{T} + p\\frac{1}{n}\\mathrm{diag}(z_{i})1_{n}1_{n}^{T}\\\\\n",
    " &=& p\\mathrm{diag}(1/r_{i}^{*})A + \\frac{1}{n}((1 - p)I + p\\mathrm{diag}(z_{i}))1_{n}1_{n}^{T}\\\\\n",
    "\\end{eqnarray*}"
   ]
  },
  {
   "cell_type": "markdown",
   "metadata": {},
   "source": [
    "## Q2 Relate to numerical linear algebra\n",
    "\n",
    "According to standard Markov chain theory, the (random) position of the surfer converges to the stationary distribution $\\mathbf{x} = (x_1,\\ldots,x_n)^T$ of the Markov chain. $x_i$ has the natural interpretation of the proportion of times the surfer visits page $i$ in the long run. Therefore $\\mathbf{x}$ serves as page ranks: a higher $x_i$ means page $i$ is more visited. It is well-known that $\\mathbf{x}$ is the left eigenvector corresponding to the top eigenvalue 1 of the transition matrix $\\mathbf{P}$. That is $\\mathbf{P}^T \\mathbf{x} = \\mathbf{x}$. Therefore $\\mathbf{x}$ can be solved as an **eigen-problem**. It can also be cast as **solving a linear system**. Since the row sums of $\\mathbf{P}$ are 1, $\\mathbf{P}$ is rank deficient. We can replace the first equation by the $\\sum_{i=1}^n x_i = 1$.\n",
    "\n",
    "Hint: For iterative solvers, we don't need to replace the 1st equation. We can use the matrix $\\mathbf{I} - \\mathbf{P}^T$ directly if we start with a vector with all positive entries."
   ]
  },
  {
   "cell_type": "markdown",
   "metadata": {},
   "source": [
    "## Q3 (10 pts) Explore data\n",
    "\n",
    "Obtain the connectivity matrix `A` from the `SNAP/web-Google` data in the MatrixDepot package. "
   ]
  },
  {
   "cell_type": "code",
   "execution_count": 2,
   "metadata": {},
   "outputs": [
    {
     "name": "stderr",
     "output_type": "stream",
     "text": [
      "┌ Info: verify download of index files...\n",
      "└ @ MatrixDepot /Users/danielzhou/.julia/packages/MatrixDepot/GEDc3/src/MatrixDepot.jl:139\n",
      "┌ Info: reading database\n",
      "└ @ MatrixDepot /Users/danielzhou/.julia/packages/MatrixDepot/GEDc3/src/download.jl:23\n",
      "┌ Info: adding metadata...\n",
      "└ @ MatrixDepot /Users/danielzhou/.julia/packages/MatrixDepot/GEDc3/src/download.jl:67\n",
      "┌ Info: adding svd data...\n",
      "└ @ MatrixDepot /Users/danielzhou/.julia/packages/MatrixDepot/GEDc3/src/download.jl:69\n",
      "┌ Info: writing database\n",
      "└ @ MatrixDepot /Users/danielzhou/.julia/packages/MatrixDepot/GEDc3/src/download.jl:74\n",
      "┌ Info: used remote sites are sparse.tamu.edu with MAT index and math.nist.gov with HTML index\n",
      "└ @ MatrixDepot /Users/danielzhou/.julia/packages/MatrixDepot/GEDc3/src/MatrixDepot.jl:141\n"
     ]
    },
    {
     "data": {
      "text/latex": [
       "\\section{SNAP/web-Google}\n",
       "\\subsubparagraph{MatrixMarket matrix coordinate pattern general}\n",
       "\\rule{\\textwidth}{1pt}\n",
       "\\begin{itemize}\n",
       "\\item UF Sparse Matrix Collection, Tim Davis\n",
       "\n",
       "\n",
       "\\item http://www.cise.ufl.edu/research/sparse/matrices/SNAP/web-Google\n",
       "\n",
       "\n",
       "\\item name: SNAP/web-Google\n",
       "\n",
       "\n",
       "\\item [Web graph from Google]\n",
       "\n",
       "\n",
       "\\item id: 2301\n",
       "\n",
       "\n",
       "\\item date: 2002\n",
       "\n",
       "\n",
       "\\item author: Google\n",
       "\n",
       "\n",
       "\\item ed: J. Leskovec\n",
       "\n",
       "\n",
       "\\item fields: name title A id date author ed kind notes\n",
       "\n",
       "\n",
       "\\item kind: directed graph\n",
       "\n",
       "\\end{itemize}\n",
       "\\rule{\\textwidth}{1pt}\n",
       "\\begin{itemize}\n",
       "\\item notes:\n",
       "\n",
       "\n",
       "\\item Networks from SNAP (Stanford Network Analysis Platform) Network Data Sets,     \n",
       "\n",
       "\n",
       "\\item Jure Leskovec http://snap.stanford.edu/data/index.html                         \n",
       "\n",
       "\n",
       "\\item email jure at cs.stanford.edu                                                  \n",
       "\n",
       "\n",
       "\\item \n",
       "\\item Google web graph                                                               \n",
       "\n",
       "\n",
       "\\item \n",
       "\\item Dataset information                                                            \n",
       "\n",
       "\n",
       "\\item \n",
       "\\item Nodes represent web pages and directed edges represent hyperlinks between them.\n",
       "\n",
       "\n",
       "\\item The data was released in 2002 by Google as a part of Google Programming        \n",
       "\n",
       "\n",
       "\\item Contest.                                                                       \n",
       "\n",
       "\n",
       "\\item \n",
       "\\item Dataset statistics                                                             \n",
       "\n",
       "\n",
       "\\item Nodes   875713                                                                 \n",
       "\n",
       "\n",
       "\\item Edges   5105039                                                                \n",
       "\n",
       "\n",
       "\\item Nodes in largest WCC    855802 (0.977)                                         \n",
       "\n",
       "\n",
       "\\item Edges in largest WCC    5066842 (0.993)                                        \n",
       "\n",
       "\n",
       "\\item Nodes in largest SCC    434818 (0.497)                                         \n",
       "\n",
       "\n",
       "\\item Edges in largest SCC    3419124 (0.670)                                        \n",
       "\n",
       "\n",
       "\\item Average clustering coefficient  0.6047                                         \n",
       "\n",
       "\n",
       "\\item Number of triangles     13391903                                               \n",
       "\n",
       "\n",
       "\\item Fraction of closed triangles    0.05523                                        \n",
       "\n",
       "\n",
       "\\item Diameter (longest shortest path)    22                                         \n",
       "\n",
       "\n",
       "\\item 90-percentile effective diameter    8.1                                        \n",
       "\n",
       "\n",
       "\\item \n",
       "\\item Source (citation)                                                              \n",
       "\n",
       "\n",
       "\\item \n",
       "\\item J. Leskovec, K. Lang, A. Dasgupta, M. Mahoney. Community Structure in Large    \n",
       "\n",
       "\n",
       "\\item Networks: Natural Cluster Sizes and the Absence of Large Well-Defined Clusters.\n",
       "\n",
       "\n",
       "\\item arXiv.org:0810.1355, 2008.                                                     \n",
       "\n",
       "\n",
       "\\item \n",
       "\\item Google programming contest, 2002                                               \n",
       "\n",
       "\n",
       "\\item http://www.google.com/programming-contest/                                     \n",
       "\n",
       "\n",
       "\\item \n",
       "\\item Files                                                                          \n",
       "\n",
       "\n",
       "\\item File    Description                                                            \n",
       "\n",
       "\n",
       "\\item web-Google.txt.gz   Webgraph from the Google programming contest, 2002         \n",
       "\n",
       "\\end{itemize}\n",
       "\\rule{\\textwidth}{1pt}\n",
       "916428 916428 5105039\n",
       "\n"
      ],
      "text/markdown": [
       "# SNAP/web-Google\n",
       "\n",
       "###### MatrixMarket matrix coordinate pattern general\n",
       "\n",
       "---\n",
       "\n",
       "  * UF Sparse Matrix Collection, Tim Davis\n",
       "  * http://www.cise.ufl.edu/research/sparse/matrices/SNAP/web-Google\n",
       "  * name: SNAP/web-Google\n",
       "  * [Web graph from Google]\n",
       "  * id: 2301\n",
       "  * date: 2002\n",
       "  * author: Google\n",
       "  * ed: J. Leskovec\n",
       "  * fields: name title A id date author ed kind notes\n",
       "  * kind: directed graph\n",
       "\n",
       "---\n",
       "\n",
       "  * notes:\n",
       "  * Networks from SNAP (Stanford Network Analysis Platform) Network Data Sets,\n",
       "  * Jure Leskovec http://snap.stanford.edu/data/index.html\n",
       "  * email jure at cs.stanford.edu\n",
       "  * \n",
       "  * Google web graph\n",
       "  * \n",
       "  * Dataset information\n",
       "  * \n",
       "  * Nodes represent web pages and directed edges represent hyperlinks between them.\n",
       "  * The data was released in 2002 by Google as a part of Google Programming\n",
       "  * Contest.\n",
       "  * \n",
       "  * Dataset statistics\n",
       "  * Nodes   875713\n",
       "  * Edges   5105039\n",
       "  * Nodes in largest WCC    855802 (0.977)\n",
       "  * Edges in largest WCC    5066842 (0.993)\n",
       "  * Nodes in largest SCC    434818 (0.497)\n",
       "  * Edges in largest SCC    3419124 (0.670)\n",
       "  * Average clustering coefficient  0.6047\n",
       "  * Number of triangles     13391903\n",
       "  * Fraction of closed triangles    0.05523\n",
       "  * Diameter (longest shortest path)    22\n",
       "  * 90-percentile effective diameter    8.1\n",
       "  * \n",
       "  * Source (citation)\n",
       "  * \n",
       "  * J. Leskovec, K. Lang, A. Dasgupta, M. Mahoney. Community Structure in Large\n",
       "  * Networks: Natural Cluster Sizes and the Absence of Large Well-Defined Clusters.\n",
       "  * arXiv.org:0810.1355, 2008.\n",
       "  * \n",
       "  * Google programming contest, 2002\n",
       "  * http://www.google.com/programming-contest/\n",
       "  * \n",
       "  * Files\n",
       "  * File    Description\n",
       "  * web-Google.txt.gz   Webgraph from the Google programming contest, 2002\n",
       "\n",
       "---\n",
       "\n",
       "916428 916428 5105039\n"
      ],
      "text/plain": [
       "\u001b[1m  SNAP/web-Google\u001b[22m\n",
       "\u001b[1m  ≡≡≡≡≡≡≡≡≡≡≡≡≡≡≡≡≡\u001b[22m\n",
       "\n",
       "\u001b[1m  MatrixMarket matrix coordinate pattern general\u001b[22m\n",
       "\n",
       "  ────────────────────────────────────────────────────────────────────────────\n",
       "\n",
       "    •  UF Sparse Matrix Collection, Tim Davis\n",
       "\n",
       "    •  http://www.cise.ufl.edu/research/sparse/matrices/SNAP/web-Google\n",
       "\n",
       "    •  name: SNAP/web-Google\n",
       "\n",
       "    •  [Web graph from Google]\n",
       "\n",
       "    •  id: 2301\n",
       "\n",
       "    •  date: 2002\n",
       "\n",
       "    •  author: Google\n",
       "\n",
       "    •  ed: J. Leskovec\n",
       "\n",
       "    •  fields: name title A id date author ed kind notes\n",
       "\n",
       "    •  kind: directed graph\n",
       "\n",
       "  ────────────────────────────────────────────────────────────────────────────\n",
       "\n",
       "    •  notes:\n",
       "\n",
       "    •  Networks from SNAP (Stanford Network Analysis Platform) Network\n",
       "       Data Sets,\n",
       "\n",
       "    •  Jure Leskovec http://snap.stanford.edu/data/index.html\n",
       "\n",
       "    •  email jure at cs.stanford.edu\n",
       "\n",
       "    •  \n",
       "\n",
       "    •  Google web graph\n",
       "\n",
       "    •  \n",
       "\n",
       "    •  Dataset information\n",
       "\n",
       "    •  \n",
       "\n",
       "    •  Nodes represent web pages and directed edges represent hyperlinks\n",
       "       between them.\n",
       "\n",
       "    •  The data was released in 2002 by Google as a part of Google\n",
       "       Programming\n",
       "\n",
       "    •  Contest.\n",
       "\n",
       "    •  \n",
       "\n",
       "    •  Dataset statistics\n",
       "\n",
       "    •  Nodes 875713\n",
       "\n",
       "    •  Edges 5105039\n",
       "\n",
       "    •  Nodes in largest WCC 855802 (0.977)\n",
       "\n",
       "    •  Edges in largest WCC 5066842 (0.993)\n",
       "\n",
       "    •  Nodes in largest SCC 434818 (0.497)\n",
       "\n",
       "    •  Edges in largest SCC 3419124 (0.670)\n",
       "\n",
       "    •  Average clustering coefficient 0.6047\n",
       "\n",
       "    •  Number of triangles 13391903\n",
       "\n",
       "    •  Fraction of closed triangles 0.05523\n",
       "\n",
       "    •  Diameter (longest shortest path) 22\n",
       "\n",
       "    •  90-percentile effective diameter 8.1\n",
       "\n",
       "    •  \n",
       "\n",
       "    •  Source (citation)\n",
       "\n",
       "    •  \n",
       "\n",
       "    •  J. Leskovec, K. Lang, A. Dasgupta, M. Mahoney. Community Structure\n",
       "       in Large\n",
       "\n",
       "    •  Networks: Natural Cluster Sizes and the Absence of Large\n",
       "       Well-Defined Clusters.\n",
       "\n",
       "    •  arXiv.org:0810.1355, 2008.\n",
       "\n",
       "    •  \n",
       "\n",
       "    •  Google programming contest, 2002\n",
       "\n",
       "    •  http://www.google.com/programming-contest/\n",
       "\n",
       "    •  \n",
       "\n",
       "    •  Files\n",
       "\n",
       "    •  File Description\n",
       "\n",
       "    •  web-Google.txt.gz Webgraph from the Google programming contest,\n",
       "       2002\n",
       "\n",
       "  ────────────────────────────────────────────────────────────────────────────\n",
       "\n",
       "  916428 916428 5105039"
      ]
     },
     "execution_count": 2,
     "metadata": {},
     "output_type": "execute_result"
    }
   ],
   "source": [
    "using MatrixDepot\n",
    "\n",
    "md = mdopen(\"SNAP/web-Google\")\n",
    "# display documentation for the SNAP/web-Google data\n",
    "mdinfo(md)"
   ]
  },
  {
   "cell_type": "code",
   "execution_count": 3,
   "metadata": {},
   "outputs": [
    {
     "data": {
      "text/plain": [
       "916428×916428 SparseArrays.SparseMatrixCSC{Bool, Int64} with 5105039 stored entries:\n",
       "⣿⣿⣿⣿⣿⣿⣿⣿⣿⣿⣿⣿⣿⣿⣿⣿⣿⣿⣿⣿⣿⣿⣿⣿⣿⣿⣿⣿⣿⣿⣿⣿⣿⣿⣿⣿⣿⣿⣿⣿\n",
       "⣿⣿⣿⣿⣿⣿⣿⣿⣿⣿⣿⣿⣿⣿⣿⣿⣿⣿⣿⣿⣿⣿⣿⣿⣿⣿⣿⣿⣿⣿⣿⣿⣿⣿⣿⣿⣿⣿⣿⣿\n",
       "⣿⣿⣿⣿⣿⣿⣿⣿⣿⣿⣿⣿⣿⣿⣿⣿⣿⣿⣿⣿⣿⣿⣿⣿⣿⣿⣿⣿⣿⣿⣿⣿⣿⣿⣿⣿⣿⣿⣿⣿\n",
       "⣿⣿⣿⣿⣿⣿⣿⣿⣿⣿⣿⣿⣿⣿⣿⣿⣿⣿⣿⣿⣿⣿⣿⣿⣿⣿⣿⣿⣿⣿⣿⣿⣿⣿⣿⣿⣿⣿⣿⣿\n",
       "⣿⣿⣿⣿⣿⣿⣿⣿⣿⣿⣿⣿⣿⣿⣿⣿⣿⣿⣿⣿⣿⣿⣿⣿⣿⣿⣿⣿⣿⣿⣿⣿⣿⣿⣿⣿⣿⣿⣿⣿\n",
       "⣿⣿⣿⣿⣿⣿⣿⣿⣿⣿⣿⣿⣿⣿⣿⣿⣿⣿⣿⣿⣿⣿⣿⣿⣿⣿⣿⣿⣿⣿⣿⣿⣿⣿⣿⣿⣿⣿⣿⣿\n",
       "⣿⣿⣿⣿⣿⣿⣿⣿⣿⣿⣿⣿⣿⣿⣿⣿⣿⣿⣿⣿⣿⣿⣿⣿⣿⣿⣿⣿⣿⣿⣿⣿⣿⣿⣿⣿⣿⣿⣿⣿\n",
       "⣿⣿⣿⣿⣿⣿⣿⣿⣿⣿⣿⣿⣿⣿⣿⣿⣿⣿⣿⣿⣿⣿⣿⣿⣿⣿⣿⣿⣿⣿⣿⣿⣿⣿⣿⣿⣿⣿⣿⣿\n",
       "⣿⣿⣿⣿⣿⣿⣿⣿⣿⣿⣿⣿⣿⣿⣿⣿⣿⣿⣿⣿⣿⣿⣿⣿⣿⣿⣿⣿⣿⣿⣿⣿⣿⣿⣿⣿⣿⣿⣿⣿\n",
       "⣿⣿⣿⣿⣿⣿⣿⣿⣿⣿⣿⣿⣿⣿⣿⣿⣿⣿⣿⣿⣿⣿⣿⣿⣿⣿⣿⣿⣿⣿⣿⣿⣿⣿⣿⣿⣿⣿⣿⣿\n",
       "⣿⣿⣿⣿⣿⣿⣿⣿⣿⣿⣿⣿⣿⣿⣿⣿⣿⣿⣿⣿⣿⣿⣿⣿⣿⣿⣿⣿⣿⣿⣿⣿⣿⣿⣿⣿⣿⣿⣿⣿\n",
       "⣿⣿⣿⣿⣿⣿⣿⣿⣿⣿⣿⣿⣿⣿⣿⣿⣿⣿⣿⣿⣿⣿⣿⣿⣿⣿⣿⣿⣿⣿⣿⣿⣿⣿⣿⣿⣿⣿⣿⣿\n",
       "⣿⣿⣿⣿⣿⣿⣿⣿⣿⣿⣿⣿⣿⣿⣿⣿⣿⣿⣿⣿⣿⣿⣿⣿⣿⣿⣿⣿⣿⣿⣿⣿⣿⣿⣿⣿⣿⣿⣿⣿\n",
       "⣿⣿⣿⣿⣿⣿⣿⣿⣿⣿⣿⣿⣿⣿⣿⣿⣿⣿⣿⣿⣿⣿⣿⣿⣿⣿⣿⣿⣿⣿⣿⣿⣿⣿⣿⣿⣿⣿⣿⣿\n",
       "⣿⣿⣿⣿⣿⣿⣿⣿⣿⣿⣿⣿⣿⣿⣿⣿⣿⣿⣿⣿⣿⣿⣿⣿⣿⣿⣿⣿⣿⣿⣿⣿⣿⣿⣿⣿⣿⣿⣿⣿\n",
       "⣿⣿⣿⣿⣿⣿⣿⣿⣿⣿⣿⣿⣿⣿⣿⣿⣿⣿⣿⣿⣿⣿⣿⣿⣿⣿⣿⣿⣿⣿⣿⣿⣿⣿⣿⣿⣿⣿⣿⣿\n",
       "⣿⣿⣿⣿⣿⣿⣿⣿⣿⣿⣿⣿⣿⣿⣿⣿⣿⣿⣿⣿⣿⣿⣿⣿⣿⣿⣿⣿⣿⣿⣿⣿⣿⣿⣿⣿⣿⣿⣿⣿\n",
       "⣿⣿⣿⣿⣿⣿⣿⣿⣿⣿⣿⣿⣿⣿⣿⣿⣿⣿⣿⣿⣿⣿⣿⣿⣿⣿⣿⣿⣿⣿⣿⣿⣿⣿⣿⣿⣿⣿⣿⣿\n",
       "⣿⣿⣿⣿⣿⣿⣿⣿⣿⣿⣿⣿⣿⣿⣿⣿⣿⣿⣿⣿⣿⣿⣿⣿⣿⣿⣿⣿⣿⣿⣿⣿⣿⣿⣿⣿⣿⣿⣿⣿\n",
       "⣿⣿⣿⣿⣿⣿⣿⣿⣿⣿⣿⣿⣿⣿⣿⣿⣿⣿⣿⣿⣿⣿⣿⣿⣿⣿⣿⣿⣿⣿⣿⣿⣿⣿⣿⣿⣿⣿⣿⣿"
      ]
     },
     "execution_count": 3,
     "metadata": {},
     "output_type": "execute_result"
    }
   ],
   "source": [
    "# connectivity matrix\n",
    "A = md.A"
   ]
  },
  {
   "cell_type": "markdown",
   "metadata": {},
   "source": [
    "Compute summary statistics:\n",
    "* How much memory does `A` take? If converted to a `Matrix{Float64}` (don't do it!), how much memory will it take?  \n",
    "* number of web pages\n",
    "* number of edges (web links). \n",
    "* number of dangling nodes (pages with no out links)\n",
    "* histogram of in-degrees  \n",
    "* list the top 20 pages with the largest in-degrees?  \n",
    "* histogram of out-degrees\n",
    "* which the top 20 pages with the largest out-degrees?\n",
    "* visualize the sparsity pattern of $\\mathbf{A}$ or a submatrix of $\\mathbf{A}$ say `A[1:10000, 1:10000]`. \n",
    "\n",
    "**Hint**: For plots, you can use the [UnicodePlots.jl](https://github.com/Evizero/UnicodePlots.jl) package (`spy`, `histogram`, etc), which is fast for large data. "
   ]
  },
  {
   "cell_type": "markdown",
   "metadata": {},
   "source": [
    "### Answer"
   ]
  },
  {
   "cell_type": "code",
   "execution_count": 4,
   "metadata": {},
   "outputs": [
    {
     "name": "stdout",
     "output_type": "stream",
     "text": [
      "typeof(A) = SparseArrays.SparseMatrixCSC{Bool, Int64}\n"
     ]
    },
    {
     "data": {
      "text/plain": [
       "SparseArrays.SparseMatrixCSC{Bool, Int64}"
      ]
     },
     "execution_count": 4,
     "metadata": {},
     "output_type": "execute_result"
    }
   ],
   "source": [
    "@show typeof(A)"
   ]
  },
  {
   "cell_type": "markdown",
   "metadata": {},
   "source": [
    "Since $A$ is a boolean matrix, $A$ takes $5,105,039\\times 2 = 10,210,078$ bytes, or about $9.74$ MB. Since $A$ is $916,428\\times 916,428$, a dense $A$ would take $916,428^2 \\times 2$ bytes, or about $1.53$ TB.\n",
    "\n",
    "Due to information on the structure of $A$ given at the beginning of this problem, there are $916,428$ web pages.\n",
    "\n",
    "Taking the number of web links to be the number of nonzero entries in $A$, we have $5,105,039$ links and $916,428^2 - 5,105,039 = 839,835,174,145$ pages with no out links.\n",
    "\n",
    "We compute the additional statistics:"
   ]
  },
  {
   "cell_type": "markdown",
   "metadata": {},
   "source": [
    "In-degrees:"
   ]
  },
  {
   "cell_type": "code",
   "execution_count": 5,
   "metadata": {},
   "outputs": [],
   "source": [
    "using UnicodePlots"
   ]
  },
  {
   "cell_type": "code",
   "execution_count": 6,
   "metadata": {},
   "outputs": [
    {
     "data": {
      "text/plain": [
       "                  \u001b[90m┌                                        ┐\u001b[39m \n",
       "   \u001b[0m\u001b[90m[\u001b[0m  0.0\u001b[90m, \u001b[0m 20.0\u001b[90m)\u001b[0m \u001b[90m┤\u001b[39m\u001b[38;5;2m████████████████████████████████\u001b[39m\u001b[38;5;2m \u001b[39m\u001b[0m 891798\u001b[90m \u001b[39m \n",
       "   \u001b[0m\u001b[90m[\u001b[0m 20.0\u001b[90m, \u001b[0m 40.0\u001b[90m)\u001b[0m \u001b[90m┤\u001b[39m\u001b[38;5;2m▊\u001b[39m\u001b[0m 22628                                 \u001b[90m \u001b[39m \n",
       "   \u001b[0m\u001b[90m[\u001b[0m 40.0\u001b[90m, \u001b[0m 60.0\u001b[90m)\u001b[0m \u001b[90m┤\u001b[39m\u001b[38;5;2m▏\u001b[39m\u001b[0m 1329                                  \u001b[90m \u001b[39m \n",
       "   \u001b[0m\u001b[90m[\u001b[0m 60.0\u001b[90m, \u001b[0m 80.0\u001b[90m)\u001b[0m \u001b[90m┤\u001b[39m\u001b[38;5;2m▏\u001b[39m\u001b[0m 371                                   \u001b[90m \u001b[39m \n",
       "   \u001b[0m\u001b[90m[\u001b[0m 80.0\u001b[90m, \u001b[0m100.0\u001b[90m)\u001b[0m \u001b[90m┤\u001b[39m\u001b[38;5;2m▏\u001b[39m\u001b[0m 124                                   \u001b[90m \u001b[39m \n",
       "   \u001b[0m\u001b[90m[\u001b[0m100.0\u001b[90m, \u001b[0m120.0\u001b[90m)\u001b[0m \u001b[90m┤\u001b[39m\u001b[38;5;2m▏\u001b[39m\u001b[0m 86                                    \u001b[90m \u001b[39m \n",
       "   \u001b[0m\u001b[90m[\u001b[0m120.0\u001b[90m, \u001b[0m140.0\u001b[90m)\u001b[0m \u001b[90m┤\u001b[39m\u001b[38;5;2m▏\u001b[39m\u001b[0m 29                                    \u001b[90m \u001b[39m \n",
       "   \u001b[0m\u001b[90m[\u001b[0m140.0\u001b[90m, \u001b[0m160.0\u001b[90m)\u001b[0m \u001b[90m┤\u001b[39m\u001b[38;5;2m▏\u001b[39m\u001b[0m 15                                    \u001b[90m \u001b[39m \n",
       "   \u001b[0m\u001b[90m[\u001b[0m160.0\u001b[90m, \u001b[0m180.0\u001b[90m)\u001b[0m \u001b[90m┤\u001b[39m\u001b[38;5;2m▏\u001b[39m\u001b[0m 15                                    \u001b[90m \u001b[39m \n",
       "   \u001b[0m\u001b[90m[\u001b[0m180.0\u001b[90m, \u001b[0m200.0\u001b[90m)\u001b[0m \u001b[90m┤\u001b[39m\u001b[38;5;2m▏\u001b[39m\u001b[0m 8                                     \u001b[90m \u001b[39m \n",
       "   \u001b[0m\u001b[90m[\u001b[0m200.0\u001b[90m, \u001b[0m220.0\u001b[90m)\u001b[0m \u001b[90m┤\u001b[39m\u001b[38;5;2m▏\u001b[39m\u001b[0m 7                                     \u001b[90m \u001b[39m \n",
       "   \u001b[0m\u001b[90m[\u001b[0m220.0\u001b[90m, \u001b[0m240.0\u001b[90m)\u001b[0m \u001b[90m┤\u001b[39m\u001b[38;5;2m▏\u001b[39m\u001b[0m 3                                     \u001b[90m \u001b[39m \n",
       "   \u001b[0m\u001b[90m[\u001b[0m240.0\u001b[90m, \u001b[0m260.0\u001b[90m)\u001b[0m \u001b[90m┤\u001b[39m\u001b[38;5;2m▏\u001b[39m\u001b[0m 8                                     \u001b[90m \u001b[39m \n",
       "   \u001b[0m\u001b[90m[\u001b[0m260.0\u001b[90m, \u001b[0m280.0\u001b[90m)\u001b[0m \u001b[90m┤\u001b[39m\u001b[38;5;2m▏\u001b[39m\u001b[0m 3                                     \u001b[90m \u001b[39m \n",
       "   \u001b[0m\u001b[90m[\u001b[0m280.0\u001b[90m, \u001b[0m300.0\u001b[90m)\u001b[0m \u001b[90m┤\u001b[39m\u001b[38;5;2m \u001b[39m\u001b[0m 0                                     \u001b[90m \u001b[39m \n",
       "   \u001b[0m\u001b[90m[\u001b[0m300.0\u001b[90m, \u001b[0m320.0\u001b[90m)\u001b[0m \u001b[90m┤\u001b[39m\u001b[38;5;2m \u001b[39m\u001b[0m 0                                     \u001b[90m \u001b[39m \n",
       "   \u001b[0m\u001b[90m[\u001b[0m320.0\u001b[90m, \u001b[0m340.0\u001b[90m)\u001b[0m \u001b[90m┤\u001b[39m\u001b[38;5;2m▏\u001b[39m\u001b[0m 1                                     \u001b[90m \u001b[39m \n",
       "   \u001b[0m\u001b[90m[\u001b[0m340.0\u001b[90m, \u001b[0m360.0\u001b[90m)\u001b[0m \u001b[90m┤\u001b[39m\u001b[38;5;2m \u001b[39m\u001b[0m 0                                     \u001b[90m \u001b[39m \n",
       "   \u001b[0m\u001b[90m[\u001b[0m360.0\u001b[90m, \u001b[0m380.0\u001b[90m)\u001b[0m \u001b[90m┤\u001b[39m\u001b[38;5;2m▏\u001b[39m\u001b[0m 2                                     \u001b[90m \u001b[39m \n",
       "   \u001b[0m\u001b[90m[\u001b[0m380.0\u001b[90m, \u001b[0m400.0\u001b[90m)\u001b[0m \u001b[90m┤\u001b[39m\u001b[38;5;2m \u001b[39m\u001b[0m 0                                     \u001b[90m \u001b[39m \n",
       "   \u001b[0m\u001b[90m[\u001b[0m400.0\u001b[90m, \u001b[0m420.0\u001b[90m)\u001b[0m \u001b[90m┤\u001b[39m\u001b[38;5;2m \u001b[39m\u001b[0m 0                                     \u001b[90m \u001b[39m \n",
       "   \u001b[0m\u001b[90m[\u001b[0m420.0\u001b[90m, \u001b[0m440.0\u001b[90m)\u001b[0m \u001b[90m┤\u001b[39m\u001b[38;5;2m \u001b[39m\u001b[0m 0                                     \u001b[90m \u001b[39m \n",
       "   \u001b[0m\u001b[90m[\u001b[0m440.0\u001b[90m, \u001b[0m460.0\u001b[90m)\u001b[0m \u001b[90m┤\u001b[39m\u001b[38;5;2m▏\u001b[39m\u001b[0m 1                                     \u001b[90m \u001b[39m \n",
       "                  \u001b[90m└                                        ┘\u001b[39m \n",
       "                                   \u001b[0mFrequency                 "
      ]
     },
     "execution_count": 6,
     "metadata": {},
     "output_type": "execute_result"
    }
   ],
   "source": [
    "n = size(A, 1)\n",
    "i_array = zeros(n)\n",
    "i_array .= sum(A, dims = 2)\n",
    "\n",
    "#for i in 1:n\n",
    "#    i_array[i] = sum(A[:, i])\n",
    "#    o_array[i] = sum(A[i, :])\n",
    "#end\n",
    "\n",
    "histogram(i_array)"
   ]
  },
  {
   "cell_type": "code",
   "execution_count": 7,
   "metadata": {},
   "outputs": [
    {
     "name": "stdout",
     "output_type": "stream",
     "text": [
      "Maximum 1th in-degree count 456.0 at index 506743.\n",
      "Maximum 2th in-degree count 372.0 at index 203749.\n",
      "Maximum 3th in-degree count 372.0 at index 305229.\n",
      "Maximum 4th in-degree count 330.0 at index 768089.\n",
      "Maximum 5th in-degree count 277.0 at index 808640.\n",
      "Maximum 6th in-degree count 268.0 at index 412409.\n",
      "Maximum 7th in-degree count 265.0 at index 600476.\n",
      "Maximum 8th in-degree count 258.0 at index 376427.\n",
      "Maximum 9th in-degree count 257.0 at index 156951.\n",
      "Maximum 10th in-degree count 256.0 at index 885720.\n",
      "Maximum 11th in-degree count 253.0 at index 667578.\n",
      "Maximum 12th in-degree count 248.0 at index 685688.\n",
      "Maximum 13th in-degree count 247.0 at index 282139.\n",
      "Maximum 14th in-degree count 245.0 at index 598182.\n",
      "Maximum 15th in-degree count 244.0 at index 579308.\n",
      "Maximum 16th in-degree count 231.0 at index 411589.\n",
      "Maximum 17th in-degree count 229.0 at index 321088.\n",
      "Maximum 18th in-degree count 225.0 at index 838263.\n",
      "Maximum 19th in-degree count 216.0 at index 302731.\n",
      "Maximum 20th in-degree count 213.0 at index 915255.\n"
     ]
    }
   ],
   "source": [
    "### Top 20 in-degree pages\n",
    "in_degree_top_20 = Vector{Int64}(undef, 20)\n",
    "for i in 1:20\n",
    "    m, ix = findmax(i_array)\n",
    "    println(\"Maximum \", i, \"th in-degree count \", m, \" at index \", ix, \".\")\n",
    "    in_degree_top_20[i] = ix\n",
    "    deleteat!(i_array, ix)\n",
    "end"
   ]
  },
  {
   "cell_type": "markdown",
   "metadata": {},
   "source": [
    "Out-degrees:"
   ]
  },
  {
   "cell_type": "code",
   "execution_count": 8,
   "metadata": {},
   "outputs": [
    {
     "data": {
      "text/plain": [
       "                    \u001b[90m┌                                        ┐\u001b[39m \n",
       "   \u001b[0m\u001b[90m[\u001b[0m   0.0\u001b[90m, \u001b[0m 500.0\u001b[90m)\u001b[0m \u001b[90m┤\u001b[39m\u001b[38;5;2m████████████████████████████████\u001b[39m\u001b[38;5;2m \u001b[39m\u001b[0m 916114\u001b[90m \u001b[39m \n",
       "   \u001b[0m\u001b[90m[\u001b[0m 500.0\u001b[90m, \u001b[0m1000.0\u001b[90m)\u001b[0m \u001b[90m┤\u001b[39m\u001b[38;5;2m▏\u001b[39m\u001b[0m 180                                   \u001b[90m \u001b[39m \n",
       "   \u001b[0m\u001b[90m[\u001b[0m1000.0\u001b[90m, \u001b[0m1500.0\u001b[90m)\u001b[0m \u001b[90m┤\u001b[39m\u001b[38;5;2m▏\u001b[39m\u001b[0m 32                                    \u001b[90m \u001b[39m \n",
       "   \u001b[0m\u001b[90m[\u001b[0m1500.0\u001b[90m, \u001b[0m2000.0\u001b[90m)\u001b[0m \u001b[90m┤\u001b[39m\u001b[38;5;2m▏\u001b[39m\u001b[0m 20                                    \u001b[90m \u001b[39m \n",
       "   \u001b[0m\u001b[90m[\u001b[0m2000.0\u001b[90m, \u001b[0m2500.0\u001b[90m)\u001b[0m \u001b[90m┤\u001b[39m\u001b[38;5;2m▏\u001b[39m\u001b[0m 16                                    \u001b[90m \u001b[39m \n",
       "   \u001b[0m\u001b[90m[\u001b[0m2500.0\u001b[90m, \u001b[0m3000.0\u001b[90m)\u001b[0m \u001b[90m┤\u001b[39m\u001b[38;5;2m▏\u001b[39m\u001b[0m 20                                    \u001b[90m \u001b[39m \n",
       "   \u001b[0m\u001b[90m[\u001b[0m3000.0\u001b[90m, \u001b[0m3500.0\u001b[90m)\u001b[0m \u001b[90m┤\u001b[39m\u001b[38;5;2m▏\u001b[39m\u001b[0m 18                                    \u001b[90m \u001b[39m \n",
       "   \u001b[0m\u001b[90m[\u001b[0m3500.0\u001b[90m, \u001b[0m4000.0\u001b[90m)\u001b[0m \u001b[90m┤\u001b[39m\u001b[38;5;2m▏\u001b[39m\u001b[0m 10                                    \u001b[90m \u001b[39m \n",
       "   \u001b[0m\u001b[90m[\u001b[0m4000.0\u001b[90m, \u001b[0m4500.0\u001b[90m)\u001b[0m \u001b[90m┤\u001b[39m\u001b[38;5;2m▏\u001b[39m\u001b[0m 9                                     \u001b[90m \u001b[39m \n",
       "   \u001b[0m\u001b[90m[\u001b[0m4500.0\u001b[90m, \u001b[0m5000.0\u001b[90m)\u001b[0m \u001b[90m┤\u001b[39m\u001b[38;5;2m▏\u001b[39m\u001b[0m 4                                     \u001b[90m \u001b[39m \n",
       "   \u001b[0m\u001b[90m[\u001b[0m5000.0\u001b[90m, \u001b[0m5500.0\u001b[90m)\u001b[0m \u001b[90m┤\u001b[39m\u001b[38;5;2m▏\u001b[39m\u001b[0m 4                                     \u001b[90m \u001b[39m \n",
       "   \u001b[0m\u001b[90m[\u001b[0m5500.0\u001b[90m, \u001b[0m6000.0\u001b[90m)\u001b[0m \u001b[90m┤\u001b[39m\u001b[38;5;2m \u001b[39m\u001b[0m 0                                     \u001b[90m \u001b[39m \n",
       "   \u001b[0m\u001b[90m[\u001b[0m6000.0\u001b[90m, \u001b[0m6500.0\u001b[90m)\u001b[0m \u001b[90m┤\u001b[39m\u001b[38;5;2m▏\u001b[39m\u001b[0m 1                                     \u001b[90m \u001b[39m \n",
       "                    \u001b[90m└                                        ┘\u001b[39m \n",
       "                                     \u001b[0mFrequency                 "
      ]
     },
     "execution_count": 8,
     "metadata": {},
     "output_type": "execute_result"
    }
   ],
   "source": [
    "### Top 20 out-degree pages\n",
    "\n",
    "o_array = zeros(n)\n",
    "o_array .= vec(sum(A, dims = 1))\n",
    "\n",
    "histogram(o_array)"
   ]
  },
  {
   "cell_type": "code",
   "execution_count": 9,
   "metadata": {},
   "outputs": [
    {
     "name": "stdout",
     "output_type": "stream",
     "text": [
      "Maximum 1th out-degree count 6326.0 at index 537040.\n",
      "Maximum 2th out-degree count 5354.0 at index 597621.\n",
      "Maximum 3th out-degree count 5271.0 at index 504141.\n",
      "Maximum 4th out-degree count 5182.0 at index 751382.\n",
      "Maximum 5th out-degree count 5097.0 at index 32164.\n",
      "Maximum 6th out-degree count 4847.0 at index 885601.\n",
      "Maximum 7th out-degree count 4731.0 at index 163075.\n",
      "Maximum 8th out-degree count 4620.0 at index 819218.\n",
      "Maximum 9th out-degree count 4550.0 at index 605852.\n",
      "Maximum 10th out-degree count 4484.0 at index 828956.\n",
      "Maximum 11th out-degree count 4220.0 at index 551826.\n",
      "Maximum 12th out-degree count 4219.0 at index 41909.\n",
      "Maximum 13th out-degree count 4206.0 at index 558786.\n",
      "Maximum 14th out-degree count 4187.0 at index 459072.\n",
      "Maximum 15th out-degree count 4180.0 at index 407608.\n",
      "Maximum 16th out-degree count 4084.0 at index 213430.\n",
      "Maximum 17th out-degree count 4015.0 at index 765322.\n",
      "Maximum 18th out-degree count 4010.0 at index 384663.\n",
      "Maximum 19th out-degree count 3988.0 at index 173974.\n",
      "Maximum 20th out-degree count 3956.0 at index 687312.\n"
     ]
    }
   ],
   "source": [
    "out_degree_top_20 = Vector{Int64}(undef, 20)\n",
    "for i in 1:20\n",
    "    m, ix = findmax(o_array)\n",
    "    println(\"Maximum \", i, \"th out-degree count \", m, \" at index \", ix, \".\")\n",
    "    out_degree_top_20[i] = ix\n",
    "    deleteat!(o_array, ix)\n",
    "end"
   ]
  },
  {
   "cell_type": "markdown",
   "metadata": {},
   "source": [
    "Visualization"
   ]
  },
  {
   "cell_type": "code",
   "execution_count": 10,
   "metadata": {},
   "outputs": [
    {
     "data": {
      "text/plain": [
       "         ⠀⠀⠀⠀⠀⠀⠀⠀⠀⠀⠀⠀⠀⠀\u001b[1mSparsity Pattern\u001b[22m⠀⠀⠀⠀⠀⠀⠀⠀⠀⠀⠀⠀⠀⠀    \n",
       "         \u001b[90m┌──────────────────────────────────────────┐\u001b[39m    \n",
       "       \u001b[90m1\u001b[39m \u001b[90m│\u001b[39m\u001b[0m⠀\u001b[0m⠀\u001b[0m⠀\u001b[0m⠀\u001b[0m⠀\u001b[0m⠀\u001b[0m⠀\u001b[38;5;1m⠂\u001b[39m\u001b[0m⠀\u001b[0m⠀\u001b[0m⠀\u001b[0m⠀\u001b[38;5;1m⢀\u001b[39m\u001b[38;5;1m⢂\u001b[39m\u001b[38;5;1m⡂\u001b[39m\u001b[38;5;1m⠐\u001b[39m\u001b[0m⠀\u001b[0m⠀\u001b[0m⠀\u001b[38;5;1m⠠\u001b[39m\u001b[0m⠀\u001b[0m⠀\u001b[0m⠀\u001b[38;5;1m⠔\u001b[39m\u001b[38;5;1m⠄\u001b[39m\u001b[0m⠀\u001b[38;5;1m⠈\u001b[39m\u001b[38;5;1m⢀\u001b[39m\u001b[0m⠀\u001b[0m⠀\u001b[38;5;1m⠉\u001b[39m\u001b[0m⠀\u001b[0m⠀\u001b[38;5;1m⠁\u001b[39m\u001b[0m⠀\u001b[0m⠀\u001b[38;5;1m⠐\u001b[39m\u001b[0m⠀\u001b[38;5;1m⠄\u001b[39m\u001b[0m⠀\u001b[38;5;1m⠐\u001b[39m\u001b[0m⠀\u001b[90m│\u001b[39m \u001b[31m> 0\u001b[39m\n",
       "         \u001b[90m│\u001b[39m\u001b[0m⠀\u001b[0m⠀\u001b[0m⠀\u001b[0m⠀\u001b[0m⠀\u001b[38;5;1m⠂\u001b[39m\u001b[38;5;1m⡂\u001b[39m\u001b[0m⠀\u001b[38;5;1m⠄\u001b[39m\u001b[38;5;1m⠄\u001b[39m\u001b[38;5;1m⠈\u001b[39m\u001b[38;5;1m⠈\u001b[39m\u001b[38;5;1m⡔\u001b[39m\u001b[0m⠀\u001b[0m⠀\u001b[38;5;1m⠁\u001b[39m\u001b[38;5;1m⠂\u001b[39m\u001b[0m⠀\u001b[0m⠀\u001b[0m⠀\u001b[0m⠀\u001b[38;5;1m⠠\u001b[39m\u001b[38;5;1m⠁\u001b[39m\u001b[38;5;1m⠒\u001b[39m\u001b[38;5;1m⠁\u001b[39m\u001b[0m⠀\u001b[38;5;1m⠄\u001b[39m\u001b[0m⠀\u001b[38;5;1m⠐\u001b[39m\u001b[0m⠀\u001b[38;5;1m⠈\u001b[39m\u001b[0m⠀\u001b[0m⠀\u001b[38;5;1m⡐\u001b[39m\u001b[0m⠀\u001b[0m⠀\u001b[38;5;1m⠠\u001b[39m\u001b[0m⠀\u001b[38;5;1m⡀\u001b[39m\u001b[0m⠀\u001b[38;5;1m⠉\u001b[39m\u001b[0m⠀\u001b[90m│\u001b[39m \u001b[34m< 0\u001b[39m\n",
       "         \u001b[90m│\u001b[39m\u001b[0m⠀\u001b[38;5;1m⠐\u001b[39m\u001b[38;5;1m⠠\u001b[39m\u001b[0m⠀\u001b[0m⠀\u001b[38;5;1m⠁\u001b[39m\u001b[38;5;1m⢐\u001b[39m\u001b[38;5;1m⠄\u001b[39m\u001b[0m⠀\u001b[38;5;1m⠢\u001b[39m\u001b[38;5;1m⠠\u001b[39m\u001b[0m⠀\u001b[0m⠀\u001b[38;5;1m⡀\u001b[39m\u001b[38;5;1m⠈\u001b[39m\u001b[0m⠀\u001b[38;5;1m⠋\u001b[39m\u001b[0m⠀\u001b[0m⠀\u001b[0m⠀\u001b[0m⠀\u001b[0m⠀\u001b[38;5;1m⠂\u001b[39m\u001b[38;5;1m⡀\u001b[39m\u001b[0m⠀\u001b[38;5;1m⠈\u001b[39m\u001b[38;5;1m⠄\u001b[39m\u001b[0m⠀\u001b[38;5;1m⠄\u001b[39m\u001b[38;5;1m⠁\u001b[39m\u001b[38;5;1m⠈\u001b[39m\u001b[0m⠀\u001b[38;5;1m⠠\u001b[39m\u001b[0m⠀\u001b[38;5;1m⠰\u001b[39m\u001b[0m⠀\u001b[0m⠀\u001b[0m⠀\u001b[0m⠀\u001b[38;5;1m⢀\u001b[39m\u001b[38;5;1m⠆\u001b[39m\u001b[0m⠀\u001b[90m│\u001b[39m    \n",
       "         \u001b[90m│\u001b[39m\u001b[0m⠀\u001b[38;5;1m⠈\u001b[39m\u001b[38;5;1m⠠\u001b[39m\u001b[38;5;1m⠂\u001b[39m\u001b[0m⠀\u001b[38;5;1m⠈\u001b[39m\u001b[0m⠀\u001b[38;5;1m⡠\u001b[39m\u001b[38;5;1m⠐\u001b[39m\u001b[0m⠀\u001b[0m⠀\u001b[0m⠀\u001b[0m⠀\u001b[0m⠀\u001b[0m⠀\u001b[0m⠀\u001b[0m⠀\u001b[0m⠀\u001b[0m⠀\u001b[38;5;1m⡀\u001b[39m\u001b[38;5;1m⠈\u001b[39m\u001b[38;5;1m⠄\u001b[39m\u001b[38;5;1m⠁\u001b[39m\u001b[38;5;1m⢀\u001b[39m\u001b[38;5;1m⡀\u001b[39m\u001b[38;5;1m⠐\u001b[39m\u001b[38;5;1m⠄\u001b[39m\u001b[38;5;1m⠄\u001b[39m\u001b[0m⠀\u001b[0m⠀\u001b[38;5;1m⢀\u001b[39m\u001b[0m⠀\u001b[38;5;1m⠈\u001b[39m\u001b[38;5;1m⠂\u001b[39m\u001b[38;5;1m⢠\u001b[39m\u001b[0m⠀\u001b[38;5;1m⠢\u001b[39m\u001b[38;5;1m⠐\u001b[39m\u001b[0m⠀\u001b[0m⠀\u001b[0m⠀\u001b[38;5;1m⡀\u001b[39m\u001b[90m│\u001b[39m    \n",
       "         \u001b[90m│\u001b[39m\u001b[0m⠀\u001b[0m⠀\u001b[38;5;1m⠐\u001b[39m\u001b[38;5;1m⡁\u001b[39m\u001b[0m⠀\u001b[38;5;1m⡀\u001b[39m\u001b[0m⠀\u001b[0m⠀\u001b[38;5;1m⠠\u001b[39m\u001b[0m⠀\u001b[38;5;1m⠁\u001b[39m\u001b[0m⠀\u001b[0m⠀\u001b[0m⠀\u001b[38;5;1m⡄\u001b[39m\u001b[0m⠀\u001b[38;5;1m⠈\u001b[39m\u001b[38;5;1m⠁\u001b[39m\u001b[0m⠀\u001b[0m⠀\u001b[0m⠀\u001b[0m⠀\u001b[38;5;1m⠠\u001b[39m\u001b[38;5;1m⠂\u001b[39m\u001b[0m⠀\u001b[0m⠀\u001b[0m⠀\u001b[0m⠀\u001b[0m⠀\u001b[38;5;1m⠂\u001b[39m\u001b[38;5;1m⠪\u001b[39m\u001b[0m⠀\u001b[0m⠀\u001b[38;5;1m⠂\u001b[39m\u001b[0m⠀\u001b[0m⠀\u001b[0m⠀\u001b[38;5;1m⠄\u001b[39m\u001b[38;5;1m⢀\u001b[39m\u001b[0m⠀\u001b[38;5;1m⠁\u001b[39m\u001b[0m⠀\u001b[90m│\u001b[39m    \n",
       "         \u001b[90m│\u001b[39m\u001b[38;5;1m⠂\u001b[39m\u001b[38;5;1m⢀\u001b[39m\u001b[0m⠀\u001b[38;5;1m⠁\u001b[39m\u001b[0m⠀\u001b[0m⠀\u001b[38;5;1m⡀\u001b[39m\u001b[38;5;1m⡉\u001b[39m\u001b[0m⠀\u001b[0m⠀\u001b[38;5;1m⠠\u001b[39m\u001b[38;5;1m⠂\u001b[39m\u001b[38;5;1m⠐\u001b[39m\u001b[38;5;1m⢀\u001b[39m\u001b[38;5;1m⠄\u001b[39m\u001b[38;5;1m⠁\u001b[39m\u001b[38;5;1m⠐\u001b[39m\u001b[0m⠀\u001b[38;5;1m⠈\u001b[39m\u001b[0m⠀\u001b[0m⠀\u001b[0m⠀\u001b[0m⠀\u001b[0m⠀\u001b[38;5;1m⡀\u001b[39m\u001b[38;5;1m⠐\u001b[39m\u001b[38;5;1m⠁\u001b[39m\u001b[38;5;1m⡠\u001b[39m\u001b[0m⠀\u001b[38;5;1m⠂\u001b[39m\u001b[38;5;1m⠚\u001b[39m\u001b[0m⠀\u001b[38;5;1m⠁\u001b[39m\u001b[0m⠀\u001b[38;5;1m⠐\u001b[39m\u001b[38;5;1m⢀\u001b[39m\u001b[38;5;1m⠆\u001b[39m\u001b[0m⠀\u001b[38;5;1m⠈\u001b[39m\u001b[38;5;1m⠄\u001b[39m\u001b[38;5;1m⢀\u001b[39m\u001b[38;5;1m⠂\u001b[39m\u001b[90m│\u001b[39m    \n",
       "         \u001b[90m│\u001b[39m\u001b[0m⠀\u001b[0m⠀\u001b[0m⠀\u001b[38;5;1m⠁\u001b[39m\u001b[0m⠀\u001b[38;5;1m⡄\u001b[39m\u001b[0m⠀\u001b[0m⠀\u001b[0m⠀\u001b[0m⠀\u001b[38;5;1m⠒\u001b[39m\u001b[0m⠀\u001b[38;5;1m⢄\u001b[39m\u001b[38;5;1m⠄\u001b[39m\u001b[38;5;1m⢂\u001b[39m\u001b[0m⠀\u001b[38;5;1m⠂\u001b[39m\u001b[0m⠀\u001b[0m⠀\u001b[38;5;1m⠄\u001b[39m\u001b[0m⠀\u001b[38;5;1m⢀\u001b[39m\u001b[0m⠀\u001b[38;5;1m⠣\u001b[39m\u001b[0m⠀\u001b[38;5;1m⢀\u001b[39m\u001b[0m⠀\u001b[0m⠀\u001b[0m⠀\u001b[0m⠀\u001b[38;5;1m⠠\u001b[39m\u001b[38;5;1m⡀\u001b[39m\u001b[0m⠀\u001b[0m⠀\u001b[38;5;1m⢠\u001b[39m\u001b[38;5;1m⠄\u001b[39m\u001b[0m⠀\u001b[38;5;1m⡀\u001b[39m\u001b[0m⠀\u001b[38;5;1m⠂\u001b[39m\u001b[38;5;1m⠂\u001b[39m\u001b[0m⠀\u001b[90m│\u001b[39m    \n",
       "         \u001b[90m│\u001b[39m\u001b[38;5;1m⢀\u001b[39m\u001b[38;5;1m⠈\u001b[39m\u001b[0m⠀\u001b[0m⠀\u001b[38;5;1m⠂\u001b[39m\u001b[0m⠀\u001b[0m⠀\u001b[38;5;1m⠁\u001b[39m\u001b[38;5;1m⢠\u001b[39m\u001b[38;5;1m⠈\u001b[39m\u001b[38;5;1m⠄\u001b[39m\u001b[38;5;1m⠁\u001b[39m\u001b[0m⠀\u001b[0m⠀\u001b[38;5;1m⡈\u001b[39m\u001b[38;5;1m⠈\u001b[39m\u001b[38;5;1m⠠\u001b[39m\u001b[0m⠀\u001b[38;5;1m⢀\u001b[39m\u001b[38;5;1m⡦\u001b[39m\u001b[0m⠀\u001b[0m⠀\u001b[38;5;1m⠅\u001b[39m\u001b[38;5;1m⠐\u001b[39m\u001b[0m⠀\u001b[38;5;1m⠨\u001b[39m\u001b[38;5;1m⠁\u001b[39m\u001b[38;5;1m⠨\u001b[39m\u001b[0m⠀\u001b[38;5;1m⠄\u001b[39m\u001b[38;5;1m⠠\u001b[39m\u001b[38;5;1m⢀\u001b[39m\u001b[0m⠀\u001b[38;5;1m⠐\u001b[39m\u001b[38;5;1m⢐\u001b[39m\u001b[0m⠀\u001b[0m⠀\u001b[38;5;1m⠉\u001b[39m\u001b[0m⠀\u001b[0m⠀\u001b[38;5;1m⠠\u001b[39m\u001b[38;5;1m⠉\u001b[39m\u001b[90m│\u001b[39m    \n",
       "         \u001b[90m│\u001b[39m\u001b[0m⠀\u001b[0m⠀\u001b[38;5;1m⠨\u001b[39m\u001b[0m⠀\u001b[38;5;1m⠋\u001b[39m\u001b[0m⠀\u001b[38;5;1m⠄\u001b[39m\u001b[0m⠀\u001b[38;5;1m⠂\u001b[39m\u001b[0m⠀\u001b[38;5;1m⠈\u001b[39m\u001b[0m⠀\u001b[0m⠀\u001b[0m⠀\u001b[38;5;1m⠈\u001b[39m\u001b[0m⠀\u001b[0m⠀\u001b[0m⠀\u001b[0m⠀\u001b[38;5;1m⡑\u001b[39m\u001b[0m⠀\u001b[38;5;1m⢀\u001b[39m\u001b[38;5;1m⠈\u001b[39m\u001b[38;5;1m⠈\u001b[39m\u001b[0m⠀\u001b[0m⠀\u001b[0m⠀\u001b[38;5;1m⠈\u001b[39m\u001b[0m⠀\u001b[38;5;1m⠂\u001b[39m\u001b[38;5;1m⠐\u001b[39m\u001b[38;5;1m⠼\u001b[39m\u001b[0m⠀\u001b[38;5;1m⠠\u001b[39m\u001b[0m⠀\u001b[0m⠀\u001b[38;5;1m⡈\u001b[39m\u001b[38;5;1m⠁\u001b[39m\u001b[0m⠀\u001b[0m⠀\u001b[38;5;1m⠡\u001b[39m\u001b[38;5;1m⠄\u001b[39m\u001b[90m│\u001b[39m    \n",
       "         \u001b[90m│\u001b[39m\u001b[38;5;1m⠠\u001b[39m\u001b[38;5;1m⡁\u001b[39m\u001b[0m⠀\u001b[0m⠀\u001b[0m⠀\u001b[0m⠀\u001b[0m⠀\u001b[0m⠀\u001b[0m⠀\u001b[0m⠀\u001b[38;5;1m⠂\u001b[39m\u001b[38;5;1m⢀\u001b[39m\u001b[0m⠀\u001b[0m⠀\u001b[0m⠀\u001b[38;5;1m⡄\u001b[39m\u001b[0m⠀\u001b[0m⠀\u001b[0m⠀\u001b[38;5;1m⠤\u001b[39m\u001b[0m⠀\u001b[0m⠀\u001b[38;5;1m⠁\u001b[39m\u001b[0m⠀\u001b[38;5;1m⡂\u001b[39m\u001b[0m⠀\u001b[0m⠀\u001b[0m⠀\u001b[38;5;1m⠄\u001b[39m\u001b[0m⠀\u001b[38;5;1m⢈\u001b[39m\u001b[0m⠀\u001b[38;5;1m⢔\u001b[39m\u001b[38;5;1m⡊\u001b[39m\u001b[38;5;1m⣨\u001b[39m\u001b[38;5;1m⠈\u001b[39m\u001b[38;5;1m⠂\u001b[39m\u001b[0m⠀\u001b[38;5;1m⠄\u001b[39m\u001b[38;5;1m⢀\u001b[39m\u001b[0m⠀\u001b[0m⠀\u001b[90m│\u001b[39m    \n",
       "         \u001b[90m│\u001b[39m\u001b[0m⠀\u001b[38;5;1m⠂\u001b[39m\u001b[0m⠀\u001b[38;5;1m⠈\u001b[39m\u001b[0m⠀\u001b[0m⠀\u001b[0m⠀\u001b[0m⠀\u001b[0m⠀\u001b[0m⠀\u001b[38;5;1m⠈\u001b[39m\u001b[0m⠀\u001b[38;5;1m⡀\u001b[39m\u001b[0m⠀\u001b[38;5;1m⠂\u001b[39m\u001b[38;5;1m⠠\u001b[39m\u001b[38;5;1m⠐\u001b[39m\u001b[0m⠀\u001b[38;5;1m⠄\u001b[39m\u001b[0m⠀\u001b[0m⠀\u001b[0m⠀\u001b[0m⠀\u001b[0m⠀\u001b[0m⠀\u001b[38;5;1m⠤\u001b[39m\u001b[0m⠀\u001b[0m⠀\u001b[0m⠀\u001b[38;5;1m⠠\u001b[39m\u001b[38;5;1m⠘\u001b[39m\u001b[38;5;1m⠐\u001b[39m\u001b[0m⠀\u001b[38;5;1m⠄\u001b[39m\u001b[38;5;1m⢘\u001b[39m\u001b[0m⠀\u001b[0m⠀\u001b[38;5;1m⢐\u001b[39m\u001b[38;5;1m⠄\u001b[39m\u001b[0m⠀\u001b[38;5;1m⠁\u001b[39m\u001b[0m⠀\u001b[90m│\u001b[39m    \n",
       "         \u001b[90m│\u001b[39m\u001b[38;5;1m⢀\u001b[39m\u001b[38;5;1m⠄\u001b[39m\u001b[38;5;1m⢠\u001b[39m\u001b[38;5;1m⠄\u001b[39m\u001b[38;5;1m⡊\u001b[39m\u001b[38;5;1m⠂\u001b[39m\u001b[38;5;1m⠢\u001b[39m\u001b[38;5;1m⢀\u001b[39m\u001b[0m⠀\u001b[0m⠀\u001b[0m⠀\u001b[0m⠀\u001b[38;5;1m⠄\u001b[39m\u001b[38;5;1m⡀\u001b[39m\u001b[38;5;1m⡑\u001b[39m\u001b[0m⠀\u001b[38;5;1m⡐\u001b[39m\u001b[0m⠀\u001b[38;5;1m⠁\u001b[39m\u001b[38;5;1m⡂\u001b[39m\u001b[0m⠀\u001b[0m⠀\u001b[0m⠀\u001b[38;5;1m⠰\u001b[39m\u001b[38;5;1m⠂\u001b[39m\u001b[38;5;1m⢠\u001b[39m\u001b[38;5;1m⠄\u001b[39m\u001b[38;5;1m⠈\u001b[39m\u001b[0m⠀\u001b[38;5;1m⠈\u001b[39m\u001b[38;5;1m⠐\u001b[39m\u001b[0m⠀\u001b[0m⠀\u001b[0m⠀\u001b[38;5;1m⠉\u001b[39m\u001b[0m⠀\u001b[0m⠀\u001b[38;5;1m⡀\u001b[39m\u001b[0m⠀\u001b[0m⠀\u001b[38;5;1m⠃\u001b[39m\u001b[0m⠀\u001b[90m│\u001b[39m    \n",
       "         \u001b[90m│\u001b[39m\u001b[0m⠀\u001b[0m⠀\u001b[38;5;1m⠅\u001b[39m\u001b[0m⠀\u001b[38;5;1m⡁\u001b[39m\u001b[0m⠀\u001b[0m⠀\u001b[0m⠀\u001b[0m⠀\u001b[0m⠀\u001b[38;5;1m⢁\u001b[39m\u001b[38;5;1m⢀\u001b[39m\u001b[0m⠀\u001b[38;5;1m⡀\u001b[39m\u001b[38;5;1m⡀\u001b[39m\u001b[38;5;1m⡐\u001b[39m\u001b[0m⠀\u001b[0m⠀\u001b[38;5;1m⠈\u001b[39m\u001b[38;5;1m⠈\u001b[39m\u001b[38;5;1m⠔\u001b[39m\u001b[38;5;1m⠄\u001b[39m\u001b[0m⠀\u001b[0m⠀\u001b[38;5;1m⢀\u001b[39m\u001b[0m⠀\u001b[0m⠀\u001b[0m⠀\u001b[0m⠀\u001b[0m⠀\u001b[0m⠀\u001b[0m⠀\u001b[0m⠀\u001b[38;5;1m⠄\u001b[39m\u001b[38;5;1m⢉\u001b[39m\u001b[38;5;1m⠠\u001b[39m\u001b[38;5;1m⠁\u001b[39m\u001b[0m⠀\u001b[38;5;1m⠁\u001b[39m\u001b[0m⠀\u001b[0m⠀\u001b[0m⠀\u001b[90m│\u001b[39m    \n",
       "         \u001b[90m│\u001b[39m\u001b[38;5;1m⠊\u001b[39m\u001b[38;5;1m⢈\u001b[39m\u001b[0m⠀\u001b[38;5;1m⠁\u001b[39m\u001b[0m⠀\u001b[0m⠀\u001b[0m⠀\u001b[38;5;1m⠅\u001b[39m\u001b[0m⠀\u001b[38;5;1m⠂\u001b[39m\u001b[0m⠀\u001b[38;5;1m⡀\u001b[39m\u001b[0m⠀\u001b[0m⠀\u001b[0m⠀\u001b[0m⠀\u001b[38;5;1m⡀\u001b[39m\u001b[0m⠀\u001b[0m⠀\u001b[38;5;1m⠐\u001b[39m\u001b[38;5;1m⠄\u001b[39m\u001b[38;5;1m⠁\u001b[39m\u001b[38;5;1m⠠\u001b[39m\u001b[0m⠀\u001b[38;5;1m⠐\u001b[39m\u001b[38;5;1m⠈\u001b[39m\u001b[0m⠀\u001b[0m⠀\u001b[0m⠀\u001b[38;5;1m⡀\u001b[39m\u001b[38;5;1m⢠\u001b[39m\u001b[0m⠀\u001b[0m⠀\u001b[0m⠀\u001b[38;5;1m⢰\u001b[39m\u001b[0m⠀\u001b[0m⠀\u001b[0m⠀\u001b[38;5;1m⢀\u001b[39m\u001b[0m⠀\u001b[38;5;1m⠠\u001b[39m\u001b[38;5;1m⠂\u001b[39m\u001b[90m│\u001b[39m    \n",
       "         \u001b[90m│\u001b[39m\u001b[38;5;1m⠈\u001b[39m\u001b[0m⠀\u001b[0m⠀\u001b[38;5;1m⠈\u001b[39m\u001b[38;5;1m⠄\u001b[39m\u001b[0m⠀\u001b[0m⠀\u001b[38;5;1m⠄\u001b[39m\u001b[38;5;1m⠐\u001b[39m\u001b[0m⠀\u001b[38;5;1m⠠\u001b[39m\u001b[38;5;1m⠁\u001b[39m\u001b[38;5;1m⠁\u001b[39m\u001b[0m⠀\u001b[38;5;1m⡂\u001b[39m\u001b[0m⠀\u001b[38;5;1m⠠\u001b[39m\u001b[38;5;1m⠄\u001b[39m\u001b[38;5;1m⠌\u001b[39m\u001b[38;5;1m⠅\u001b[39m\u001b[38;5;1m⣀\u001b[39m\u001b[0m⠀\u001b[0m⠀\u001b[38;5;1m⢀\u001b[39m\u001b[0m⠀\u001b[38;5;1m⠠\u001b[39m\u001b[0m⠀\u001b[38;5;1m⠠\u001b[39m\u001b[38;5;1m⠠\u001b[39m\u001b[0m⠀\u001b[38;5;1m⠲\u001b[39m\u001b[38;5;1m⢂\u001b[39m\u001b[0m⠀\u001b[38;5;1m⠰\u001b[39m\u001b[38;5;1m⡄\u001b[39m\u001b[0m⠀\u001b[38;5;1m⢀\u001b[39m\u001b[38;5;1m⠬\u001b[39m\u001b[38;5;1m⠈\u001b[39m\u001b[0m⠀\u001b[0m⠀\u001b[0m⠀\u001b[90m│\u001b[39m    \n",
       "         \u001b[90m│\u001b[39m\u001b[38;5;1m⠈\u001b[39m\u001b[0m⠀\u001b[0m⠀\u001b[38;5;1m⠄\u001b[39m\u001b[0m⠀\u001b[0m⠀\u001b[38;5;1m⡀\u001b[39m\u001b[38;5;1m⠈\u001b[39m\u001b[0m⠀\u001b[0m⠀\u001b[38;5;1m⠙\u001b[39m\u001b[0m⠀\u001b[0m⠀\u001b[0m⠀\u001b[38;5;1m⢀\u001b[39m\u001b[38;5;1m⢀\u001b[39m\u001b[38;5;1m⠂\u001b[39m\u001b[0m⠀\u001b[0m⠀\u001b[38;5;1m⡄\u001b[39m\u001b[38;5;1m⢀\u001b[39m\u001b[0m⠀\u001b[38;5;1m⠠\u001b[39m\u001b[0m⠀\u001b[38;5;1m⠂\u001b[39m\u001b[0m⠀\u001b[0m⠀\u001b[38;5;1m⠐\u001b[39m\u001b[0m⠀\u001b[0m⠀\u001b[38;5;1m⠸\u001b[39m\u001b[0m⠀\u001b[0m⠀\u001b[0m⠀\u001b[38;5;1m⠈\u001b[39m\u001b[38;5;1m⠠\u001b[39m\u001b[0m⠀\u001b[38;5;1m⠠\u001b[39m\u001b[38;5;1m⠁\u001b[39m\u001b[0m⠀\u001b[38;5;1m⠂\u001b[39m\u001b[0m⠀\u001b[90m│\u001b[39m    \n",
       "         \u001b[90m│\u001b[39m\u001b[38;5;1m⠄\u001b[39m\u001b[0m⠀\u001b[0m⠀\u001b[0m⠀\u001b[38;5;1m⠄\u001b[39m\u001b[38;5;1m⠂\u001b[39m\u001b[38;5;1m⠂\u001b[39m\u001b[0m⠀\u001b[0m⠀\u001b[0m⠀\u001b[38;5;1m⠡\u001b[39m\u001b[38;5;1m⠁\u001b[39m\u001b[0m⠀\u001b[38;5;1m⢉\u001b[39m\u001b[38;5;1m⠄\u001b[39m\u001b[0m⠀\u001b[0m⠀\u001b[0m⠀\u001b[38;5;1m⡐\u001b[39m\u001b[38;5;1m⠑\u001b[39m\u001b[38;5;1m⠂\u001b[39m\u001b[38;5;1m⠄\u001b[39m\u001b[38;5;1m⠂\u001b[39m\u001b[0m⠀\u001b[0m⠀\u001b[0m⠀\u001b[38;5;1m⢀\u001b[39m\u001b[0m⠀\u001b[38;5;1m⢀\u001b[39m\u001b[0m⠀\u001b[0m⠀\u001b[0m⠀\u001b[0m⠀\u001b[38;5;1m⠉\u001b[39m\u001b[38;5;1m⠠\u001b[39m\u001b[38;5;1m⠈\u001b[39m\u001b[0m⠀\u001b[38;5;1m⠁\u001b[39m\u001b[0m⠀\u001b[0m⠀\u001b[38;5;1m⡀\u001b[39m\u001b[38;5;1m⠄\u001b[39m\u001b[90m│\u001b[39m    \n",
       "         \u001b[90m│\u001b[39m\u001b[0m⠀\u001b[0m⠀\u001b[0m⠀\u001b[0m⠀\u001b[0m⠀\u001b[0m⠀\u001b[0m⠀\u001b[0m⠀\u001b[0m⠀\u001b[0m⠀\u001b[0m⠀\u001b[38;5;1m⠠\u001b[39m\u001b[38;5;1m⠂\u001b[39m\u001b[0m⠀\u001b[0m⠀\u001b[38;5;1m⠄\u001b[39m\u001b[0m⠀\u001b[0m⠀\u001b[0m⠀\u001b[0m⠀\u001b[38;5;1m⠐\u001b[39m\u001b[38;5;1m⡀\u001b[39m\u001b[0m⠀\u001b[0m⠀\u001b[38;5;1m⠁\u001b[39m\u001b[0m⠀\u001b[38;5;1m⠐\u001b[39m\u001b[0m⠀\u001b[0m⠀\u001b[0m⠀\u001b[38;5;1m⢰\u001b[39m\u001b[38;5;1m⡄\u001b[39m\u001b[38;5;1m⠁\u001b[39m\u001b[0m⠀\u001b[0m⠀\u001b[38;5;1m⠉\u001b[39m\u001b[38;5;1m⠠\u001b[39m\u001b[0m⠀\u001b[38;5;1m⠠\u001b[39m\u001b[0m⠀\u001b[38;5;1m⡀\u001b[39m\u001b[0m⠀\u001b[90m│\u001b[39m    \n",
       "         \u001b[90m│\u001b[39m\u001b[38;5;1m⡁\u001b[39m\u001b[38;5;1m⠄\u001b[39m\u001b[38;5;1m⢀\u001b[39m\u001b[38;5;1m⠂\u001b[39m\u001b[0m⠀\u001b[38;5;1m⠁\u001b[39m\u001b[38;5;1m⡈\u001b[39m\u001b[38;5;1m⠆\u001b[39m\u001b[0m⠀\u001b[38;5;1m⠄\u001b[39m\u001b[38;5;1m⠁\u001b[39m\u001b[38;5;1m⠁\u001b[39m\u001b[0m⠀\u001b[38;5;1m⠂\u001b[39m\u001b[38;5;1m⠁\u001b[39m\u001b[0m⠀\u001b[38;5;1m⠂\u001b[39m\u001b[38;5;1m⢀\u001b[39m\u001b[0m⠀\u001b[0m⠀\u001b[0m⠀\u001b[0m⠀\u001b[0m⠀\u001b[0m⠀\u001b[38;5;1m⠁\u001b[39m\u001b[0m⠀\u001b[0m⠀\u001b[38;5;1m⡀\u001b[39m\u001b[0m⠀\u001b[38;5;1m⠐\u001b[39m\u001b[0m⠀\u001b[0m⠀\u001b[0m⠀\u001b[0m⠀\u001b[0m⠀\u001b[0m⠀\u001b[0m⠀\u001b[38;5;1m⢀\u001b[39m\u001b[38;5;1m⠄\u001b[39m\u001b[38;5;1m⠤\u001b[39m\u001b[38;5;1m⠁\u001b[39m\u001b[38;5;1m⠠\u001b[39m\u001b[90m│\u001b[39m    \n",
       "         \u001b[90m│\u001b[39m\u001b[0m⠀\u001b[38;5;1m⠅\u001b[39m\u001b[38;5;1m⠄\u001b[39m\u001b[38;5;1m⠈\u001b[39m\u001b[0m⠀\u001b[38;5;1m⢀\u001b[39m\u001b[38;5;1m⠂\u001b[39m\u001b[38;5;1m⠁\u001b[39m\u001b[38;5;1m⠐\u001b[39m\u001b[0m⠀\u001b[38;5;1m⡠\u001b[39m\u001b[38;5;1m⠄\u001b[39m\u001b[0m⠀\u001b[38;5;1m⠄\u001b[39m\u001b[38;5;1m⠐\u001b[39m\u001b[0m⠀\u001b[0m⠀\u001b[0m⠀\u001b[0m⠀\u001b[38;5;1m⡀\u001b[39m\u001b[0m⠀\u001b[38;5;1m⠁\u001b[39m\u001b[38;5;1m⡢\u001b[39m\u001b[0m⠀\u001b[38;5;1m⠙\u001b[39m\u001b[0m⠀\u001b[38;5;1m⠇\u001b[39m\u001b[0m⠀\u001b[38;5;1m⢂\u001b[39m\u001b[0m⠀\u001b[38;5;1m⣠\u001b[39m\u001b[0m⠀\u001b[38;5;1m⠂\u001b[39m\u001b[0m⠀\u001b[0m⠀\u001b[38;5;1m⠂\u001b[39m\u001b[0m⠀\u001b[38;5;1m⠥\u001b[39m\u001b[38;5;1m⠄\u001b[39m\u001b[38;5;1m⢁\u001b[39m\u001b[38;5;1m⡀\u001b[39m\u001b[38;5;1m⡀\u001b[39m\u001b[90m│\u001b[39m    \n",
       "   \u001b[90m10000\u001b[39m \u001b[90m│\u001b[39m\u001b[38;5;1m⠘\u001b[39m\u001b[0m⠀\u001b[0m⠀\u001b[0m⠀\u001b[38;5;1m⠈\u001b[39m\u001b[38;5;1m⠃\u001b[39m\u001b[38;5;1m⡁\u001b[39m\u001b[38;5;1m⠨\u001b[39m\u001b[38;5;1m⠁\u001b[39m\u001b[38;5;1m⠐\u001b[39m\u001b[0m⠀\u001b[0m⠀\u001b[38;5;1m⠈\u001b[39m\u001b[38;5;1m⠁\u001b[39m\u001b[38;5;1m⠄\u001b[39m\u001b[0m⠀\u001b[38;5;1m⠁\u001b[39m\u001b[0m⠀\u001b[0m⠀\u001b[38;5;1m⠂\u001b[39m\u001b[38;5;1m⠁\u001b[39m\u001b[38;5;1m⢈\u001b[39m\u001b[38;5;1m⠁\u001b[39m\u001b[0m⠀\u001b[0m⠀\u001b[38;5;1m⡁\u001b[39m\u001b[0m⠀\u001b[0m⠀\u001b[0m⠀\u001b[38;5;1m⢀\u001b[39m\u001b[38;5;1m⢰\u001b[39m\u001b[0m⠀\u001b[0m⠀\u001b[38;5;1m⠈\u001b[39m\u001b[0m⠀\u001b[38;5;1m⠈\u001b[39m\u001b[0m⠀\u001b[0m⠀\u001b[0m⠀\u001b[0m⠀\u001b[38;5;1m⡂\u001b[39m\u001b[0m⠀\u001b[90m│\u001b[39m    \n",
       "         \u001b[90m└──────────────────────────────────────────┘\u001b[39m    \n",
       "         ⠀\u001b[90m1\u001b[39m⠀⠀⠀⠀⠀⠀⠀⠀⠀⠀⠀⠀⠀⠀⠀⠀⠀⠀⠀⠀⠀⠀⠀⠀⠀⠀⠀⠀⠀⠀⠀⠀⠀⠀⠀⠀\u001b[90m10000\u001b[39m⠀    \n",
       "         ⠀⠀⠀⠀⠀⠀⠀⠀⠀⠀⠀⠀⠀⠀⠀⠀\u001b[0m600 nonzeros⠀⠀⠀⠀⠀⠀⠀⠀⠀⠀⠀⠀⠀⠀⠀⠀    "
      ]
     },
     "execution_count": 10,
     "metadata": {},
     "output_type": "execute_result"
    }
   ],
   "source": [
    "n_v = 10_000\n",
    "spy(A[1:n_v, 1:n_v])"
   ]
  },
  {
   "cell_type": "markdown",
   "metadata": {},
   "source": [
    "Note that finding the top 20 pages with in- and out-degree counts was done with a naive for-loop, because sorting the respective arrays would have taken $O(n\\log n)$, whereas a naive search would have taken $20 n$, especially since $\\log n \\gg 20$."
   ]
  },
  {
   "cell_type": "markdown",
   "metadata": {},
   "source": [
    "## Q4 (5 pts) Dense linear algebra? \n",
    "\n",
    "Consider the following methods to obtain the page ranks of the `SNAP/web-Google` data. \n",
    "\n",
    "1. A dense linear system solver such as LU decomposition.  \n",
    "2. A dense eigen-solver for asymmetric matrix.  \n",
    "\n",
    "For the LU approach, estimate (1) the memory usage and (2) how long it will take assuming that the LAPACK functions can achieve the theoretical throughput of your computer. "
   ]
  },
  {
   "cell_type": "markdown",
   "metadata": {},
   "source": [
    "### Answer"
   ]
  },
  {
   "cell_type": "markdown",
   "metadata": {},
   "source": [
    "Since we are using dense linear system solvers on a sparse system, the worst-case memory usage would be approximately the number of nodes times $8$ bytes per node for storage, or about $1.53\\text{ TB} / 2 \\times 8 \\approx 6.11$ TB. Per Dr. Zhou's notes, LU decomposition takes $\\frac{2}{3}n^{3} + 2n^{2}$ flops.\n",
    "\n",
    "The theoretical flops per second for my computer would be (4 cores)$\\times$(2.4 GHz)$\\times$(8 flops (one per thread?))$\\approx$ $7.68\\times 10^{10}$ flops/s at peak performance. Since $n = 916,428$, the expected time would be:\n",
    "\\begin{eqnarray*}\n",
    "T &=& \\frac{\\frac{2}{3}n^{3} + 2n^{2}}{7.68 \\times 10^{10}}\\\\\n",
    " &\\approx& 6.68\\times 10^{6} \\text{ s.} \\approx 77.33 \\text{ days}\n",
    "\\end{eqnarray*}"
   ]
  },
  {
   "cell_type": "markdown",
   "metadata": {},
   "source": [
    "Note that this calculation assumes my laptop will be at peak performance througout 77.33 days without the hardware degrading: a tall assumption."
   ]
  },
  {
   "cell_type": "markdown",
   "metadata": {},
   "source": [
    "## Q5 (75 pts) Iterative solvers\n",
    "\n",
    "Set the _teleportation_ parameter at $p = 0.85$. Consider the following methods for solving the PageRank problem. \n",
    "\n",
    "1. An iterative linear system solver such as GMRES. \n",
    "2. An iterative eigen-solver such as Arnoldi method.\n",
    "\n",
    "For iterative methods, we have many choices in Julia. See a list of existing Julia packages for linear solvers at this [page](https://jutho.github.io/KrylovKit.jl/stable/#Package-features-and-alternatives-1). The start-up code below uses the [KrylovKit.jl](https://github.com/Jutho/KrylovKit.jl) package. You can use other packages if you prefer. Make sure to utilize the special structure of $\\mathbf{P}$ (sparse + rank 1) to speed up the matrix-vector multiplication. "
   ]
  },
  {
   "cell_type": "markdown",
   "metadata": {},
   "source": [
    "### Step 1 (15 pts)\n",
    "\n",
    "Let's implement a type `PageRankImPt` that mimics the matrix $\\mathbf{M} = \\mathbf{I} - \\mathbf{P}^T$. For iterative methods, all we need to provide are methods for evaluating $\\mathbf{M} \\mathbf{v}$ and $\\mathbf{M}^T \\mathbf{v}$ for arbitrary vector $\\mathbf{v}$."
   ]
  },
  {
   "cell_type": "markdown",
   "metadata": {},
   "source": [
    "### Answer\n",
    "\n",
    "Prior to implementing $M = I - P^{T}$, recall our answer to Q1: $P = p\\mathrm{diag}(1/r_{i}^{*})A + \\frac{1}{n}1_{n}1_{n}^{T}((1 - p)I + p\\mathrm{diag}(z_{i}))$. Then,\n",
    "\n",
    "\\begin{eqnarray*}\n",
    "Mv &=& v - P^{T}v\\\\\n",
    " &=& v - (pA^{T}\\mathrm{diag}(1/r_{i}^{*})v + \\frac{1}{n}1_{n}1_{n}^{T}((1 - p)I + p\\mathrm{diag}(z_{i}))v)\\\\\n",
    " &=& v - (pA^{T}((1/r_{i}^{*}) \\odot v) + (1 - p)1_{n}\\bar{v} + p\\frac{1}{n}1_{n}1_{n}^{T}(z\\odot v))\\\\\n",
    "\\end{eqnarray*}\n",
    "\n",
    "where $\\bar{v}$ refers to the average of the entries of $v$."
   ]
  },
  {
   "cell_type": "markdown",
   "metadata": {},
   "source": [
    "Analogously, we compute $M^{T}v$:\n",
    "\n",
    "\\begin{eqnarray*}\n",
    "M^{T}v &=& v - Pv\\\\\n",
    " &=& v - (p\\mathrm{diag}(1/r_{i}^{*})Av + \\frac{1}{n}((1 - p)I + p\\mathrm{diag}(z_{i}))1_{n}1_{n}^{T}v)\\\\\n",
    " &=& v - (p\\mathrm{diag}(1/r_{i}^{*})Av + (1-p)1_{n}\\bar{v} + pz\\bar{v}\\\\\n",
    "\\end{eqnarray*}\n",
    "\n",
    "where $1/r^{*}$ is the vector of $1/r_{i}^{*}$ values, $z$ is the vector of $z_{i}$ values and $\\odot$ refers to the entrywise (Hadamard) product between two vectors."
   ]
  },
  {
   "cell_type": "markdown",
   "metadata": {},
   "source": [
    "To get $M_{ij} = I_{ij} - P_{ji}$, we substitute $\\phi_{j}$, the $j$th column vector of the $n\\times n$ identity matrix into $v$ to get the $j$th column of $M$:\n",
    "\\begin{eqnarray*}\n",
    "M\\phi_{j} &=& \\phi_{j} - p(1/r_{j}^{*})A^{T}\\phi_{j} - \\frac{1-p}{n}1_{n} - \\frac{p}{n}z\\\\\n",
    " &=& \\phi_{j} - p(1/r_{j}^{*})A_{j,:}^{T} - \\frac{1-p}{n}1_{n} - \\frac{p}{n}z\\\\\n",
    "\\end{eqnarray*}"
   ]
  },
  {
   "cell_type": "markdown",
   "metadata": {},
   "source": [
    "To get the $i,j$th entry, we multiply our result by $\\phi_{i}^{T}$:\n",
    "\\begin{eqnarray*}\n",
    "\\phi_{i}^{T}M\\phi_{j} &=& \\phi_{i}^{T}\\phi_{j} - p\\phi_{i}^{T}(1/r_{j}^{*})A_{j,:}^{T} - \\frac{1}{n^{2}} - \\frac{p}{n}z_{i}\\\\\n",
    " &=& \\phi_{i}^{T}\\phi_{j} - \\frac{p}{r_{j}^{*}}\\phi_{i}^{T}A_{j,:}^{T} - \\frac{1 - p}{n} - \\frac{p}{n}z_{i}\\\\\n",
    " &=& \\phi_{i}^{T}\\phi_{j} - \\frac{p}{r_{j}^{*}}a_{ji} - \\frac{1 - p}{n} - \\frac{p}{n}z_{i}\\\\\n",
    "\\end{eqnarray*}"
   ]
  },
  {
   "cell_type": "code",
   "execution_count": 11,
   "metadata": {},
   "outputs": [],
   "source": [
    "using BenchmarkTools, LinearAlgebra, SparseArrays, Revise\n",
    "\n",
    "# a type for the matrix M = I - P^T in PageRank problem\n",
    "struct PageRankImPt{TA <: Number, IA <: Integer, T <: AbstractFloat} <: AbstractMatrix{T}\n",
    "    A         :: SparseMatrixCSC{TA, IA} # adjacency matrix\n",
    "    telep     :: T\n",
    "    # working arrays\n",
    "    # TODO: whatever intermediate arrays you may want to pre-allocate. I - P^T\n",
    "    out_degrees     :: Vector{IA}\n",
    "    inv_out_degrees :: Vector{T}\n",
    "    dangling_page   :: SparseVector{Bool, IA}\n",
    "    storage_n       :: Vector{T}\n",
    "end\n",
    "\n",
    "# constructor\n",
    "function PageRankImPt(A::SparseMatrixCSC, telep::T) where T <: AbstractFloat\n",
    "    n = size(A, 1)\n",
    "    # generate a copy\n",
    "    n = size(A, 1)\n",
    "    out_degrees = vec(sum(A, dims = 2)) #TODO: \n",
    "    dangling_page = sparse(map(d -> (d == 0), out_degrees))\n",
    "    inv_out_degrees = 1. ./ out_degrees\n",
    "    inv_out_degrees[dangling_page] .= 0\n",
    "    storage_n   = Vector{T}(undef, n)\n",
    "    PageRankImPt(A, telep, out_degrees, inv_out_degrees, dangling_page, storage_n)\n",
    "end\n",
    "\n",
    "LinearAlgebra.issymmetric(::PageRankImPt) = false\n",
    "Base.size(M::PageRankImPt) = size(M.A)\n",
    "# TODO: implement this function for evaluating M[i, j]\n",
    "function Base.getindex(M::PageRankImPt, i, j)\n",
    "    n = size(M)[1]\n",
    "    m = Int64(i == j) - M.telep * Int64(M.A[j, i]) * M.inv_out_degrees[j] - \n",
    "        M.telep / n * Int64(M.dangling_page[i]) - (1. - M.telep) / n\n",
    "    return m\n",
    "end\n",
    "\n",
    "# overwrite `out` by `(I - Pt) * v`\n",
    "function LinearAlgebra.mul!(\n",
    "        out :: Vector{T}, \n",
    "        M   :: PageRankImPt{<:Number, <:Integer, T}, \n",
    "        v   :: Vector{T}\n",
    "        ) where T <: AbstractFloat\n",
    "    n = length(v)\n",
    "    \n",
    "    # compute pA'(diag(1/r^*))v\n",
    "    copy!(out, v)\n",
    "    out .*= M.inv_out_degrees\n",
    "#    @views out[M.dangling_page] .= 0\n",
    "    \n",
    "    mul!(M.storage_n, transpose(M.A), out)\n",
    "    copy!(out, M.storage_n)\n",
    "\n",
    "#    out .*= M.inv_out_degrees\n",
    "    out .*= M.telep\n",
    "    \n",
    "    mu_v = sum(v) / n\n",
    "    out .+= (1 - M.telep) * mu_v\n",
    "    copy!(M.storage_n, v)\n",
    "    M.storage_n .*= M.dangling_page\n",
    "    mu_had = sum(M.storage_n) / n\n",
    "    out .+= M.telep * mu_had\n",
    "    out .= v .- out\n",
    "    \n",
    "#    sleep(1e-2) # wait 10 ms as if your code takes 1ms\n",
    "    return out\n",
    "end\n",
    "\n",
    "# overwrite `out` by `(I - P) * v`\n",
    "function LinearAlgebra.mul!(\n",
    "        out :: Vector{T}, \n",
    "        Mt  :: Transpose{T, PageRankImPt{TA, IA, T}}, \n",
    "        v   :: Vector{T}\n",
    "        ) where {TA<:Number, IA<:Integer, T <: AbstractFloat}\n",
    "    M = Mt.parent\n",
    "    n = length(v)\n",
    "    copy!(out, v)\n",
    "    mul!(M.storage_n, M.A, out)\n",
    "    copy!(out, M.storage_n)\n",
    "    out .*= M.inv_out_degrees\n",
    "#    @views out[M.dangling_page] .= 0\n",
    "    out .*= M.telep\n",
    "    \n",
    "    mu_v = sum(v) / n\n",
    "    out .+= (1 - M.telep) * mu_v\n",
    "    copy!(M.storage_n, M.dangling_page)\n",
    "    M.storage_n .*= M.telep * mu_v\n",
    "    out .+= M.storage_n\n",
    "    out .= v .- out\n",
    "#    sleep(1e-2) # wait 10 ms as if your code takes 1ms\n",
    "    return out\n",
    "end"
   ]
  },
  {
   "cell_type": "code",
   "execution_count": 12,
   "metadata": {},
   "outputs": [
    {
     "data": {
      "text/plain": [
       "916428×916428 PageRankImPt{Bool, Int64, Float64}:\n",
       "  1.0         -1.63679e-7  -1.63679e-7  …  -1.63679e-7  -1.63679e-7\n",
       " -1.63679e-7   1.0         -1.63679e-7     -1.63679e-7  -1.63679e-7\n",
       " -1.63679e-7  -1.63679e-7   1.0            -1.63679e-7  -1.63679e-7\n",
       " -1.09119e-6  -1.09119e-6  -1.09119e-6     -1.09119e-6  -1.09119e-6\n",
       " -1.63679e-7  -1.63679e-7  -1.63679e-7     -1.63679e-7  -1.63679e-7\n",
       " -1.63679e-7  -1.63679e-7  -1.63679e-7  …  -1.63679e-7  -1.63679e-7\n",
       " -1.63679e-7  -1.63679e-7  -1.63679e-7     -1.63679e-7  -1.63679e-7\n",
       " -1.63679e-7  -1.63679e-7  -1.63679e-7     -1.63679e-7  -1.63679e-7\n",
       " -1.63679e-7  -1.63679e-7  -1.63679e-7     -1.63679e-7  -1.63679e-7\n",
       " -1.63679e-7  -1.63679e-7  -1.63679e-7     -1.63679e-7  -1.63679e-7\n",
       " -1.63679e-7  -1.63679e-7  -1.63679e-7  …  -1.63679e-7  -1.63679e-7\n",
       " -1.63679e-7  -1.63679e-7  -1.63679e-7     -1.63679e-7  -1.63679e-7\n",
       " -1.63679e-7  -1.63679e-7  -1.63679e-7     -1.63679e-7  -1.63679e-7\n",
       "  ⋮                                     ⋱               \n",
       " -1.63679e-7  -1.63679e-7  -1.63679e-7     -1.63679e-7  -1.63679e-7\n",
       " -1.63679e-7  -1.63679e-7  -1.63679e-7     -1.63679e-7  -1.63679e-7\n",
       " -1.63679e-7  -1.63679e-7  -1.63679e-7     -1.63679e-7  -1.63679e-7\n",
       " -1.63679e-7  -1.63679e-7  -1.63679e-7     -1.63679e-7  -1.63679e-7\n",
       " -1.63679e-7  -1.63679e-7  -1.63679e-7  …  -1.63679e-7  -1.63679e-7\n",
       " -1.63679e-7  -1.63679e-7  -1.63679e-7     -1.63679e-7  -1.63679e-7\n",
       " -1.09119e-6  -1.09119e-6  -1.09119e-6     -1.09119e-6  -1.09119e-6\n",
       " -1.63679e-7  -1.63679e-7  -1.63679e-7     -1.63679e-7  -1.63679e-7\n",
       " -1.63679e-7  -1.63679e-7  -1.63679e-7     -1.63679e-7  -1.63679e-7\n",
       " -1.63679e-7  -1.63679e-7  -1.63679e-7  …  -1.63679e-7  -1.63679e-7\n",
       " -1.09119e-6  -1.09119e-6  -1.09119e-6      0.999999    -1.09119e-6\n",
       " -1.63679e-7  -1.63679e-7  -1.63679e-7     -1.63679e-7   1.0"
      ]
     },
     "execution_count": 12,
     "metadata": {},
     "output_type": "execute_result"
    }
   ],
   "source": [
    "M = PageRankImPt(A, 0.85)"
   ]
  },
  {
   "cell_type": "markdown",
   "metadata": {},
   "source": [
    "To check correctness. Note \n",
    "$$\n",
    "\\mathbf{M}^T \\mathbf{1} = \\mathbf{0}\n",
    "$$\n",
    "and\n",
    "$$\n",
    "\\mathbf{M} \\mathbf{x} = \\mathbf{0}\n",
    "$$\n",
    "for stationary distribution $\\mathbf{x}$.\n",
    "\n",
    "Download the solution file `pgrksol.csv.gz`. **Do not put this file in your Git**. You will lose points if you do. You can add a line `pgrksol.csv.gz` to your `.gitignore` file."
   ]
  },
  {
   "cell_type": "code",
   "execution_count": 13,
   "metadata": {},
   "outputs": [
    {
     "data": {
      "text/plain": [
       "916428-element Vector{Float64}:\n",
       " 3.3783428216975054e-5\n",
       " 2.0710155392568165e-6\n",
       " 3.663065984832893e-6\n",
       " 7.527510785028837e-7\n",
       " 8.63328599674051e-7\n",
       " 1.769418252415541e-6\n",
       " 2.431230382883396e-7\n",
       " 6.368417180141445e-7\n",
       " 4.744973703681939e-7\n",
       " 2.6895486110647536e-7\n",
       " 3.18574314847409e-6\n",
       " 7.375106374416742e-7\n",
       " 2.431230382883396e-7\n",
       " ⋮\n",
       " 1.1305006040148547e-6\n",
       " 4.874825281822915e-6\n",
       " 3.167946973112519e-6\n",
       " 9.72688040308568e-7\n",
       " 6.588614479285245e-7\n",
       " 7.737011774300648e-7\n",
       " 2.431230382883396e-7\n",
       " 1.6219204214797293e-6\n",
       " 3.912130060551738e-7\n",
       " 2.431230382883396e-7\n",
       " 7.296033831163157e-6\n",
       " 6.330939996912478e-7"
      ]
     },
     "execution_count": 13,
     "metadata": {},
     "output_type": "execute_result"
    }
   ],
   "source": [
    "using CodecZlib, DelimitedFiles\n",
    "\n",
    "isfile(\"pgrksol.csv.gz\") || download(\"https://raw.githubusercontent.com/ucla-biostat-257/2022spring/master/hw/hw4/pgrksol.csv.gz\")\n",
    "xsol = open(\"pgrksol.csv.gz\", \"r\") do io\n",
    "    vec(readdlm(GzipDecompressorStream(io)))\n",
    "end"
   ]
  },
  {
   "cell_type": "markdown",
   "metadata": {},
   "source": [
    "**You will lose all 35 points (Steps 1 and 2)** if the following statements throw AssertError."
   ]
  },
  {
   "cell_type": "code",
   "execution_count": 14,
   "metadata": {},
   "outputs": [],
   "source": [
    "M = PageRankImPt(A, 0.85)\n",
    "n = size(M, 1)\n",
    "\n",
    "@assert norm(transpose(M) * ones(n)) < 1e-12"
   ]
  },
  {
   "cell_type": "code",
   "execution_count": 15,
   "metadata": {},
   "outputs": [],
   "source": [
    "@assert norm(M * xsol) < 1e-12"
   ]
  },
  {
   "cell_type": "markdown",
   "metadata": {},
   "source": [
    "### Step 2 (20 pts)\n",
    "\n",
    "We want to benchmark the hot functions `mul!` to make sure they are efficient and allocate little memory."
   ]
  },
  {
   "cell_type": "code",
   "execution_count": 16,
   "metadata": {},
   "outputs": [
    {
     "data": {
      "text/plain": [
       "BenchmarkTools.Trial: 90 samples with 1 evaluation.\n",
       " Range \u001b[90m(\u001b[39m\u001b[36m\u001b[1mmin\u001b[22m\u001b[39m … \u001b[35mmax\u001b[39m\u001b[90m):  \u001b[39m\u001b[36m\u001b[1m52.973 ms\u001b[22m\u001b[39m … \u001b[35m65.916 ms\u001b[39m  \u001b[90m┊\u001b[39m GC \u001b[90m(\u001b[39mmin … max\u001b[90m): \u001b[39m0.00% … 0.00%\n",
       " Time  \u001b[90m(\u001b[39m\u001b[34m\u001b[1mmedian\u001b[22m\u001b[39m\u001b[90m):     \u001b[39m\u001b[34m\u001b[1m54.900 ms              \u001b[22m\u001b[39m\u001b[90m┊\u001b[39m GC \u001b[90m(\u001b[39mmedian\u001b[90m):    \u001b[39m0.00%\n",
       " Time  \u001b[90m(\u001b[39m\u001b[32m\u001b[1mmean\u001b[22m\u001b[39m ± \u001b[32mσ\u001b[39m\u001b[90m):   \u001b[39m\u001b[32m\u001b[1m55.236 ms\u001b[22m\u001b[39m ± \u001b[32m 1.738 ms\u001b[39m  \u001b[90m┊\u001b[39m GC \u001b[90m(\u001b[39mmean ± σ\u001b[90m):  \u001b[39m0.00% ± 0.00%\n",
       "\n",
       "  \u001b[39m \u001b[39m \u001b[39m \u001b[39m \u001b[39m \u001b[39m \u001b[39m█\u001b[39m \u001b[39m▅\u001b[39m▂\u001b[39m▅\u001b[39m▂\u001b[39m▅\u001b[39m▅\u001b[39m▅\u001b[39m \u001b[39m \u001b[39m▂\u001b[39m█\u001b[34m▅\u001b[39m\u001b[39m \u001b[39m▂\u001b[32m \u001b[39m\u001b[39m \u001b[39m█\u001b[39m \u001b[39m \u001b[39m \u001b[39m \u001b[39m \u001b[39m▅\u001b[39m \u001b[39m \u001b[39m \u001b[39m▂\u001b[39m \u001b[39m \u001b[39m \u001b[39m \u001b[39m \u001b[39m \u001b[39m \u001b[39m \u001b[39m \u001b[39m \u001b[39m \u001b[39m \u001b[39m \u001b[39m \u001b[39m \u001b[39m \u001b[39m \u001b[39m \u001b[39m \u001b[39m \u001b[39m \u001b[39m \u001b[39m \u001b[39m \u001b[39m \u001b[39m \n",
       "  \u001b[39m▅\u001b[39m▁\u001b[39m▅\u001b[39m▅\u001b[39m█\u001b[39m▅\u001b[39m█\u001b[39m▅\u001b[39m█\u001b[39m█\u001b[39m█\u001b[39m█\u001b[39m█\u001b[39m█\u001b[39m█\u001b[39m▁\u001b[39m█\u001b[39m█\u001b[39m█\u001b[34m█\u001b[39m\u001b[39m▁\u001b[39m█\u001b[32m▅\u001b[39m\u001b[39m▁\u001b[39m█\u001b[39m▅\u001b[39m▅\u001b[39m▅\u001b[39m▁\u001b[39m▅\u001b[39m█\u001b[39m█\u001b[39m█\u001b[39m█\u001b[39m█\u001b[39m█\u001b[39m▁\u001b[39m▁\u001b[39m▁\u001b[39m▁\u001b[39m▅\u001b[39m█\u001b[39m▁\u001b[39m▁\u001b[39m▁\u001b[39m▅\u001b[39m█\u001b[39m▁\u001b[39m▁\u001b[39m▁\u001b[39m▁\u001b[39m▅\u001b[39m▅\u001b[39m▁\u001b[39m▁\u001b[39m▁\u001b[39m▁\u001b[39m▁\u001b[39m▅\u001b[39m \u001b[39m▁\n",
       "  53 ms\u001b[90m           Histogram: frequency by time\u001b[39m          59 ms \u001b[0m\u001b[1m<\u001b[22m\n",
       "\n",
       " Memory estimate\u001b[90m: \u001b[39m\u001b[33m0 bytes\u001b[39m, allocs estimate\u001b[90m: \u001b[39m\u001b[33m0\u001b[39m."
      ]
     },
     "execution_count": 16,
     "metadata": {},
     "output_type": "execute_result"
    }
   ],
   "source": [
    "M = PageRankImPt(A, 0.85)\n",
    "n = size(M, 1)\n",
    "v, out = ones(n), zeros(n)\n",
    "bm_mv = @benchmark mul!($out, $M, $v) setup=(fill!(out, 0); fill!(v, 1))"
   ]
  },
  {
   "cell_type": "code",
   "execution_count": 17,
   "metadata": {},
   "outputs": [
    {
     "data": {
      "text/plain": [
       "BenchmarkTools.Trial: 69 samples with 1 evaluation.\n",
       " Range \u001b[90m(\u001b[39m\u001b[36m\u001b[1mmin\u001b[22m\u001b[39m … \u001b[35mmax\u001b[39m\u001b[90m):  \u001b[39m\u001b[36m\u001b[1m69.505 ms\u001b[22m\u001b[39m … \u001b[35m80.942 ms\u001b[39m  \u001b[90m┊\u001b[39m GC \u001b[90m(\u001b[39mmin … max\u001b[90m): \u001b[39m0.00% … 0.00%\n",
       " Time  \u001b[90m(\u001b[39m\u001b[34m\u001b[1mmedian\u001b[22m\u001b[39m\u001b[90m):     \u001b[39m\u001b[34m\u001b[1m72.220 ms              \u001b[22m\u001b[39m\u001b[90m┊\u001b[39m GC \u001b[90m(\u001b[39mmedian\u001b[90m):    \u001b[39m0.00%\n",
       " Time  \u001b[90m(\u001b[39m\u001b[32m\u001b[1mmean\u001b[22m\u001b[39m ± \u001b[32mσ\u001b[39m\u001b[90m):   \u001b[39m\u001b[32m\u001b[1m72.365 ms\u001b[22m\u001b[39m ± \u001b[32m 1.468 ms\u001b[39m  \u001b[90m┊\u001b[39m GC \u001b[90m(\u001b[39mmean ± σ\u001b[90m):  \u001b[39m0.00% ± 0.00%\n",
       "\n",
       "  \u001b[39m \u001b[39m \u001b[39m \u001b[39m \u001b[39m \u001b[39m \u001b[39m \u001b[39m \u001b[39m \u001b[39m \u001b[39m \u001b[39m \u001b[39m \u001b[39m \u001b[39m \u001b[39m▁\u001b[39m▁\u001b[39m \u001b[39m \u001b[39m▄\u001b[39m█\u001b[39m \u001b[39m \u001b[39m \u001b[39m▄\u001b[39m▁\u001b[39m▁\u001b[39m▁\u001b[39m▄\u001b[34m▁\u001b[39m\u001b[39m▄\u001b[39m \u001b[32m \u001b[39m\u001b[39m▁\u001b[39m \u001b[39m▄\u001b[39m█\u001b[39m \u001b[39m \u001b[39m▁\u001b[39m▁\u001b[39m▁\u001b[39m▁\u001b[39m \u001b[39m \u001b[39m \u001b[39m \u001b[39m \u001b[39m▁\u001b[39m \u001b[39m \u001b[39m \u001b[39m \u001b[39m \u001b[39m \u001b[39m \u001b[39m \u001b[39m \u001b[39m \u001b[39m \u001b[39m \n",
       "  \u001b[39m▆\u001b[39m▁\u001b[39m▁\u001b[39m▁\u001b[39m▁\u001b[39m▁\u001b[39m▁\u001b[39m▆\u001b[39m▁\u001b[39m▁\u001b[39m▁\u001b[39m▁\u001b[39m▁\u001b[39m▆\u001b[39m▆\u001b[39m█\u001b[39m█\u001b[39m▆\u001b[39m▆\u001b[39m█\u001b[39m█\u001b[39m▆\u001b[39m▆\u001b[39m▆\u001b[39m█\u001b[39m█\u001b[39m█\u001b[39m█\u001b[39m█\u001b[34m█\u001b[39m\u001b[39m█\u001b[39m▆\u001b[32m▆\u001b[39m\u001b[39m█\u001b[39m▆\u001b[39m█\u001b[39m█\u001b[39m▆\u001b[39m▆\u001b[39m█\u001b[39m█\u001b[39m█\u001b[39m█\u001b[39m▁\u001b[39m▁\u001b[39m▆\u001b[39m▆\u001b[39m▆\u001b[39m█\u001b[39m▆\u001b[39m▆\u001b[39m▁\u001b[39m▆\u001b[39m▁\u001b[39m▁\u001b[39m▁\u001b[39m▁\u001b[39m▁\u001b[39m▆\u001b[39m \u001b[39m▁\n",
       "  69.5 ms\u001b[90m         Histogram: frequency by time\u001b[39m        74.8 ms \u001b[0m\u001b[1m<\u001b[22m\n",
       "\n",
       " Memory estimate\u001b[90m: \u001b[39m\u001b[33m0 bytes\u001b[39m, allocs estimate\u001b[90m: \u001b[39m\u001b[33m0\u001b[39m."
      ]
     },
     "execution_count": 17,
     "metadata": {},
     "output_type": "execute_result"
    }
   ],
   "source": [
    "bm_mtv = @benchmark mul!($out, $(transpose(M)), $v) setup=(fill!(out, 0); fill!(v, 1))"
   ]
  },
  {
   "cell_type": "markdown",
   "metadata": {},
   "source": [
    "You will lose 1 point for each 100 bytes memory allocation. So the points you will get is"
   ]
  },
  {
   "cell_type": "code",
   "execution_count": 18,
   "metadata": {},
   "outputs": [
    {
     "data": {
      "text/plain": [
       "20.0"
      ]
     },
     "execution_count": 18,
     "metadata": {},
     "output_type": "execute_result"
    }
   ],
   "source": [
    "clamp(10 - median(bm_mv).memory / 100, 0, 10) + \n",
    "clamp(10 - median(bm_mtv).memory / 100, 0, 10)"
   ]
  },
  {
   "cell_type": "markdown",
   "metadata": {},
   "source": [
    "**Hint**: My median run times are 30-40 ms and memory allocations are 0 bytes."
   ]
  },
  {
   "cell_type": "markdown",
   "metadata": {},
   "source": [
    "### Step 3 (20 pts)\n",
    "\n",
    "Let's first try to solve the PageRank problem by the GMRES method for solving linear equations. "
   ]
  },
  {
   "cell_type": "code",
   "execution_count": 19,
   "metadata": {},
   "outputs": [
    {
     "data": {
      "text/plain": [
       "(value = ([3.378342822186503e-5, 2.071015539246995e-6, 3.6630659852345382e-6, 7.527510785597202e-7, 8.633285997155132e-7, 1.7694182527365293e-6, 2.431230382910348e-7, 6.368417180742664e-7, 4.744973703746486e-7, 2.689548611094569e-7  …  3.1679469739754828e-6, 9.726880410224357e-7, 6.588614478537671e-7, 7.737011774709108e-7, 2.431230382910348e-7, 1.6219204214234728e-6, 3.912130060628608e-7, 2.431230382910348e-7, 7.2960338313196555e-6, 6.330939996673809e-7], ConvergenceInfo: one converged value after 3 iterations and 72 applications of the linear map;\n",
       "norms of residuals are given by (7.821150109559894e-13,).\n",
       "), time = 8.004948483, bytes = 1009028732, gctime = 0.372343284, gcstats = Base.GC_Diff(1009028732, 137, 0, 75139, 4, 0, 372343284, 3, 2))"
      ]
     },
     "execution_count": 19,
     "metadata": {},
     "output_type": "execute_result"
    }
   ],
   "source": [
    "using KrylovKit\n",
    "\n",
    "# normalize in-degrees to be the start point\n",
    "x0   = vec(sum(A, dims = 1)) .+ 1.0\n",
    "x0 ./= sum(x0)\n",
    "\n",
    "# right hand side\n",
    "b = zeros(n)\n",
    "\n",
    "# warm up (compilation)\n",
    "linsolve(M, b, x0, issymmetric = false, isposdef = false, maxiter = 1) \n",
    "# output is complex eigenvalue/eigenvector\n",
    "(x_gmres, info), time_gmres, = @timed linsolve(M, b, x0, issymmetric = false, isposdef = false)"
   ]
  },
  {
   "cell_type": "markdown",
   "metadata": {},
   "source": [
    "Check correctness. **You will lose all 20 points if the following statement throws `AssertError`.**"
   ]
  },
  {
   "cell_type": "code",
   "execution_count": 20,
   "metadata": {},
   "outputs": [],
   "source": [
    "@assert norm(x_gmres - xsol) < 1e-8"
   ]
  },
  {
   "cell_type": "markdown",
   "metadata": {},
   "source": [
    "GMRES should be reasonably fast. The points you'll get is"
   ]
  },
  {
   "cell_type": "code",
   "execution_count": 21,
   "metadata": {},
   "outputs": [
    {
     "data": {
      "text/plain": [
       "20.0"
      ]
     },
     "execution_count": 21,
     "metadata": {},
     "output_type": "execute_result"
    }
   ],
   "source": [
    "clamp(20 / time_gmres * 20, 0, 20)"
   ]
  },
  {
   "cell_type": "markdown",
   "metadata": {},
   "source": [
    "**Hint**: My runtime is about 7-8 seconds."
   ]
  },
  {
   "cell_type": "markdown",
   "metadata": {},
   "source": [
    "### Step 4 (20 pts)\n",
    "\n",
    "Let's first try to solve the PageRank problem by the Arnoldi method for solving eigen problems. "
   ]
  },
  {
   "cell_type": "code",
   "execution_count": 22,
   "metadata": {},
   "outputs": [
    {
     "data": {
      "text/plain": [
       "(value = (ComplexF64[-7.15218598150451e-16 + 0.0im], Vector{ComplexF64}[[0.005635826953807292 + 0.0im, 0.0003454914380782916 + 0.0im, 0.000611080849412509 + 0.0im, 0.00012557561626034896 + 0.0im, 0.0001440224053280302 + 0.0im, 0.0002951783050398427 + 0.0im, 4.055832828677737e-5 + 0.0im, 0.00010623935784851908 + 0.0im, 7.915671116195064e-5 + 0.0im, 4.486765066724741e-5 + 0.0im  …  0.0005284839899797011 + 0.0im, 0.00016226599147988602 + 0.0im, 0.00010991273837609453 + 0.0im, 0.00012907055855751432 + 0.0im, 4.055832828677737e-5 + 0.0im, 0.0002705723874320372 + 0.0im, 6.526302748333191e-5 + 0.0im, 4.055832828677737e-5 + 0.0im, 0.0012171406601327794 + 0.0im, 0.0001056141551069884 + 0.0im]], ConvergenceInfo: one converged value after 7 iterations and 99 applications of the linear map;\n",
       "norms of residuals are given by (9.574560720282502e-14,).\n",
       "), time = 13.208445288, bytes = 1581384773, gctime = 0.251071389, gcstats = Base.GC_Diff(1581384773, 213, 0, 77837, 20, 0, 251071389, 6, 0))"
      ]
     },
     "execution_count": 22,
     "metadata": {},
     "output_type": "execute_result"
    }
   ],
   "source": [
    "# warm up (compilation)\n",
    "eigsolve(M, x0, 1, :SR, issymmetric = false, maxiter = 1)\n",
    "# output is complex eigenvalue/eigenvector\n",
    "(vals, vecs, info), time_arnoldi, = @timed eigsolve(M, x0, 1, :SR, issymmetric = false)"
   ]
  },
  {
   "cell_type": "markdown",
   "metadata": {},
   "source": [
    "Check correctness. **You will lose all 20 points if the following statement throws `AssertError`.**"
   ]
  },
  {
   "cell_type": "code",
   "execution_count": 23,
   "metadata": {},
   "outputs": [],
   "source": [
    "@assert abs(Real(vals[1])) < 1e-8"
   ]
  },
  {
   "cell_type": "code",
   "execution_count": 24,
   "metadata": {},
   "outputs": [],
   "source": [
    "x_arnoldi   = abs.(Real.(vecs[1]))\n",
    "x_arnoldi ./= sum(x_arnoldi)\n",
    "@assert norm(x_arnoldi - xsol) < 1e-8"
   ]
  },
  {
   "cell_type": "markdown",
   "metadata": {},
   "source": [
    "Arnoldi should be reasonably fast. The points you'll get is"
   ]
  },
  {
   "cell_type": "code",
   "execution_count": 25,
   "metadata": {},
   "outputs": [
    {
     "data": {
      "text/plain": [
       "20.0"
      ]
     },
     "execution_count": 25,
     "metadata": {},
     "output_type": "execute_result"
    }
   ],
   "source": [
    "clamp(20 / time_arnoldi * 20, 0, 20)"
   ]
  },
  {
   "cell_type": "markdown",
   "metadata": {},
   "source": [
    "**Hint**: My runtime is about 11-12 seconds."
   ]
  },
  {
   "cell_type": "markdown",
   "metadata": {},
   "source": [
    "## Q6 (5 pts) Results\n",
    "\n",
    "List the top 20 pages you found and their corresponding PageRank score. Do they match the top 20 pages ranked according to in-degrees? "
   ]
  },
  {
   "cell_type": "markdown",
   "metadata": {},
   "source": [
    "### Answer\n",
    "\n",
    "We compute the top 20 pages we've found using the GMRES and Arnoldi methods for solving eigen problems."
   ]
  },
  {
   "cell_type": "code",
   "execution_count": 26,
   "metadata": {},
   "outputs": [
    {
     "name": "stdout",
     "output_type": "stream",
     "text": [
      "Maximum 1th ranking 0.0009145812115800053 at index 597622 for the GMRES method.\n",
      "Maximum 2th ranking 0.0009120131809576345 at index 41910 for the GMRES method.\n",
      "Maximum 3th ranking 0.0008950559015956306 at index 163075 for the GMRES method.\n",
      "Maximum 4th ranking 0.0008899344804879074 at index 537038 for the GMRES method.\n",
      "Maximum 5th ranking 0.0007791031790941284 at index 384665 for the GMRES method.\n",
      "Maximum 6th ranking 0.0007575423487418646 at index 504138 for the GMRES method.\n",
      "Maximum 7th ranking 0.0007177642925385278 at index 486978 for the GMRES method.\n",
      "Maximum 8th ranking 0.0007108483954766748 at index 605850 for the GMRES method.\n",
      "Maximum 9th ranking 0.0007055182683476246 at index 32164 for the GMRES method.\n",
      "Maximum 10th ranking 0.0007021658710779174 at index 558785 for the GMRES method.\n",
      "Maximum 11th ranking 0.0006950751256673672 at index 551823 for the GMRES method.\n",
      "Maximum 12th ranking 0.0006762276023217714 at index 765324 for the GMRES method.\n",
      "Maximum 13th ranking 0.0006546558408533482 at index 751374 for the GMRES method.\n",
      "Maximum 14th ranking 0.0006168480317036457 at index 425767 for the GMRES method.\n",
      "Maximum 15th ranking 0.0006146220815041846 at index 908338 for the GMRES method.\n",
      "Maximum 16th ranking 0.0006031151911418566 at index 173974 for the GMRES method.\n",
      "Maximum 17th ranking 0.0005926642909266339 at index 7315 for the GMRES method.\n",
      "Maximum 18th ranking 0.0005894474426193496 at index 213428 for the GMRES method.\n",
      "Maximum 19th ranking 0.0005812660190003791 at index 885589 for the GMRES method.\n",
      "Maximum 20th ranking 0.0005765189745804417 at index 819207 for the GMRES method.\n"
     ]
    }
   ],
   "source": [
    "gmres_top_20 = Vector{Int64}(undef, 20)\n",
    "\n",
    "for i in 1:20\n",
    "    m, ix = findmax(x_gmres)\n",
    "    println(\"Maximum \", i, \"th ranking \", m, \" at index \", ix, \" for the GMRES method.\")\n",
    "    gmres_top_20[i] = ix\n",
    "    deleteat!(x_gmres, ix)\n",
    "end"
   ]
  },
  {
   "cell_type": "code",
   "execution_count": 27,
   "metadata": {},
   "outputs": [
    {
     "name": "stdout",
     "output_type": "stream",
     "text": [
      "Maximum 1th ranking 0.0009145812114518429 at index 597622 for the Arnoldi method.\n",
      "Maximum 2th ranking 0.0009120131809986378 at index 41910 for the Arnoldi method.\n",
      "Maximum 3th ranking 0.0008950559016075283 at index 163075 for the Arnoldi method.\n",
      "Maximum 4th ranking 0.000889934480441449 at index 537038 for the Arnoldi method.\n",
      "Maximum 5th ranking 0.000779103179016405 at index 384665 for the Arnoldi method.\n",
      "Maximum 6th ranking 0.0007575423485846912 at index 504138 for the Arnoldi method.\n",
      "Maximum 7th ranking 0.0007177642925774892 at index 486978 for the Arnoldi method.\n",
      "Maximum 8th ranking 0.0007108483954459599 at index 605850 for the Arnoldi method.\n",
      "Maximum 9th ranking 0.0007055182681589602 at index 32164 for the Arnoldi method.\n",
      "Maximum 10th ranking 0.0007021658710708973 at index 558785 for the Arnoldi method.\n",
      "Maximum 11th ranking 0.0006950751256446756 at index 551823 for the Arnoldi method.\n",
      "Maximum 12th ranking 0.0006762276025731853 at index 765324 for the Arnoldi method.\n",
      "Maximum 13th ranking 0.0006546558408067892 at index 751374 for the Arnoldi method.\n",
      "Maximum 14th ranking 0.0006168480316346666 at index 425767 for the Arnoldi method.\n",
      "Maximum 15th ranking 0.0006146220814775597 at index 908338 for the Arnoldi method.\n",
      "Maximum 16th ranking 0.0006031151911310583 at index 173974 for the Arnoldi method.\n",
      "Maximum 17th ranking 0.0005926642909131787 at index 7315 for the Arnoldi method.\n",
      "Maximum 18th ranking 0.0005894474426054733 at index 213428 for the Arnoldi method.\n",
      "Maximum 19th ranking 0.0005812660189535966 at index 885589 for the Arnoldi method.\n",
      "Maximum 20th ranking 0.0005765189744542833 at index 819207 for the Arnoldi method.\n"
     ]
    }
   ],
   "source": [
    "arnoldi_top_20 = Vector{Int64}(undef, 20)\n",
    "\n",
    "for i in 1:20\n",
    "    m, ix = findmax(x_arnoldi)\n",
    "    println(\"Maximum \", i, \"th ranking \", m, \" at index \", ix, \" for the Arnoldi method.\")\n",
    "    arnoldi_top_20[i] = ix\n",
    "    deleteat!(x_arnoldi, ix)\n",
    "end"
   ]
  },
  {
   "cell_type": "code",
   "execution_count": 28,
   "metadata": {},
   "outputs": [
    {
     "data": {
      "text/plain": [
       "true"
      ]
     },
     "execution_count": 28,
     "metadata": {},
     "output_type": "execute_result"
    }
   ],
   "source": [
    "gmres_top_20 == arnoldi_top_20"
   ]
  },
  {
   "cell_type": "code",
   "execution_count": 29,
   "metadata": {},
   "outputs": [
    {
     "data": {
      "text/plain": [
       "false"
      ]
     },
     "execution_count": 29,
     "metadata": {},
     "output_type": "execute_result"
    }
   ],
   "source": [
    "gmres_top_20 == in_degree_top_20"
   ]
  },
  {
   "cell_type": "markdown",
   "metadata": {},
   "source": [
    "While the top 20 pages match for both GMRES and Arnoldi method, they do not match those for the in-degree counts."
   ]
  },
  {
   "cell_type": "markdown",
   "metadata": {},
   "source": [
    "## Q7 Be proud of yourself\n",
    "\n",
    "Go to your resume/cv and claim you have experience performing analysis on a network of one million nodes."
   ]
  }
 ],
 "metadata": {
  "@webio": {
   "lastCommId": null,
   "lastKernelId": null
  },
  "kernelspec": {
   "display_name": "Julia 1.7.1",
   "language": "julia",
   "name": "julia-1.7"
  },
  "language_info": {
   "file_extension": ".jl",
   "mimetype": "application/julia",
   "name": "julia",
   "version": "1.7.1"
  },
  "toc": {
   "colors": {
    "hover_highlight": "#DAA520",
    "running_highlight": "#FF0000",
    "selected_highlight": "#FFD700"
   },
   "moveMenuLeft": true,
   "nav_menu": {
    "height": "87px",
    "width": "252px"
   },
   "navigate_menu": true,
   "number_sections": false,
   "sideBar": true,
   "skip_h1_title": true,
   "threshold": 4,
   "toc_cell": false,
   "toc_section_display": "block",
   "toc_window_display": true,
   "widenNotebook": false
  }
 },
 "nbformat": 4,
 "nbformat_minor": 4
}
