{
 "cells": [
  {
   "cell_type": "markdown",
   "metadata": {},
   "source": [
    "# Biostat 257 Homework 6\n",
    "\n",
    "**Due June 10 @ 11:59PM**"
   ]
  },
  {
   "cell_type": "code",
   "execution_count": 1,
   "metadata": {},
   "outputs": [
    {
     "name": "stdout",
     "output_type": "stream",
     "text": [
      "Julia Version 1.7.1\n",
      "Commit ac5cc99908 (2021-12-22 19:35 UTC)\n",
      "Platform Info:\n",
      "  OS: macOS (x86_64-apple-darwin19.5.0)\n",
      "  CPU: Intel(R) Core(TM) i5-8279U CPU @ 2.40GHz\n",
      "  WORD_SIZE: 64\n",
      "  LIBM: libopenlibm\n",
      "  LLVM: libLLVM-12.0.1 (ORCJIT, skylake)\n"
     ]
    }
   ],
   "source": [
    "versioninfo()"
   ]
  },
  {
   "cell_type": "markdown",
   "metadata": {},
   "source": [
    "Again we continue with the linear mixed effects model (LMM)\n",
    "$$\n",
    "    \\mathbf{Y}_i = \\mathbf{X}_i \\boldsymbol{\\beta} + \\mathbf{Z}_i \\boldsymbol{\\gamma}_i + \\boldsymbol{\\epsilon}_i, \\quad i=1,\\ldots,n,\n",
    "$$\n",
    "where   \n",
    "- $\\mathbf{Y}_i \\in \\mathbb{R}^{n_i}$ is the response vector of $i$-th individual,  \n",
    "- $\\mathbf{X}_i \\in \\mathbb{R}^{n_i \\times p}$ is the fixed effects predictor matrix of $i$-th individual,  \n",
    "- $\\mathbf{Z}_i \\in \\mathbb{R}^{n_i \\times q}$ is the random effects predictor matrix of $i$-th individual,  \n",
    "- $\\boldsymbol{\\epsilon}_i \\in \\mathbb{R}^{n_i}$ are multivariate normal $N(\\mathbf{0}_{n_i},\\sigma^2 \\mathbf{I}_{n_i})$,  \n",
    "- $\\boldsymbol{\\beta} \\in \\mathbb{R}^p$ are fixed effects, and  \n",
    "- $\\boldsymbol{\\gamma}_i \\in \\mathbb{R}^q$ are random effects assumed to be $N(\\mathbf{0}_q, \\boldsymbol{\\Sigma}_{q \\times q}$) independent of $\\boldsymbol{\\epsilon}_i$.\n",
    "\n",
    "The log-likelihood of the $i$-th datum $(\\mathbf{y}_i, \\mathbf{X}_i, \\mathbf{Z}_i)$ is \n",
    "$$\n",
    "    \\ell_i(\\boldsymbol{\\beta}, \\mathbf{L}, \\sigma_0^2) = - \\frac{n_i}{2} \\log (2\\pi) - \\frac{1}{2} \\log \\det \\boldsymbol{\\Omega}_i - \\frac{1}{2} (\\mathbf{y} - \\mathbf{X}_i \\boldsymbol{\\beta})^T \\boldsymbol{\\Omega}_i^{-1} (\\mathbf{y} - \\mathbf{X}_i \\boldsymbol{\\beta}),\n",
    "$$\n",
    "where\n",
    "$$\n",
    "    \\boldsymbol{\\Omega}_i = \\sigma^2 \\mathbf{I}_{n_i} + \\mathbf{Z}_i \\boldsymbol{\\Sigma} \\mathbf{Z}_i^T.\n",
    "$$\n",
    "Given $m$ independent data points $(\\mathbf{y}_i, \\mathbf{X}_i, \\mathbf{Z}_i)$, $i=1,\\ldots,m$, we seek the maximum likelihood estimate (MLE) by maximizing the log-likelihood\n",
    "$$\n",
    "\\ell(\\boldsymbol{\\beta}, \\boldsymbol{\\Sigma}, \\sigma_0^2) = \\sum_{i=1}^m \\ell_i(\\boldsymbol{\\beta}, \\boldsymbol{\\Sigma}, \\sigma_0^2).\n",
    "$$\n",
    "\n",
    "In HW5, we used the nonlinear programming (NLP) approach (Newton type algorithms) for optimization. In this assignment, we derive and implement an expectation-maximization (EM) algorithm for the same problem."
   ]
  },
  {
   "cell_type": "code",
   "execution_count": 2,
   "metadata": {},
   "outputs": [],
   "source": [
    "# load necessary packages; make sure install them first\n",
    "using BenchmarkTools, Distributions, LinearAlgebra, Random, Revise\n",
    "import LinearAlgebra: BlasReal, copytri!"
   ]
  },
  {
   "cell_type": "markdown",
   "metadata": {},
   "source": [
    "## Q1. (10 pts) Refresher on normal-normal model\n",
    "\n",
    "Assume the conditional distribution\n",
    "$$\n",
    "\\mathbf{y} \\mid \\boldsymbol{\\gamma} \\sim N(\\mathbf{X} \\boldsymbol{\\beta} + \\mathbf{Z} \\boldsymbol{\\gamma}, \\sigma^2 \\mathbf{I}_n)\n",
    "$$\n",
    "and the prior distribution\n",
    "$$\n",
    "\\boldsymbol{\\gamma} \\sim N(\\mathbf{0}_q, \\boldsymbol{\\Sigma}).\n",
    "$$\n",
    "By the Bayes theorem, the posterior distribution is\n",
    "\\begin{eqnarray*}\n",
    "f(\\boldsymbol{\\gamma} \\mid \\mathbf{y}) &=& \\frac{f(\\mathbf{y} \\mid \\boldsymbol{\\gamma}) \\times f(\\boldsymbol{\\gamma})}{f(\\mathbf{y})}, \\end{eqnarray*}\n",
    "where $f$ denotes corresponding density. \n",
    "\n",
    "Show that the posterior distribution of random effects $\\boldsymbol{\\gamma}$ is a multivariate normal with mean\n",
    "\\begin{eqnarray*}\n",
    "\\mathbb{E} (\\boldsymbol{\\gamma} \\mid \\mathbf{y}) &=& \\sigma^{-2} (\\sigma^{-2} \\mathbf{Z}^T \\mathbf{Z} + \\boldsymbol{\\Sigma}^{-1})^{-1 } \\mathbf{Z}^T (\\mathbf{y} - \\mathbf{X} \\boldsymbol{\\beta}) \\\\\n",
    "&=& \\boldsymbol{\\Sigma} \\mathbf{Z}^T (\\mathbf{Z} \\boldsymbol{\\Sigma} \\mathbf{Z}^T + \\sigma^2 \\mathbf{I})^{-1} (\\mathbf{y} - \\mathbf{X} \\boldsymbol{\\beta})\n",
    "\\end{eqnarray*}\n",
    "and covariance\n",
    "\\begin{eqnarray*}\n",
    "\\text{Var} (\\boldsymbol{\\gamma} \\mid \\mathbf{y}) &=& (\\sigma^{-2} \\mathbf{Z}^T \\mathbf{Z} + \\boldsymbol{\\Sigma}^{-1})^{-1} \\\\\n",
    "&=& \\boldsymbol{\\Sigma} - \\boldsymbol{\\Sigma} \\mathbf{Z}^T (\\mathbf{Z} \\boldsymbol{\\Sigma} \\mathbf{Z}^T + \\sigma^2 \\mathbf{I})^{-1} \\mathbf{Z} \\boldsymbol{\\Sigma}.\n",
    "\\end{eqnarray*}"
   ]
  },
  {
   "cell_type": "markdown",
   "metadata": {},
   "source": [
    "### Answer\n",
    "\n",
    "\\begin{eqnarray*}\n",
    "f(\\gamma\\vert y) &=& \\frac{f(y\\vert \\gamma)f(\\gamma)}{f(y)}\\\\\n",
    " &\\propto& f(y\\vert \\gamma)f(y)\\\\\n",
    " &\\propto& \\sigma^{-n}\\lvert\\Sigma\\rvert^{-1/2}\\exp(-\\frac{1}{2}[\\frac{1}{\\sigma^{2}}(y - X\\beta - Z\\gamma)^{T}(y - X\\beta - Z\\gamma) + \\gamma^{T}\\Sigma^{-1}\\gamma])\n",
    "\\end{eqnarray*}\n",
    "\n",
    "For convenience, rewrite $r = y - X\\beta$. Then,\n",
    "\\begin{eqnarray*}\n",
    "f(\\gamma\\vert y) &\\propto& \\sigma^{-n}\\lvert\\Sigma\\rvert^{-1/2}\\exp(-\\frac{1}{2}[\\frac{1}{\\sigma^{2}}(y - X\\beta - Z\\gamma)^{T}(y - X\\beta - Z\\gamma) + \\gamma^{T}\\Sigma^{-1}\\gamma])\\\\\n",
    " &=& \\sigma^{-n}\\lvert\\Sigma\\rvert^{-1/2}\\exp(-\\frac{1}{2}[\\frac{1}{\\sigma^{2}}(r - Z\\gamma)^{T}(r - Z\\gamma) + \\gamma^{T}\\Sigma^{-1}\\gamma])\\\\\n",
    " &=& \\sigma^{-n}\\lvert\\Sigma\\rvert^{-1/2}\\exp(-\\frac{1}{2}[\\frac{1}{\\sigma^{2}}(r^{T}r - 2r^{T}Z\\gamma + \\gamma^{T}Z^{T}Z\\gamma) + \\gamma^{T}\\Sigma^{-1}\\gamma])\\\\\n",
    " &\\propto& \\sigma^{-n}\\lvert\\Sigma\\rvert^{-1/2}\\exp(-\\frac{1}{2}[(\\gamma^{T}(\\sigma^{-2}Z^{T}Z + \\Sigma^{-1})\\gamma - 2\\gamma^{T}(\\sigma^{-2}Z^{T}Z + \\Sigma^{-1})(\\sigma^{-2}Z^{T}Z + \\Sigma^{-1})^{-1}\\frac{Z^{T}r}{\\sigma^{2}}])\\\\\n",
    "\\end{eqnarray*}\n",
    "\n",
    "This implies that $\\gamma\\vert y \\sim N((\\sigma^{-2}Z^{T}Z + \\Sigma^{-1})^{-1}\\frac{Z^{T}r}{\\sigma^{2}}, (\\sigma^{-2}Z^{T}Z + \\Sigma^{-1})^{-1})$. The mean and variance being apparent from the form of this distribution demonstrates what we've set out to prove. $\n",
    "\\square$"
   ]
  },
  {
   "cell_type": "markdown",
   "metadata": {},
   "source": [
    "## Q2. (20 pts) Derive EM algorithm\n",
    "\n",
    "1. Write down the complete log-likelihood\n",
    "$$\n",
    "\\sum_{i=1}^m \\log f(\\mathbf{y}_i, \\boldsymbol{\\gamma}_i \\mid \\boldsymbol{\\beta}, \\boldsymbol{\\Sigma}, \\sigma^2)\n",
    "$$\n",
    "\n",
    "2. Derive the $Q$ function (E-step).\n",
    "$$\n",
    "Q(\\boldsymbol{\\beta}, \\boldsymbol{\\Sigma}, \\sigma^2 \\mid \\boldsymbol{\\beta}^{(t)}, \\boldsymbol{\\Sigma}^{(t)}, \\sigma^{2(t)}).\n",
    "$$\n",
    "\n",
    "3. Derive the EM (or ECM) update of $\\boldsymbol{\\beta}$, $\\boldsymbol{\\Sigma}$, and $\\sigma^2$ (M-step). "
   ]
  },
  {
   "cell_type": "markdown",
   "metadata": {},
   "source": [
    "### Answer\n",
    "\n",
    "1. We begin with the expression for the log-likelihood of a single point:\n",
    "\\begin{eqnarray*}\n",
    "f(y_{i},\\gamma_{i}\\vert \\beta, \\Sigma, \\sigma^{2}) &=& f(y_{i}\\vert \\gamma_{i},\\beta,\\Sigma,\\sigma^{2})f(\\gamma_{i})\\\\\n",
    " &=& (2\\pi)^{-\\frac{n_{i} + q}{2}}\\sigma^{-n_{i}}\\lvert\\Sigma\\rvert^{-1/2}\\exp(-\\frac{1}{2}[\\frac{1}{\\sigma^{2}}(y_{i} - X_{i}\\beta - Z_{i}\\gamma_{i})^{T}(y_{i} - X_{i}\\beta - Z_{i}\\gamma_{i}) + \\gamma_{i}^{T}\\Sigma^{-1}\\gamma_{i}])\\\\\n",
    "\\log f(y_{i},\\gamma_{i}\\vert \\beta, \\Sigma, \\sigma^{2}) &=& -\\frac{n_{i} + q}{2}\\log(2\\pi) - \\frac{n_{i}}{2}\\log\\sigma^{2} - \\frac{1}{2}\\log\\lvert\\Sigma\\rvert -\\frac{1}{2}[\\frac{1}{\\sigma^{2}}(y_{i} - X_{i}\\beta - Z_{i}\\gamma_{i})^{T}(y_{i} - X_{i}\\beta - Z_{i}\\gamma_{i}) + \\gamma_{i}^{T}\\Sigma^{-1}\\gamma_{i}]\n",
    "\\end{eqnarray*}\n",
    "\n",
    "We can simplify the expression more to make it amenable to coding:\n",
    "\n",
    "\\begin{eqnarray*}\n",
    "\\log f(y_{i},\\gamma_{i}\\vert \\beta, \\Sigma, \\sigma^{2}) &=& -\\frac{n_{i} + q}{2}\\log(2\\pi) - \\frac{n_{i}}{2}\\log\\sigma^{2} - \\frac{1}{2}\\log\\lvert\\Sigma\\rvert\\\\\n",
    " && -\\frac{1}{2}[\\sigma^{-2}(y_{i} - X_{i}\\beta)^{T}(y_{i} - X_{i}\\beta) - 2\\sigma^{-2}(y_{i} - X_{i}\\beta)^{T}Z_{i}\\gamma_{i} + \\gamma_{i}^{T}(Z_{i}^{T}Z_{i}\\sigma^{-2} + \\Sigma^{-1})\\gamma_{i}]\\\\\n",
    " &=& -\\frac{n_{i} + q}{2}\\log(2\\pi) - \\frac{n_{i}}{2}\\log\\sigma^{2} - \\frac{1}{2}\\log\\lvert\\Sigma\\rvert\\\\\n",
    " && -\\frac{1}{2}[\\sigma^{-2}(y_{i}^{T}y_{i} - 2\\beta^{T}X_{i}^{T}y_{i} + \\beta^{T}X_{i}^{T}X_{i}\\beta) - 2\\sigma^{-2}(y_{i} - X_{i}\\beta)^{T}Z_{i}\\gamma_{i}\\\\\n",
    " && + \\sigma^{-2}\\gamma_{i}^{T}L^{T,-1}(L^{T}Z_{i}^{T}Z_{i}L + \\sigma^{2}I_{q})L^{-1}\\gamma_{i}]\\\\\n",
    " &=& -\\frac{n_{i} + q}{2}\\log(2\\pi) - \\frac{n_{i}}{2}\\log\\sigma^{2} - \\frac{1}{2}\\log\\lvert\\Sigma\\rvert\\\\\n",
    " && -\\frac{1}{2}[\\sigma^{-2}(y_{i}^{T}y_{i} - 2\\beta^{T}X_{i}^{T}y_{i} + \\beta^{T}X_{i}^{T}X_{i}\\beta) - 2\\sigma^{-2}(y_{i} - X_{i}\\beta)^{T}Z_{i}\\gamma_{i}\\\\\n",
    " && + \\sigma^{-2}\\gamma_{i}^{T}L^{T,-1}M_{i}L^{-1}\\gamma_{i}]\\\\\n",
    "\\end{eqnarray*}\n",
    "\n",
    "where $M_{i} = L^{T}Z_{i}^{T}Z_{i}L + \\sigma^{2}I_{q}$."
   ]
  },
  {
   "cell_type": "markdown",
   "metadata": {},
   "source": [
    "Summing over $i = 1$ to $m$ gets us the complete log-likelihood:\n",
    "\\begin{eqnarray*}\n",
    "\\sum_{i=1}^{m}\\log f(y_{i},\\gamma_{i}\\vert \\beta, \\Sigma, \\sigma^{2}) &=& - \\frac{m}{2}\\log\\lvert\\Sigma\\rvert - \\frac{1}{2}\\sum_{i=1}^{m}[(n_{i} + q)\\log(2\\pi) + n_{i}\\log\\sigma^{2} + \\frac{1}{\\sigma^{2}}(y_{i} - X_{i}\\beta - Z_{i}\\gamma_{i})^{T}(y_{i} - X_{i}\\beta - Z_{i}\\gamma_{i}) + \\gamma_{i}^{T}\\Sigma^{-1}\\gamma_{i}]\\\\\n",
    " &=& -\\frac{m}{2}\\log\\lvert\\Sigma\\rvert - \\frac{1}{2}\\sum_{i=1}^{m}[(n_{i} + q)\\log(2\\pi) + n_{i}\\log\\sigma^{2} + \\frac{1}{\\sigma^{2}}((y_{i} - X_{i}\\beta)^{T}(y_{i} - X_{i}\\beta) - 2(y_{i} - X_{i}\\beta)^{T}Z_{i}\\gamma_{i}) + \\gamma_{i}^{T}(Z^{T}Z\\sigma^{-2} + \\Sigma^{-1})\\gamma_{i}]\\\\\n",
    "\\end{eqnarray*}"
   ]
  },
  {
   "cell_type": "markdown",
   "metadata": {},
   "source": [
    "2. Treat $\\gamma_{i}$ as our missing data. Then our $Q$ function takes the following form:\n",
    "\\begin{eqnarray*}\n",
    "Q(\\beta,\\Sigma,\\sigma^{2}\\vert \\beta^{(t)}, \\Sigma^{(t)}, \\sigma^{2(t)}) &=& \\mathbb{E}[\\sum_{i=1}^{m}\\log f(y_{i},\\gamma_{i}\\vert \\beta, \\Sigma, \\sigma^{2})\\vert y, \\beta^{(T)}, \\Sigma^{(t)}, \\sigma^{2(t)}]\\\\\n",
    " &=& - \\frac{m}{2}\\log\\lvert\\Sigma\\rvert - \\frac{1}{2}\\sum_{i=1}^{m}[(n_{i} + q)\\log(2\\pi) + n_{i}\\log\\sigma^{2} + \\frac{1}{\\sigma^{2}}((y_{i} - X_{i}\\beta)^{T}(y_{i} - X_{i}\\beta)\\\\\n",
    " &&- 2(y_{i} - X_{i}\\beta)^{T}Z_{i}\\mathbb{E}(\\gamma_{i}\\vert y_{i}) + \\mathrm{tr}(\\mathrm{Var}(\\gamma_{i}\\vert y_{i}) + \\mathbb{E}(\\gamma_{i}\\vert y_{i})\\mathbb{E}(\\gamma_{i}\\vert y_{i})^{T})(Z^{T}Z\\sigma^{-2} + \\Sigma^{-1}))]\\\\\n",
    "\\end{eqnarray*}\n",
    "\n"
   ]
  },
  {
   "cell_type": "markdown",
   "metadata": {},
   "source": [
    "3. We take the derivative of $Q$ with respect to each of the three parameters we aim to estimate:\n",
    "\\begin{eqnarray*}\n",
    "\\frac{\\partial Q}{\\partial \\beta} &=& - \\frac{1}{2}\\sum_{i=1}^{m}[\\frac{1}{\\sigma^{2}}(2X_{i}^{T}X_{i}\\beta - 2X_{i}^{T}y + 2X_{i}^{T}Z_{i}(\\sigma^{-2(t)}Z_{i}^{T}Z_{i} + \\Sigma^{-1(t)})^{-1}\\frac{Z^{T}_{i}(y_{i} - X_{i}\\beta^{(t)})}{\\sigma^{2(t)}})] = 0\\\\\n",
    "\\sum_{i=1}^{m}X_{i}^{T}X_{i}\\beta &=& \\sum_{i=1}^{m}[X_{i}^{T}y - X_{i}^{T}Z_{i}(\\sigma^{-2(t)}Z_{i}^{T}Z_{i} + \\Sigma^{-1(t)})^{-1}\\frac{Z^{T}_{i}(y_{i} - X_{i}\\beta^{(t)})}{\\sigma^{2(t)}})]\\\\\n",
    "\\beta^{(t+1)} &=& \\left[\\sum_{i=1}^{m}X_{i}^{T}X_{i}\\right]^{-1}\\left[\\sum_{i=1}^{m}[X_{i}^{T}y - X_{i}^{T}Z_{i}\\mathbb{E}(\\gamma_{i}\\vert y_{i})]\\right]\\\\\n",
    "\\end{eqnarray*}\n",
    "\n",
    "We use the matrix differential operator $D$ described in Dr. Hua Zhou's BIOSTAT 216 course in 2019 to acquire $\\Sigma^{t+1}$:\n",
    "\\begin{eqnarray*}\n",
    "D_{\\Sigma}(Q) &=& -\\frac{m}{2}D_{\\Sigma}\\log\\lvert\\Sigma\\rvert - \\frac{1}{2}\\sum_{i=1}^{m}[(D_{\\Sigma}\\mathrm{tr}((\\mathrm{Var}(\\gamma_{i}\\vert y_{i}) + \\mathbb{E}(\\gamma_{i}\\vert y_{i})\\mathbb{E}(\\gamma_{i}\\vert y_{i})^{T})(Z^{T}Z\\sigma^{-2} + \\Sigma^{-1}))]\\\\\n",
    " &=& -\\frac{m}{2\\lvert\\Sigma\\rvert}(\\mathrm{vec}(\\lvert\\Sigma\\rvert\\Sigma^{-1}))^{T} - \\frac{1}{2}\\sum_{i=1}^{m}\\left[\\mathrm{vec}(\\mathrm{Var}(\\gamma_{i}\\vert y_{i}) + \\mathbb{E}(\\gamma_{i}\\vert y_{i})\\mathbb{E}(\\gamma_{i}\\vert y_{i})^{T})^{T}D_{\\Sigma}(Z^{T}Z\\sigma^{-2} + \\Sigma^{-1})\\right]\\\\\n",
    " &=& -\\frac{m}{2}(\\mathrm{vec}(\\Sigma^{-1}))^{T} - \\frac{1}{2}\\sum_{i=1}^{m}\\left[\\mathrm{vec}(\\mathrm{Var}(\\gamma_{i}\\vert y_{i}) + \\mathbb{E}(\\gamma_{i}\\vert y_{i})\\mathbb{E}(\\gamma_{i}\\vert y_{i})^{T})^{T}(-\\Sigma^{-1} \\otimes \\Sigma^{-1})\\right]\\\\\n",
    " &=& -\\frac{m}{2}(\\mathrm{vec}(\\Sigma^{-1}))^{T} + \\frac{1}{2}\\sum_{i=1}^{m}\\left[\\mathrm{vec}(\\Sigma^{-1}(\\mathrm{Var}(\\gamma_{i}\\vert y_{i}) + \\mathbb{E}(\\gamma_{i}\\vert y_{i})\\mathbb{E}(\\gamma_{i}\\vert y_{i})^{T})\\Sigma^{-1})^{T}\\right] = 0\\\\\n",
    "\\end{eqnarray*}\n",
    "\n",
    "Since this equality holds for the vectorization of the expression, we can set the insides of the vectorization to zero as well:\n",
    "\n",
    "\\begin{eqnarray*}\n",
    "-\\frac{m}{2}\\Sigma^{-1} + \\frac{1}{2}\\sum_{i=1}^{m}\\Sigma^{-1}(\\mathrm{Var}(\\gamma_{i}\\vert y_{i}) + \\mathbb{E}(\\gamma_{i}\\vert y_{i})\\mathbb{E}(\\gamma_{i}\\vert y_{i})^{T})\\Sigma^{-1} &=& 0\\\\\n",
    "-mI_{q} + \\sum_{i=1}^{m}\\Sigma^{-1}(\\mathrm{Var}(\\gamma_{i}\\vert y_{i}) + \\mathbb{E}(\\gamma_{i}\\vert y_{i})\\mathbb{E}(\\gamma_{i}\\vert y_{i})^{T}) &=& 0\\\\\n",
    "\\Sigma^{(t+1)} &=& \\frac{1}{m}\\sum_{i=1}^{m}(\\mathrm{Var}(\\gamma_{i}\\vert y_{i}) + \\mathbb{E}(\\gamma_{i}\\vert y_{i})\\mathbb{E}(\\gamma_{i}\\vert y_{i})^{T})\n",
    "\\end{eqnarray*}\n",
    "\n",
    "Finally, we differentiate by $\\sigma^{2}$:\n",
    "\\begin{eqnarray*}\n",
    "\\frac{\\partial Q}{\\partial \\sigma^{2}} &=& - \\frac{1}{2}\\sum_{i=1}^{m}[\\frac{n_{i}}{\\sigma^{2}} -\\frac{1}{\\sigma^{4}}((y_{i} - X_{i}\\beta)^{T}(y_{i} - X_{i}\\beta) - 2(y_{i} - X_{i}\\beta)^{T}Z_{i}(\\sigma^{-2(t)}Z_{i}^{T}Z_{i} + \\Sigma^{-1(t)})^{-1}\\frac{Z^{T}_{i}(y_{i} - X_{i}\\beta^{(t)})}{\\sigma^{2(t)}})\\\\\n",
    "&&- \\sigma^{-4}\\mathrm{tr}((\\sigma^{-2(t)}Z_{i}^{T}Z_{i} + \\Sigma^{-1(t)})^{-1}(Z_{i}^{T}Z_{i}))] = 0\\\\\n",
    "\\sigma^{2(t+1)} &=&  \\frac{1}{\\sum_{i=1}^{m}n_{i}}\\sum_{i=1}^{m}[(y_{i} - X_{i}\\beta)(y_{i} - X_{i}\\beta) - \\frac{2}{\\sigma^{2(t)}}(y_{i} - X_{i}\\beta)^{T}Z_{i}(\\sigma^{-2(t)}Z_{i}^{T}Z_{i} + \\Sigma^{-1(t)})^{-1}Z^{T}_{i}(y_{i} - X_{i}\\beta^{(t)}) + \\mathrm{tr}((\\sigma^{-2(t)}Z_{i}^{T}Z_{i} + \\Sigma^{-1(t)})^{-1}(Z_{i}^{T}Z_{i}))]\n",
    "\\end{eqnarray*}\n",
    "\n",
    "(A careless mistake caught and more efficient notation revised with help from Kelly Li.)"
   ]
  },
  {
   "cell_type": "markdown",
   "metadata": {},
   "source": [
    "## Q3. (20 pts) Objective of a single datum\n",
    "\n",
    "We modify the code from HW5 to evaluate the objective, the conditional mean of $\\boldsymbol{\\gamma}$, and the conditional variance of $\\boldsymbol{\\gamma}$. Start-up code is provided below. You do _not_ have to use this code."
   ]
  },
  {
   "cell_type": "code",
   "execution_count": 3,
   "metadata": {},
   "outputs": [
    {
     "data": {
      "text/plain": [
       "logl!"
      ]
     },
     "execution_count": 3,
     "metadata": {},
     "output_type": "execute_result"
    }
   ],
   "source": [
    "# define a type that holds an LMM datum\n",
    "struct LmmObs{T <: AbstractFloat}\n",
    "    # data\n",
    "    y          :: Vector{T}\n",
    "    X          :: Matrix{T}\n",
    "    Z          :: Matrix{T}\n",
    "    # posterior mean and variance of random effects γ\n",
    "    μγ         :: Vector{T} # posterior mean of random effects\n",
    "    νγ         :: Matrix{T} # posterior variance of random effects\n",
    "    # TODO: add whatever intermediate arrays you may want to pre-allocate\n",
    "    yty        :: T\n",
    "    rtr        :: Vector{T}\n",
    "    xty        :: Vector{T}\n",
    "    zty        :: Vector{T}\n",
    "    ztr        :: Vector{T}\n",
    "    ltztr      :: Vector{T}\n",
    "    xtr        :: Vector{T}\n",
    "    storage_p  :: Vector{T}\n",
    "    storage_q  :: Vector{T}\n",
    "    xtx        :: Matrix{T}\n",
    "    ztx        :: Matrix{T}\n",
    "    ztz        :: Matrix{T}\n",
    "    ltztzl     :: Matrix{T}\n",
    "    storage_qq :: Matrix{T}\n",
    "end\n",
    "\n",
    "\"\"\"\n",
    "    LmmObs(y::Vector, X::Matrix, Z::Matrix)\n",
    "\n",
    "Create an LMM datum of type `LmmObs`.\n",
    "\"\"\"\n",
    "function LmmObs(\n",
    "    y::Vector{T}, \n",
    "    X::Matrix{T}, \n",
    "    Z::Matrix{T}) where T <: AbstractFloat\n",
    "    n, p, q = size(X, 1), size(X, 2), size(Z, 2)\n",
    "    μγ         = Vector{T}(undef, q)\n",
    "    νγ         = Matrix{T}(undef, q, q)\n",
    "    yty        = abs2(norm(y))\n",
    "    rtr        = Vector{T}(undef, 1)\n",
    "    xty        = transpose(X) * y\n",
    "    zty        = transpose(Z) * y\n",
    "    ztr        = similar(zty)\n",
    "    ltztr      = similar(zty)\n",
    "    xtr        = Vector{T}(undef, p)\n",
    "    storage_p  = similar(xtr)\n",
    "    storage_q  = Vector{T}(undef, q)\n",
    "    xtx        = transpose(X) * X\n",
    "    ztx        = transpose(Z) * X\n",
    "    ztz        = transpose(Z) * Z\n",
    "    ltztzl     = similar(ztz)\n",
    "    storage_qq = similar(ztz)\n",
    "    LmmObs(y, X, Z, μγ, νγ, \n",
    "        yty, rtr, xty, zty, ztr, ltztr, xtr,\n",
    "        storage_p, storage_q, \n",
    "        xtx, ztx, ztz, ltztzl, storage_qq)\n",
    "end\n",
    "\n",
    "\"\"\"\n",
    "    logl!(obs::LmmObs, β, Σ, L, σ², updater = false)\n",
    "\n",
    "Evaluate the log-likelihood of a single LMM datum at parameter values `β`, `Σ`, \n",
    "and `σ²`. The lower triangular Cholesky factor `L` of `Σ` must be supplied too.\n",
    "The fields `obs.μγ` and `obs.νγ` are overwritten by the posterior mean and \n",
    "posterior variance of random effects. If `updater==true`, fields `obs.ztr`, \n",
    "`obs.xtr`, and `obs.rtr` are updated according to input parameter values. \n",
    "Otherwise, it assumes these three fields are pre-computed. \n",
    "\"\"\"\n",
    "function logl!(\n",
    "        obs     :: LmmObs{T}, \n",
    "        β       :: Vector{T}, \n",
    "        Σ       :: Matrix{T},\n",
    "        L       :: Matrix{T},\n",
    "        σ²      :: T,\n",
    "        updater :: Bool = false\n",
    "        ) where T <: AbstractFloat\n",
    "    n, p, q = size(obs.X, 1), size(obs.X, 2), size(obs.Z, 2)\n",
    "    σ²inv   = inv(σ²)\n",
    "    ####################\n",
    "    # Evaluate objective\n",
    "    ####################\n",
    "    # form the q-by-q matrix: Lt Zt Z L\n",
    "    copy!(obs.ltztzl, obs.ztz)\n",
    "    BLAS.trmm!('L', 'L', 'T', 'N', T(1), L, obs.ltztzl) # O(q^3)\n",
    "    BLAS.trmm!('R', 'L', 'N', 'N', T(1), L, obs.ltztzl) # O(q^3)        \n",
    "    # form the q-by-q matrix: M = σ² I + Lt Zt Z L\n",
    "    copy!(obs.storage_qq, obs.ltztzl)\n",
    "    @inbounds for j in 1:q\n",
    "        obs.storage_qq[j, j] += σ²\n",
    "    end\n",
    "    LAPACK.potrf!('U', obs.storage_qq) # O(q^3)\n",
    "    # Zt * res\n",
    "    updater && BLAS.gemv!('N', T(-1), obs.ztx, β, T(1), copy!(obs.ztr, obs.zty)) # O(pq)\n",
    "    # Lt * (Zt * res)\n",
    "    BLAS.trmv!('L', 'T', 'N', L, copy!(obs.ltztr, obs.ztr))    # O(q^2)\n",
    "    # storage_q = (Mchol.U') \\ (Lt * (Zt * res))\n",
    "    BLAS.trsv!('U', 'T', 'N', obs.storage_qq, copy!(obs.storage_q, obs.ltztr)) # O(q^3)\n",
    "    # Xt * res = Xt * y - Xt * X * β\n",
    "    updater && BLAS.gemv!('N', T(-1), obs.xtx, β, T(1), copy!(obs.xtr, obs.xty))\n",
    "    # l2 norm of residual vector\n",
    "    updater && (obs.rtr[1] = obs.yty - dot(obs.xty, β) - dot(obs.xtr, β))\n",
    "    # assemble pieces\n",
    "    logl::T = n * log(2π) + (n - q) * log(σ²) # constant term\n",
    "    @inbounds for j in 1:q # log det term\n",
    "        logl += 2log(obs.storage_qq[j, j])\n",
    "    end\n",
    "    qf    = abs2(norm(obs.storage_q)) # quadratic form term\n",
    "    logl += (obs.rtr[1] - qf) * σ²inv \n",
    "    logl /= -2\n",
    "    ######################################\n",
    "    # Evaluate posterior mean and variance\n",
    "    ######################################   \n",
    "    # posterior mean\n",
    "    copy!(obs.μγ, obs.ltztr)\n",
    "    LAPACK.potrs!('U', obs.storage_qq, obs.μγ)\n",
    "    BLAS.trmv!('L', 'N', 'N', L, obs.μγ)\n",
    "    \n",
    "    # posterior variance\n",
    "    copy!(obs.νγ, transpose(L))\n",
    "    LAPACK.potrs!('U', obs.storage_qq, obs.νγ)\n",
    "    BLAS.trmm!('L', 'L', 'N', 'N', one(T), L, obs.νγ)\n",
    "    obs.νγ .*= σ²\n",
    "    \n",
    "    ###################\n",
    "    # Return\n",
    "    ###################        \n",
    "    return logl\n",
    "end\n"
   ]
  },
  {
   "cell_type": "markdown",
   "metadata": {},
   "source": [
    "It is a good idea to test correctness and efficiency of the single datum objective/posterior mean/var evaluator here. It's the same test datum in HW3 and HW5."
   ]
  },
  {
   "cell_type": "code",
   "execution_count": 4,
   "metadata": {},
   "outputs": [],
   "source": [
    "Random.seed!(257)\n",
    "# dimension\n",
    "n, p, q = 2000, 5, 3\n",
    "# predictors\n",
    "X = [ones(n) randn(n, p - 1)]\n",
    "Z = [ones(n) randn(n, q - 1)]\n",
    "# parameter values\n",
    "β  = [2.0; -1.0; rand(p - 2)]\n",
    "σ² = 1.5\n",
    "Σ  = fill(0.1, q, q) + 0.9I # compound symmetry \n",
    "L  = Matrix(cholesky(Symmetric(Σ)).L)\n",
    "# generate y\n",
    "y  = X * β + Z * rand(MvNormal(Σ)) + sqrt(σ²) * randn(n)\n",
    "\n",
    "# form the LmmObs object\n",
    "obs = LmmObs(y, X, Z);"
   ]
  },
  {
   "cell_type": "markdown",
   "metadata": {},
   "source": [
    "### Correctness"
   ]
  },
  {
   "cell_type": "code",
   "execution_count": 5,
   "metadata": {},
   "outputs": [
    {
     "name": "stdout",
     "output_type": "stream",
     "text": [
      "logl = logl!(obs, β, Σ, L, σ², true) = -3256.1793358058258\n",
      "obs.μγ = [0.10608689301332817, -0.2510419060257254, -1.4653979409850375]\n",
      "obs.νγ = [0.0007494356395786613 -1.2183420464422381e-6 -2.176783682941727e-6; -1.2183420464422335e-6 0.0007542331466357766 2.1553464612468783e-5; -2.1767836829417363e-6 2.1553464612468773e-5 0.000746527134491723]\n"
     ]
    }
   ],
   "source": [
    "@show logl = logl!(obs, β, Σ, L, σ², true)\n",
    "@show obs.μγ\n",
    "@show obs.νγ;"
   ]
  },
  {
   "cell_type": "markdown",
   "metadata": {},
   "source": [
    "You will lose all 20 points if following statement throws `AssertionError`."
   ]
  },
  {
   "cell_type": "code",
   "execution_count": 6,
   "metadata": {},
   "outputs": [],
   "source": [
    "@assert abs(logl - (-3256.1793358058258)) < 1e-4\n",
    "@assert norm(obs.μγ - [0.10608689301333621, \n",
    "        -0.25104190602577225, -1.4653979409855415]) < 1e-4\n",
    "@assert norm(obs.νγ - [\n",
    "        0.0007494356395909563 -1.2183420093769967e-6 -2.176783643112221e-6; \n",
    "        -1.2183420282298223e-6 0.0007542331467601107 2.1553464632686345e-5; \n",
    "        -2.1767836636008638e-6 2.1553464641863096e-5 0.0007465271342535443\n",
    "        ]) < 1e-4"
   ]
  },
  {
   "cell_type": "markdown",
   "metadata": {},
   "source": [
    "### Efficiency"
   ]
  },
  {
   "cell_type": "markdown",
   "metadata": {},
   "source": [
    "Benchmark for efficiency."
   ]
  },
  {
   "cell_type": "code",
   "execution_count": 7,
   "metadata": {},
   "outputs": [
    {
     "data": {
      "text/plain": [
       "BenchmarkTools.Trial: 10000 samples with 10 evaluations.\n",
       " Range \u001b[90m(\u001b[39m\u001b[36m\u001b[1mmin\u001b[22m\u001b[39m … \u001b[35mmax\u001b[39m\u001b[90m):  \u001b[39m\u001b[36m\u001b[1m1.666 μs\u001b[22m\u001b[39m … \u001b[35m 11.433 μs\u001b[39m  \u001b[90m┊\u001b[39m GC \u001b[90m(\u001b[39mmin … max\u001b[90m): \u001b[39m0.00% … 0.00%\n",
       " Time  \u001b[90m(\u001b[39m\u001b[34m\u001b[1mmedian\u001b[22m\u001b[39m\u001b[90m):     \u001b[39m\u001b[34m\u001b[1m1.708 μs               \u001b[22m\u001b[39m\u001b[90m┊\u001b[39m GC \u001b[90m(\u001b[39mmedian\u001b[90m):    \u001b[39m0.00%\n",
       " Time  \u001b[90m(\u001b[39m\u001b[32m\u001b[1mmean\u001b[22m\u001b[39m ± \u001b[32mσ\u001b[39m\u001b[90m):   \u001b[39m\u001b[32m\u001b[1m1.791 μs\u001b[22m\u001b[39m ± \u001b[32m462.588 ns\u001b[39m  \u001b[90m┊\u001b[39m GC \u001b[90m(\u001b[39mmean ± σ\u001b[90m):  \u001b[39m0.00% ± 0.00%\n",
       "\n",
       "  \u001b[39m█\u001b[34m█\u001b[39m\u001b[39m▅\u001b[32m \u001b[39m\u001b[39m▁\u001b[39m▂\u001b[39m▂\u001b[39m \u001b[39m▁\u001b[39m \u001b[39m \u001b[39m \u001b[39m \u001b[39m \u001b[39m \u001b[39m \u001b[39m \u001b[39m \u001b[39m \u001b[39m \u001b[39m \u001b[39m \u001b[39m \u001b[39m \u001b[39m \u001b[39m \u001b[39m \u001b[39m \u001b[39m \u001b[39m \u001b[39m \u001b[39m \u001b[39m \u001b[39m \u001b[39m \u001b[39m \u001b[39m \u001b[39m \u001b[39m \u001b[39m \u001b[39m \u001b[39m \u001b[39m \u001b[39m \u001b[39m \u001b[39m \u001b[39m \u001b[39m \u001b[39m \u001b[39m \u001b[39m \u001b[39m \u001b[39m \u001b[39m \u001b[39m \u001b[39m \u001b[39m \u001b[39m \u001b[39m \u001b[39m \u001b[39m▂\n",
       "  \u001b[39m█\u001b[34m█\u001b[39m\u001b[39m█\u001b[32m█\u001b[39m\u001b[39m█\u001b[39m█\u001b[39m█\u001b[39m█\u001b[39m█\u001b[39m▅\u001b[39m▅\u001b[39m▄\u001b[39m▁\u001b[39m▄\u001b[39m▃\u001b[39m▄\u001b[39m▁\u001b[39m▃\u001b[39m▁\u001b[39m▃\u001b[39m▁\u001b[39m▃\u001b[39m▁\u001b[39m▁\u001b[39m▁\u001b[39m▃\u001b[39m▁\u001b[39m▁\u001b[39m▃\u001b[39m▁\u001b[39m▁\u001b[39m▁\u001b[39m▁\u001b[39m▁\u001b[39m▃\u001b[39m▄\u001b[39m▁\u001b[39m▃\u001b[39m▃\u001b[39m▅\u001b[39m▇\u001b[39m▇\u001b[39m▆\u001b[39m▇\u001b[39m▄\u001b[39m▅\u001b[39m▆\u001b[39m▇\u001b[39m▆\u001b[39m▇\u001b[39m▆\u001b[39m▄\u001b[39m▃\u001b[39m▅\u001b[39m▄\u001b[39m▁\u001b[39m▄\u001b[39m▃\u001b[39m▄\u001b[39m \u001b[39m█\n",
       "  1.67 μs\u001b[90m      \u001b[39m\u001b[90mHistogram: \u001b[39m\u001b[90m\u001b[1mlog(\u001b[22m\u001b[39m\u001b[90mfrequency\u001b[39m\u001b[90m\u001b[1m)\u001b[22m\u001b[39m\u001b[90m by time\u001b[39m      4.07 μs \u001b[0m\u001b[1m<\u001b[22m\n",
       "\n",
       " Memory estimate\u001b[90m: \u001b[39m\u001b[33m0 bytes\u001b[39m, allocs estimate\u001b[90m: \u001b[39m\u001b[33m0\u001b[39m."
      ]
     },
     "execution_count": 7,
     "metadata": {},
     "output_type": "execute_result"
    }
   ],
   "source": [
    "bm_obj = @benchmark logl!($obs, $β, $Σ, $L, $σ², true)"
   ]
  },
  {
   "cell_type": "markdown",
   "metadata": {},
   "source": [
    "My median runt time is 1.8μs. You will get full credit if the median run time is within 10μs. The points you will get are"
   ]
  },
  {
   "cell_type": "code",
   "execution_count": 8,
   "metadata": {},
   "outputs": [
    {
     "data": {
      "text/plain": [
       "10.0"
      ]
     },
     "execution_count": 8,
     "metadata": {},
     "output_type": "execute_result"
    }
   ],
   "source": [
    "clamp(10 / (median(bm_obj).time / 1e3) * 10, 0, 10)"
   ]
  },
  {
   "cell_type": "code",
   "execution_count": 9,
   "metadata": {},
   "outputs": [],
   "source": [
    "# # check for type stability\n",
    "# @code_warntype logl!(obs, β, Σ, L, σ²)"
   ]
  },
  {
   "cell_type": "code",
   "execution_count": 10,
   "metadata": {},
   "outputs": [],
   "source": [
    "# using Profile\n",
    "\n",
    "# Profile.clear()\n",
    "# @profile for i in 1:10000; logl!(obs, β, Σ, L, σ²); end\n",
    "# Profile.print(format=:flat)"
   ]
  },
  {
   "cell_type": "markdown",
   "metadata": {},
   "source": [
    "## Q4. LmmModel type\n",
    "\n",
    "We modify the `LmmModel` type in HW4 to hold all data points, model parameters, and intermediate arrays."
   ]
  },
  {
   "cell_type": "code",
   "execution_count": 11,
   "metadata": {},
   "outputs": [
    {
     "data": {
      "text/plain": [
       "LmmModel"
      ]
     },
     "execution_count": 11,
     "metadata": {},
     "output_type": "execute_result"
    }
   ],
   "source": [
    "# define a type that holds LMM model (data + parameters)\n",
    "struct LmmModel{T <: AbstractFloat}\n",
    "    # data\n",
    "    data :: Vector{LmmObs{T}}\n",
    "    # parameters\n",
    "    β      :: Vector{T}\n",
    "    Σ      :: Matrix{T}\n",
    "    L      :: Matrix{T}\n",
    "    σ²     :: Vector{T}    \n",
    "    # TODO: add whatever intermediate arrays you may want to pre-allocate\n",
    "    xty    :: Vector{T}\n",
    "    xtr    :: Vector{T}\n",
    "    ztr2   :: Vector{T}\n",
    "    xtxinv :: Matrix{T}\n",
    "    ztz2   :: Matrix{T}\n",
    "    storage_p :: Vector{T}\n",
    "    storage_qq :: Matrix{T}\n",
    "end\n",
    "\n",
    "\"\"\"\n",
    "    LmmModel(data::Vector{LmmObs})\n",
    "\n",
    "Create an LMM model that contains data and parameters.\n",
    "\"\"\"\n",
    "function LmmModel(obsvec::Vector{LmmObs{T}}) where T <: AbstractFloat\n",
    "    # dims\n",
    "    p      = size(obsvec[1].X, 2)\n",
    "    q      = size(obsvec[1].Z, 2)\n",
    "    # parameters\n",
    "    β      = Vector{T}(undef, p)\n",
    "    Σ      = Matrix{T}(undef, q, q)\n",
    "    L      = Matrix{T}(undef, q, q)\n",
    "    σ²     = Vector{T}(undef, 1)    \n",
    "    # intermediate arrays\n",
    "    xty    = zeros(T, p)\n",
    "    xtr    = similar(xty)\n",
    "    ztr2   = Vector{T}(undef, abs2(q))\n",
    "    xtxinv = zeros(T, p, p)\n",
    "    # pre-calculate \\sum_i Xi^T Xi and \\sum_i Xi^T y_i\n",
    "    @inbounds for i in eachindex(obsvec)\n",
    "        obs = obsvec[i]\n",
    "        BLAS.axpy!(T(1), obs.xtx, xtxinv)\n",
    "        BLAS.axpy!(T(1), obs.xty, xty)\n",
    "    end\n",
    "    # invert X'X\n",
    "    LAPACK.potrf!('U', xtxinv)\n",
    "    LAPACK.potri!('U', xtxinv)\n",
    "    LinearAlgebra.copytri!(xtxinv, 'U')\n",
    "    ztz2   = Matrix{T}(undef, abs2(q), abs2(q))\n",
    "    storage_p = Vector{T}(undef, p)\n",
    "    storage_qq = Matrix{T}(undef, q, q)\n",
    "    LmmModel(obsvec, β, Σ, L, σ², xty, xtr, ztr2, xtxinv, ztz2, \n",
    "        storage_p, storage_qq)\n",
    "end"
   ]
  },
  {
   "cell_type": "markdown",
   "metadata": {},
   "source": [
    "## Q5. Implement EM update\n",
    "\n",
    "Let's write the key function `update_em!` that performs one iteration of EM update."
   ]
  },
  {
   "cell_type": "code",
   "execution_count": 12,
   "metadata": {},
   "outputs": [
    {
     "data": {
      "text/plain": [
       "update_em!"
      ]
     },
     "execution_count": 12,
     "metadata": {},
     "output_type": "execute_result"
    }
   ],
   "source": [
    "\"\"\"\n",
    "    update_em!(m::LmmModel, updater::Bool = false)\n",
    "\n",
    "Perform one iteration of EM update. It returns the log-likelihood calculated \n",
    "from input `m.β`, `m.Σ`, `m.L`, and `m.σ²`. These fields are then overwritten \n",
    "by the next EM iterate. The fields `m.data[i].xtr`, `m.data[i].ztr`, and \n",
    "`m.data[i].rtr` are updated according to the resultant `m.β`. If `updater==true`, \n",
    "the function first updates `m.data[i].xtr`, `m.data[i].ztr`, and \n",
    "`m.data[i].rtr` according to `m.β`. If `updater==false`, it assumes these fields \n",
    "are pre-computed.\n",
    "\"\"\"\n",
    "function update_em!(m::LmmModel{T}, updater::Bool = false) where T <: AbstractFloat\n",
    "    logl = zero(T)\n",
    "    fill!(m.storage_p, 0)\n",
    "    @inbounds for i in eachindex(m.data)\n",
    "        obs = m.data[i]\n",
    "        # initialize stored values. Is this necessary???\n",
    "        logl += logl!(obs, m.β, m.Σ, m.L, m.σ²[1], updater)\n",
    "    \n",
    "        # update m.β relevant figures\n",
    "        BLAS.gemv!('T', -one(T), obs.ztx, obs.μγ, one(T), copy!(obs.storage_p, obs.xty))\n",
    "        m.storage_p .+= obs.storage_p\n",
    "    end\n",
    "    \n",
    "    # update m.β\n",
    "    mul!(m.β, m.xtxinv, m.storage_p)\n",
    "    \n",
    "    if updater\n",
    "        # update m.data[i].ztr, m.data[i].xtr, m.data[i].rtr\n",
    "        @inbounds for i in eachindex(m.data)\n",
    "            obs = m.data[i]\n",
    "            BLAS.gemv!('N', -one(T), obs.ztx, m.β, one(T), copy!(obs.ztr, obs.zty))\n",
    "            BLAS.gemv!('N', -one(T), obs.xtx, m.β, one(T), copy!(obs.xtr, obs.xty))\n",
    "            obs.rtr[1] = obs.yty - 2 * dot(m.β, obs.xty) + dot(m.β, obs.xtx, m.β)\n",
    "#            BLAS.trmv!('L', 'T', 'N', m.L, copy!(obs.ltztr, obs.ztr))\n",
    "            # update other terms as well???\n",
    "            #logl!(obs, m.β, m.Σ, m.L, m.σ²[1], updater)\n",
    "        end\n",
    "    end\n",
    "    \n",
    "    fill!(m.storage_qq, 0)\n",
    "    s2 = 0\n",
    "    nsum = 0\n",
    "    @inbounds for i in eachindex(m.data)\n",
    "        obs = m.data[i]\n",
    "        # update m.σ² constants\n",
    "        # acquire M⁻¹\n",
    "        #TODO: debug?\n",
    "        LAPACK.potri!('U', obs.storage_qq)\n",
    "        # aggregate figures\n",
    "        rtr_new = obs.yty - 2 * dot(m.β, obs.xty) + dot(m.β, obs.xtx, m.β)\n",
    "        # Zi'ri. Update with new β to mirror our expression.\n",
    "        BLAS.gemv!('N', -one(T), obs.ztx, m.β, one(T), copy!(obs.storage_q, obs.zty))\n",
    "#        BLAS.trmv!('L', 'T', 'N', m.L, obs.storage_q)\n",
    "#        BLAS.trmm!('L', 'L', 'N', 'N', one(T), m.L, obs.storage_qq)\n",
    "#        BLAS.trmm!('R', 'L', 'T', 'N', one(T), m.L, obs.storage_qq)\n",
    "        \n",
    "        s2 += rtr_new - 2 * dot(obs.storage_q, obs.μγ) +\n",
    "            dot(obs.νγ, obs.ztz) + dot(obs.μγ, obs.ztz, obs.μγ)\n",
    "        nsum += length(obs.y)\n",
    "    \n",
    "        # update m.Σ and m.L\n",
    "        m.storage_qq .+= obs.νγ\n",
    "        BLAS.syrk!('U', 'N', one(T), obs.μγ, one(T), m.storage_qq)\n",
    "    end\n",
    "    \n",
    "    m.σ² .= s2 / nsum\n",
    "    \n",
    "    copytri!(m.storage_qq, 'U')\n",
    "    copy!(m.Σ, m.storage_qq)\n",
    "    m.Σ ./= length(m.data)\n",
    "    copy!(m.L, m.Σ)\n",
    "    LAPACK.potrf!('L', m.L)\n",
    "    q = size(m.Σ, 1)\n",
    "    for i in 1:(q-1)\n",
    "        for j in (i + 1):q\n",
    "            m.L[i, j] = 0\n",
    "        end\n",
    "    end\n",
    "        \n",
    "    # return log-likelihood at input parameter values\n",
    "    logl\n",
    "end"
   ]
  },
  {
   "cell_type": "markdown",
   "metadata": {},
   "source": [
    "## Q6. (30 pts) Test data\n",
    "\n",
    "Let's generate a fake longitudinal data set (same as HW4) to test our algorithm."
   ]
  },
  {
   "cell_type": "code",
   "execution_count": 13,
   "metadata": {},
   "outputs": [],
   "source": [
    "Random.seed!(257)\n",
    "\n",
    "# dimension\n",
    "m      = 1000 # number of individuals\n",
    "ns     = rand(1500:2000, m) # numbers of observations per individual\n",
    "p      = 5 # number of fixed effects, including intercept\n",
    "q      = 3 # number of random effects, including intercept\n",
    "obsvec = Vector{LmmObs{Float64}}(undef, m)\n",
    "# true parameter values\n",
    "βtrue  = [0.1; 6.5; -3.5; 1.0; 5]\n",
    "σ²true = 1.5\n",
    "σtrue  = sqrt(σ²true)\n",
    "Σtrue  = Matrix(Diagonal([2.0; 1.2; 1.0]))\n",
    "Ltrue  = Matrix(cholesky(Symmetric(Σtrue)).L)\n",
    "# generate data\n",
    "for i in 1:m\n",
    "    # first column intercept, remaining entries iid std normal\n",
    "    X = Matrix{Float64}(undef, ns[i], p)\n",
    "    X[:, 1] .= 1\n",
    "    @views Distributions.rand!(Normal(), X[:, 2:p])\n",
    "    # first column intercept, remaining entries iid std normal\n",
    "    Z = Matrix{Float64}(undef, ns[i], q)\n",
    "    Z[:, 1] .= 1\n",
    "    @views Distributions.rand!(Normal(), Z[:, 2:q])\n",
    "    # generate y\n",
    "    y = X * βtrue .+ Z * (Ltrue * randn(q)) .+ σtrue * randn(ns[i])\n",
    "    # form a LmmObs instance\n",
    "    obsvec[i] = LmmObs(y, X, Z)\n",
    "end\n",
    "# form a LmmModel instance\n",
    "lmm = LmmModel(obsvec);"
   ]
  },
  {
   "cell_type": "markdown",
   "metadata": {},
   "source": [
    "### Correctness\n",
    "\n",
    "Evaluate log-likelihood and gradient at the true parameter values."
   ]
  },
  {
   "cell_type": "code",
   "execution_count": 14,
   "metadata": {},
   "outputs": [
    {
     "name": "stdout",
     "output_type": "stream",
     "text": [
      "obj1 = update_em!(lmm, true) = -2.840068438369969e6\n",
      "lmm.β = [0.10003613673625025, 6.500382871080186, -3.4998646342112356, 0.9997124657606635, 4.999230851463537]\n",
      "lmm.Σ = [1.9903882760455245 0.06862095707037451 0.05347290179472648; 0.06862095707037451 1.2813220461216892 -0.09044913324906331; 0.05347290179472648 -0.09044913324906331 0.9435400745724167]\n",
      "lmm.L = [1.410811212049835 0.0 0.0; 0.04863936186803607 1.1309094829378519 0.0; 0.03790223761904553 -0.08160924927472397 0.9671832429217858]\n",
      "lmm.σ² = [1.4987367279243653]\n",
      "\n",
      "obj2 = update_em!(lmm, false) = -2.84006046054206e6\n",
      "lmm.β = [0.10007136571174438, 6.500383550631524, -3.4998642980415418, 0.9997119269497654, 4.999229480978786]\n",
      "lmm.Σ = [1.990377538078367 0.06870107683947124 0.053543517504439274; 0.06870107683947124 1.2814409213711735 -0.09059223997463767; 0.053543517504439274 -0.09059223997463767 0.9434431688085722]\n",
      "lmm.L = [1.4108074064443974 0.0 0.0; 0.0486962830827603 1.1309595896339961 0.0; 0.037952393260666885 -0.08173623647370382 0.9671204538740118]\n",
      "lmm.σ² = [1.4987345544160287]\n"
     ]
    },
    {
     "data": {
      "text/plain": [
       "1-element Vector{Float64}:\n",
       " 1.4987345544160287"
      ]
     },
     "execution_count": 14,
     "metadata": {},
     "output_type": "execute_result"
    }
   ],
   "source": [
    "copy!(lmm.β, βtrue)\n",
    "copy!(lmm.Σ, Σtrue)\n",
    "copy!(lmm.L, Ltrue)\n",
    "lmm.σ²[1] = σ²true\n",
    "@show obj1 = update_em!(lmm, true)\n",
    "@show lmm.β\n",
    "@show lmm.Σ\n",
    "@show lmm.L\n",
    "@show lmm.σ²\n",
    "println()\n",
    "@show obj2 = update_em!(lmm, false)\n",
    "@show lmm.β\n",
    "@show lmm.Σ\n",
    "@show lmm.L\n",
    "@show lmm.σ²"
   ]
  },
  {
   "cell_type": "markdown",
   "metadata": {},
   "source": [
    "Test correctness. You will loss all 30 points if following code throws `AssertError`."
   ]
  },
  {
   "cell_type": "code",
   "execution_count": 15,
   "metadata": {},
   "outputs": [],
   "source": [
    "@assert abs(obj1 - (-2.840068438369969e6)) < 1e-4\n",
    "@assert abs(obj2 - (-2.84006046054206e6)) < 1e-4"
   ]
  },
  {
   "cell_type": "markdown",
   "metadata": {},
   "source": [
    "### Efficiency\n",
    "\n",
    "Test efficiency of EM update."
   ]
  },
  {
   "cell_type": "code",
   "execution_count": 16,
   "metadata": {},
   "outputs": [
    {
     "data": {
      "text/plain": [
       "BenchmarkTools.Trial: 1567 samples with 1 evaluation.\n",
       " Range \u001b[90m(\u001b[39m\u001b[36m\u001b[1mmin\u001b[22m\u001b[39m … \u001b[35mmax\u001b[39m\u001b[90m):  \u001b[39m\u001b[36m\u001b[1m2.448 ms\u001b[22m\u001b[39m … \u001b[35m 15.539 ms\u001b[39m  \u001b[90m┊\u001b[39m GC \u001b[90m(\u001b[39mmin … max\u001b[90m): \u001b[39m0.00% … 0.00%\n",
       " Time  \u001b[90m(\u001b[39m\u001b[34m\u001b[1mmedian\u001b[22m\u001b[39m\u001b[90m):     \u001b[39m\u001b[34m\u001b[1m3.006 ms               \u001b[22m\u001b[39m\u001b[90m┊\u001b[39m GC \u001b[90m(\u001b[39mmedian\u001b[90m):    \u001b[39m0.00%\n",
       " Time  \u001b[90m(\u001b[39m\u001b[32m\u001b[1mmean\u001b[22m\u001b[39m ± \u001b[32mσ\u001b[39m\u001b[90m):   \u001b[39m\u001b[32m\u001b[1m3.182 ms\u001b[22m\u001b[39m ± \u001b[32m887.450 μs\u001b[39m  \u001b[90m┊\u001b[39m GC \u001b[90m(\u001b[39mmean ± σ\u001b[90m):  \u001b[39m0.00% ± 0.00%\n",
       "\n",
       "  \u001b[39m▃\u001b[39m▆\u001b[39m█\u001b[39m▁\u001b[39m▁\u001b[39m▂\u001b[39m▂\u001b[39m▂\u001b[34m▁\u001b[39m\u001b[39m▂\u001b[39m▂\u001b[32m▂\u001b[39m\u001b[39m▁\u001b[39m \u001b[39m \u001b[39m \u001b[39m \u001b[39m \u001b[39m \u001b[39m \u001b[39m \u001b[39m \u001b[39m \u001b[39m \u001b[39m \u001b[39m \u001b[39m \u001b[39m \u001b[39m \u001b[39m \u001b[39m \u001b[39m \u001b[39m \u001b[39m \u001b[39m \u001b[39m \u001b[39m \u001b[39m \u001b[39m \u001b[39m \u001b[39m \u001b[39m \u001b[39m \u001b[39m \u001b[39m \u001b[39m \u001b[39m \u001b[39m \u001b[39m \u001b[39m \u001b[39m \u001b[39m \u001b[39m \u001b[39m \u001b[39m \u001b[39m \u001b[39m \u001b[39m \u001b[39m \u001b[39m \u001b[39m \n",
       "  \u001b[39m█\u001b[39m█\u001b[39m█\u001b[39m█\u001b[39m█\u001b[39m█\u001b[39m█\u001b[39m█\u001b[34m█\u001b[39m\u001b[39m█\u001b[39m█\u001b[32m█\u001b[39m\u001b[39m█\u001b[39m▆\u001b[39m▆\u001b[39m▆\u001b[39m▅\u001b[39m▅\u001b[39m▄\u001b[39m▄\u001b[39m▄\u001b[39m▃\u001b[39m▄\u001b[39m▃\u001b[39m▃\u001b[39m▃\u001b[39m▃\u001b[39m▂\u001b[39m▂\u001b[39m▂\u001b[39m▂\u001b[39m▂\u001b[39m▂\u001b[39m▂\u001b[39m▂\u001b[39m▂\u001b[39m▃\u001b[39m▂\u001b[39m▂\u001b[39m▂\u001b[39m▂\u001b[39m▂\u001b[39m▂\u001b[39m▂\u001b[39m▁\u001b[39m▂\u001b[39m▂\u001b[39m▂\u001b[39m▁\u001b[39m▂\u001b[39m▂\u001b[39m▂\u001b[39m▂\u001b[39m▁\u001b[39m▂\u001b[39m▁\u001b[39m▁\u001b[39m▁\u001b[39m▂\u001b[39m \u001b[39m▃\n",
       "  2.45 ms\u001b[90m         Histogram: frequency by time\u001b[39m        6.44 ms \u001b[0m\u001b[1m<\u001b[22m\n",
       "\n",
       " Memory estimate\u001b[90m: \u001b[39m\u001b[33m0 bytes\u001b[39m, allocs estimate\u001b[90m: \u001b[39m\u001b[33m0\u001b[39m."
      ]
     },
     "execution_count": 16,
     "metadata": {},
     "output_type": "execute_result"
    }
   ],
   "source": [
    "bm_emupdate = @benchmark update_em!($lmm, true) setup=(\n",
    "    copy!(lmm.β, βtrue);\n",
    "    copy!(lmm.Σ, Σtrue);\n",
    "    copy!(lmm.L, Ltrue);\n",
    "    lmm.σ²[1] = σ²true)"
   ]
  },
  {
   "cell_type": "markdown",
   "metadata": {},
   "source": [
    "My median run time is 2.4ms. You will get full credit if your median run time is within 10ms. The points you will get are"
   ]
  },
  {
   "cell_type": "code",
   "execution_count": 17,
   "metadata": {},
   "outputs": [
    {
     "data": {
      "text/plain": [
       "10.0"
      ]
     },
     "execution_count": 17,
     "metadata": {},
     "output_type": "execute_result"
    }
   ],
   "source": [
    "clamp(10 / (median(bm_emupdate).time / 1e6) * 10, 0, 10)"
   ]
  },
  {
   "cell_type": "markdown",
   "metadata": {},
   "source": [
    "### Memory\n",
    "\n",
    "You will lose 1 point for each 100 bytes memory allocation. So the points you will get is"
   ]
  },
  {
   "cell_type": "code",
   "execution_count": 18,
   "metadata": {},
   "outputs": [
    {
     "data": {
      "text/plain": [
       "10.0"
      ]
     },
     "execution_count": 18,
     "metadata": {},
     "output_type": "execute_result"
    }
   ],
   "source": [
    "clamp(10 - median(bm_emupdate).memory / 100, 0, 10)"
   ]
  },
  {
   "cell_type": "markdown",
   "metadata": {},
   "source": [
    "## Q7. Starting point\n",
    "\n",
    "We use the same least squares estimates as in HW4 as starting point. "
   ]
  },
  {
   "cell_type": "code",
   "execution_count": 19,
   "metadata": {},
   "outputs": [
    {
     "data": {
      "text/plain": [
       "kron_axpy!"
      ]
     },
     "execution_count": 19,
     "metadata": {},
     "output_type": "execute_result"
    }
   ],
   "source": [
    "\"\"\"\n",
    "    init_ls!(m::LmmModel)\n",
    "\n",
    "Initialize parameters of a `LmmModel` object from the least squares estimate. \n",
    "`m.β`, `m.L`, and `m.σ²` are overwritten with the least squares estimates.\n",
    "\"\"\"\n",
    "function init_ls!(m::LmmModel{T}) where T <: AbstractFloat\n",
    "    p, q = size(m.data[1].X, 2), size(m.data[1].Z, 2)\n",
    "    # LS estimate for β\n",
    "    mul!(m.β, m.xtxinv, m.xty)\n",
    "    # LS etimate for σ2 and Σ\n",
    "    rss, ntotal = zero(T), 0\n",
    "    fill!(m.ztz2, 0)\n",
    "    fill!(m.ztr2, 0)    \n",
    "    @inbounds for i in eachindex(m.data)\n",
    "        obs = m.data[i]\n",
    "        ntotal += length(obs.y)\n",
    "        # update Xt * res\n",
    "        BLAS.gemv!('N', T(-1), obs.xtx, m.β, T(1), copy!(obs.xtr, obs.xty))\n",
    "        # rss of i-th individual\n",
    "        rss += obs.yty - dot(obs.xty, m.β) - dot(obs.xtr, m.β)\n",
    "        # update Zi' * res\n",
    "        BLAS.gemv!('N', T(-1), obs.ztx, m.β, T(1), copy!(obs.ztr, obs.zty))\n",
    "        # Zi'Zi ⊗ Zi'Zi\n",
    "        kron_axpy!(obs.ztz, obs.ztz, m.ztz2)\n",
    "        # Zi'res ⊗ Zi'res\n",
    "        kron_axpy!(obs.ztr, obs.ztr, m.ztr2)\n",
    "    end\n",
    "    m.σ²[1] = rss / ntotal\n",
    "    # LS estimate for Σ = LLt\n",
    "    LAPACK.potrf!('U', m.ztz2)\n",
    "    BLAS.trsv!('U', 'T', 'N', m.ztz2, m.ztr2)\n",
    "    BLAS.trsv!('U', 'N', 'N', m.ztz2, m.ztr2)\n",
    "    copyto!(m.Σ, m.ztr2)\n",
    "    copy!(m.L, m.Σ)\n",
    "    LAPACK.potrf!('L', m.L)\n",
    "    for j in 2:q, i in 1:j-1\n",
    "        m.L[i, j] = 0\n",
    "    end\n",
    "    m\n",
    "end\n",
    "\n",
    "\"\"\"\n",
    "    kron_axpy!(A, X, Y)\n",
    "\n",
    "Overwrite `Y` with `A ⊗ X + Y`. Same as `Y += kron(A, X)` but\n",
    "more memory efficient.\n",
    "\"\"\"\n",
    "function kron_axpy!(\n",
    "        A::AbstractVecOrMat{T},\n",
    "        X::AbstractVecOrMat{T},\n",
    "        Y::AbstractVecOrMat{T}\n",
    "        ) where T <: Real\n",
    "    m, n = size(A, 1), size(A, 2)\n",
    "    p, q = size(X, 1), size(X, 2)\n",
    "    @assert size(Y, 1) == m * p\n",
    "    @assert size(Y, 2) == n * q\n",
    "    @inbounds for j in 1:n\n",
    "        coffset = (j - 1) * q\n",
    "        for i in 1:m\n",
    "            a = A[i, j]\n",
    "            roffset = (i - 1) * p            \n",
    "            for l in 1:q\n",
    "                r = roffset + 1\n",
    "                c = coffset + l\n",
    "                for k in 1:p                \n",
    "                    Y[r, c] += a * X[k, l]\n",
    "                    r += 1\n",
    "                end\n",
    "            end\n",
    "        end\n",
    "    end\n",
    "    Y\n",
    "end"
   ]
  },
  {
   "cell_type": "code",
   "execution_count": 20,
   "metadata": {},
   "outputs": [
    {
     "name": "stdout",
     "output_type": "stream",
     "text": [
      "lmm.β = [0.18207934611476334, 6.500480700993723, -3.4979107842091604, 1.001113296229796, 5.0002519857919285]\n",
      "lmm.Σ = [1.979430283668505 0.0725846100391669 0.05717147035274013; 0.07258461003916691 1.2840385734767714 -0.0770794276897856; 0.05717147035274013 -0.0770794276897856 0.9509885905046902]\n",
      "lmm.L = [1.4069222734993234 0.0 0.0; 0.05159105901325531 1.1319792118703693 0.0; 0.04063584138912108 -0.06994463586493141 0.9718256360134829]\n",
      "lmm.σ² = [5.709004733413663]\n"
     ]
    },
    {
     "data": {
      "text/plain": [
       "1-element Vector{Float64}:\n",
       " 5.709004733413663"
      ]
     },
     "execution_count": 20,
     "metadata": {},
     "output_type": "execute_result"
    }
   ],
   "source": [
    "init_ls!(lmm)\n",
    "@show lmm.β\n",
    "@show lmm.Σ\n",
    "@show lmm.L\n",
    "@show lmm.σ²"
   ]
  },
  {
   "cell_type": "markdown",
   "metadata": {},
   "source": [
    "## Q8. Estimation by EM\n",
    "\n",
    "We write a function `fit!` that implements the EM algorithm for estimating LMM."
   ]
  },
  {
   "cell_type": "code",
   "execution_count": 21,
   "metadata": {},
   "outputs": [
    {
     "data": {
      "text/plain": [
       "fit!"
      ]
     },
     "execution_count": 21,
     "metadata": {},
     "output_type": "execute_result"
    }
   ],
   "source": [
    "\"\"\"\n",
    "    fit!(m::LmmModel)\n",
    "\n",
    "Fit an `LmmModel` object by MLE using a EM algorithm. Start point \n",
    "should be provided in `m.β`, `m.σ²`, `m.L`.\n",
    "\"\"\"\n",
    "function fit!(\n",
    "        m       :: LmmModel;\n",
    "        maxiter :: Integer       = 10_000,\n",
    "        ftolrel :: AbstractFloat = 1e-12,\n",
    "        prtfreq :: Integer       = 0\n",
    "    )\n",
    "    obj = update_em!(m, true)\n",
    "    for iter in 0:maxiter\n",
    "        obj_old = obj\n",
    "        # EM update\n",
    "        obj = update_em!(m, false)\n",
    "        # print obj\n",
    "        prtfreq > 0 && rem(iter, prtfreq) == 0 && println(\"iter=$iter, obj=$obj\")\n",
    "        # check monotonicity\n",
    "        obj < obj_old && (@warn \"monotoniciy violated\")\n",
    "        # check convergence criterion\n",
    "        (obj - obj_old) < ftolrel * (abs(obj_old) + 1) && break\n",
    "        # warning about non-convergence\n",
    "        iter == maxiter && (@warn \"maximum iterations reached\")\n",
    "    end\n",
    "    m\n",
    "end\n"
   ]
  },
  {
   "cell_type": "markdown",
   "metadata": {},
   "source": [
    "## Q9. (20 pts) Test drive\n",
    "\n",
    "Now we can run our EM algorithm to compute the MLE."
   ]
  },
  {
   "cell_type": "code",
   "execution_count": 22,
   "metadata": {},
   "outputs": [
    {
     "name": "stdout",
     "output_type": "stream",
     "text": [
      "iter=0, obj=-2.840068882178376e6\n",
      "iter=1, obj=-2.8400587868036693e6\n",
      "iter=2, obj=-2.8400587867735964e6\n",
      "iter=3, obj=-2.8400587867735922e6\n",
      "  0.091723 seconds (155.67 k allocations: 8.286 MiB, 58.67% compilation time)\n",
      "objective value at solution: -2.8400587867735922e6\n",
      "\n",
      "solution values:\n",
      "lmm.β = [0.18207952873862698, 6.500383547102911, -3.4998642822669384, 0.9997119324206182, 4.999229484613993]\n",
      "lmm.σ² = [1.4987345519495396]\n",
      "lmm.L * transpose(lmm.L) = [1.9836319664060416 0.06575197883724945 0.055288404098108375; 0.06575197883724945 1.2814409874856523 -0.09059253368723441; 0.055288404098108375 -0.09059253368723441 0.9434430221723883]\n"
     ]
    },
    {
     "data": {
      "text/plain": [
       "3×3 Matrix{Float64}:\n",
       " 1.98363     0.065752    0.0552884\n",
       " 0.065752    1.28144    -0.0905925\n",
       " 0.0552884  -0.0905925   0.943443"
      ]
     },
     "execution_count": 22,
     "metadata": {},
     "output_type": "execute_result"
    }
   ],
   "source": [
    "# initialize from least squares\n",
    "init_ls!(lmm)\n",
    "\n",
    "@time fit!(lmm, prtfreq = 1);\n",
    "\n",
    "println(\"objective value at solution: \", update_em!(lmm)); println()\n",
    "println(\"solution values:\")\n",
    "@show lmm.β\n",
    "@show lmm.σ²\n",
    "@show lmm.L * transpose(lmm.L)"
   ]
  },
  {
   "cell_type": "markdown",
   "metadata": {},
   "source": [
    "### Correctness\n",
    "\n",
    "You get 10 points if the following code does not throw `AssertError`."
   ]
  },
  {
   "cell_type": "code",
   "execution_count": 23,
   "metadata": {},
   "outputs": [],
   "source": [
    "# objective at solution should be close enough to the optimal\n",
    "@assert update_em!(lmm) > -2.840059e6"
   ]
  },
  {
   "cell_type": "markdown",
   "metadata": {},
   "source": [
    "### Efficiency\n",
    "\n",
    "My median run time 12ms. You get 10 points if your median run time is within 1s."
   ]
  },
  {
   "cell_type": "code",
   "execution_count": 24,
   "metadata": {},
   "outputs": [
    {
     "data": {
      "text/plain": [
       "BenchmarkTools.Trial: 371 samples with 1 evaluation.\n",
       " Range \u001b[90m(\u001b[39m\u001b[36m\u001b[1mmin\u001b[22m\u001b[39m … \u001b[35mmax\u001b[39m\u001b[90m):  \u001b[39m\u001b[36m\u001b[1m11.235 ms\u001b[22m\u001b[39m … \u001b[35m17.120 ms\u001b[39m  \u001b[90m┊\u001b[39m GC \u001b[90m(\u001b[39mmin … max\u001b[90m): \u001b[39m0.00% … 0.00%\n",
       " Time  \u001b[90m(\u001b[39m\u001b[34m\u001b[1mmedian\u001b[22m\u001b[39m\u001b[90m):     \u001b[39m\u001b[34m\u001b[1m13.044 ms              \u001b[22m\u001b[39m\u001b[90m┊\u001b[39m GC \u001b[90m(\u001b[39mmedian\u001b[90m):    \u001b[39m0.00%\n",
       " Time  \u001b[90m(\u001b[39m\u001b[32m\u001b[1mmean\u001b[22m\u001b[39m ± \u001b[32mσ\u001b[39m\u001b[90m):   \u001b[39m\u001b[32m\u001b[1m13.104 ms\u001b[22m\u001b[39m ± \u001b[32m 1.263 ms\u001b[39m  \u001b[90m┊\u001b[39m GC \u001b[90m(\u001b[39mmean ± σ\u001b[90m):  \u001b[39m0.00% ± 0.00%\n",
       "\n",
       "  \u001b[39m▁\u001b[39m▃\u001b[39m█\u001b[39m█\u001b[39m▃\u001b[39m▁\u001b[39m▂\u001b[39m \u001b[39m \u001b[39m \u001b[39m \u001b[39m▂\u001b[39m \u001b[39m▁\u001b[39m▁\u001b[39m \u001b[39m \u001b[39m \u001b[39m \u001b[39m▁\u001b[39m \u001b[39m \u001b[39m \u001b[34m█\u001b[39m\u001b[32m \u001b[39m\u001b[39m \u001b[39m \u001b[39m \u001b[39m \u001b[39m \u001b[39m \u001b[39m \u001b[39m▂\u001b[39m \u001b[39m \u001b[39m \u001b[39m▅\u001b[39m \u001b[39m \u001b[39m \u001b[39m \u001b[39m \u001b[39m \u001b[39m▂\u001b[39m \u001b[39m \u001b[39m▁\u001b[39m \u001b[39m \u001b[39m \u001b[39m \u001b[39m \u001b[39m \u001b[39m \u001b[39m \u001b[39m \u001b[39m \u001b[39m \u001b[39m \u001b[39m \u001b[39m \n",
       "  \u001b[39m█\u001b[39m█\u001b[39m█\u001b[39m█\u001b[39m█\u001b[39m█\u001b[39m█\u001b[39m▅\u001b[39m▄\u001b[39m▇\u001b[39m▆\u001b[39m█\u001b[39m▄\u001b[39m█\u001b[39m█\u001b[39m▇\u001b[39m█\u001b[39m▇\u001b[39m▅\u001b[39m█\u001b[39m▅\u001b[39m▆\u001b[39m▆\u001b[34m█\u001b[39m\u001b[32m█\u001b[39m\u001b[39m▇\u001b[39m▄\u001b[39m▄\u001b[39m█\u001b[39m█\u001b[39m█\u001b[39m▆\u001b[39m█\u001b[39m█\u001b[39m▆\u001b[39m▆\u001b[39m█\u001b[39m▄\u001b[39m▇\u001b[39m▆\u001b[39m▇\u001b[39m█\u001b[39m▇\u001b[39m█\u001b[39m▆\u001b[39m▄\u001b[39m█\u001b[39m▄\u001b[39m▅\u001b[39m▄\u001b[39m▄\u001b[39m▄\u001b[39m▄\u001b[39m▄\u001b[39m▄\u001b[39m▃\u001b[39m▄\u001b[39m▁\u001b[39m▃\u001b[39m \u001b[39m▄\n",
       "  11.2 ms\u001b[90m         Histogram: frequency by time\u001b[39m        15.8 ms \u001b[0m\u001b[1m<\u001b[22m\n",
       "\n",
       " Memory estimate\u001b[90m: \u001b[39m\u001b[33m0 bytes\u001b[39m, allocs estimate\u001b[90m: \u001b[39m\u001b[33m0\u001b[39m."
      ]
     },
     "execution_count": 24,
     "metadata": {},
     "output_type": "execute_result"
    }
   ],
   "source": [
    "bm_em = @benchmark fit!($lmm) setup = (init_ls!(lmm))"
   ]
  },
  {
   "cell_type": "code",
   "execution_count": 25,
   "metadata": {},
   "outputs": [
    {
     "data": {
      "text/plain": [
       "10.0"
      ]
     },
     "execution_count": 25,
     "metadata": {},
     "output_type": "execute_result"
    }
   ],
   "source": [
    "# this is the points you get\n",
    "clamp(1 / (median(bm_em).time / 1e9) * 10, 0, 10)"
   ]
  },
  {
   "cell_type": "markdown",
   "metadata": {},
   "source": [
    "## Q10. (10 pts) EM vs Newton type algorithms\n",
    "\n",
    "Contrast EM algorithm to the Newton type algorithms (gradient free, gradient based, using Hessian) in HW5, in terms of the stability, convergence rate (how fast the algorithm is converging),  final objective value, total run time, derivation, and implementation efforts. "
   ]
  },
  {
   "cell_type": "markdown",
   "metadata": {},
   "source": [
    "### Answer\n",
    "\n",
    "The EM algorithm appears to be much more efficient, with a single run running around 12 ms vs 160 ms with the gradient-based NLopt solver (LD_MMA) in the best case, and in the worst case running 6.77 s with the Ipopt solver. Owing to the greater orders of magnitude in speed and managing to meet its convergence criteria in 4 iterations, it also manages to converge more quickly. It may perhaps be worth noting that the log-likelihood of the EM-solution is about $5 \\times 10^{-5}$ units greater than the results from the MixedModels.jl package, which took 1.23 s to run. (While comparably small in terms of relative order of magnitude to the log-likelihood quantities being discussed, Dr. Zhou has formerly claimed that a difference of about $10^{-4}$ was considerable, but in the context of the accuracy of a previous algorithm.) Derivation for both algorithms took some work, however, I have had considerably more practice with the Newton-type algorithms from research than with the EM-algorithm. Adjusting for effort, however, it is possible that the EM-algorithms took somewhat less effort, although at this point, I was already better used to the matrix calculus demanded in Hw5 which I had not yet understood."
   ]
  },
  {
   "cell_type": "code",
   "execution_count": null,
   "metadata": {},
   "outputs": [],
   "source": []
  }
 ],
 "metadata": {
  "@webio": {
   "lastCommId": null,
   "lastKernelId": null
  },
  "kernelspec": {
   "display_name": "Julia 1.7.1",
   "language": "julia",
   "name": "julia-1.7"
  },
  "language_info": {
   "file_extension": ".jl",
   "mimetype": "application/julia",
   "name": "julia",
   "version": "1.7.1"
  },
  "toc": {
   "colors": {
    "hover_highlight": "#DAA520",
    "running_highlight": "#FF0000",
    "selected_highlight": "#FFD700"
   },
   "moveMenuLeft": true,
   "nav_menu": {
    "height": "87px",
    "width": "252px"
   },
   "navigate_menu": true,
   "number_sections": true,
   "sideBar": true,
   "skip_h1_title": true,
   "threshold": 4,
   "toc_cell": false,
   "toc_section_display": "block",
   "toc_window_display": false,
   "widenNotebook": false
  }
 },
 "nbformat": 4,
 "nbformat_minor": 4
}
