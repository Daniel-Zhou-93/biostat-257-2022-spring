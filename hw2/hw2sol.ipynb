{
 "cells": [
  {
   "cell_type": "markdown",
   "metadata": {},
   "source": [
    "# Biostat 257 Homework 2\n",
    "\n",
    "**Due Apr 29 @ 11:59PM**"
   ]
  },
  {
   "cell_type": "code",
   "execution_count": 5,
   "metadata": {},
   "outputs": [
    {
     "name": "stdout",
     "output_type": "stream",
     "text": [
      "Julia Version 1.7.1\n",
      "Commit ac5cc99908 (2021-12-22 19:35 UTC)\n",
      "Platform Info:\n",
      "  OS: macOS (x86_64-apple-darwin19.5.0)\n",
      "  CPU: Intel(R) Core(TM) i5-8279U CPU @ 2.40GHz\n",
      "  WORD_SIZE: 64\n",
      "  LIBM: libopenlibm\n",
      "  LLVM: libLLVM-12.0.1 (ORCJIT, skylake)\n"
     ]
    }
   ],
   "source": [
    "versioninfo()"
   ]
  },
  {
   "cell_type": "code",
   "execution_count": 6,
   "metadata": {},
   "outputs": [],
   "source": [
    "# load libraries\n",
    "using BenchmarkTools, DelimitedFiles, Images, LinearAlgebra, Random"
   ]
  },
  {
   "cell_type": "markdown",
   "metadata": {},
   "source": [
    "## Q1. Nonnegative Matrix Factorization\n",
    "\n",
    "Nonnegative matrix factorization (NNMF) was introduced by [Lee and Seung (1999)](https://www.nature.com/articles/44565) as an analog of principal components and vector quantization with applications in data compression and clustering. In this homework we consider algorithms for fitting NNMF and (optionally) high performance computing using graphical processing units (GPUs).\n",
    "\n",
    "<img src=\"./nnmf.png\" width=\"500\" align=\"center\"/>\n",
    "\n",
    "In mathematical terms, one approximates a data matrix $\\mathbf{X} \\in \\mathbb{R}^{m \\times n}$ with nonnegative entries $x_{ij}$ by a product of two low-rank matrices $\\mathbf{V} \\in \\mathbb{R}^{m \\times r}$ and $\\mathbf{W} \\in \\mathbb{R}^{r \\times n}$ with nonnegative entries $v_{ik}$ and $w_{kj}$. Consider minimization of the squared Frobenius norm\n",
    "$$\n",
    "\tL(\\mathbf{V}, \\mathbf{W}) = \\|\\mathbf{X} - \\mathbf{V} \\mathbf{W}\\|_{\\text{F}}^2 = \\sum_i \\sum_j \\left(x_{ij} - \\sum_k v_{ik} w_{kj} \\right)^2, \\quad v_{ik} \\ge 0, w_{kj} \\ge 0,\n",
    "$$\n",
    "which should lead to a good factorization. Lee and Seung suggest an iterative algorithm with multiplicative updates\n",
    "$$\n",
    "v_{ik}^{(t+1)} = v_{ik}^{(t)} \\frac{\\sum_j x_{ij} w_{kj}^{(t)}}{\\sum_j b_{ij}^{(t)} w_{kj}^{(t)}}, \\quad \\text{where } b_{ij}^{(t)} = \\sum_k v_{ik}^{(t)} w_{kj}^{(t)},\n",
    "$$\n",
    "$$\n",
    "w_{kj}^{(t+1)} = w_{kj}^{(t)} \\frac{\\sum_i x_{ij} v_{ik}^{(t+1)}}{\\sum_i b_{ij}^{(t+1/2)} v_{ik}^{(t+1)}}, \\quad \\text{where } b_{ij}^{(t+1/2)} = \\sum_k v_{ik}^{(t+1)} w_{kj}^{(t)}\n",
    "$$\n",
    "that will drive the objective $L^{(t)} = L(\\mathbf{V}^{(t)}, \\mathbf{W}^{(t)})$ downhill. Superscript $t$ indicates iteration number. In following questions, efficiency (both speed and memory) will be the most important criterion when grading this problem."
   ]
  },
  {
   "cell_type": "markdown",
   "metadata": {},
   "source": [
    "### Q1.1 Develop code\n",
    "\n",
    "Implement the algorithm with arguments: $\\mathbf{X}$ (data, each row is a vectorized image), rank $r$, convergence tolerance, and optional starting point."
   ]
  },
  {
   "cell_type": "markdown",
   "metadata": {},
   "source": [
    "#### Answer\n",
    "\n",
    "The above algorithm simplifies to the following expressions:\n",
    "\\begin{align*}\n",
    "V^{(t+1)} &= V^{(t)} \\odot (XW^{T,(t)} \\cdot / (V^{(t)}W^{(t)}W^{(t)T}))\\\\\n",
    "W^{(t+1)} &= W^{(t)} \\odot (V^{T,(t+1)}X \\cdot / (V^{T,(t+1)}V^{(t+1)}W^{(t)}))\n",
    "\\end{align*}"
   ]
  },
  {
   "cell_type": "markdown",
   "metadata": {},
   "source": [
    "where $\\odot$ is the entrywise (Hadamard) product and $\\cdot /$ refers to entrywise division."
   ]
  },
  {
   "cell_type": "markdown",
   "metadata": {},
   "source": [
    "We write the following expression accordingly:"
   ]
  },
  {
   "cell_type": "code",
   "execution_count": 37,
   "metadata": {},
   "outputs": [
    {
     "data": {
      "text/plain": [
       "nnmf (generic function with 1 method)"
      ]
     },
     "execution_count": 37,
     "metadata": {},
     "output_type": "execute_result"
    }
   ],
   "source": [
    "import LinearAlgebra: BlasReal, copytri!\n",
    "\n",
    "function nnmf(\n",
    "    X       :: Matrix{T}, \n",
    "    r       :: Integer;\n",
    "    maxiter :: Integer = 1000, \n",
    "    tolfun  :: Number = 1e-4,\n",
    "    V       :: Matrix{T} = rand(T, size(X, 1), r),\n",
    "    W       :: Matrix{T} = rand(T, r, size(X, 2))\n",
    "    ) where T <: AbstractFloat\n",
    "    rr_storage = Matrix{T}(undef, r, r)\n",
    "    storage_V1 = similar(V)\n",
    "    storage_V2 = similar(V)\n",
    "    storage_W1 = similar(W)\n",
    "    storage_W2 = similar(W)\n",
    "    storage_X = similar(X)\n",
    "    x2norm = abs2(norm(X))\n",
    "    \n",
    "    X_err = similar(X)\n",
    "    \n",
    "    obj_old = 0\n",
    "    obj = 0\n",
    "#    fill!(rr_storage, 0)\n",
    "    niter = maxiter\n",
    "    for iter in 1:maxiter\n",
    "        #TODO: how to get rid of unnecessary allocation.\n",
    "        mul!(rr_storage, W, transpose(W))\n",
    "        mul!(storage_V2, V, rr_storage)\n",
    "        mul!(storage_V1, X, transpose(W))\n",
    "        \n",
    "#        V .= V .* storage_V1 ./ storage_V2\n",
    "#        V .*= storage_V1\n",
    "#        V ./= storage_V2\n",
    "        for idx in eachindex(V)\n",
    "            V[idx] *= storage_V1[idx]\n",
    "            V[idx] /= storage_V2[idx]\n",
    "        end\n",
    "#        rr_storage .= transpose(V) * V\n",
    "#        BLAS.syrk!('U', 'T', one(T), V, zero(T), rr_storage)\n",
    "#        rr_storage .= Symmetric(rr_storage)\n",
    "        mul!(rr_storage, transpose(V), V)\n",
    "        mul!(storage_W2, rr_storage, W)\n",
    "        mul!(storage_W1, transpose(V), X)\n",
    "        \n",
    "        obj_old = obj\n",
    "        obj = x2norm\n",
    "        for idx in eachindex(W)\n",
    "            obj += (storage_W2[idx] - 2 * storage_W1[idx]) * W[idx]\n",
    "            W[idx] *= storage_W1[idx]\n",
    "            W[idx] /= storage_W2[idx]\n",
    "        end\n",
    "#        W .= W .* storage_W1 ./ storage_W2\n",
    "        X_err .= X\n",
    "        mul!(X_err, V, W, -one(T), one(T))\n",
    "#        \n",
    "#        obj = sum(X_err .* X_err)\n",
    "        if abs(obj - obj_old) <= tolfun * (abs(obj_old) + 1)\n",
    "            niter = iter\n",
    "            break \n",
    "        end\n",
    "    end\n",
    "    \n",
    "    if niter == maxiter\n",
    "        @warn \"maxiter reached without convergence\"\n",
    "    end\n",
    "    # implementation\n",
    "    # Output\n",
    "    V, W, obj, niter\n",
    "end"
   ]
  },
  {
   "cell_type": "markdown",
   "metadata": {},
   "source": [
    "### Q1.2 Data\n",
    "\n",
    "Database 1 from the [MIT Center for Biological and Computational Learning (CBCL)](http://cbcl.mit.edu) reduces to a matrix $\\mathbf{X}$ containing $m = 2,429$ gray-scale face images with $n = 19 \\times 19 = 361$ pixels per face. Each image (row) is scaled to have mean and standard deviation 0.25.  \n",
    "\n",
    "Read in the [`nnmf-2429-by-361-face.txt`](https://raw.githubusercontent.com/ucla-biostat-257/2022spring/master/hw/hw2/nnmf-2429-by-361-face.txt) file, e.g., using [`readdlm`](https://docs.julialang.org/en/v1/stdlib/DelimitedFiles/#Delimited-Files) function, and display a couple sample images, e.g., using the [Images.jl](https://juliaimages.org/stable/) package."
   ]
  },
  {
   "cell_type": "code",
   "execution_count": 38,
   "metadata": {},
   "outputs": [
    {
     "data": {
      "image/png": "[encoded data removed]",
      "text/plain": [
       "19×19 reinterpret(reshape, Gray{Float64}, ::Matrix{Float64}) with eltype Gray{Float64}:\n",
       " Gray{Float64}(0.14815)   …  Gray{Float64}(0.0)\n",
       " Gray{Float64}(0.018294)     Gray{Float64}(0.027569)\n",
       " Gray{Float64}(0.027569)     Gray{Float64}(0.0)\n",
       " Gray{Float64}(0.0)          Gray{Float64}(0.0090181)\n",
       " Gray{Float64}(0.083222)     Gray{Float64}(0.036844)\n",
       " Gray{Float64}(0.10177)   …  Gray{Float64}(0.064671)\n",
       " Gray{Float64}(0.38004)      Gray{Float64}(0.13887)\n",
       " Gray{Float64}(0.51917)      Gray{Float64}(0.30583)\n",
       " Gray{Float64}(0.43569)      Gray{Float64}(0.37076)\n",
       " Gray{Float64}(0.38004)      Gray{Float64}(0.37076)\n",
       " Gray{Float64}(0.29656)   …  Gray{Float64}(0.26873)\n",
       " Gray{Float64}(0.25946)      Gray{Float64}(0.28728)\n",
       " Gray{Float64}(0.31511)      Gray{Float64}(0.28728)\n",
       " Gray{Float64}(0.2038)       Gray{Float64}(0.19453)\n",
       " Gray{Float64}(0.083222)     Gray{Float64}(0.073946)\n",
       " Gray{Float64}(0.018294)  …  Gray{Float64}(0.0)\n",
       " Gray{Float64}(0.064671)     Gray{Float64}(0.0)\n",
       " Gray{Float64}(0.018294)     Gray{Float64}(0.0)\n",
       " Gray{Float64}(0.0)          Gray{Float64}(0.0)"
      ]
     },
     "execution_count": 38,
     "metadata": {},
     "output_type": "execute_result"
    }
   ],
   "source": [
    "import DelimitedFiles: readdlm\n",
    "X = readdlm(\"nnmf-2429-by-361-face.txt\")\n",
    "colorview(Gray, reshape(X[1, :], 19, 19))"
   ]
  },
  {
   "cell_type": "code",
   "execution_count": 39,
   "metadata": {},
   "outputs": [
    {
     "data": {
      "image/png": "[encoded data removed]",
      "text/plain": [
       "19×19 reinterpret(reshape, Gray{Float64}, ::Matrix{Float64}) with eltype Gray{Float64}:\n",
       " Gray{Float64}(0.0082034)  …  Gray{Float64}(0.18099)\n",
       " Gray{Float64}(0.0)           Gray{Float64}(0.018367)\n",
       " Gray{Float64}(0.16066)       Gray{Float64}(0.0)\n",
       " Gray{Float64}(0.0)           Gray{Float64}(0.0)\n",
       " Gray{Float64}(0.059024)      Gray{Float64}(0.0)\n",
       " Gray{Float64}(0.069188)   …  Gray{Float64}(0.0)\n",
       " Gray{Float64}(0.2928)        Gray{Float64}(0.0082034)\n",
       " Gray{Float64}(0.47575)       Gray{Float64}(0.12001)\n",
       " Gray{Float64}(0.36394)       Gray{Float64}(0.17083)\n",
       " Gray{Float64}(0.35378)       Gray{Float64}(0.27247)\n",
       " Gray{Float64}(0.39444)    …  Gray{Float64}(0.31312)\n",
       " Gray{Float64}(0.2928)        Gray{Float64}(0.32329)\n",
       " Gray{Float64}(0.22165)       Gray{Float64}(0.27247)\n",
       " Gray{Float64}(0.21148)       Gray{Float64}(0.22165)\n",
       " Gray{Float64}(0.25214)       Gray{Float64}(0.22165)\n",
       " Gray{Float64}(0.23181)    …  Gray{Float64}(0.17083)\n",
       " Gray{Float64}(0.20132)       Gray{Float64}(0.089516)\n",
       " Gray{Float64}(0.17083)       Gray{Float64}(0.059024)\n",
       " Gray{Float64}(0.19116)       Gray{Float64}(0.0)"
      ]
     },
     "execution_count": 39,
     "metadata": {},
     "output_type": "execute_result"
    }
   ],
   "source": [
    "colorview(Gray, reshape(X[5, :], 19, 19))"
   ]
  },
  {
   "cell_type": "markdown",
   "metadata": {},
   "source": [
    "### Q1.3 Correctness and efficiency\n",
    "\n",
    "Report the run times, using `@time`, of your function for fitting NNMF on the MIT CBCL face data set at ranks $r=10, 20, 30, 40, 50$. For ease of comparison (and grading), please start your algorithm with the provided $\\mathbf{V}^{(0)}$ (first $r$ columns of [`V0.txt`](https://raw.githubusercontent.com/ucla-biostat-257/2022spring/master/hw/hw2/V0.txt)) and $\\mathbf{W}^{(0)}$ (first $r$ rows of [`W0.txt`](https://raw.githubusercontent.com/ucla-biostat-257/2022spring/master/hw/hw2/W0.txt)) and stopping criterion\n",
    "$$\n",
    "\\frac{|L^{(t+1)} - L^{(t)}|}{|L^{(t)}| + 1} \\le 10^{-4}.\n",
    "$$\n",
    "\n",
    "**Hint**: When I run the following code using my own implementation of `nnmf`\n",
    "```julia\n",
    "for r in [10, 20, 30, 40, 50]\n",
    "    println(\"r=$r\")\n",
    "    V0 = V0full[:, 1:r]\n",
    "    W0 = W0full[1:r, :]\n",
    "    @time V, W, obj, niter = nnmf(X, r; V = V0, W = W0)\n",
    "    println(\"obj=$obj, niter=$niter\")\n",
    "end\n",
    "```\n",
    "the output is\n",
    "```\n",
    "r=10\n",
    "  1.047598 seconds (20 allocations: 6.904 MiB)\n",
    "obj=11730.38800985483, niter=239\n",
    "r=20\n",
    "  1.913147 seconds (20 allocations: 7.120 MiB)\n",
    "obj=8497.222317850326, niter=394\n",
    "r=30\n",
    "  2.434662 seconds (20 allocations: 7.336 MiB)\n",
    "obj=6621.627345486279, niter=482\n",
    "r=40\n",
    "  3.424469 seconds (22 allocations: 7.554 MiB)\n",
    "obj=5256.663870563529, niter=581\n",
    "r=50\n",
    "  4.480342 seconds (23 allocations: 7.774 MiB)\n",
    "obj=4430.201581697291, niter=698\n",
    "```\n",
    "Since my laptop is about 6-7 years old, I expect to see your run time shorter than mine. Your memory allocation should be less or equal to mine."
   ]
  },
  {
   "cell_type": "markdown",
   "metadata": {},
   "source": [
    "#### Answer\n",
    "\n",
    "The test proceeds:"
   ]
  },
  {
   "cell_type": "code",
   "execution_count": 54,
   "metadata": {},
   "outputs": [
    {
     "name": "stdout",
     "output_type": "stream",
     "text": [
      "r=10\n",
      "  5.712 ms (15 allocations: 13.81 MiB)\n",
      "obj=11728.547948792577, niter=2\n",
      "r=20\n",
      "  6.523 ms (15 allocations: 14.24 MiB)\n",
      "obj=8495.940996631924, niter=2\n",
      "r=30\n",
      "  7.189 ms (15 allocations: 14.66 MiB)\n",
      "obj=6620.630487325742, niter=2\n",
      "r=40\n",
      "  9.246 ms (15 allocations: 15.10 MiB)\n",
      "obj=5255.82593154471, niter=2\n",
      "r=50\n",
      "  11.172 ms (16 allocations: 15.53 MiB)\n",
      "obj=4429.482800163826, niter=2\n"
     ]
    }
   ],
   "source": [
    "V0full = readdlm(\"V0.txt\")\n",
    "W0full = readdlm(\"W0.txt\")\n",
    "\n",
    "r = 50\n",
    "V0_ref = similar(V0full[:, 1:r])\n",
    "W0_ref = similar(W0full[1:r, :])\n",
    "\n",
    "obj = 0\n",
    "niter = 0\n",
    "for r in [10, 20, 30, 40, 50]\n",
    "    println(\"r=$r\")\n",
    "    V0 = V0full[:, 1:r]\n",
    "    W0 = W0full[1:r, :]\n",
    "    V, W, obj, niter = nnmf(X, r; V = V0, W = W0)\n",
    "    if (r == 50)\n",
    "        V, W, obj, niter = nnmf(X, r; V = V0, W = W0)\n",
    "        V0_ref .= V\n",
    "        W0_ref .= W\n",
    "    else\n",
    "        _, _, obj, niter = nnmf(X, r; V = V0, W = W0)\n",
    "    end\n",
    "    @btime nnmf($X, $r; V = $V0, W = $W0)\n",
    "#    setup=(\n",
    "#        copyto!($V0, V0full[:, 1:r]),\n",
    "#        copyto!($W0, W0full[1:r, :])\n",
    "#        )#, eval=1\n",
    "    println(\"obj=$obj, niter=$niter\")\n",
    "end"
   ]
  },
  {
   "cell_type": "markdown",
   "metadata": {},
   "source": [
    "### Q1.4 Non-uniqueness\n",
    "\n",
    "Choose an $r \\in \\{10, 20, 30, 40, 50\\}$ and start your algorithm from a different $\\mathbf{V}^{(0)}$ and $\\mathbf{W}^{(0)}$. Do you obtain the same objective value and $(\\mathbf{V}, \\mathbf{W})$? Explain what you find."
   ]
  },
  {
   "cell_type": "markdown",
   "metadata": {},
   "source": [
    "#### Answer"
   ]
  },
  {
   "cell_type": "code",
   "execution_count": 56,
   "metadata": {},
   "outputs": [
    {
     "name": "stdout",
     "output_type": "stream",
     "text": [
      "  3.651736 seconds (33 allocations: 16.593 MiB)\n"
     ]
    },
    {
     "data": {
      "text/plain": [
       "([0.08381843838568455 0.022624891225047555 … 0.018196891501582824 1.506899387776284e-78; 0.08197519800025695 0.008275854498204943 … 0.008159504265946485 4.770565450901853e-101; … ; 0.01436358734928572 0.010672687353039858 … 0.02710224598401464 0.008138866006587229; 0.010527839351056799 0.003704437131533077 … 0.013702493495916226 2.702428714230538e-50], [1.126911742817193e-11 4.567094634298307e-52 … 4.484030109755306e-20 1.6959626982884854e-9; 8.890560788182038e-58 6.770132443978703e-38 … 3.904886782126298e-20 1.813774309974824e-17; … ; 1.6757316384596078e-56 5.069082658726995e-28 … 0.001260320360716669 4.227470416027437e-7; 2.80141608901472e-66 1.0913376719544036e-31 … 4.320799628289128e-17 1.134468448256185e-8], 4420.482557422309, 754)"
      ]
     },
     "execution_count": 56,
     "metadata": {},
     "output_type": "execute_result"
    }
   ],
   "source": [
    "Random.seed!(123)\n",
    "r = 50\n",
    "@time V0_50, W0_50, obj, niter = nnmf(X, r)"
   ]
  },
  {
   "cell_type": "code",
   "execution_count": 57,
   "metadata": {},
   "outputs": [
    {
     "data": {
      "text/plain": [
       "6.325415859002564"
      ]
     },
     "execution_count": 57,
     "metadata": {},
     "output_type": "execute_result"
    }
   ],
   "source": [
    "norm(V0_ref - V0_50)"
   ]
  },
  {
   "cell_type": "code",
   "execution_count": 58,
   "metadata": {},
   "outputs": [
    {
     "data": {
      "text/plain": [
       "292.64021039690067"
      ]
     },
     "execution_count": 58,
     "metadata": {},
     "output_type": "execute_result"
    }
   ],
   "source": [
    "norm(W0_ref - W0_50)"
   ]
  },
  {
   "cell_type": "markdown",
   "metadata": {},
   "source": [
    "The resulting numbers and iteration are approximately the same, but the objective value and $(V, W)$ are noticeably different than before: $W$ in particular deviates from the reference noticeably more than does $V$ for the different starting point, suggesting that the decomposition is not unique for a given matrix and may vary depending on the starting matrices."
   ]
  },
  {
   "cell_type": "markdown",
   "metadata": {},
   "source": [
    "### Q1.5 Fixed point\n",
    "\n",
    "For the same $r$, start your algorithm from $v_{ik}^{(0)} = w_{kj}^{(0)} = 1$ for all $i,j,k$. Do you obtain the same objective value and $(\\mathbf{V}, \\mathbf{W})$? Explain what you find."
   ]
  },
  {
   "cell_type": "markdown",
   "metadata": {},
   "source": [
    "#### Answer\n",
    "\n",
    "The results follow:"
   ]
  },
  {
   "cell_type": "code",
   "execution_count": 59,
   "metadata": {},
   "outputs": [
    {
     "name": "stdout",
     "output_type": "stream",
     "text": [
      "  0.034157 seconds (28 allocations: 15.529 MiB)\n"
     ]
    },
    {
     "data": {
      "text/plain": [
       "([0.005474678688547896 0.005474678688547896 … 0.005474678688547896 0.005474678688547896; 0.0054413877221143984 0.0054413877221143984 … 0.0054413877221143984 0.0054413877221143984; … ; 0.005704039080945008 0.005704039080945008 … 0.005704039080945008 0.005704039080945008; 0.0056061851030169375 0.0056061851030169375 … 0.0056061851030169375 0.0056061851030169375], [0.36995177994768685 0.4606586011069409 … 0.5580793952009444 0.42552103824346577; 0.36995177994768685 0.4606586011069409 … 0.5580793952009444 0.42552103824346577; … ; 0.36995177994768685 0.4606586011069409 … 0.5580793952009444 0.42552103824346577; 0.36995177994768685 0.4606586011069409 … 0.5580793952009444 0.42552103824346577], 25297.015778490746, 4)"
      ]
     },
     "execution_count": 59,
     "metadata": {},
     "output_type": "execute_result"
    }
   ],
   "source": [
    "r = 50\n",
    "V = ones((size(X, 1), r))\n",
    "W = ones((r, size(X, 2)))\n",
    "@time V0_50, W0_50, obj, niter = nnmf(X, r; V = V, W = W)"
   ]
  },
  {
   "cell_type": "code",
   "execution_count": 60,
   "metadata": {},
   "outputs": [
    {
     "data": {
      "text/plain": [
       "4.893724708830418"
      ]
     },
     "execution_count": 60,
     "metadata": {},
     "output_type": "execute_result"
    }
   ],
   "source": [
    "norm(V0_ref - V0_50)"
   ]
  },
  {
   "cell_type": "code",
   "execution_count": 61,
   "metadata": {},
   "outputs": [
    {
     "data": {
      "text/plain": [
       "222.1989580488108"
      ]
     },
     "execution_count": 61,
     "metadata": {},
     "output_type": "execute_result"
    }
   ],
   "source": [
    "norm(W0_ref - W0_50)"
   ]
  },
  {
   "cell_type": "markdown",
   "metadata": {},
   "source": [
    "The value of $V$ is very close to that of the reference $V$, but not so for $W$. The differences are noticeably similar in order of magnitude to those of the random $V^{(0)}$ and $W^{(0)}$ above from the preceding example with random matrices."
   ]
  },
  {
   "cell_type": "markdown",
   "metadata": {},
   "source": [
    "### Q1.6 Interpret NNMF result\n",
    "\n",
    "Plot the basis images (rows of $\\mathbf{W}$) at rank $r=50$. What do you find?"
   ]
  },
  {
   "cell_type": "code",
   "execution_count": 51,
   "metadata": {},
   "outputs": [
    {
     "data": {
      "image/png": "[encoded data removed]",
      "text/plain": [
       "19×19 reinterpret(reshape, Gray{Float64}, ::Matrix{Float64}) with eltype Gray{Float64}:\n",
       " Gray{Float64}(0.369952)  Gray{Float64}(0.689115)  …  Gray{Float64}(0.607336)\n",
       " Gray{Float64}(0.460659)  Gray{Float64}(0.819255)     Gray{Float64}(0.74691)\n",
       " Gray{Float64}(0.511296)  Gray{Float64}(0.7087)       Gray{Float64}(0.629522)\n",
       " Gray{Float64}(0.474287)  Gray{Float64}(0.532417)     Gray{Float64}(0.478299)\n",
       " Gray{Float64}(0.499041)  Gray{Float64}(0.481986)     Gray{Float64}(0.499971)\n",
       " Gray{Float64}(0.64284)   Gray{Float64}(0.638725)  …  Gray{Float64}(0.724563)\n",
       " Gray{Float64}(0.913642)  Gray{Float64}(1.06518)      Gray{Float64}(1.11017)\n",
       " Gray{Float64}(1.19382)   Gray{Float64}(1.48607)      Gray{Float64}(1.47248)\n",
       " Gray{Float64}(1.35108)   Gray{Float64}(1.66225)      Gray{Float64}(1.63825)\n",
       " Gray{Float64}(1.39667)   Gray{Float64}(1.67715)      Gray{Float64}(1.64401)\n",
       " Gray{Float64}(1.30356)   Gray{Float64}(1.54915)   …  Gray{Float64}(1.48545)\n",
       " Gray{Float64}(1.12893)   Gray{Float64}(1.32085)      Gray{Float64}(1.22891)\n",
       " Gray{Float64}(0.925852)  Gray{Float64}(1.06994)      Gray{Float64}(0.964077)\n",
       " Gray{Float64}(0.760286)  Gray{Float64}(0.877467)     Gray{Float64}(0.783931)\n",
       " Gray{Float64}(0.68102)   Gray{Float64}(0.787678)     Gray{Float64}(0.7066)\n",
       " Gray{Float64}(0.659674)  Gray{Float64}(0.745493)  …  Gray{Float64}(0.670585)\n",
       " Gray{Float64}(0.644518)  Gray{Float64}(0.691384)     Gray{Float64}(0.626929)\n",
       " Gray{Float64}(0.608924)  Gray{Float64}(0.619156)     Gray{Float64}(0.558079)\n",
       " Gray{Float64}(0.540148)  Gray{Float64}(0.497399)     Gray{Float64}(0.425521)"
      ]
     },
     "execution_count": 51,
     "metadata": {},
     "output_type": "execute_result"
    }
   ],
   "source": [
    "colorview(Gray, reshape(W[1, :], 19, 19))"
   ]
  },
  {
   "cell_type": "code",
   "execution_count": 52,
   "metadata": {},
   "outputs": [
    {
     "data": {
      "image/png": "[encoded data removed]",
      "text/plain": [
       "19×19 reinterpret(reshape, Gray{Float64}, ::Matrix{Float64}) with eltype Gray{Float64}:\n",
       " Gray{Float64}(0.369952)  Gray{Float64}(0.689115)  …  Gray{Float64}(0.607336)\n",
       " Gray{Float64}(0.460659)  Gray{Float64}(0.819255)     Gray{Float64}(0.74691)\n",
       " Gray{Float64}(0.511296)  Gray{Float64}(0.7087)       Gray{Float64}(0.629522)\n",
       " Gray{Float64}(0.474287)  Gray{Float64}(0.532417)     Gray{Float64}(0.478299)\n",
       " Gray{Float64}(0.499041)  Gray{Float64}(0.481986)     Gray{Float64}(0.499971)\n",
       " Gray{Float64}(0.64284)   Gray{Float64}(0.638725)  …  Gray{Float64}(0.724563)\n",
       " Gray{Float64}(0.913642)  Gray{Float64}(1.06518)      Gray{Float64}(1.11017)\n",
       " Gray{Float64}(1.19382)   Gray{Float64}(1.48607)      Gray{Float64}(1.47248)\n",
       " Gray{Float64}(1.35108)   Gray{Float64}(1.66225)      Gray{Float64}(1.63825)\n",
       " Gray{Float64}(1.39667)   Gray{Float64}(1.67715)      Gray{Float64}(1.64401)\n",
       " Gray{Float64}(1.30356)   Gray{Float64}(1.54915)   …  Gray{Float64}(1.48545)\n",
       " Gray{Float64}(1.12893)   Gray{Float64}(1.32085)      Gray{Float64}(1.22891)\n",
       " Gray{Float64}(0.925852)  Gray{Float64}(1.06994)      Gray{Float64}(0.964077)\n",
       " Gray{Float64}(0.760286)  Gray{Float64}(0.877467)     Gray{Float64}(0.783931)\n",
       " Gray{Float64}(0.68102)   Gray{Float64}(0.787678)     Gray{Float64}(0.7066)\n",
       " Gray{Float64}(0.659674)  Gray{Float64}(0.745493)  …  Gray{Float64}(0.670585)\n",
       " Gray{Float64}(0.644518)  Gray{Float64}(0.691384)     Gray{Float64}(0.626929)\n",
       " Gray{Float64}(0.608924)  Gray{Float64}(0.619156)     Gray{Float64}(0.558079)\n",
       " Gray{Float64}(0.540148)  Gray{Float64}(0.497399)     Gray{Float64}(0.425521)"
      ]
     },
     "execution_count": 52,
     "metadata": {},
     "output_type": "execute_result"
    }
   ],
   "source": [
    "colorview(Gray, reshape(W[5, :], 19, 19))"
   ]
  },
  {
   "cell_type": "markdown",
   "metadata": {},
   "source": [
    "The faces may be matched with those we've seen from Q1.2. However, the faces are noticeably less detailed than those in Q1.2, and are generally brighter. As we see when we multiply in $V$, the face becomes darker; $V$ may store the shading corresponding to the original image:"
   ]
  },
  {
   "cell_type": "code",
   "execution_count": 53,
   "metadata": {},
   "outputs": [
    {
     "data": {
      "image/png": "[encoded data removed]",
      "text/plain": [
       "19×19 reinterpret(reshape, Gray{Float64}, ::Matrix{Float64}) with eltype Gray{Float64}:\n",
       " Gray{Float64}(0.101268)  Gray{Float64}(0.188634)  …  Gray{Float64}(0.166248)\n",
       " Gray{Float64}(0.126098)  Gray{Float64}(0.224258)     Gray{Float64}(0.204455)\n",
       " Gray{Float64}(0.139959)  Gray{Float64}(0.193995)     Gray{Float64}(0.172321)\n",
       " Gray{Float64}(0.129829)  Gray{Float64}(0.145741)     Gray{Float64}(0.130927)\n",
       " Gray{Float64}(0.136604)  Gray{Float64}(0.131936)     Gray{Float64}(0.136859)\n",
       " Gray{Float64}(0.175967)  Gray{Float64}(0.174841)  …  Gray{Float64}(0.198338)\n",
       " Gray{Float64}(0.250095)  Gray{Float64}(0.291577)     Gray{Float64}(0.30389)\n",
       " Gray{Float64}(0.326788)  Gray{Float64}(0.406787)     Gray{Float64}(0.403067)\n",
       " Gray{Float64}(0.369835)  Gray{Float64}(0.455013)     Gray{Float64}(0.448445)\n",
       " Gray{Float64}(0.382315)  Gray{Float64}(0.459094)     Gray{Float64}(0.450022)\n",
       " Gray{Float64}(0.356829)  Gray{Float64}(0.424054)  …  Gray{Float64}(0.406619)\n",
       " Gray{Float64}(0.309028)  Gray{Float64}(0.361561)     Gray{Float64}(0.336394)\n",
       " Gray{Float64}(0.253437)  Gray{Float64}(0.292878)     Gray{Float64}(0.263901)\n",
       " Gray{Float64}(0.208116)  Gray{Float64}(0.240192)     Gray{Float64}(0.214588)\n",
       " Gray{Float64}(0.186418)  Gray{Float64}(0.215614)     Gray{Float64}(0.19342)\n",
       " Gray{Float64}(0.180575)  Gray{Float64}(0.204067)  …  Gray{Float64}(0.183562)\n",
       " Gray{Float64}(0.176426)  Gray{Float64}(0.189255)     Gray{Float64}(0.171612)\n",
       " Gray{Float64}(0.166683)  Gray{Float64}(0.169484)     Gray{Float64}(0.152765)\n",
       " Gray{Float64}(0.147857)  Gray{Float64}(0.136155)     Gray{Float64}(0.11648)"
      ]
     },
     "execution_count": 53,
     "metadata": {},
     "output_type": "execute_result"
    }
   ],
   "source": [
    "colorview(Gray, reshape((V * W)[1,:], 19, 19))"
   ]
  },
  {
   "cell_type": "markdown",
   "metadata": {},
   "source": [
    "### Q1.7 GPU (optional)\n",
    "\n",
    "Investigate the GPU capabilities of Julia. Report the speed gain of your GPU code over CPU code at ranks $r=10, 20, 30, 40, 50$. Make sure to use the same starting point as in Q1.3."
   ]
  },
  {
   "cell_type": "code",
   "execution_count": 77,
   "metadata": {},
   "outputs": [],
   "source": [
    "using OpenCL\n",
    "\n",
    "#TODO: edit for OpenCL\n",
    "for r in [10, 20, 30, 40, 50]\n",
    "    println(\"r=$r\")\n",
    "    V0 = V0full[:, 1:r]\n",
    "    W0 = W0full[1:r, :]\n",
    "    V, W, obj, niter = nnmf(X, r; V = V0, W = W0)\n",
    "    @btime nnmf(X, r; V = V0, W = W0)\n",
    "    println(\"obj=$obj, niter=$niter\")\n",
    "    if (r == 50)\n",
    "        W\n",
    "    end\n",
    "end"
   ]
  },
  {
   "cell_type": "markdown",
   "metadata": {},
   "source": [
    "## Q2. Estimating Kinship Matrix\n",
    "\n",
    "Consider the numerical task of estimating an $n \\times n$ kinship matrix $\\Phi$ from an $n \\times m$ genotype matrix $\\mathbf{G}$. Here $n$ is the number of individuals and $m$ is the number of genetic markers. [Lange et al](https://www.ncbi.nlm.nih.gov/pmc/articles/PMC6763373/) derived a method of moment estimator of form\n",
    "$$\n",
    "    \\widehat \\Phi_{ij} = \\frac{e_{ij} - \\sum_{k=1}^m [p_k^2 + (1 - p_k)^2]}{m - \\sum_{k=1}^m [p_k^2 + (1 - p_k)^2]}, \\quad 1 \\le i, j \\le n,\n",
    "$$\n",
    "where\n",
    "$$\n",
    "\\begin{eqnarray*}\n",
    "    e_{ij} &=& \\frac{1}{4} \\sum_{k=1}^m [g_{ik} g_{jk} + (2 - g_{ik})(2 - g_{jk})] \\\\\n",
    "    p_k &=& \\frac {1}{2n} \\sum_{i=1}^n g_{ik}.\n",
    "\\end{eqnarray*}\n",
    "$$"
   ]
  },
  {
   "cell_type": "markdown",
   "metadata": {},
   "source": [
    "### Q2.1 Develop code\n",
    "\n",
    "Write a function that takes a matrix `G` as input and outputs the method of moment estimator. \n",
    "Make your function as efficient (both speed and memory) as possible.    "
   ]
  },
  {
   "cell_type": "code",
   "execution_count": 65,
   "metadata": {},
   "outputs": [
    {
     "data": {
      "text/plain": [
       "kinship (generic function with 1 method)"
      ]
     },
     "execution_count": 65,
     "metadata": {},
     "output_type": "execute_result"
    }
   ],
   "source": [
    "import LinearAlgebra: BlasReal\n",
    "\n",
    "function kinship(G::Matrix{T}) where T <: AbstractFloat\n",
    "    n, m = size(G)\n",
    "#    Φ = zeros(n, m)\n",
    "    Φ = zeros(n, n)\n",
    "#    storage_nn = zeros(n, n)\n",
    "    BLAS.syrk!('U', 'N', one(T), G, one(T), Φ)\n",
    "    \n",
    "    sumGcol = Vector{T}(undef, n)\n",
    "    one_n   = ones(T, n)\n",
    "    sum!(sumGcol, G)\n",
    "#    sumGcol .= mapslices(sum, G, dims = 2)\n",
    "#    Φ .-= sumGcol\n",
    "#    Φ .-= transpose(sumGcol)\n",
    "    BLAS.syr2k!('U', 'N', -one(T), sumGcol, one_n, one(T), Φ)\n",
    "#    @inbounds for i in 1:n\n",
    "#        #TODO: allocation going on here???\n",
    "#        sumG = sum(G[i, :])\n",
    "#        @views Φ[i, :] .-= sumG\n",
    "#        @views Φ[:, i] .-= sumG\n",
    "#    end\n",
    "    \n",
    "    #TODO: don't allocate this p!!!\n",
    "#    p = mapslices(sum, G, dims = 1) ./ (2 * n)\n",
    "#    psum = sum(1. .- 2. * p + 2. * (p .* p))\n",
    "#    pdf = sum(G) / n - 2. * sum(p .* p)\n",
    "    #TODO: for loop is slower but allocates a lot less. How to speed it up?\n",
    "    pdf = sum(G) / n\n",
    "    sumGrow = Vector{T}(undef, m)\n",
    "    sum!(sumGrow, transpose(G))\n",
    "    @inbounds for j in 1:m\n",
    "        pdf -= abs2(sumGrow[j]) / (2. * n * n)\n",
    "    end\n",
    "    \n",
    "#    Φ .= Φ ./ (2. * pdf) .+ 1.\n",
    "    Φ ./= (2. * pdf)\n",
    "    Φ .+= 1.\n",
    "    # output\n",
    "    Symmetric(Φ)\n",
    "end"
   ]
  },
  {
   "cell_type": "markdown",
   "metadata": {},
   "source": [
    "### Q2.2 Correctness\n",
    "\n",
    "First let's make sure our function yields correct answer. Run your function on a fake genotype matrix"
   ]
  },
  {
   "cell_type": "code",
   "execution_count": 66,
   "metadata": {},
   "outputs": [
    {
     "data": {
      "text/plain": [
       "5×5 Matrix{Float64}:\n",
       "  0.673584     -0.000762864  -0.00266412   0.00343992   0.00293959\n",
       " -0.000762864   0.665178     -0.0101691   -0.0110697    0.00223912\n",
       " -0.00266412   -0.0101691     0.665078     0.0102444    0.00253932\n",
       "  0.00343992   -0.0110697     0.0102444    0.66768     -0.0083679\n",
       "  0.00293959    0.00223912    0.00253932  -0.0083679    0.663777"
      ]
     },
     "execution_count": 66,
     "metadata": {},
     "output_type": "execute_result"
    }
   ],
   "source": [
    "# generate a fake genotype matrix with entries {0, 1, 2}\n",
    "Random.seed!(257)\n",
    "G = rand(0.0:2.0, 1000, 10000)\n",
    "Φ = kinship(G)\n",
    "Φ[1:5, 1:5]"
   ]
  },
  {
   "cell_type": "markdown",
   "metadata": {},
   "source": [
    "Compare the upper left $5 \\times 5$ block to what I got using my implementation\n",
    "\n",
    "```julia\n",
    "Φ[1:5, 1:5]\n",
    "```\n",
    "\n",
    "```\n",
    "5×5 Matrix{Float64}:\n",
    "  0.673584     -0.000762864  -0.00266412   0.00343992   0.00293959\n",
    " -0.000762864   0.665178     -0.0101691   -0.0110697    0.00223912\n",
    " -0.00266412   -0.0101691     0.665078     0.0102444    0.00253932\n",
    "  0.00343992   -0.0110697     0.0102444    0.66768     -0.0083679\n",
    "  0.00293959    0.00223912    0.00253932  -0.0083679    0.663777\n",
    "```"
   ]
  },
  {
   "cell_type": "markdown",
   "metadata": {},
   "source": [
    "### Q2.3 Efficiency\n",
    "\n",
    "In a typical genetic data set, $n$ is at order of $10^3 \\sim 10^6$ and $m$ is at order of $10^6 \\sim 10^7$. Benchmark your function using the smaller data set $G$ generated in Q2.2. Efficiency (both speed and memory) will be the most important criterion when grading this question."
   ]
  },
  {
   "cell_type": "code",
   "execution_count": 67,
   "metadata": {},
   "outputs": [
    {
     "name": "stdout",
     "output_type": "stream",
     "text": [
      "  95.198 ms (6 allocations: 7.72 MiB)\n"
     ]
    },
    {
     "data": {
      "text/plain": [
       "1000×1000 Symmetric{Float64, Matrix{Float64}}:\n",
       "  0.673584     -0.000762864  -0.00266412   …   0.0108448    -0.00446532\n",
       " -0.000762864   0.665178     -0.0101691        0.00994423   -0.00136326\n",
       " -0.00266412   -0.0101691     0.665078        -0.0157728    -0.00356472\n",
       "  0.00343992   -0.0110697     0.0102444        0.0106447     0.00514105\n",
       "  0.00293959    0.00223912    0.00253932      -0.00506571    0.00163873\n",
       " -0.00226386   -0.00626651   -0.00876817   …   0.00834317    0.00494091\n",
       "  0.00684217   -0.00516578    0.00384018      -0.00486558    0.00604164\n",
       "  0.00404032    0.00524111   -0.00816777      -0.00236392   -0.00696697\n",
       "  0.000237799   0.00233919    0.0129462       -0.0012632    -0.00296432\n",
       "  0.00564138   -0.00366479    0.0108448       -0.00736724    0.0154479\n",
       "  0.00574144   -0.00606638    0.00203899   …   0.00273946   -0.00736724\n",
       " -0.00326452   -0.00856803   -0.000162467      0.00183886   -0.0089683\n",
       "  0.000638064   0.00293959   -0.00306439      -0.00496565   -0.00156339\n",
       "  ⋮                                        ⋱                \n",
       "  0.0122458    -0.000962997  -0.0106694       -0.00476552    0.00173879\n",
       " -0.00466545    0.0150476     0.00073813       0.00454065   -0.00306439\n",
       "  0.00193893    0.00273946    0.012546     …   0.00384018    0.00414038\n",
       "  0.00754264    0.0128461    -0.00106306       0.0088435     0.00474078\n",
       " -0.00246399   -0.00396499   -0.00506571      -0.0095687    -0.00406505\n",
       " -0.00646664    0.00353999   -0.00146333      -0.0111698     0.00203899\n",
       " -0.012971     -0.0112698    -0.00206373      -0.00756737   -0.0198755\n",
       " -0.00206373    0.00654197    0.00404032   …   0.00253932   -0.00466545\n",
       "  0.0135466     0.00524111    0.00143859       0.000437931   0.00584151\n",
       "  0.000938262   0.000137732  -0.00476552       0.000337865  -0.00186359\n",
       "  0.0108448     0.00994423   -0.0157728        0.665378     -0.0109696\n",
       " -0.00446532   -0.00136326   -0.00356472      -0.0109696     0.665478"
      ]
     },
     "execution_count": 67,
     "metadata": {},
     "output_type": "execute_result"
    }
   ],
   "source": [
    "# benchmark\n",
    "\n",
    "@btime kinship($G)\n",
    "#@benchmark kinship($G)"
   ]
  },
  {
   "cell_type": "markdown",
   "metadata": {},
   "source": [
    "**Hint**: I got `@btime` output\n",
    "```\n",
    "82.144 ms (3 allocations: 7.64 MiB)\n",
    "```"
   ]
  }
 ],
 "metadata": {
  "@webio": {
   "lastCommId": null,
   "lastKernelId": null
  },
  "kernelspec": {
   "display_name": "Julia 1.7.1",
   "language": "julia",
   "name": "julia-1.7"
  },
  "language_info": {
   "file_extension": ".jl",
   "mimetype": "application/julia",
   "name": "julia",
   "version": "1.7.1"
  },
  "toc": {
   "colors": {
    "hover_highlight": "#DAA520",
    "running_highlight": "#FF0000",
    "selected_highlight": "#FFD700"
   },
   "moveMenuLeft": true,
   "nav_menu": {
    "height": "87px",
    "width": "252px"
   },
   "navigate_menu": true,
   "number_sections": true,
   "sideBar": true,
   "skip_h1_title": true,
   "threshold": 4,
   "toc_cell": false,
   "toc_section_display": "block",
   "toc_window_display": false,
   "widenNotebook": false
  }
 },
 "nbformat": 4,
 "nbformat_minor": 4
}
