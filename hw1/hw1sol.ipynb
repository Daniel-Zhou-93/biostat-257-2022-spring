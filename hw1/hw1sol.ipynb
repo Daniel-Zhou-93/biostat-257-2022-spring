{
 "cells": [
  {
   "cell_type": "markdown",
   "metadata": {},
   "source": [
    "# Biostat 257 Homework 1\n",
    "\n",
    "#### Due Apr 16 @ 11:59PM"
   ]
  },
  {
   "cell_type": "markdown",
   "metadata": {},
   "source": [
    "## Q1\n",
    "\n",
    "**No handwritten homework reports are accepted for this course.**  We work with Git/GitHub.  Efficient and abundant use of Git, e.g., **frequent and well-documented** commits, is an important criterion for grading your homework.\n",
    "\n",
    "1. If you don't have a GitHub account, apply for the [Student Developer Pack](https://education.github.com/pack) at GitHub using your UCLA email.\n",
    "\n",
    "2. Create a **private** repository `biostat-257-2021-spring` and add `Hua-Zhou` and `Chris-German` (TA) as your collaborators.\n",
    "\n",
    "3. Top directories of the repository should be `hw1`, `hw2`, ... You may create other branches for developing your homework solutions; but the `master` branch will be your presentation area. Put your homework submission files (Jupyter notebook `.ipynb`, html converted from notebook, all code and data set to reproduce results) in the `master` branch. \n",
    "\n",
    "4. After each homework due date, teaching assistant and instructor will check out your `master` branch for grading. Tag each of your homework submissions with tag names `hw1`, `hw2`, ...  Tagging time will be used as your submission time. That means if you tag your hw1 submission after deadline, penalty points will be deducted for late submission.  \n",
    "\n",
    "5. Read the [style guide](https://github.com/johnmyleswhite/Style.jl) for Julia programming. Following rules in the style guide will be strictly enforced when grading: (4) four space indenting rule, (6) 80 charcter rule, (7) space after comma rule, (8) no space before comma rule, (9) space around operator rule."
   ]
  },
  {
   "cell_type": "markdown",
   "metadata": {},
   "source": [
    "### Answer"
   ]
  },
  {
   "cell_type": "markdown",
   "metadata": {},
   "source": [
    "The style guide has been read. The following problems intend to follow the Julia style guide as closely as possible."
   ]
  },
  {
   "cell_type": "markdown",
   "metadata": {},
   "source": [
    "## Q2\n",
    "\n",
    "Let's check whether floating-point numbers obey certain algebraic rules. For 2-5, one counter-example suffices.\n",
    "\n",
    "1. Associative rule for addition says `(x + y) + z == x + (y + z)`. Check association rule using `x = 0.1`, `y = 0.1` and `z = 1.0` in Julia. Explain what you find.\n",
    "\n",
    "2. Do floating-point numbers obey the associative rule for multiplication: `(x * y) * z == x * (y * z)`?\n",
    "\n",
    "3. Do floating-point numbers obey the distributive rule: `a * (x + y) == a * x + a * y`?  \n",
    "\n",
    "4. Is `0 * x == 0` true for all floating-point number `x`? \n",
    "\n",
    "5. Is `x / a == x * (1 / a)` always true?"
   ]
  },
  {
   "cell_type": "markdown",
   "metadata": {},
   "source": [
    "### Answer"
   ]
  },
  {
   "cell_type": "markdown",
   "metadata": {},
   "source": [
    "#### Part 1"
   ]
  },
  {
   "cell_type": "markdown",
   "metadata": {},
   "source": [
    "We test the association rule:"
   ]
  },
  {
   "cell_type": "code",
   "execution_count": 1,
   "metadata": {},
   "outputs": [
    {
     "data": {
      "text/plain": [
       "false"
      ]
     },
     "execution_count": 1,
     "metadata": {},
     "output_type": "execute_result"
    }
   ],
   "source": [
    "x, y, z = 0.1, 0.1, 1.0\n",
    "(x + y) + z == x + (y + z)"
   ]
  },
  {
   "cell_type": "markdown",
   "metadata": {},
   "source": [
    "Clearly they are unequal. We print out the numbers step-by-step to determine the reason:"
   ]
  },
  {
   "cell_type": "code",
   "execution_count": 2,
   "metadata": {},
   "outputs": [
    {
     "data": {
      "text/plain": [
       "0.2"
      ]
     },
     "execution_count": 2,
     "metadata": {},
     "output_type": "execute_result"
    }
   ],
   "source": [
    "x + y"
   ]
  },
  {
   "cell_type": "code",
   "execution_count": 3,
   "metadata": {},
   "outputs": [
    {
     "data": {
      "text/plain": [
       "1.2"
      ]
     },
     "execution_count": 3,
     "metadata": {},
     "output_type": "execute_result"
    }
   ],
   "source": [
    "(x + y) + z"
   ]
  },
  {
   "cell_type": "code",
   "execution_count": 4,
   "metadata": {},
   "outputs": [
    {
     "data": {
      "text/plain": [
       "1.1"
      ]
     },
     "execution_count": 4,
     "metadata": {},
     "output_type": "execute_result"
    }
   ],
   "source": [
    "y + z"
   ]
  },
  {
   "cell_type": "code",
   "execution_count": 5,
   "metadata": {},
   "outputs": [
    {
     "data": {
      "text/plain": [
       "1.2000000000000002"
      ]
     },
     "execution_count": 5,
     "metadata": {},
     "output_type": "execute_result"
    }
   ],
   "source": [
    "x + (y + z)"
   ]
  },
  {
   "cell_type": "code",
   "execution_count": 6,
   "metadata": {},
   "outputs": [
    {
     "data": {
      "text/plain": [
       "2.220446049250313e-16"
      ]
     },
     "execution_count": 6,
     "metadata": {},
     "output_type": "execute_result"
    }
   ],
   "source": [
    "(x + (y + z)) - ((x + y) + z)"
   ]
  },
  {
   "cell_type": "code",
   "execution_count": 7,
   "metadata": {},
   "outputs": [
    {
     "data": {
      "text/plain": [
       "true"
      ]
     },
     "execution_count": 7,
     "metadata": {},
     "output_type": "execute_result"
    }
   ],
   "source": [
    "(x + (y + z)) - ((x + y) + z) == eps(Float64)"
   ]
  },
  {
   "cell_type": "markdown",
   "metadata": {},
   "source": [
    "The discrepancy in precision (with a difference equalling the smallest 64-bit floating point number) is due to the different representations of each, which results in different rounded values."
   ]
  },
  {
   "cell_type": "markdown",
   "metadata": {},
   "source": [
    "#### Part 2"
   ]
  },
  {
   "cell_type": "code",
   "execution_count": 8,
   "metadata": {},
   "outputs": [
    {
     "data": {
      "text/plain": [
       "(1.073741825e9, 1.073741825e9, 1.073741889e9)"
      ]
     },
     "execution_count": 8,
     "metadata": {},
     "output_type": "execute_result"
    }
   ],
   "source": [
    "x, y, z = 2.0^30 + 1.0, 2.0^30 + 1.0, 2.0^30 + 2.0^6 + 1.0"
   ]
  },
  {
   "cell_type": "code",
   "execution_count": 9,
   "metadata": {},
   "outputs": [
    {
     "data": {
      "text/plain": [
       "false"
      ]
     },
     "execution_count": 9,
     "metadata": {},
     "output_type": "execute_result"
    }
   ],
   "source": [
    "(x * y) * z == x * (y * z)"
   ]
  },
  {
   "cell_type": "markdown",
   "metadata": {},
   "source": [
    "Counterexample provided in the following webpage: https://stackoverflow.com/questions/43956397/associativity-of-floating-point-multiplication-in-a-special-case"
   ]
  },
  {
   "cell_type": "markdown",
   "metadata": {},
   "source": [
    "#### Part 3"
   ]
  },
  {
   "cell_type": "code",
   "execution_count": 10,
   "metadata": {},
   "outputs": [
    {
     "data": {
      "text/plain": [
       "(2.718281828459045, π, 0.8414709848078965)"
      ]
     },
     "execution_count": 10,
     "metadata": {},
     "output_type": "execute_result"
    }
   ],
   "source": [
    "a, x, y = exp(1.0), pi, sin(1.0)"
   ]
  },
  {
   "cell_type": "code",
   "execution_count": 11,
   "metadata": {},
   "outputs": [
    {
     "data": {
      "text/plain": [
       "false"
      ]
     },
     "execution_count": 11,
     "metadata": {},
     "output_type": "execute_result"
    }
   ],
   "source": [
    "a * (x + y) == a * x + a * y"
   ]
  },
  {
   "cell_type": "markdown",
   "metadata": {},
   "source": [
    "Counterexample provided on the following webpage: https://www.mathworks.com/matlabcentral/answers/120722-i-don-t-understand-the-why-the-distributive-property-in-math-is-not-always-true-in-matlab"
   ]
  },
  {
   "cell_type": "markdown",
   "metadata": {},
   "source": [
    "#### Part 4"
   ]
  },
  {
   "cell_type": "code",
   "execution_count": 12,
   "metadata": {},
   "outputs": [
    {
     "data": {
      "text/plain": [
       "Inf"
      ]
     },
     "execution_count": 12,
     "metadata": {},
     "output_type": "execute_result"
    }
   ],
   "source": [
    "x = Inf"
   ]
  },
  {
   "cell_type": "code",
   "execution_count": 13,
   "metadata": {},
   "outputs": [
    {
     "data": {
      "text/plain": [
       "false"
      ]
     },
     "execution_count": 13,
     "metadata": {},
     "output_type": "execute_result"
    }
   ],
   "source": [
    "0 * x == 0"
   ]
  },
  {
   "cell_type": "markdown",
   "metadata": {},
   "source": [
    "It is refreshing to see that what holds true in math also holds true in computation in this case. Note that in this case that Inf is a floating point number:"
   ]
  },
  {
   "cell_type": "code",
   "execution_count": 14,
   "metadata": {},
   "outputs": [
    {
     "data": {
      "text/plain": [
       "Float64"
      ]
     },
     "execution_count": 14,
     "metadata": {},
     "output_type": "execute_result"
    }
   ],
   "source": [
    "typeof(x)"
   ]
  },
  {
   "cell_type": "code",
   "execution_count": 15,
   "metadata": {},
   "outputs": [
    {
     "data": {
      "text/plain": [
       "Float64"
      ]
     },
     "execution_count": 15,
     "metadata": {},
     "output_type": "execute_result"
    }
   ],
   "source": [
    "typeof(Inf)"
   ]
  },
  {
   "cell_type": "markdown",
   "metadata": {},
   "source": [
    "#### Part 5"
   ]
  },
  {
   "cell_type": "code",
   "execution_count": 16,
   "metadata": {},
   "outputs": [
    {
     "data": {
      "text/plain": [
       "(1.073741825e9, 3.0)"
      ]
     },
     "execution_count": 16,
     "metadata": {},
     "output_type": "execute_result"
    }
   ],
   "source": [
    "x, a = 2.0^30 + 1.0, 3.0"
   ]
  },
  {
   "cell_type": "code",
   "execution_count": 17,
   "metadata": {},
   "outputs": [
    {
     "data": {
      "text/plain": [
       "false"
      ]
     },
     "execution_count": 17,
     "metadata": {},
     "output_type": "execute_result"
    }
   ],
   "source": [
    "x / a == x * (1 / a)"
   ]
  },
  {
   "cell_type": "markdown",
   "metadata": {},
   "source": [
    "## Q3\n",
    "\n",
    "Consider Julia function\n",
    "```julia\n",
    "function g(k)\n",
    "    for i in 1:10\n",
    "        k = 5k - 1\n",
    "    end\n",
    "    k\n",
    "end\n",
    "```\n",
    "1. Use `@code_llvm` to find the LLVM bitcode of compiled `g` with `Int64` input.   \n",
    "2. Use `@code_llvm` to find the LLVM bitcode of compiled `g` with `Float64` input.  \n",
    "3. Compare the bitcode from questions 1 and 2. What do you find?  \n",
    "4. Read Julia documentation on `@fastmath` and repeat the questions 1-3 on the function  \n",
    "\n",
    "```julia\n",
    "function g_fastmath(k)  \n",
    "    @fastmath for i in 1:10  \n",
    "        k = 5k - 1\n",
    "    end\n",
    "    k\n",
    "end\n",
    "```\n",
    "    Explain what does macro `@fastmath` do?"
   ]
  },
  {
   "cell_type": "markdown",
   "metadata": {},
   "source": [
    "### Answer"
   ]
  },
  {
   "cell_type": "code",
   "execution_count": 18,
   "metadata": {},
   "outputs": [
    {
     "data": {
      "text/plain": [
       "g (generic function with 1 method)"
      ]
     },
     "execution_count": 18,
     "metadata": {},
     "output_type": "execute_result"
    }
   ],
   "source": [
    "function g(k)\n",
    "    for i in 1:10\n",
    "        k = 5k - 1\n",
    "    end\n",
    "    k\n",
    "end"
   ]
  },
  {
   "cell_type": "code",
   "execution_count": 19,
   "metadata": {},
   "outputs": [
    {
     "name": "stdout",
     "output_type": "stream",
     "text": [
      "\u001b[90m;  @ In[18]:1 within `g`\u001b[39m\n",
      "\u001b[95mdefine\u001b[39m \u001b[36mi64\u001b[39m \u001b[93m@julia_g_1559\u001b[39m\u001b[33m(\u001b[39m\u001b[36mi64\u001b[39m \u001b[95msignext\u001b[39m \u001b[0m%0\u001b[33m)\u001b[39m \u001b[0m#0 \u001b[33m{\u001b[39m\n",
      "\u001b[91mtop:\u001b[39m\n",
      "\u001b[90m;  @ In[18]:3 within `g`\u001b[39m\n",
      "\u001b[90m; ┌ @ int.jl:88 within `*`\u001b[39m\n",
      "   \u001b[0m%1 \u001b[0m= \u001b[96m\u001b[1mmul\u001b[22m\u001b[39m \u001b[36mi64\u001b[39m \u001b[0m%0\u001b[0m, \u001b[33m9765625\u001b[39m\n",
      "\u001b[90m; └\u001b[39m\n",
      "\u001b[90m; ┌ @ int.jl:86 within `-`\u001b[39m\n",
      "   \u001b[0m%2 \u001b[0m= \u001b[96m\u001b[1madd\u001b[22m\u001b[39m \u001b[36mi64\u001b[39m \u001b[0m%1\u001b[0m, \u001b[33m-2441406\u001b[39m\n",
      "\u001b[90m; └\u001b[39m\n",
      "\u001b[90m;  @ In[18]:5 within `g`\u001b[39m\n",
      "  \u001b[96m\u001b[1mret\u001b[22m\u001b[39m \u001b[36mi64\u001b[39m \u001b[0m%2\n",
      "\u001b[33m}\u001b[39m\n"
     ]
    }
   ],
   "source": [
    "@code_llvm g(Int64(1))"
   ]
  },
  {
   "cell_type": "code",
   "execution_count": 20,
   "metadata": {},
   "outputs": [
    {
     "name": "stdout",
     "output_type": "stream",
     "text": [
      "\u001b[90m;  @ In[18]:1 within `g`\u001b[39m\n",
      "\u001b[95mdefine\u001b[39m \u001b[36mdouble\u001b[39m \u001b[93m@julia_g_1591\u001b[39m\u001b[33m(\u001b[39m\u001b[36mdouble\u001b[39m \u001b[0m%0\u001b[33m)\u001b[39m \u001b[0m#0 \u001b[33m{\u001b[39m\n",
      "\u001b[91mtop:\u001b[39m\n",
      "\u001b[90m;  @ In[18]:3 within `g`\u001b[39m\n",
      "\u001b[90m; ┌ @ promotion.jl:380 within `*` @ float.jl:405\u001b[39m\n",
      "   \u001b[0m%1 \u001b[0m= \u001b[96m\u001b[1mfmul\u001b[22m\u001b[39m \u001b[36mdouble\u001b[39m \u001b[0m%0\u001b[0m, \u001b[33m5.000000e+00\u001b[39m\n",
      "\u001b[90m; └\u001b[39m\n",
      "\u001b[90m; ┌ @ promotion.jl:381 within `-` @ float.jl:402\u001b[39m\n",
      "   \u001b[0m%2 \u001b[0m= \u001b[96m\u001b[1mfadd\u001b[22m\u001b[39m \u001b[36mdouble\u001b[39m \u001b[0m%1\u001b[0m, \u001b[33m-1.000000e+00\u001b[39m\n",
      "\u001b[90m; └\u001b[39m\n",
      "\u001b[90m; ┌ @ promotion.jl:380 within `*` @ float.jl:405\u001b[39m\n",
      "   \u001b[0m%3 \u001b[0m= \u001b[96m\u001b[1mfmul\u001b[22m\u001b[39m \u001b[36mdouble\u001b[39m \u001b[0m%2\u001b[0m, \u001b[33m5.000000e+00\u001b[39m\n",
      "\u001b[90m; └\u001b[39m\n",
      "\u001b[90m; ┌ @ promotion.jl:381 within `-` @ float.jl:402\u001b[39m\n",
      "   \u001b[0m%4 \u001b[0m= \u001b[96m\u001b[1mfadd\u001b[22m\u001b[39m \u001b[36mdouble\u001b[39m \u001b[0m%3\u001b[0m, \u001b[33m-1.000000e+00\u001b[39m\n",
      "\u001b[90m; └\u001b[39m\n",
      "\u001b[90m; ┌ @ promotion.jl:380 within `*` @ float.jl:405\u001b[39m\n",
      "   \u001b[0m%5 \u001b[0m= \u001b[96m\u001b[1mfmul\u001b[22m\u001b[39m \u001b[36mdouble\u001b[39m \u001b[0m%4\u001b[0m, \u001b[33m5.000000e+00\u001b[39m\n",
      "\u001b[90m; └\u001b[39m\n",
      "\u001b[90m; ┌ @ promotion.jl:381 within `-` @ float.jl:402\u001b[39m\n",
      "   \u001b[0m%6 \u001b[0m= \u001b[96m\u001b[1mfadd\u001b[22m\u001b[39m \u001b[36mdouble\u001b[39m \u001b[0m%5\u001b[0m, \u001b[33m-1.000000e+00\u001b[39m\n",
      "\u001b[90m; └\u001b[39m\n",
      "\u001b[90m; ┌ @ promotion.jl:380 within `*` @ float.jl:405\u001b[39m\n",
      "   \u001b[0m%7 \u001b[0m= \u001b[96m\u001b[1mfmul\u001b[22m\u001b[39m \u001b[36mdouble\u001b[39m \u001b[0m%6\u001b[0m, \u001b[33m5.000000e+00\u001b[39m\n",
      "\u001b[90m; └\u001b[39m\n",
      "\u001b[90m; ┌ @ promotion.jl:381 within `-` @ float.jl:402\u001b[39m\n",
      "   \u001b[0m%8 \u001b[0m= \u001b[96m\u001b[1mfadd\u001b[22m\u001b[39m \u001b[36mdouble\u001b[39m \u001b[0m%7\u001b[0m, \u001b[33m-1.000000e+00\u001b[39m\n",
      "\u001b[90m; └\u001b[39m\n",
      "\u001b[90m; ┌ @ promotion.jl:380 within `*` @ float.jl:405\u001b[39m\n",
      "   \u001b[0m%9 \u001b[0m= \u001b[96m\u001b[1mfmul\u001b[22m\u001b[39m \u001b[36mdouble\u001b[39m \u001b[0m%8\u001b[0m, \u001b[33m5.000000e+00\u001b[39m\n",
      "\u001b[90m; └\u001b[39m\n",
      "\u001b[90m; ┌ @ promotion.jl:381 within `-` @ float.jl:402\u001b[39m\n",
      "   \u001b[0m%10 \u001b[0m= \u001b[96m\u001b[1mfadd\u001b[22m\u001b[39m \u001b[36mdouble\u001b[39m \u001b[0m%9\u001b[0m, \u001b[33m-1.000000e+00\u001b[39m\n",
      "\u001b[90m; └\u001b[39m\n",
      "\u001b[90m; ┌ @ promotion.jl:380 within `*` @ float.jl:405\u001b[39m\n",
      "   \u001b[0m%11 \u001b[0m= \u001b[96m\u001b[1mfmul\u001b[22m\u001b[39m \u001b[36mdouble\u001b[39m \u001b[0m%10\u001b[0m, \u001b[33m5.000000e+00\u001b[39m\n",
      "\u001b[90m; └\u001b[39m\n",
      "\u001b[90m; ┌ @ promotion.jl:381 within `-` @ float.jl:402\u001b[39m\n",
      "   \u001b[0m%12 \u001b[0m= \u001b[96m\u001b[1mfadd\u001b[22m\u001b[39m \u001b[36mdouble\u001b[39m \u001b[0m%11\u001b[0m, \u001b[33m-1.000000e+00\u001b[39m\n",
      "\u001b[90m; └\u001b[39m\n",
      "\u001b[90m; ┌ @ promotion.jl:380 within `*` @ float.jl:405\u001b[39m\n",
      "   \u001b[0m%13 \u001b[0m= \u001b[96m\u001b[1mfmul\u001b[22m\u001b[39m \u001b[36mdouble\u001b[39m \u001b[0m%12\u001b[0m, \u001b[33m5.000000e+00\u001b[39m\n",
      "\u001b[90m; └\u001b[39m\n",
      "\u001b[90m; ┌ @ promotion.jl:381 within `-` @ float.jl:402\u001b[39m\n",
      "   \u001b[0m%14 \u001b[0m= \u001b[96m\u001b[1mfadd\u001b[22m\u001b[39m \u001b[36mdouble\u001b[39m \u001b[0m%13\u001b[0m, \u001b[33m-1.000000e+00\u001b[39m\n",
      "\u001b[90m; └\u001b[39m\n",
      "\u001b[90m; ┌ @ promotion.jl:380 within `*` @ float.jl:405\u001b[39m\n",
      "   \u001b[0m%15 \u001b[0m= \u001b[96m\u001b[1mfmul\u001b[22m\u001b[39m \u001b[36mdouble\u001b[39m \u001b[0m%14\u001b[0m, \u001b[33m5.000000e+00\u001b[39m\n",
      "\u001b[90m; └\u001b[39m\n",
      "\u001b[90m; ┌ @ promotion.jl:381 within `-` @ float.jl:402\u001b[39m\n",
      "   \u001b[0m%16 \u001b[0m= \u001b[96m\u001b[1mfadd\u001b[22m\u001b[39m \u001b[36mdouble\u001b[39m \u001b[0m%15\u001b[0m, \u001b[33m-1.000000e+00\u001b[39m\n",
      "\u001b[90m; └\u001b[39m\n",
      "\u001b[90m; ┌ @ promotion.jl:380 within `*` @ float.jl:405\u001b[39m\n",
      "   \u001b[0m%17 \u001b[0m= \u001b[96m\u001b[1mfmul\u001b[22m\u001b[39m \u001b[36mdouble\u001b[39m \u001b[0m%16\u001b[0m, \u001b[33m5.000000e+00\u001b[39m\n",
      "\u001b[90m; └\u001b[39m\n",
      "\u001b[90m; ┌ @ promotion.jl:381 within `-` @ float.jl:402\u001b[39m\n",
      "   \u001b[0m%18 \u001b[0m= \u001b[96m\u001b[1mfadd\u001b[22m\u001b[39m \u001b[36mdouble\u001b[39m \u001b[0m%17\u001b[0m, \u001b[33m-1.000000e+00\u001b[39m\n",
      "\u001b[90m; └\u001b[39m\n",
      "\u001b[90m; ┌ @ promotion.jl:380 within `*` @ float.jl:405\u001b[39m\n",
      "   \u001b[0m%19 \u001b[0m= \u001b[96m\u001b[1mfmul\u001b[22m\u001b[39m \u001b[36mdouble\u001b[39m \u001b[0m%18\u001b[0m, \u001b[33m5.000000e+00\u001b[39m\n",
      "\u001b[90m; └\u001b[39m\n",
      "\u001b[90m; ┌ @ promotion.jl:381 within `-` @ float.jl:402\u001b[39m\n",
      "   \u001b[0m%20 \u001b[0m= \u001b[96m\u001b[1mfadd\u001b[22m\u001b[39m \u001b[36mdouble\u001b[39m \u001b[0m%19\u001b[0m, \u001b[33m-1.000000e+00\u001b[39m\n",
      "\u001b[90m; └\u001b[39m\n",
      "\u001b[90m;  @ In[18]:5 within `g`\u001b[39m\n",
      "  \u001b[96m\u001b[1mret\u001b[22m\u001b[39m \u001b[36mdouble\u001b[39m \u001b[0m%20\n",
      "\u001b[33m}\u001b[39m\n"
     ]
    }
   ],
   "source": [
    "@code_llvm g(Float64(1.0))"
   ]
  },
  {
   "cell_type": "markdown",
   "metadata": {},
   "source": [
    "The first thing to notice about bitcode of g compiled with the Int64 format is that it is much shorter than the bitcode of g compiled with the Float64 format. Indeed, the bitcode of g lists two operations: multiplication of the argument by 5^10 = 9765625, and subtraction by 2441406 (more precisely, addition by -2441406). This shows that the Int64-compiled g has been simplified to a single integer multiplication and addition operation, as the following integer computations show:"
   ]
  },
  {
   "cell_type": "code",
   "execution_count": 21,
   "metadata": {},
   "outputs": [
    {
     "data": {
      "text/plain": [
       "9765625"
      ]
     },
     "execution_count": 21,
     "metadata": {},
     "output_type": "execute_result"
    }
   ],
   "source": [
    "5^10"
   ]
  },
  {
   "cell_type": "code",
   "execution_count": 22,
   "metadata": {},
   "outputs": [
    {
     "data": {
      "text/plain": [
       "-2441406"
      ]
     },
     "execution_count": 22,
     "metadata": {},
     "output_type": "execute_result"
    }
   ],
   "source": [
    "x = 0\n",
    "for i in 1:10\n",
    "    x -= 5^(i - 1)\n",
    "end\n",
    "x"
   ]
  },
  {
   "cell_type": "markdown",
   "metadata": {},
   "source": [
    "-2441406, in particular, is the result of the successive subtractions of k at each iteration of g(k), post-multiplication by 5 at each step. This is a result of code_llvm's optimization."
   ]
  },
  {
   "cell_type": "markdown",
   "metadata": {},
   "source": [
    "By contrast, the Float64-compiled g multiplies the argument k by 5 and subtracts by 1.0 (adds by -1.0) at each step, despite doing so both being less efficient computationally and more prone to error at each step."
   ]
  },
  {
   "cell_type": "markdown",
   "metadata": {},
   "source": [
    "We repeat the above steps with the @fastmath macro applied:"
   ]
  },
  {
   "cell_type": "code",
   "execution_count": 23,
   "metadata": {},
   "outputs": [
    {
     "data": {
      "text/plain": [
       "g_fastmath (generic function with 1 method)"
      ]
     },
     "execution_count": 23,
     "metadata": {},
     "output_type": "execute_result"
    }
   ],
   "source": [
    "function g_fastmath(k)  \n",
    "    @fastmath for i in 1:10  \n",
    "        k = 5k - 1\n",
    "    end\n",
    "    k\n",
    "end"
   ]
  },
  {
   "cell_type": "code",
   "execution_count": 24,
   "metadata": {},
   "outputs": [
    {
     "name": "stdout",
     "output_type": "stream",
     "text": [
      "\u001b[90m;  @ In[23]:1 within `g_fastmath`\u001b[39m\n",
      "\u001b[95mdefine\u001b[39m \u001b[36mi64\u001b[39m \u001b[93m@julia_g_fastmath_1677\u001b[39m\u001b[33m(\u001b[39m\u001b[36mi64\u001b[39m \u001b[95msignext\u001b[39m \u001b[0m%0\u001b[33m)\u001b[39m \u001b[0m#0 \u001b[33m{\u001b[39m\n",
      "\u001b[91mtop:\u001b[39m\n",
      "\u001b[90m;  @ In[23]:3 within `g_fastmath`\u001b[39m\n",
      "\u001b[90m; ┌ @ fastmath.jl:270 within `mul_fast`\u001b[39m\n",
      "\u001b[90m; │┌ @ int.jl:88 within `*`\u001b[39m\n",
      "    \u001b[0m%1 \u001b[0m= \u001b[96m\u001b[1mmul\u001b[22m\u001b[39m \u001b[36mi64\u001b[39m \u001b[0m%0\u001b[0m, \u001b[33m9765625\u001b[39m\n",
      "\u001b[90m; └└\u001b[39m\n",
      "\u001b[90m; ┌ @ fastmath.jl:270 within `sub_fast`\u001b[39m\n",
      "\u001b[90m; │┌ @ int.jl:86 within `-`\u001b[39m\n",
      "    \u001b[0m%2 \u001b[0m= \u001b[96m\u001b[1madd\u001b[22m\u001b[39m \u001b[36mi64\u001b[39m \u001b[0m%1\u001b[0m, \u001b[33m-2441406\u001b[39m\n",
      "\u001b[90m; └└\u001b[39m\n",
      "\u001b[90m;  @ In[23]:5 within `g_fastmath`\u001b[39m\n",
      "  \u001b[96m\u001b[1mret\u001b[22m\u001b[39m \u001b[36mi64\u001b[39m \u001b[0m%2\n",
      "\u001b[33m}\u001b[39m\n"
     ]
    }
   ],
   "source": [
    "@code_llvm g_fastmath(Int64(1))"
   ]
  },
  {
   "cell_type": "code",
   "execution_count": 25,
   "metadata": {},
   "outputs": [
    {
     "name": "stdout",
     "output_type": "stream",
     "text": [
      "\u001b[90m;  @ In[23]:1 within `g_fastmath`\u001b[39m\n",
      "\u001b[95mdefine\u001b[39m \u001b[36mdouble\u001b[39m \u001b[93m@julia_g_fastmath_1679\u001b[39m\u001b[33m(\u001b[39m\u001b[36mdouble\u001b[39m \u001b[0m%0\u001b[33m)\u001b[39m \u001b[0m#0 \u001b[33m{\u001b[39m\n",
      "\u001b[91mtop:\u001b[39m\n",
      "\u001b[90m;  @ In[23]:3 within `g_fastmath`\u001b[39m\n",
      "\u001b[90m; ┌ @ fastmath.jl:267 within `mul_fast` @ fastmath.jl:167\u001b[39m\n",
      "   \u001b[0m%1 \u001b[0m= \u001b[96m\u001b[1mfmul\u001b[22m\u001b[39m \u001b[95mfast\u001b[39m \u001b[36mdouble\u001b[39m \u001b[0m%0\u001b[0m, \u001b[33m0x4162A05F20000000\u001b[39m\n",
      "\u001b[90m; └\u001b[39m\n",
      "\u001b[90m; ┌ @ fastmath.jl:267 within `sub_fast` @ fastmath.jl:166\u001b[39m\n",
      "   \u001b[0m%2 \u001b[0m= \u001b[96m\u001b[1mfadd\u001b[22m\u001b[39m \u001b[95mfast\u001b[39m \u001b[36mdouble\u001b[39m \u001b[0m%1\u001b[0m, \u001b[33m0xC142A05F00000000\u001b[39m\n",
      "\u001b[90m; └\u001b[39m\n",
      "\u001b[90m;  @ In[23]:5 within `g_fastmath`\u001b[39m\n",
      "  \u001b[96m\u001b[1mret\u001b[22m\u001b[39m \u001b[36mdouble\u001b[39m \u001b[0m%2\n",
      "\u001b[33m}\u001b[39m\n"
     ]
    }
   ],
   "source": [
    "@code_llvm g_fastmath(Float64(1.0))"
   ]
  },
  {
   "cell_type": "code",
   "execution_count": 26,
   "metadata": {},
   "outputs": [
    {
     "data": {
      "text/plain": [
       "7324219"
      ]
     },
     "execution_count": 26,
     "metadata": {},
     "output_type": "execute_result"
    }
   ],
   "source": [
    "g_fastmath(Int64(1))"
   ]
  },
  {
   "cell_type": "code",
   "execution_count": 27,
   "metadata": {},
   "outputs": [
    {
     "data": {
      "text/plain": [
       "7.324219e6"
      ]
     },
     "execution_count": 27,
     "metadata": {},
     "output_type": "execute_result"
    }
   ],
   "source": [
    "g_fastmath(Float64(1.0))"
   ]
  },
  {
   "cell_type": "markdown",
   "metadata": {},
   "source": [
    "We see that the @fastmath macro has simplified the g_fastmath function compiled with the Float64 argument to two steps, like g with the Int64 argument. @fastmath simplifies the operations to mathematically equivalent forms; some of its optimizations break the rules of the IEEE 754 standard. The optimizations may be divided into some specific optimizations, such as those that assume NaN's and Inf's will not be passed into the function, or others that may reduce accuracy such as assuming the associative property of addition and multiplication may hold."
   ]
  },
  {
   "cell_type": "markdown",
   "metadata": {},
   "source": [
    "## Q4\n",
    "\n",
    "Create the vector `x = (0.988, 0.989, 0.990, ..., 1.010, 1.011, 1.012)`.   \n",
    "\n",
    "1. Plot the polynomial `y = x^7 - 7x^6 + 21x^5 - 35x^4 + 35x^3 - 21x^2 + 7x - 1` at points `x`.  \n",
    "\n",
    "2. Plot the polynomial `y = (x - 1)^7` at points `x`.  \n",
    "\n",
    "3. Explain what you found."
   ]
  },
  {
   "cell_type": "markdown",
   "metadata": {},
   "source": [
    "### Answer"
   ]
  },
  {
   "cell_type": "code",
   "execution_count": 28,
   "metadata": {},
   "outputs": [
    {
     "data": {
      "text/plain": [
       "25-element Vector{Float64}:\n",
       " 0.988\n",
       " 0.989\n",
       " 0.99\n",
       " 0.991\n",
       " 0.992\n",
       " 0.993\n",
       " 0.994\n",
       " 0.995\n",
       " 0.996\n",
       " 0.997\n",
       " 0.998\n",
       " 0.999\n",
       " 1.0\n",
       " 1.001\n",
       " 1.002\n",
       " 1.003\n",
       " 1.004\n",
       " 1.005\n",
       " 1.006\n",
       " 1.007\n",
       " 1.008\n",
       " 1.009\n",
       " 1.01\n",
       " 1.011\n",
       " 1.012"
      ]
     },
     "execution_count": 28,
     "metadata": {},
     "output_type": "execute_result"
    }
   ],
   "source": [
    "x = collect(0.988:0.001:1.012)"
   ]
  },
  {
   "cell_type": "code",
   "execution_count": 29,
   "metadata": {},
   "outputs": [
    {
     "data": {
      "text/plain": [
       "y1 (generic function with 1 method)"
      ]
     },
     "execution_count": 29,
     "metadata": {},
     "output_type": "execute_result"
    }
   ],
   "source": [
    "function y1(x::Float64)\n",
    "    x^7 - 7x^6 + 21x^5 - 35x^4 + 35x^3 - 21x^2 + 7x - 1\n",
    "end"
   ]
  },
  {
   "cell_type": "code",
   "execution_count": 30,
   "metadata": {},
   "outputs": [
    {
     "data": {
      "text/plain": [
       "y2 (generic function with 1 method)"
      ]
     },
     "execution_count": 30,
     "metadata": {},
     "output_type": "execute_result"
    }
   ],
   "source": [
    "function y2(x::Float64)\n",
    "    (x - 1)^7\n",
    "end"
   ]
  },
  {
   "cell_type": "code",
   "execution_count": 31,
   "metadata": {},
   "outputs": [
    {
     "data": {
      "text/plain": [
       "25-element Vector{Float64}:\n",
       " -3.583180800000022e-14\n",
       " -1.9487171000000122e-14\n",
       " -1.0000000000000062e-14\n",
       " -4.78296900000003e-15\n",
       " -2.0971520000000132e-15\n",
       " -8.235430000000051e-16\n",
       " -2.7993600000000173e-16\n",
       " -7.812500000000048e-17\n",
       " -1.6384000000000103e-17\n",
       " -2.1870000000000135e-18\n",
       " -1.280000000000008e-19\n",
       " -1.0000000000000063e-21\n",
       "  0.0\n",
       "  9.99999999999229e-22\n",
       "  1.280000000000008e-19\n",
       "  2.186999999999447e-18\n",
       "  1.6384000000000103e-17\n",
       "  7.812499999998834e-17\n",
       "  2.7993600000000173e-16\n",
       "  8.235429999999137e-16\n",
       "  2.0971520000000132e-15\n",
       "  4.7829689999996165e-15\n",
       "  1.0000000000000062e-14\n",
       "  1.9487170999998743e-14\n",
       "  3.583180800000022e-14"
      ]
     },
     "execution_count": 31,
     "metadata": {},
     "output_type": "execute_result"
    }
   ],
   "source": [
    "y1s = map(x -> y1(x), x)\n",
    "y2s = map(x -> y2(x), x)"
   ]
  },
  {
   "cell_type": "code",
   "execution_count": 32,
   "metadata": {},
   "outputs": [
    {
     "data": {
      "image/svg+xml": [
       "<?xml version=\"1.0\" encoding=\"utf-8\"?>\n",
       "<svg xmlns=\"http://www.w3.org/2000/svg\" xmlns:xlink=\"http://www.w3.org/1999/xlink\" width=\"600\" height=\"400\" viewBox=\"0 0 2400 1600\">\n",
       "<defs>\n",
       "  <clipPath id=\"clip330\">\n",
       "    <rect x=\"0\" y=\"0\" width=\"2400\" height=\"1600\"/>\n",
       "  </clipPath>\n",
       "</defs>\n",
       "<path clip-path=\"url(#clip330)\" d=\"\n",
       "M0 1600 L2400 1600 L2400 0 L0 0  Z\n",
       "  \" fill=\"#ffffff\" fill-rule=\"evenodd\" fill-opacity=\"1\"/>\n",
       "<defs>\n",
       "  <clipPath id=\"clip331\">\n",
       "    <rect x=\"480\" y=\"0\" width=\"1681\" height=\"1600\"/>\n",
       "  </clipPath>\n",
       "</defs>\n",
       "<path clip-path=\"url(#clip330)\" d=\"\n",
       "M369.025 1486.45 L2352.76 1486.45 L2352.76 47.2441 L369.025 47.2441  Z\n",
       "  \" fill=\"#ffffff\" fill-rule=\"evenodd\" fill-opacity=\"1\"/>\n",
       "<defs>\n",
       "  <clipPath id=\"clip332\">\n",
       "    <rect x=\"369\" y=\"47\" width=\"1985\" height=\"1440\"/>\n",
       "  </clipPath>\n",
       "</defs>\n",
       "<polyline clip-path=\"url(#clip332)\" style=\"stroke:#000000; stroke-linecap:butt; stroke-linejoin:round; stroke-width:2; stroke-opacity:0.1; fill:none\" points=\"\n",
       "  581.122,1486.45 581.122,47.2441 \n",
       "  \"/>\n",
       "<polyline clip-path=\"url(#clip332)\" style=\"stroke:#000000; stroke-linecap:butt; stroke-linejoin:round; stroke-width:2; stroke-opacity:0.1; fill:none\" points=\"\n",
       "  971.006,1486.45 971.006,47.2441 \n",
       "  \"/>\n",
       "<polyline clip-path=\"url(#clip332)\" style=\"stroke:#000000; stroke-linecap:butt; stroke-linejoin:round; stroke-width:2; stroke-opacity:0.1; fill:none\" points=\"\n",
       "  1360.89,1486.45 1360.89,47.2441 \n",
       "  \"/>\n",
       "<polyline clip-path=\"url(#clip332)\" style=\"stroke:#000000; stroke-linecap:butt; stroke-linejoin:round; stroke-width:2; stroke-opacity:0.1; fill:none\" points=\"\n",
       "  1750.77,1486.45 1750.77,47.2441 \n",
       "  \"/>\n",
       "<polyline clip-path=\"url(#clip332)\" style=\"stroke:#000000; stroke-linecap:butt; stroke-linejoin:round; stroke-width:2; stroke-opacity:0.1; fill:none\" points=\"\n",
       "  2140.66,1486.45 2140.66,47.2441 \n",
       "  \"/>\n",
       "<polyline clip-path=\"url(#clip330)\" style=\"stroke:#000000; stroke-linecap:butt; stroke-linejoin:round; stroke-width:4; stroke-opacity:1; fill:none\" points=\"\n",
       "  369.025,1486.45 2352.76,1486.45 \n",
       "  \"/>\n",
       "<polyline clip-path=\"url(#clip330)\" style=\"stroke:#000000; stroke-linecap:butt; stroke-linejoin:round; stroke-width:4; stroke-opacity:1; fill:none\" points=\"\n",
       "  581.122,1486.45 581.122,1467.55 \n",
       "  \"/>\n",
       "<polyline clip-path=\"url(#clip330)\" style=\"stroke:#000000; stroke-linecap:butt; stroke-linejoin:round; stroke-width:4; stroke-opacity:1; fill:none\" points=\"\n",
       "  971.006,1486.45 971.006,1467.55 \n",
       "  \"/>\n",
       "<polyline clip-path=\"url(#clip330)\" style=\"stroke:#000000; stroke-linecap:butt; stroke-linejoin:round; stroke-width:4; stroke-opacity:1; fill:none\" points=\"\n",
       "  1360.89,1486.45 1360.89,1467.55 \n",
       "  \"/>\n",
       "<polyline clip-path=\"url(#clip330)\" style=\"stroke:#000000; stroke-linecap:butt; stroke-linejoin:round; stroke-width:4; stroke-opacity:1; fill:none\" points=\"\n",
       "  1750.77,1486.45 1750.77,1467.55 \n",
       "  \"/>\n",
       "<polyline clip-path=\"url(#clip330)\" style=\"stroke:#000000; stroke-linecap:butt; stroke-linejoin:round; stroke-width:4; stroke-opacity:1; fill:none\" points=\"\n",
       "  2140.66,1486.45 2140.66,1467.55 \n",
       "  \"/>\n",
       "<path clip-path=\"url(#clip330)\" d=\"M528.344 1517.37 Q524.733 1517.37 522.905 1520.93 Q521.099 1524.47 521.099 1531.6 Q521.099 1538.71 522.905 1542.27 Q524.733 1545.82 528.344 1545.82 Q531.979 1545.82 533.784 1542.27 Q535.613 1538.71 535.613 1531.6 Q535.613 1524.47 533.784 1520.93 Q531.979 1517.37 528.344 1517.37 M528.344 1513.66 Q534.154 1513.66 537.21 1518.27 Q540.289 1522.85 540.289 1531.6 Q540.289 1540.33 537.21 1544.94 Q534.154 1549.52 528.344 1549.52 Q522.534 1549.52 519.455 1544.94 Q516.4 1540.33 516.4 1531.6 Q516.4 1522.85 519.455 1518.27 Q522.534 1513.66 528.344 1513.66 Z\" fill=\"#000000\" fill-rule=\"evenodd\" fill-opacity=\"1\" /><path clip-path=\"url(#clip330)\" d=\"M548.506 1542.97 L553.39 1542.97 L553.39 1548.85 L548.506 1548.85 L548.506 1542.97 Z\" fill=\"#000000\" fill-rule=\"evenodd\" fill-opacity=\"1\" /><path clip-path=\"url(#clip330)\" d=\"M563.714 1548.13 L563.714 1543.87 Q565.474 1544.7 567.279 1545.14 Q569.085 1545.58 570.821 1545.58 Q575.451 1545.58 577.881 1542.48 Q580.335 1539.36 580.682 1533.01 Q579.339 1535.01 577.279 1536.07 Q575.219 1537.13 572.719 1537.13 Q567.534 1537.13 564.502 1534.01 Q561.492 1530.86 561.492 1525.42 Q561.492 1520.1 564.64 1516.88 Q567.789 1513.66 573.02 1513.66 Q579.015 1513.66 582.163 1518.27 Q585.335 1522.85 585.335 1531.6 Q585.335 1539.77 581.446 1544.66 Q577.58 1549.52 571.029 1549.52 Q569.27 1549.52 567.464 1549.17 Q565.659 1548.82 563.714 1548.13 M573.02 1533.48 Q576.168 1533.48 577.997 1531.32 Q579.849 1529.17 579.849 1525.42 Q579.849 1521.7 577.997 1519.54 Q576.168 1517.37 573.02 1517.37 Q569.872 1517.37 568.02 1519.54 Q566.191 1521.7 566.191 1525.42 Q566.191 1529.17 568.02 1531.32 Q569.872 1533.48 573.02 1533.48 Z\" fill=\"#000000\" fill-rule=\"evenodd\" fill-opacity=\"1\" /><path clip-path=\"url(#clip330)\" d=\"M593.876 1548.13 L593.876 1543.87 Q595.636 1544.7 597.441 1545.14 Q599.247 1545.58 600.983 1545.58 Q605.612 1545.58 608.043 1542.48 Q610.497 1539.36 610.844 1533.01 Q609.501 1535.01 607.441 1536.07 Q605.381 1537.13 602.881 1537.13 Q597.696 1537.13 594.663 1534.01 Q591.654 1530.86 591.654 1525.42 Q591.654 1520.1 594.802 1516.88 Q597.95 1513.66 603.182 1513.66 Q609.177 1513.66 612.325 1518.27 Q615.497 1522.85 615.497 1531.6 Q615.497 1539.77 611.608 1544.66 Q607.742 1549.52 601.191 1549.52 Q599.432 1549.52 597.626 1549.17 Q595.821 1548.82 593.876 1548.13 M603.182 1533.48 Q606.33 1533.48 608.159 1531.32 Q610.011 1529.17 610.011 1525.42 Q610.011 1521.7 608.159 1519.54 Q606.33 1517.37 603.182 1517.37 Q600.034 1517.37 598.182 1519.54 Q596.353 1521.7 596.353 1525.42 Q596.353 1529.17 598.182 1531.32 Q600.034 1533.48 603.182 1533.48 Z\" fill=\"#000000\" fill-rule=\"evenodd\" fill-opacity=\"1\" /><path clip-path=\"url(#clip330)\" d=\"M633.899 1517.37 Q630.288 1517.37 628.46 1520.93 Q626.654 1524.47 626.654 1531.6 Q626.654 1538.71 628.46 1542.27 Q630.288 1545.82 633.899 1545.82 Q637.534 1545.82 639.339 1542.27 Q641.168 1538.71 641.168 1531.6 Q641.168 1524.47 639.339 1520.93 Q637.534 1517.37 633.899 1517.37 M633.899 1513.66 Q639.709 1513.66 642.765 1518.27 Q645.844 1522.85 645.844 1531.6 Q645.844 1540.33 642.765 1544.94 Q639.709 1549.52 633.899 1549.52 Q628.089 1549.52 625.01 1544.94 Q621.955 1540.33 621.955 1531.6 Q621.955 1522.85 625.01 1518.27 Q628.089 1513.66 633.899 1513.66 Z\" fill=\"#000000\" fill-rule=\"evenodd\" fill-opacity=\"1\" /><path clip-path=\"url(#clip330)\" d=\"M918.726 1517.37 Q915.115 1517.37 913.286 1520.93 Q911.481 1524.47 911.481 1531.6 Q911.481 1538.71 913.286 1542.27 Q915.115 1545.82 918.726 1545.82 Q922.36 1545.82 924.166 1542.27 Q925.995 1538.71 925.995 1531.6 Q925.995 1524.47 924.166 1520.93 Q922.36 1517.37 918.726 1517.37 M918.726 1513.66 Q924.536 1513.66 927.592 1518.27 Q930.671 1522.85 930.671 1531.6 Q930.671 1540.33 927.592 1544.94 Q924.536 1549.52 918.726 1549.52 Q912.916 1549.52 909.837 1544.94 Q906.782 1540.33 906.782 1531.6 Q906.782 1522.85 909.837 1518.27 Q912.916 1513.66 918.726 1513.66 Z\" fill=\"#000000\" fill-rule=\"evenodd\" fill-opacity=\"1\" /><path clip-path=\"url(#clip330)\" d=\"M938.888 1542.97 L943.772 1542.97 L943.772 1548.85 L938.888 1548.85 L938.888 1542.97 Z\" fill=\"#000000\" fill-rule=\"evenodd\" fill-opacity=\"1\" /><path clip-path=\"url(#clip330)\" d=\"M954.096 1548.13 L954.096 1543.87 Q955.856 1544.7 957.661 1545.14 Q959.467 1545.58 961.203 1545.58 Q965.832 1545.58 968.263 1542.48 Q970.717 1539.36 971.064 1533.01 Q969.721 1535.01 967.661 1536.07 Q965.601 1537.13 963.101 1537.13 Q957.916 1537.13 954.883 1534.01 Q951.874 1530.86 951.874 1525.42 Q951.874 1520.1 955.022 1516.88 Q958.17 1513.66 963.402 1513.66 Q969.397 1513.66 972.545 1518.27 Q975.717 1522.85 975.717 1531.6 Q975.717 1539.77 971.828 1544.66 Q967.962 1549.52 961.411 1549.52 Q959.652 1549.52 957.846 1549.17 Q956.041 1548.82 954.096 1548.13 M963.402 1533.48 Q966.55 1533.48 968.379 1531.32 Q970.231 1529.17 970.231 1525.42 Q970.231 1521.7 968.379 1519.54 Q966.55 1517.37 963.402 1517.37 Q960.254 1517.37 958.402 1519.54 Q956.573 1521.7 956.573 1525.42 Q956.573 1529.17 958.402 1531.32 Q960.254 1533.48 963.402 1533.48 Z\" fill=\"#000000\" fill-rule=\"evenodd\" fill-opacity=\"1\" /><path clip-path=\"url(#clip330)\" d=\"M984.258 1548.13 L984.258 1543.87 Q986.018 1544.7 987.823 1545.14 Q989.629 1545.58 991.365 1545.58 Q995.994 1545.58 998.425 1542.48 Q1000.88 1539.36 1001.23 1533.01 Q999.883 1535.01 997.823 1536.07 Q995.763 1537.13 993.263 1537.13 Q988.078 1537.13 985.045 1534.01 Q982.036 1530.86 982.036 1525.42 Q982.036 1520.1 985.184 1516.88 Q988.332 1513.66 993.564 1513.66 Q999.559 1513.66 1002.71 1518.27 Q1005.88 1522.85 1005.88 1531.6 Q1005.88 1539.77 1001.99 1544.66 Q998.124 1549.52 991.573 1549.52 Q989.814 1549.52 988.008 1549.17 Q986.203 1548.82 984.258 1548.13 M993.564 1533.48 Q996.712 1533.48 998.541 1531.32 Q1000.39 1529.17 1000.39 1525.42 Q1000.39 1521.7 998.541 1519.54 Q996.712 1517.37 993.564 1517.37 Q990.416 1517.37 988.564 1519.54 Q986.735 1521.7 986.735 1525.42 Q986.735 1529.17 988.564 1531.32 Q990.416 1533.48 993.564 1533.48 Z\" fill=\"#000000\" fill-rule=\"evenodd\" fill-opacity=\"1\" /><path clip-path=\"url(#clip330)\" d=\"M1014.33 1514.29 L1032.68 1514.29 L1032.68 1518.22 L1018.61 1518.22 L1018.61 1526.7 Q1019.63 1526.35 1020.65 1526.19 Q1021.67 1526 1022.68 1526 Q1028.47 1526 1031.85 1529.17 Q1035.23 1532.34 1035.23 1537.76 Q1035.23 1543.34 1031.76 1546.44 Q1028.29 1549.52 1021.97 1549.52 Q1019.79 1549.52 1017.52 1549.15 Q1015.28 1548.78 1012.87 1548.04 L1012.87 1543.34 Q1014.95 1544.47 1017.17 1545.03 Q1019.4 1545.58 1021.87 1545.58 Q1025.88 1545.58 1028.22 1543.48 Q1030.55 1541.37 1030.55 1537.76 Q1030.55 1534.15 1028.22 1532.04 Q1025.88 1529.94 1021.87 1529.94 Q1020 1529.94 1018.12 1530.35 Q1016.27 1530.77 1014.33 1531.65 L1014.33 1514.29 Z\" fill=\"#000000\" fill-rule=\"evenodd\" fill-opacity=\"1\" /><path clip-path=\"url(#clip330)\" d=\"M1297.88 1544.91 L1305.52 1544.91 L1305.52 1518.55 L1297.21 1520.21 L1297.21 1515.95 L1305.47 1514.29 L1310.15 1514.29 L1310.15 1544.91 L1317.79 1544.91 L1317.79 1548.85 L1297.88 1548.85 L1297.88 1544.91 Z\" fill=\"#000000\" fill-rule=\"evenodd\" fill-opacity=\"1\" /><path clip-path=\"url(#clip330)\" d=\"M1327.23 1542.97 L1332.12 1542.97 L1332.12 1548.85 L1327.23 1548.85 L1327.23 1542.97 Z\" fill=\"#000000\" fill-rule=\"evenodd\" fill-opacity=\"1\" /><path clip-path=\"url(#clip330)\" d=\"M1352.3 1517.37 Q1348.69 1517.37 1346.86 1520.93 Q1345.06 1524.47 1345.06 1531.6 Q1345.06 1538.71 1346.86 1542.27 Q1348.69 1545.82 1352.3 1545.82 Q1355.94 1545.82 1357.74 1542.27 Q1359.57 1538.71 1359.57 1531.6 Q1359.57 1524.47 1357.74 1520.93 Q1355.94 1517.37 1352.3 1517.37 M1352.3 1513.66 Q1358.11 1513.66 1361.17 1518.27 Q1364.25 1522.85 1364.25 1531.6 Q1364.25 1540.33 1361.17 1544.94 Q1358.11 1549.52 1352.3 1549.52 Q1346.49 1549.52 1343.41 1544.94 Q1340.36 1540.33 1340.36 1531.6 Q1340.36 1522.85 1343.41 1518.27 Q1346.49 1513.66 1352.3 1513.66 Z\" fill=\"#000000\" fill-rule=\"evenodd\" fill-opacity=\"1\" /><path clip-path=\"url(#clip330)\" d=\"M1382.46 1517.37 Q1378.85 1517.37 1377.02 1520.93 Q1375.22 1524.47 1375.22 1531.6 Q1375.22 1538.71 1377.02 1542.27 Q1378.85 1545.82 1382.46 1545.82 Q1386.1 1545.82 1387.9 1542.27 Q1389.73 1538.71 1389.73 1531.6 Q1389.73 1524.47 1387.9 1520.93 Q1386.1 1517.37 1382.46 1517.37 M1382.46 1513.66 Q1388.27 1513.66 1391.33 1518.27 Q1394.41 1522.85 1394.41 1531.6 Q1394.41 1540.33 1391.33 1544.94 Q1388.27 1549.52 1382.46 1549.52 Q1376.65 1549.52 1373.58 1544.94 Q1370.52 1540.33 1370.52 1531.6 Q1370.52 1522.85 1373.58 1518.27 Q1376.65 1513.66 1382.46 1513.66 Z\" fill=\"#000000\" fill-rule=\"evenodd\" fill-opacity=\"1\" /><path clip-path=\"url(#clip330)\" d=\"M1412.63 1517.37 Q1409.02 1517.37 1407.19 1520.93 Q1405.38 1524.47 1405.38 1531.6 Q1405.38 1538.71 1407.19 1542.27 Q1409.02 1545.82 1412.63 1545.82 Q1416.26 1545.82 1418.07 1542.27 Q1419.89 1538.71 1419.89 1531.6 Q1419.89 1524.47 1418.07 1520.93 Q1416.26 1517.37 1412.63 1517.37 M1412.63 1513.66 Q1418.44 1513.66 1421.49 1518.27 Q1424.57 1522.85 1424.57 1531.6 Q1424.57 1540.33 1421.49 1544.94 Q1418.44 1549.52 1412.63 1549.52 Q1406.82 1549.52 1403.74 1544.94 Q1400.68 1540.33 1400.68 1531.6 Q1400.68 1522.85 1403.74 1518.27 Q1406.82 1513.66 1412.63 1513.66 Z\" fill=\"#000000\" fill-rule=\"evenodd\" fill-opacity=\"1\" /><path clip-path=\"url(#clip330)\" d=\"M1688.26 1544.91 L1695.9 1544.91 L1695.9 1518.55 L1687.59 1520.21 L1687.59 1515.95 L1695.86 1514.29 L1700.53 1514.29 L1700.53 1544.91 L1708.17 1544.91 L1708.17 1548.85 L1688.26 1548.85 L1688.26 1544.91 Z\" fill=\"#000000\" fill-rule=\"evenodd\" fill-opacity=\"1\" /><path clip-path=\"url(#clip330)\" d=\"M1717.62 1542.97 L1722.5 1542.97 L1722.5 1548.85 L1717.62 1548.85 L1717.62 1542.97 Z\" fill=\"#000000\" fill-rule=\"evenodd\" fill-opacity=\"1\" /><path clip-path=\"url(#clip330)\" d=\"M1742.68 1517.37 Q1739.07 1517.37 1737.24 1520.93 Q1735.44 1524.47 1735.44 1531.6 Q1735.44 1538.71 1737.24 1542.27 Q1739.07 1545.82 1742.68 1545.82 Q1746.32 1545.82 1748.12 1542.27 Q1749.95 1538.71 1749.95 1531.6 Q1749.95 1524.47 1748.12 1520.93 Q1746.32 1517.37 1742.68 1517.37 M1742.68 1513.66 Q1748.49 1513.66 1751.55 1518.27 Q1754.63 1522.85 1754.63 1531.6 Q1754.63 1540.33 1751.55 1544.94 Q1748.49 1549.52 1742.68 1549.52 Q1736.87 1549.52 1733.8 1544.94 Q1730.74 1540.33 1730.74 1531.6 Q1730.74 1522.85 1733.8 1518.27 Q1736.87 1513.66 1742.68 1513.66 Z\" fill=\"#000000\" fill-rule=\"evenodd\" fill-opacity=\"1\" /><path clip-path=\"url(#clip330)\" d=\"M1772.85 1517.37 Q1769.24 1517.37 1767.41 1520.93 Q1765.6 1524.47 1765.6 1531.6 Q1765.6 1538.71 1767.41 1542.27 Q1769.24 1545.82 1772.85 1545.82 Q1776.48 1545.82 1778.29 1542.27 Q1780.11 1538.71 1780.11 1531.6 Q1780.11 1524.47 1778.29 1520.93 Q1776.48 1517.37 1772.85 1517.37 M1772.85 1513.66 Q1778.66 1513.66 1781.71 1518.27 Q1784.79 1522.85 1784.79 1531.6 Q1784.79 1540.33 1781.71 1544.94 Q1778.66 1549.52 1772.85 1549.52 Q1767.04 1549.52 1763.96 1544.94 Q1760.9 1540.33 1760.9 1531.6 Q1760.9 1522.85 1763.96 1518.27 Q1767.04 1513.66 1772.85 1513.66 Z\" fill=\"#000000\" fill-rule=\"evenodd\" fill-opacity=\"1\" /><path clip-path=\"url(#clip330)\" d=\"M1793.05 1514.29 L1811.41 1514.29 L1811.41 1518.22 L1797.34 1518.22 L1797.34 1526.7 Q1798.36 1526.35 1799.37 1526.19 Q1800.39 1526 1801.41 1526 Q1807.2 1526 1810.58 1529.17 Q1813.96 1532.34 1813.96 1537.76 Q1813.96 1543.34 1810.48 1546.44 Q1807.01 1549.52 1800.69 1549.52 Q1798.52 1549.52 1796.25 1549.15 Q1794 1548.78 1791.6 1548.04 L1791.6 1543.34 Q1793.68 1544.47 1795.9 1545.03 Q1798.12 1545.58 1800.6 1545.58 Q1804.61 1545.58 1806.94 1543.48 Q1809.28 1541.37 1809.28 1537.76 Q1809.28 1534.15 1806.94 1532.04 Q1804.61 1529.94 1800.6 1529.94 Q1798.73 1529.94 1796.85 1530.35 Q1795 1530.77 1793.05 1531.65 L1793.05 1514.29 Z\" fill=\"#000000\" fill-rule=\"evenodd\" fill-opacity=\"1\" /><path clip-path=\"url(#clip330)\" d=\"M2077.65 1544.91 L2085.29 1544.91 L2085.29 1518.55 L2076.98 1520.21 L2076.98 1515.95 L2085.24 1514.29 L2089.92 1514.29 L2089.92 1544.91 L2097.56 1544.91 L2097.56 1548.85 L2077.65 1548.85 L2077.65 1544.91 Z\" fill=\"#000000\" fill-rule=\"evenodd\" fill-opacity=\"1\" /><path clip-path=\"url(#clip330)\" d=\"M2107 1542.97 L2111.89 1542.97 L2111.89 1548.85 L2107 1548.85 L2107 1542.97 Z\" fill=\"#000000\" fill-rule=\"evenodd\" fill-opacity=\"1\" /><path clip-path=\"url(#clip330)\" d=\"M2132.07 1517.37 Q2128.46 1517.37 2126.63 1520.93 Q2124.83 1524.47 2124.83 1531.6 Q2124.83 1538.71 2126.63 1542.27 Q2128.46 1545.82 2132.07 1545.82 Q2135.71 1545.82 2137.51 1542.27 Q2139.34 1538.71 2139.34 1531.6 Q2139.34 1524.47 2137.51 1520.93 Q2135.71 1517.37 2132.07 1517.37 M2132.07 1513.66 Q2137.88 1513.66 2140.94 1518.27 Q2144.02 1522.85 2144.02 1531.6 Q2144.02 1540.33 2140.94 1544.94 Q2137.88 1549.52 2132.07 1549.52 Q2126.26 1549.52 2123.18 1544.94 Q2120.13 1540.33 2120.13 1531.6 Q2120.13 1522.85 2123.18 1518.27 Q2126.26 1513.66 2132.07 1513.66 Z\" fill=\"#000000\" fill-rule=\"evenodd\" fill-opacity=\"1\" /><path clip-path=\"url(#clip330)\" d=\"M2153.04 1544.91 L2160.68 1544.91 L2160.68 1518.55 L2152.37 1520.21 L2152.37 1515.95 L2160.64 1514.29 L2165.31 1514.29 L2165.31 1544.91 L2172.95 1544.91 L2172.95 1548.85 L2153.04 1548.85 L2153.04 1544.91 Z\" fill=\"#000000\" fill-rule=\"evenodd\" fill-opacity=\"1\" /><path clip-path=\"url(#clip330)\" d=\"M2192.39 1517.37 Q2188.78 1517.37 2186.95 1520.93 Q2185.15 1524.47 2185.15 1531.6 Q2185.15 1538.71 2186.95 1542.27 Q2188.78 1545.82 2192.39 1545.82 Q2196.03 1545.82 2197.83 1542.27 Q2199.66 1538.71 2199.66 1531.6 Q2199.66 1524.47 2197.83 1520.93 Q2196.03 1517.37 2192.39 1517.37 M2192.39 1513.66 Q2198.2 1513.66 2201.26 1518.27 Q2204.34 1522.85 2204.34 1531.6 Q2204.34 1540.33 2201.26 1544.94 Q2198.2 1549.52 2192.39 1549.52 Q2186.58 1549.52 2183.51 1544.94 Q2180.45 1540.33 2180.45 1531.6 Q2180.45 1522.85 2183.51 1518.27 Q2186.58 1513.66 2192.39 1513.66 Z\" fill=\"#000000\" fill-rule=\"evenodd\" fill-opacity=\"1\" /><polyline clip-path=\"url(#clip332)\" style=\"stroke:#000000; stroke-linecap:butt; stroke-linejoin:round; stroke-width:2; stroke-opacity:0.1; fill:none\" points=\"\n",
       "  369.025,1187.72 2352.76,1187.72 \n",
       "  \"/>\n",
       "<polyline clip-path=\"url(#clip332)\" style=\"stroke:#000000; stroke-linecap:butt; stroke-linejoin:round; stroke-width:2; stroke-opacity:0.1; fill:none\" points=\"\n",
       "  369.025,855.394 2352.76,855.394 \n",
       "  \"/>\n",
       "<polyline clip-path=\"url(#clip332)\" style=\"stroke:#000000; stroke-linecap:butt; stroke-linejoin:round; stroke-width:2; stroke-opacity:0.1; fill:none\" points=\"\n",
       "  369.025,523.073 2352.76,523.073 \n",
       "  \"/>\n",
       "<polyline clip-path=\"url(#clip332)\" style=\"stroke:#000000; stroke-linecap:butt; stroke-linejoin:round; stroke-width:2; stroke-opacity:0.1; fill:none\" points=\"\n",
       "  369.025,190.751 2352.76,190.751 \n",
       "  \"/>\n",
       "<polyline clip-path=\"url(#clip330)\" style=\"stroke:#000000; stroke-linecap:butt; stroke-linejoin:round; stroke-width:4; stroke-opacity:1; fill:none\" points=\"\n",
       "  369.025,1486.45 369.025,47.2441 \n",
       "  \"/>\n",
       "<polyline clip-path=\"url(#clip330)\" style=\"stroke:#000000; stroke-linecap:butt; stroke-linejoin:round; stroke-width:4; stroke-opacity:1; fill:none\" points=\"\n",
       "  369.025,1187.72 387.922,1187.72 \n",
       "  \"/>\n",
       "<polyline clip-path=\"url(#clip330)\" style=\"stroke:#000000; stroke-linecap:butt; stroke-linejoin:round; stroke-width:4; stroke-opacity:1; fill:none\" points=\"\n",
       "  369.025,855.394 387.922,855.394 \n",
       "  \"/>\n",
       "<polyline clip-path=\"url(#clip330)\" style=\"stroke:#000000; stroke-linecap:butt; stroke-linejoin:round; stroke-width:4; stroke-opacity:1; fill:none\" points=\"\n",
       "  369.025,523.073 387.922,523.073 \n",
       "  \"/>\n",
       "<polyline clip-path=\"url(#clip330)\" style=\"stroke:#000000; stroke-linecap:butt; stroke-linejoin:round; stroke-width:4; stroke-opacity:1; fill:none\" points=\"\n",
       "  369.025,190.751 387.922,190.751 \n",
       "  \"/>\n",
       "<path clip-path=\"url(#clip330)\" d=\"M50.9921 1194.61 L80.6679 1194.61 L80.6679 1198.55 L50.9921 1198.55 L50.9921 1194.61 Z\" fill=\"#000000\" fill-rule=\"evenodd\" fill-opacity=\"1\" /><path clip-path=\"url(#clip330)\" d=\"M94.7882 1207.51 L111.108 1207.51 L111.108 1211.44 L89.1632 1211.44 L89.1632 1207.51 Q91.8252 1204.75 96.4085 1200.12 Q101.015 1195.47 102.196 1194.13 Q104.441 1191.61 105.321 1189.87 Q106.223 1188.11 106.223 1186.42 Q106.223 1183.67 104.279 1181.93 Q102.358 1180.19 99.2558 1180.19 Q97.0567 1180.19 94.603 1180.96 Q92.1725 1181.72 89.3947 1183.27 L89.3947 1178.55 Q92.2188 1177.42 94.6724 1176.84 Q97.1261 1176.26 99.1632 1176.26 Q104.534 1176.26 107.728 1178.94 Q110.922 1181.63 110.922 1186.12 Q110.922 1188.25 110.112 1190.17 Q109.325 1192.07 107.219 1194.66 Q106.64 1195.33 103.538 1198.55 Q100.436 1201.74 94.7882 1207.51 Z\" fill=\"#000000\" fill-rule=\"evenodd\" fill-opacity=\"1\" /><path clip-path=\"url(#clip330)\" d=\"M120.922 1205.56 L125.807 1205.56 L125.807 1211.44 L120.922 1211.44 L120.922 1205.56 Z\" fill=\"#000000\" fill-rule=\"evenodd\" fill-opacity=\"1\" /><path clip-path=\"url(#clip330)\" d=\"M145.992 1179.96 Q142.381 1179.96 140.552 1183.53 Q138.746 1187.07 138.746 1194.2 Q138.746 1201.3 140.552 1204.87 Q142.381 1208.41 145.992 1208.41 Q149.626 1208.41 151.431 1204.87 Q153.26 1201.3 153.26 1194.2 Q153.26 1187.07 151.431 1183.53 Q149.626 1179.96 145.992 1179.96 M145.992 1176.26 Q151.802 1176.26 154.857 1180.86 Q157.936 1185.45 157.936 1194.2 Q157.936 1202.92 154.857 1207.53 Q151.802 1212.11 145.992 1212.11 Q140.181 1212.11 137.103 1207.53 Q134.047 1202.92 134.047 1194.2 Q134.047 1185.45 137.103 1180.86 Q140.181 1176.26 145.992 1176.26 Z\" fill=\"#000000\" fill-rule=\"evenodd\" fill-opacity=\"1\" /><path clip-path=\"url(#clip330)\" d=\"M194.325 1185.98 L183.746 1196.61 L194.325 1207.18 L191.57 1209.98 L180.945 1199.36 L170.32 1209.98 L167.589 1207.18 L178.144 1196.61 L167.589 1185.98 L170.32 1183.18 L180.945 1193.8 L191.57 1183.18 L194.325 1185.98 Z\" fill=\"#000000\" fill-rule=\"evenodd\" fill-opacity=\"1\" /><path clip-path=\"url(#clip330)\" d=\"M206.686 1207.51 L214.325 1207.51 L214.325 1181.14 L206.014 1182.81 L206.014 1178.55 L214.278 1176.88 L218.954 1176.88 L218.954 1207.51 L226.593 1207.51 L226.593 1211.44 L206.686 1211.44 L206.686 1207.51 Z\" fill=\"#000000\" fill-rule=\"evenodd\" fill-opacity=\"1\" /><path clip-path=\"url(#clip330)\" d=\"M246.037 1179.96 Q242.426 1179.96 240.598 1183.53 Q238.792 1187.07 238.792 1194.2 Q238.792 1201.3 240.598 1204.87 Q242.426 1208.41 246.037 1208.41 Q249.672 1208.41 251.477 1204.87 Q253.306 1201.3 253.306 1194.2 Q253.306 1187.07 251.477 1183.53 Q249.672 1179.96 246.037 1179.96 M246.037 1176.26 Q251.848 1176.26 254.903 1180.86 Q257.982 1185.45 257.982 1194.2 Q257.982 1202.92 254.903 1207.53 Q251.848 1212.11 246.037 1212.11 Q240.227 1212.11 237.149 1207.53 Q234.093 1202.92 234.093 1194.2 Q234.093 1185.45 237.149 1180.86 Q240.227 1176.26 246.037 1176.26 Z\" fill=\"#000000\" fill-rule=\"evenodd\" fill-opacity=\"1\" /><path clip-path=\"url(#clip330)\" d=\"M257.982 1170.36 L282.093 1170.36 L282.093 1173.56 L257.982 1173.56 L257.982 1170.36 Z\" fill=\"#000000\" fill-rule=\"evenodd\" fill-opacity=\"1\" /><path clip-path=\"url(#clip330)\" d=\"M290.952 1180.84 L297.158 1180.84 L297.158 1159.41 L290.406 1160.77 L290.406 1157.31 L297.121 1155.95 L300.92 1155.95 L300.92 1180.84 L307.126 1180.84 L307.126 1184.03 L290.952 1184.03 L290.952 1180.84 Z\" fill=\"#000000\" fill-rule=\"evenodd\" fill-opacity=\"1\" /><path clip-path=\"url(#clip330)\" d=\"M325.238 1159.26 L315.646 1174.25 L325.238 1174.25 L325.238 1159.26 M324.242 1155.95 L329.019 1155.95 L329.019 1174.25 L333.025 1174.25 L333.025 1177.41 L329.019 1177.41 L329.019 1184.03 L325.238 1184.03 L325.238 1177.41 L312.562 1177.41 L312.562 1173.75 L324.242 1155.95 Z\" fill=\"#000000\" fill-rule=\"evenodd\" fill-opacity=\"1\" /><path clip-path=\"url(#clip330)\" d=\"M321.08 841.193 Q317.469 841.193 315.641 844.758 Q313.835 848.299 313.835 855.429 Q313.835 862.535 315.641 866.1 Q317.469 869.642 321.08 869.642 Q324.715 869.642 326.52 866.1 Q328.349 862.535 328.349 855.429 Q328.349 848.299 326.52 844.758 Q324.715 841.193 321.08 841.193 M321.08 837.489 Q326.891 837.489 329.946 842.096 Q333.025 846.679 333.025 855.429 Q333.025 864.156 329.946 868.762 Q326.891 873.345 321.08 873.345 Q315.27 873.345 312.192 868.762 Q309.136 864.156 309.136 855.429 Q309.136 846.679 312.192 842.096 Q315.27 837.489 321.08 837.489 Z\" fill=\"#000000\" fill-rule=\"evenodd\" fill-opacity=\"1\" /><path clip-path=\"url(#clip330)\" d=\"M94.7882 542.865 L111.108 542.865 L111.108 546.8 L89.1632 546.8 L89.1632 542.865 Q91.8252 540.111 96.4085 535.481 Q101.015 530.828 102.196 529.486 Q104.441 526.962 105.321 525.226 Q106.223 523.467 106.223 521.777 Q106.223 519.023 104.279 517.287 Q102.358 515.551 99.2558 515.551 Q97.0567 515.551 94.603 516.314 Q92.1725 517.078 89.3947 518.629 L89.3947 513.907 Q92.2188 512.773 94.6724 512.194 Q97.1261 511.615 99.1632 511.615 Q104.534 511.615 107.728 514.301 Q110.922 516.986 110.922 521.476 Q110.922 523.606 110.112 525.527 Q109.325 527.425 107.219 530.018 Q106.64 530.689 103.538 533.907 Q100.436 537.101 94.7882 542.865 Z\" fill=\"#000000\" fill-rule=\"evenodd\" fill-opacity=\"1\" /><path clip-path=\"url(#clip330)\" d=\"M120.922 540.921 L125.807 540.921 L125.807 546.8 L120.922 546.8 L120.922 540.921 Z\" fill=\"#000000\" fill-rule=\"evenodd\" fill-opacity=\"1\" /><path clip-path=\"url(#clip330)\" d=\"M145.992 515.319 Q142.381 515.319 140.552 518.884 Q138.746 522.425 138.746 529.555 Q138.746 536.662 140.552 540.226 Q142.381 543.768 145.992 543.768 Q149.626 543.768 151.431 540.226 Q153.26 536.662 153.26 529.555 Q153.26 522.425 151.431 518.884 Q149.626 515.319 145.992 515.319 M145.992 511.615 Q151.802 511.615 154.857 516.222 Q157.936 520.805 157.936 529.555 Q157.936 538.282 154.857 542.888 Q151.802 547.472 145.992 547.472 Q140.181 547.472 137.103 542.888 Q134.047 538.282 134.047 529.555 Q134.047 520.805 137.103 516.222 Q140.181 511.615 145.992 511.615 Z\" fill=\"#000000\" fill-rule=\"evenodd\" fill-opacity=\"1\" /><path clip-path=\"url(#clip330)\" d=\"M194.325 521.338 L183.746 531.962 L194.325 542.541 L191.57 545.342 L180.945 534.717 L170.32 545.342 L167.589 542.541 L178.144 531.962 L167.589 521.338 L170.32 518.537 L180.945 529.162 L191.57 518.537 L194.325 521.338 Z\" fill=\"#000000\" fill-rule=\"evenodd\" fill-opacity=\"1\" /><path clip-path=\"url(#clip330)\" d=\"M206.686 542.865 L214.325 542.865 L214.325 516.5 L206.014 518.166 L206.014 513.907 L214.278 512.24 L218.954 512.24 L218.954 542.865 L226.593 542.865 L226.593 546.8 L206.686 546.8 L206.686 542.865 Z\" fill=\"#000000\" fill-rule=\"evenodd\" fill-opacity=\"1\" /><path clip-path=\"url(#clip330)\" d=\"M246.037 515.319 Q242.426 515.319 240.598 518.884 Q238.792 522.425 238.792 529.555 Q238.792 536.662 240.598 540.226 Q242.426 543.768 246.037 543.768 Q249.672 543.768 251.477 540.226 Q253.306 536.662 253.306 529.555 Q253.306 522.425 251.477 518.884 Q249.672 515.319 246.037 515.319 M246.037 511.615 Q251.848 511.615 254.903 516.222 Q257.982 520.805 257.982 529.555 Q257.982 538.282 254.903 542.888 Q251.848 547.472 246.037 547.472 Q240.227 547.472 237.149 542.888 Q234.093 538.282 234.093 529.555 Q234.093 520.805 237.149 516.222 Q240.227 511.615 246.037 511.615 Z\" fill=\"#000000\" fill-rule=\"evenodd\" fill-opacity=\"1\" /><path clip-path=\"url(#clip330)\" d=\"M257.982 505.717 L282.093 505.717 L282.093 508.914 L257.982 508.914 L257.982 505.717 Z\" fill=\"#000000\" fill-rule=\"evenodd\" fill-opacity=\"1\" /><path clip-path=\"url(#clip330)\" d=\"M290.952 516.193 L297.158 516.193 L297.158 494.771 L290.406 496.125 L290.406 492.664 L297.121 491.31 L300.92 491.31 L300.92 516.193 L307.126 516.193 L307.126 519.39 L290.952 519.39 L290.952 516.193 Z\" fill=\"#000000\" fill-rule=\"evenodd\" fill-opacity=\"1\" /><path clip-path=\"url(#clip330)\" d=\"M325.238 494.62 L315.646 509.61 L325.238 509.61 L325.238 494.62 M324.242 491.31 L329.019 491.31 L329.019 509.61 L333.025 509.61 L333.025 512.77 L329.019 512.77 L329.019 519.39 L325.238 519.39 L325.238 512.77 L312.562 512.77 L312.562 509.102 L324.242 491.31 Z\" fill=\"#000000\" fill-rule=\"evenodd\" fill-opacity=\"1\" /><path clip-path=\"url(#clip330)\" d=\"M103.608 183.993 L91.8021 202.442 L103.608 202.442 L103.608 183.993 M102.381 179.919 L108.26 179.919 L108.26 202.442 L113.191 202.442 L113.191 206.331 L108.26 206.331 L108.26 214.479 L103.608 214.479 L103.608 206.331 L88.0058 206.331 L88.0058 201.817 L102.381 179.919 Z\" fill=\"#000000\" fill-rule=\"evenodd\" fill-opacity=\"1\" /><path clip-path=\"url(#clip330)\" d=\"M120.922 208.599 L125.807 208.599 L125.807 214.479 L120.922 214.479 L120.922 208.599 Z\" fill=\"#000000\" fill-rule=\"evenodd\" fill-opacity=\"1\" /><path clip-path=\"url(#clip330)\" d=\"M145.992 182.998 Q142.381 182.998 140.552 186.562 Q138.746 190.104 138.746 197.234 Q138.746 204.34 140.552 207.905 Q142.381 211.447 145.992 211.447 Q149.626 211.447 151.431 207.905 Q153.26 204.34 153.26 197.234 Q153.26 190.104 151.431 186.562 Q149.626 182.998 145.992 182.998 M145.992 179.294 Q151.802 179.294 154.857 183.9 Q157.936 188.484 157.936 197.234 Q157.936 205.96 154.857 210.567 Q151.802 215.15 145.992 215.15 Q140.181 215.15 137.103 210.567 Q134.047 205.96 134.047 197.234 Q134.047 188.484 137.103 183.9 Q140.181 179.294 145.992 179.294 Z\" fill=\"#000000\" fill-rule=\"evenodd\" fill-opacity=\"1\" /><path clip-path=\"url(#clip330)\" d=\"M194.325 189.016 L183.746 199.641 L194.325 210.22 L191.57 213.021 L180.945 202.396 L170.32 213.021 L167.589 210.22 L178.144 199.641 L167.589 189.016 L170.32 186.215 L180.945 196.84 L191.57 186.215 L194.325 189.016 Z\" fill=\"#000000\" fill-rule=\"evenodd\" fill-opacity=\"1\" /><path clip-path=\"url(#clip330)\" d=\"M206.686 210.544 L214.325 210.544 L214.325 184.178 L206.014 185.845 L206.014 181.586 L214.278 179.919 L218.954 179.919 L218.954 210.544 L226.593 210.544 L226.593 214.479 L206.686 214.479 L206.686 210.544 Z\" fill=\"#000000\" fill-rule=\"evenodd\" fill-opacity=\"1\" /><path clip-path=\"url(#clip330)\" d=\"M246.037 182.998 Q242.426 182.998 240.598 186.562 Q238.792 190.104 238.792 197.234 Q238.792 204.34 240.598 207.905 Q242.426 211.447 246.037 211.447 Q249.672 211.447 251.477 207.905 Q253.306 204.34 253.306 197.234 Q253.306 190.104 251.477 186.562 Q249.672 182.998 246.037 182.998 M246.037 179.294 Q251.848 179.294 254.903 183.9 Q257.982 188.484 257.982 197.234 Q257.982 205.96 254.903 210.567 Q251.848 215.15 246.037 215.15 Q240.227 215.15 237.149 210.567 Q234.093 205.96 234.093 197.234 Q234.093 188.484 237.149 183.9 Q240.227 179.294 246.037 179.294 Z\" fill=\"#000000\" fill-rule=\"evenodd\" fill-opacity=\"1\" /><path clip-path=\"url(#clip330)\" d=\"M257.982 173.395 L282.093 173.395 L282.093 176.593 L257.982 176.593 L257.982 173.395 Z\" fill=\"#000000\" fill-rule=\"evenodd\" fill-opacity=\"1\" /><path clip-path=\"url(#clip330)\" d=\"M290.952 183.871 L297.158 183.871 L297.158 162.449 L290.406 163.803 L290.406 160.343 L297.121 158.989 L300.92 158.989 L300.92 183.871 L307.126 183.871 L307.126 187.069 L290.952 187.069 L290.952 183.871 Z\" fill=\"#000000\" fill-rule=\"evenodd\" fill-opacity=\"1\" /><path clip-path=\"url(#clip330)\" d=\"M325.238 162.299 L315.646 177.288 L325.238 177.288 L325.238 162.299 M324.242 158.989 L329.019 158.989 L329.019 177.288 L333.025 177.288 L333.025 180.448 L329.019 180.448 L329.019 187.069 L325.238 187.069 L325.238 180.448 L312.562 180.448 L312.562 176.781 L324.242 158.989 Z\" fill=\"#000000\" fill-rule=\"evenodd\" fill-opacity=\"1\" /><polyline clip-path=\"url(#clip332)\" style=\"stroke:#009af9; stroke-linecap:butt; stroke-linejoin:round; stroke-width:4; stroke-opacity:1; fill:none\" points=\"\n",
       "  425.168,1445.72 503.145,1239.1 581.122,1091.52 659.099,988.217 737.076,958.7 815.052,929.184 893.029,884.91 971.006,914.426 1048.98,884.91 1126.96,899.668 \n",
       "  1204.94,870.152 1282.91,884.91 1360.89,855.394 1438.87,943.942 1516.84,958.7 1594.82,825.878 1672.8,884.91 1750.77,870.152 1828.75,884.91 1906.73,855.394 \n",
       "  1984.71,811.12 2062.68,914.426 2140.66,737.33 2218.64,545.475 2296.61,87.9763 \n",
       "  \"/>\n",
       "<path clip-path=\"url(#clip330)\" d=\"\n",
       "M2013.79 198.898 L2286.63 198.898 L2286.63 95.2176 L2013.79 95.2176  Z\n",
       "  \" fill=\"#ffffff\" fill-rule=\"evenodd\" fill-opacity=\"1\"/>\n",
       "<polyline clip-path=\"url(#clip330)\" style=\"stroke:#000000; stroke-linecap:butt; stroke-linejoin:round; stroke-width:4; stroke-opacity:1; fill:none\" points=\"\n",
       "  2013.79,198.898 2286.63,198.898 2286.63,95.2176 2013.79,95.2176 2013.79,198.898 \n",
       "  \"/>\n",
       "<polyline clip-path=\"url(#clip330)\" style=\"stroke:#009af9; stroke-linecap:butt; stroke-linejoin:round; stroke-width:4; stroke-opacity:1; fill:none\" points=\"\n",
       "  2035.83,147.058 2168.08,147.058 \n",
       "  \"/>\n",
       "<path clip-path=\"url(#clip330)\" d=\"M2203.96 166.745 Q2202.16 171.375 2200.44 172.787 Q2198.73 174.199 2195.86 174.199 L2192.46 174.199 L2192.46 170.634 L2194.96 170.634 Q2196.72 170.634 2197.69 169.8 Q2198.66 168.967 2199.84 165.865 L2200.6 163.921 L2190.12 138.412 L2194.63 138.412 L2202.73 158.689 L2210.84 138.412 L2215.35 138.412 L2203.96 166.745 Z\" fill=\"#000000\" fill-rule=\"evenodd\" fill-opacity=\"1\" /><path clip-path=\"url(#clip330)\" d=\"M2222.64 160.402 L2230.28 160.402 L2230.28 134.037 L2221.97 135.703 L2221.97 131.444 L2230.23 129.778 L2234.91 129.778 L2234.91 160.402 L2242.55 160.402 L2242.55 164.338 L2222.64 164.338 L2222.64 160.402 Z\" fill=\"#000000\" fill-rule=\"evenodd\" fill-opacity=\"1\" /></svg>\n"
      ]
     },
     "execution_count": 32,
     "metadata": {},
     "output_type": "execute_result"
    }
   ],
   "source": [
    "using Plots\n",
    "\n",
    "plot(x, y1s)"
   ]
  },
  {
   "cell_type": "code",
   "execution_count": 33,
   "metadata": {},
   "outputs": [
    {
     "data": {
      "image/svg+xml": [
       "<?xml version=\"1.0\" encoding=\"utf-8\"?>\n",
       "<svg xmlns=\"http://www.w3.org/2000/svg\" xmlns:xlink=\"http://www.w3.org/1999/xlink\" width=\"600\" height=\"400\" viewBox=\"0 0 2400 1600\">\n",
       "<defs>\n",
       "  <clipPath id=\"clip370\">\n",
       "    <rect x=\"0\" y=\"0\" width=\"2400\" height=\"1600\"/>\n",
       "  </clipPath>\n",
       "</defs>\n",
       "<path clip-path=\"url(#clip370)\" d=\"\n",
       "M0 1600 L2400 1600 L2400 0 L0 0  Z\n",
       "  \" fill=\"#ffffff\" fill-rule=\"evenodd\" fill-opacity=\"1\"/>\n",
       "<defs>\n",
       "  <clipPath id=\"clip371\">\n",
       "    <rect x=\"480\" y=\"0\" width=\"1681\" height=\"1600\"/>\n",
       "  </clipPath>\n",
       "</defs>\n",
       "<path clip-path=\"url(#clip370)\" d=\"\n",
       "M369.025 1486.45 L2352.76 1486.45 L2352.76 47.2441 L369.025 47.2441  Z\n",
       "  \" fill=\"#ffffff\" fill-rule=\"evenodd\" fill-opacity=\"1\"/>\n",
       "<defs>\n",
       "  <clipPath id=\"clip372\">\n",
       "    <rect x=\"369\" y=\"47\" width=\"1985\" height=\"1440\"/>\n",
       "  </clipPath>\n",
       "</defs>\n",
       "<polyline clip-path=\"url(#clip372)\" style=\"stroke:#000000; stroke-linecap:butt; stroke-linejoin:round; stroke-width:2; stroke-opacity:0.1; fill:none\" points=\"\n",
       "  581.122,1486.45 581.122,47.2441 \n",
       "  \"/>\n",
       "<polyline clip-path=\"url(#clip372)\" style=\"stroke:#000000; stroke-linecap:butt; stroke-linejoin:round; stroke-width:2; stroke-opacity:0.1; fill:none\" points=\"\n",
       "  971.006,1486.45 971.006,47.2441 \n",
       "  \"/>\n",
       "<polyline clip-path=\"url(#clip372)\" style=\"stroke:#000000; stroke-linecap:butt; stroke-linejoin:round; stroke-width:2; stroke-opacity:0.1; fill:none\" points=\"\n",
       "  1360.89,1486.45 1360.89,47.2441 \n",
       "  \"/>\n",
       "<polyline clip-path=\"url(#clip372)\" style=\"stroke:#000000; stroke-linecap:butt; stroke-linejoin:round; stroke-width:2; stroke-opacity:0.1; fill:none\" points=\"\n",
       "  1750.77,1486.45 1750.77,47.2441 \n",
       "  \"/>\n",
       "<polyline clip-path=\"url(#clip372)\" style=\"stroke:#000000; stroke-linecap:butt; stroke-linejoin:round; stroke-width:2; stroke-opacity:0.1; fill:none\" points=\"\n",
       "  2140.66,1486.45 2140.66,47.2441 \n",
       "  \"/>\n",
       "<polyline clip-path=\"url(#clip370)\" style=\"stroke:#000000; stroke-linecap:butt; stroke-linejoin:round; stroke-width:4; stroke-opacity:1; fill:none\" points=\"\n",
       "  369.025,1486.45 2352.76,1486.45 \n",
       "  \"/>\n",
       "<polyline clip-path=\"url(#clip370)\" style=\"stroke:#000000; stroke-linecap:butt; stroke-linejoin:round; stroke-width:4; stroke-opacity:1; fill:none\" points=\"\n",
       "  581.122,1486.45 581.122,1467.55 \n",
       "  \"/>\n",
       "<polyline clip-path=\"url(#clip370)\" style=\"stroke:#000000; stroke-linecap:butt; stroke-linejoin:round; stroke-width:4; stroke-opacity:1; fill:none\" points=\"\n",
       "  971.006,1486.45 971.006,1467.55 \n",
       "  \"/>\n",
       "<polyline clip-path=\"url(#clip370)\" style=\"stroke:#000000; stroke-linecap:butt; stroke-linejoin:round; stroke-width:4; stroke-opacity:1; fill:none\" points=\"\n",
       "  1360.89,1486.45 1360.89,1467.55 \n",
       "  \"/>\n",
       "<polyline clip-path=\"url(#clip370)\" style=\"stroke:#000000; stroke-linecap:butt; stroke-linejoin:round; stroke-width:4; stroke-opacity:1; fill:none\" points=\"\n",
       "  1750.77,1486.45 1750.77,1467.55 \n",
       "  \"/>\n",
       "<polyline clip-path=\"url(#clip370)\" style=\"stroke:#000000; stroke-linecap:butt; stroke-linejoin:round; stroke-width:4; stroke-opacity:1; fill:none\" points=\"\n",
       "  2140.66,1486.45 2140.66,1467.55 \n",
       "  \"/>\n",
       "<path clip-path=\"url(#clip370)\" d=\"M528.344 1517.37 Q524.733 1517.37 522.905 1520.93 Q521.099 1524.47 521.099 1531.6 Q521.099 1538.71 522.905 1542.27 Q524.733 1545.82 528.344 1545.82 Q531.979 1545.82 533.784 1542.27 Q535.613 1538.71 535.613 1531.6 Q535.613 1524.47 533.784 1520.93 Q531.979 1517.37 528.344 1517.37 M528.344 1513.66 Q534.154 1513.66 537.21 1518.27 Q540.289 1522.85 540.289 1531.6 Q540.289 1540.33 537.21 1544.94 Q534.154 1549.52 528.344 1549.52 Q522.534 1549.52 519.455 1544.94 Q516.4 1540.33 516.4 1531.6 Q516.4 1522.85 519.455 1518.27 Q522.534 1513.66 528.344 1513.66 Z\" fill=\"#000000\" fill-rule=\"evenodd\" fill-opacity=\"1\" /><path clip-path=\"url(#clip370)\" d=\"M548.506 1542.97 L553.39 1542.97 L553.39 1548.85 L548.506 1548.85 L548.506 1542.97 Z\" fill=\"#000000\" fill-rule=\"evenodd\" fill-opacity=\"1\" /><path clip-path=\"url(#clip370)\" d=\"M563.714 1548.13 L563.714 1543.87 Q565.474 1544.7 567.279 1545.14 Q569.085 1545.58 570.821 1545.58 Q575.451 1545.58 577.881 1542.48 Q580.335 1539.36 580.682 1533.01 Q579.339 1535.01 577.279 1536.07 Q575.219 1537.13 572.719 1537.13 Q567.534 1537.13 564.502 1534.01 Q561.492 1530.86 561.492 1525.42 Q561.492 1520.1 564.64 1516.88 Q567.789 1513.66 573.02 1513.66 Q579.015 1513.66 582.163 1518.27 Q585.335 1522.85 585.335 1531.6 Q585.335 1539.77 581.446 1544.66 Q577.58 1549.52 571.029 1549.52 Q569.27 1549.52 567.464 1549.17 Q565.659 1548.82 563.714 1548.13 M573.02 1533.48 Q576.168 1533.48 577.997 1531.32 Q579.849 1529.17 579.849 1525.42 Q579.849 1521.7 577.997 1519.54 Q576.168 1517.37 573.02 1517.37 Q569.872 1517.37 568.02 1519.54 Q566.191 1521.7 566.191 1525.42 Q566.191 1529.17 568.02 1531.32 Q569.872 1533.48 573.02 1533.48 Z\" fill=\"#000000\" fill-rule=\"evenodd\" fill-opacity=\"1\" /><path clip-path=\"url(#clip370)\" d=\"M593.876 1548.13 L593.876 1543.87 Q595.636 1544.7 597.441 1545.14 Q599.247 1545.58 600.983 1545.58 Q605.612 1545.58 608.043 1542.48 Q610.497 1539.36 610.844 1533.01 Q609.501 1535.01 607.441 1536.07 Q605.381 1537.13 602.881 1537.13 Q597.696 1537.13 594.663 1534.01 Q591.654 1530.86 591.654 1525.42 Q591.654 1520.1 594.802 1516.88 Q597.95 1513.66 603.182 1513.66 Q609.177 1513.66 612.325 1518.27 Q615.497 1522.85 615.497 1531.6 Q615.497 1539.77 611.608 1544.66 Q607.742 1549.52 601.191 1549.52 Q599.432 1549.52 597.626 1549.17 Q595.821 1548.82 593.876 1548.13 M603.182 1533.48 Q606.33 1533.48 608.159 1531.32 Q610.011 1529.17 610.011 1525.42 Q610.011 1521.7 608.159 1519.54 Q606.33 1517.37 603.182 1517.37 Q600.034 1517.37 598.182 1519.54 Q596.353 1521.7 596.353 1525.42 Q596.353 1529.17 598.182 1531.32 Q600.034 1533.48 603.182 1533.48 Z\" fill=\"#000000\" fill-rule=\"evenodd\" fill-opacity=\"1\" /><path clip-path=\"url(#clip370)\" d=\"M633.899 1517.37 Q630.288 1517.37 628.46 1520.93 Q626.654 1524.47 626.654 1531.6 Q626.654 1538.71 628.46 1542.27 Q630.288 1545.82 633.899 1545.82 Q637.534 1545.82 639.339 1542.27 Q641.168 1538.71 641.168 1531.6 Q641.168 1524.47 639.339 1520.93 Q637.534 1517.37 633.899 1517.37 M633.899 1513.66 Q639.709 1513.66 642.765 1518.27 Q645.844 1522.85 645.844 1531.6 Q645.844 1540.33 642.765 1544.94 Q639.709 1549.52 633.899 1549.52 Q628.089 1549.52 625.01 1544.94 Q621.955 1540.33 621.955 1531.6 Q621.955 1522.85 625.01 1518.27 Q628.089 1513.66 633.899 1513.66 Z\" fill=\"#000000\" fill-rule=\"evenodd\" fill-opacity=\"1\" /><path clip-path=\"url(#clip370)\" d=\"M918.726 1517.37 Q915.115 1517.37 913.286 1520.93 Q911.481 1524.47 911.481 1531.6 Q911.481 1538.71 913.286 1542.27 Q915.115 1545.82 918.726 1545.82 Q922.36 1545.82 924.166 1542.27 Q925.995 1538.71 925.995 1531.6 Q925.995 1524.47 924.166 1520.93 Q922.36 1517.37 918.726 1517.37 M918.726 1513.66 Q924.536 1513.66 927.592 1518.27 Q930.671 1522.85 930.671 1531.6 Q930.671 1540.33 927.592 1544.94 Q924.536 1549.52 918.726 1549.52 Q912.916 1549.52 909.837 1544.94 Q906.782 1540.33 906.782 1531.6 Q906.782 1522.85 909.837 1518.27 Q912.916 1513.66 918.726 1513.66 Z\" fill=\"#000000\" fill-rule=\"evenodd\" fill-opacity=\"1\" /><path clip-path=\"url(#clip370)\" d=\"M938.888 1542.97 L943.772 1542.97 L943.772 1548.85 L938.888 1548.85 L938.888 1542.97 Z\" fill=\"#000000\" fill-rule=\"evenodd\" fill-opacity=\"1\" /><path clip-path=\"url(#clip370)\" d=\"M954.096 1548.13 L954.096 1543.87 Q955.856 1544.7 957.661 1545.14 Q959.467 1545.58 961.203 1545.58 Q965.832 1545.58 968.263 1542.48 Q970.717 1539.36 971.064 1533.01 Q969.721 1535.01 967.661 1536.07 Q965.601 1537.13 963.101 1537.13 Q957.916 1537.13 954.883 1534.01 Q951.874 1530.86 951.874 1525.42 Q951.874 1520.1 955.022 1516.88 Q958.17 1513.66 963.402 1513.66 Q969.397 1513.66 972.545 1518.27 Q975.717 1522.85 975.717 1531.6 Q975.717 1539.77 971.828 1544.66 Q967.962 1549.52 961.411 1549.52 Q959.652 1549.52 957.846 1549.17 Q956.041 1548.82 954.096 1548.13 M963.402 1533.48 Q966.55 1533.48 968.379 1531.32 Q970.231 1529.17 970.231 1525.42 Q970.231 1521.7 968.379 1519.54 Q966.55 1517.37 963.402 1517.37 Q960.254 1517.37 958.402 1519.54 Q956.573 1521.7 956.573 1525.42 Q956.573 1529.17 958.402 1531.32 Q960.254 1533.48 963.402 1533.48 Z\" fill=\"#000000\" fill-rule=\"evenodd\" fill-opacity=\"1\" /><path clip-path=\"url(#clip370)\" d=\"M984.258 1548.13 L984.258 1543.87 Q986.018 1544.7 987.823 1545.14 Q989.629 1545.58 991.365 1545.58 Q995.994 1545.58 998.425 1542.48 Q1000.88 1539.36 1001.23 1533.01 Q999.883 1535.01 997.823 1536.07 Q995.763 1537.13 993.263 1537.13 Q988.078 1537.13 985.045 1534.01 Q982.036 1530.86 982.036 1525.42 Q982.036 1520.1 985.184 1516.88 Q988.332 1513.66 993.564 1513.66 Q999.559 1513.66 1002.71 1518.27 Q1005.88 1522.85 1005.88 1531.6 Q1005.88 1539.77 1001.99 1544.66 Q998.124 1549.52 991.573 1549.52 Q989.814 1549.52 988.008 1549.17 Q986.203 1548.82 984.258 1548.13 M993.564 1533.48 Q996.712 1533.48 998.541 1531.32 Q1000.39 1529.17 1000.39 1525.42 Q1000.39 1521.7 998.541 1519.54 Q996.712 1517.37 993.564 1517.37 Q990.416 1517.37 988.564 1519.54 Q986.735 1521.7 986.735 1525.42 Q986.735 1529.17 988.564 1531.32 Q990.416 1533.48 993.564 1533.48 Z\" fill=\"#000000\" fill-rule=\"evenodd\" fill-opacity=\"1\" /><path clip-path=\"url(#clip370)\" d=\"M1014.33 1514.29 L1032.68 1514.29 L1032.68 1518.22 L1018.61 1518.22 L1018.61 1526.7 Q1019.63 1526.35 1020.65 1526.19 Q1021.67 1526 1022.68 1526 Q1028.47 1526 1031.85 1529.17 Q1035.23 1532.34 1035.23 1537.76 Q1035.23 1543.34 1031.76 1546.44 Q1028.29 1549.52 1021.97 1549.52 Q1019.79 1549.52 1017.52 1549.15 Q1015.28 1548.78 1012.87 1548.04 L1012.87 1543.34 Q1014.95 1544.47 1017.17 1545.03 Q1019.4 1545.58 1021.87 1545.58 Q1025.88 1545.58 1028.22 1543.48 Q1030.55 1541.37 1030.55 1537.76 Q1030.55 1534.15 1028.22 1532.04 Q1025.88 1529.94 1021.87 1529.94 Q1020 1529.94 1018.12 1530.35 Q1016.27 1530.77 1014.33 1531.65 L1014.33 1514.29 Z\" fill=\"#000000\" fill-rule=\"evenodd\" fill-opacity=\"1\" /><path clip-path=\"url(#clip370)\" d=\"M1297.88 1544.91 L1305.52 1544.91 L1305.52 1518.55 L1297.21 1520.21 L1297.21 1515.95 L1305.47 1514.29 L1310.15 1514.29 L1310.15 1544.91 L1317.79 1544.91 L1317.79 1548.85 L1297.88 1548.85 L1297.88 1544.91 Z\" fill=\"#000000\" fill-rule=\"evenodd\" fill-opacity=\"1\" /><path clip-path=\"url(#clip370)\" d=\"M1327.23 1542.97 L1332.12 1542.97 L1332.12 1548.85 L1327.23 1548.85 L1327.23 1542.97 Z\" fill=\"#000000\" fill-rule=\"evenodd\" fill-opacity=\"1\" /><path clip-path=\"url(#clip370)\" d=\"M1352.3 1517.37 Q1348.69 1517.37 1346.86 1520.93 Q1345.06 1524.47 1345.06 1531.6 Q1345.06 1538.71 1346.86 1542.27 Q1348.69 1545.82 1352.3 1545.82 Q1355.94 1545.82 1357.74 1542.27 Q1359.57 1538.71 1359.57 1531.6 Q1359.57 1524.47 1357.74 1520.93 Q1355.94 1517.37 1352.3 1517.37 M1352.3 1513.66 Q1358.11 1513.66 1361.17 1518.27 Q1364.25 1522.85 1364.25 1531.6 Q1364.25 1540.33 1361.17 1544.94 Q1358.11 1549.52 1352.3 1549.52 Q1346.49 1549.52 1343.41 1544.94 Q1340.36 1540.33 1340.36 1531.6 Q1340.36 1522.85 1343.41 1518.27 Q1346.49 1513.66 1352.3 1513.66 Z\" fill=\"#000000\" fill-rule=\"evenodd\" fill-opacity=\"1\" /><path clip-path=\"url(#clip370)\" d=\"M1382.46 1517.37 Q1378.85 1517.37 1377.02 1520.93 Q1375.22 1524.47 1375.22 1531.6 Q1375.22 1538.71 1377.02 1542.27 Q1378.85 1545.82 1382.46 1545.82 Q1386.1 1545.82 1387.9 1542.27 Q1389.73 1538.71 1389.73 1531.6 Q1389.73 1524.47 1387.9 1520.93 Q1386.1 1517.37 1382.46 1517.37 M1382.46 1513.66 Q1388.27 1513.66 1391.33 1518.27 Q1394.41 1522.85 1394.41 1531.6 Q1394.41 1540.33 1391.33 1544.94 Q1388.27 1549.52 1382.46 1549.52 Q1376.65 1549.52 1373.58 1544.94 Q1370.52 1540.33 1370.52 1531.6 Q1370.52 1522.85 1373.58 1518.27 Q1376.65 1513.66 1382.46 1513.66 Z\" fill=\"#000000\" fill-rule=\"evenodd\" fill-opacity=\"1\" /><path clip-path=\"url(#clip370)\" d=\"M1412.63 1517.37 Q1409.02 1517.37 1407.19 1520.93 Q1405.38 1524.47 1405.38 1531.6 Q1405.38 1538.71 1407.19 1542.27 Q1409.02 1545.82 1412.63 1545.82 Q1416.26 1545.82 1418.07 1542.27 Q1419.89 1538.71 1419.89 1531.6 Q1419.89 1524.47 1418.07 1520.93 Q1416.26 1517.37 1412.63 1517.37 M1412.63 1513.66 Q1418.44 1513.66 1421.49 1518.27 Q1424.57 1522.85 1424.57 1531.6 Q1424.57 1540.33 1421.49 1544.94 Q1418.44 1549.52 1412.63 1549.52 Q1406.82 1549.52 1403.74 1544.94 Q1400.68 1540.33 1400.68 1531.6 Q1400.68 1522.85 1403.74 1518.27 Q1406.82 1513.66 1412.63 1513.66 Z\" fill=\"#000000\" fill-rule=\"evenodd\" fill-opacity=\"1\" /><path clip-path=\"url(#clip370)\" d=\"M1688.26 1544.91 L1695.9 1544.91 L1695.9 1518.55 L1687.59 1520.21 L1687.59 1515.95 L1695.86 1514.29 L1700.53 1514.29 L1700.53 1544.91 L1708.17 1544.91 L1708.17 1548.85 L1688.26 1548.85 L1688.26 1544.91 Z\" fill=\"#000000\" fill-rule=\"evenodd\" fill-opacity=\"1\" /><path clip-path=\"url(#clip370)\" d=\"M1717.62 1542.97 L1722.5 1542.97 L1722.5 1548.85 L1717.62 1548.85 L1717.62 1542.97 Z\" fill=\"#000000\" fill-rule=\"evenodd\" fill-opacity=\"1\" /><path clip-path=\"url(#clip370)\" d=\"M1742.68 1517.37 Q1739.07 1517.37 1737.24 1520.93 Q1735.44 1524.47 1735.44 1531.6 Q1735.44 1538.71 1737.24 1542.27 Q1739.07 1545.82 1742.68 1545.82 Q1746.32 1545.82 1748.12 1542.27 Q1749.95 1538.71 1749.95 1531.6 Q1749.95 1524.47 1748.12 1520.93 Q1746.32 1517.37 1742.68 1517.37 M1742.68 1513.66 Q1748.49 1513.66 1751.55 1518.27 Q1754.63 1522.85 1754.63 1531.6 Q1754.63 1540.33 1751.55 1544.94 Q1748.49 1549.52 1742.68 1549.52 Q1736.87 1549.52 1733.8 1544.94 Q1730.74 1540.33 1730.74 1531.6 Q1730.74 1522.85 1733.8 1518.27 Q1736.87 1513.66 1742.68 1513.66 Z\" fill=\"#000000\" fill-rule=\"evenodd\" fill-opacity=\"1\" /><path clip-path=\"url(#clip370)\" d=\"M1772.85 1517.37 Q1769.24 1517.37 1767.41 1520.93 Q1765.6 1524.47 1765.6 1531.6 Q1765.6 1538.71 1767.41 1542.27 Q1769.24 1545.82 1772.85 1545.82 Q1776.48 1545.82 1778.29 1542.27 Q1780.11 1538.71 1780.11 1531.6 Q1780.11 1524.47 1778.29 1520.93 Q1776.48 1517.37 1772.85 1517.37 M1772.85 1513.66 Q1778.66 1513.66 1781.71 1518.27 Q1784.79 1522.85 1784.79 1531.6 Q1784.79 1540.33 1781.71 1544.94 Q1778.66 1549.52 1772.85 1549.52 Q1767.04 1549.52 1763.96 1544.94 Q1760.9 1540.33 1760.9 1531.6 Q1760.9 1522.85 1763.96 1518.27 Q1767.04 1513.66 1772.85 1513.66 Z\" fill=\"#000000\" fill-rule=\"evenodd\" fill-opacity=\"1\" /><path clip-path=\"url(#clip370)\" d=\"M1793.05 1514.29 L1811.41 1514.29 L1811.41 1518.22 L1797.34 1518.22 L1797.34 1526.7 Q1798.36 1526.35 1799.37 1526.19 Q1800.39 1526 1801.41 1526 Q1807.2 1526 1810.58 1529.17 Q1813.96 1532.34 1813.96 1537.76 Q1813.96 1543.34 1810.48 1546.44 Q1807.01 1549.52 1800.69 1549.52 Q1798.52 1549.52 1796.25 1549.15 Q1794 1548.78 1791.6 1548.04 L1791.6 1543.34 Q1793.68 1544.47 1795.9 1545.03 Q1798.12 1545.58 1800.6 1545.58 Q1804.61 1545.58 1806.94 1543.48 Q1809.28 1541.37 1809.28 1537.76 Q1809.28 1534.15 1806.94 1532.04 Q1804.61 1529.94 1800.6 1529.94 Q1798.73 1529.94 1796.85 1530.35 Q1795 1530.77 1793.05 1531.65 L1793.05 1514.29 Z\" fill=\"#000000\" fill-rule=\"evenodd\" fill-opacity=\"1\" /><path clip-path=\"url(#clip370)\" d=\"M2077.65 1544.91 L2085.29 1544.91 L2085.29 1518.55 L2076.98 1520.21 L2076.98 1515.95 L2085.24 1514.29 L2089.92 1514.29 L2089.92 1544.91 L2097.56 1544.91 L2097.56 1548.85 L2077.65 1548.85 L2077.65 1544.91 Z\" fill=\"#000000\" fill-rule=\"evenodd\" fill-opacity=\"1\" /><path clip-path=\"url(#clip370)\" d=\"M2107 1542.97 L2111.89 1542.97 L2111.89 1548.85 L2107 1548.85 L2107 1542.97 Z\" fill=\"#000000\" fill-rule=\"evenodd\" fill-opacity=\"1\" /><path clip-path=\"url(#clip370)\" d=\"M2132.07 1517.37 Q2128.46 1517.37 2126.63 1520.93 Q2124.83 1524.47 2124.83 1531.6 Q2124.83 1538.71 2126.63 1542.27 Q2128.46 1545.82 2132.07 1545.82 Q2135.71 1545.82 2137.51 1542.27 Q2139.34 1538.71 2139.34 1531.6 Q2139.34 1524.47 2137.51 1520.93 Q2135.71 1517.37 2132.07 1517.37 M2132.07 1513.66 Q2137.88 1513.66 2140.94 1518.27 Q2144.02 1522.85 2144.02 1531.6 Q2144.02 1540.33 2140.94 1544.94 Q2137.88 1549.52 2132.07 1549.52 Q2126.26 1549.52 2123.18 1544.94 Q2120.13 1540.33 2120.13 1531.6 Q2120.13 1522.85 2123.18 1518.27 Q2126.26 1513.66 2132.07 1513.66 Z\" fill=\"#000000\" fill-rule=\"evenodd\" fill-opacity=\"1\" /><path clip-path=\"url(#clip370)\" d=\"M2153.04 1544.91 L2160.68 1544.91 L2160.68 1518.55 L2152.37 1520.21 L2152.37 1515.95 L2160.64 1514.29 L2165.31 1514.29 L2165.31 1544.91 L2172.95 1544.91 L2172.95 1548.85 L2153.04 1548.85 L2153.04 1544.91 Z\" fill=\"#000000\" fill-rule=\"evenodd\" fill-opacity=\"1\" /><path clip-path=\"url(#clip370)\" d=\"M2192.39 1517.37 Q2188.78 1517.37 2186.95 1520.93 Q2185.15 1524.47 2185.15 1531.6 Q2185.15 1538.71 2186.95 1542.27 Q2188.78 1545.82 2192.39 1545.82 Q2196.03 1545.82 2197.83 1542.27 Q2199.66 1538.71 2199.66 1531.6 Q2199.66 1524.47 2197.83 1520.93 Q2196.03 1517.37 2192.39 1517.37 M2192.39 1513.66 Q2198.2 1513.66 2201.26 1518.27 Q2204.34 1522.85 2204.34 1531.6 Q2204.34 1540.33 2201.26 1544.94 Q2198.2 1549.52 2192.39 1549.52 Q2186.58 1549.52 2183.51 1544.94 Q2180.45 1540.33 2180.45 1531.6 Q2180.45 1522.85 2183.51 1518.27 Q2186.58 1513.66 2192.39 1513.66 Z\" fill=\"#000000\" fill-rule=\"evenodd\" fill-opacity=\"1\" /><polyline clip-path=\"url(#clip372)\" style=\"stroke:#000000; stroke-linecap:butt; stroke-linejoin:round; stroke-width:2; stroke-opacity:0.1; fill:none\" points=\"\n",
       "  369.025,1335.23 2352.76,1335.23 \n",
       "  \"/>\n",
       "<polyline clip-path=\"url(#clip372)\" style=\"stroke:#000000; stroke-linecap:butt; stroke-linejoin:round; stroke-width:2; stroke-opacity:0.1; fill:none\" points=\"\n",
       "  369.025,1145.77 2352.76,1145.77 \n",
       "  \"/>\n",
       "<polyline clip-path=\"url(#clip372)\" style=\"stroke:#000000; stroke-linecap:butt; stroke-linejoin:round; stroke-width:2; stroke-opacity:0.1; fill:none\" points=\"\n",
       "  369.025,956.306 2352.76,956.306 \n",
       "  \"/>\n",
       "<polyline clip-path=\"url(#clip372)\" style=\"stroke:#000000; stroke-linecap:butt; stroke-linejoin:round; stroke-width:2; stroke-opacity:0.1; fill:none\" points=\"\n",
       "  369.025,766.846 2352.76,766.846 \n",
       "  \"/>\n",
       "<polyline clip-path=\"url(#clip372)\" style=\"stroke:#000000; stroke-linecap:butt; stroke-linejoin:round; stroke-width:2; stroke-opacity:0.1; fill:none\" points=\"\n",
       "  369.025,577.386 2352.76,577.386 \n",
       "  \"/>\n",
       "<polyline clip-path=\"url(#clip372)\" style=\"stroke:#000000; stroke-linecap:butt; stroke-linejoin:round; stroke-width:2; stroke-opacity:0.1; fill:none\" points=\"\n",
       "  369.025,387.926 2352.76,387.926 \n",
       "  \"/>\n",
       "<polyline clip-path=\"url(#clip372)\" style=\"stroke:#000000; stroke-linecap:butt; stroke-linejoin:round; stroke-width:2; stroke-opacity:0.1; fill:none\" points=\"\n",
       "  369.025,198.466 2352.76,198.466 \n",
       "  \"/>\n",
       "<polyline clip-path=\"url(#clip370)\" style=\"stroke:#000000; stroke-linecap:butt; stroke-linejoin:round; stroke-width:4; stroke-opacity:1; fill:none\" points=\"\n",
       "  369.025,1486.45 369.025,47.2441 \n",
       "  \"/>\n",
       "<polyline clip-path=\"url(#clip370)\" style=\"stroke:#000000; stroke-linecap:butt; stroke-linejoin:round; stroke-width:4; stroke-opacity:1; fill:none\" points=\"\n",
       "  369.025,1335.23 387.922,1335.23 \n",
       "  \"/>\n",
       "<polyline clip-path=\"url(#clip370)\" style=\"stroke:#000000; stroke-linecap:butt; stroke-linejoin:round; stroke-width:4; stroke-opacity:1; fill:none\" points=\"\n",
       "  369.025,1145.77 387.922,1145.77 \n",
       "  \"/>\n",
       "<polyline clip-path=\"url(#clip370)\" style=\"stroke:#000000; stroke-linecap:butt; stroke-linejoin:round; stroke-width:4; stroke-opacity:1; fill:none\" points=\"\n",
       "  369.025,956.306 387.922,956.306 \n",
       "  \"/>\n",
       "<polyline clip-path=\"url(#clip370)\" style=\"stroke:#000000; stroke-linecap:butt; stroke-linejoin:round; stroke-width:4; stroke-opacity:1; fill:none\" points=\"\n",
       "  369.025,766.846 387.922,766.846 \n",
       "  \"/>\n",
       "<polyline clip-path=\"url(#clip370)\" style=\"stroke:#000000; stroke-linecap:butt; stroke-linejoin:round; stroke-width:4; stroke-opacity:1; fill:none\" points=\"\n",
       "  369.025,577.386 387.922,577.386 \n",
       "  \"/>\n",
       "<polyline clip-path=\"url(#clip370)\" style=\"stroke:#000000; stroke-linecap:butt; stroke-linejoin:round; stroke-width:4; stroke-opacity:1; fill:none\" points=\"\n",
       "  369.025,387.926 387.922,387.926 \n",
       "  \"/>\n",
       "<polyline clip-path=\"url(#clip370)\" style=\"stroke:#000000; stroke-linecap:butt; stroke-linejoin:round; stroke-width:4; stroke-opacity:1; fill:none\" points=\"\n",
       "  369.025,198.466 387.922,198.466 \n",
       "  \"/>\n",
       "<path clip-path=\"url(#clip370)\" d=\"M50.9921 1342.13 L80.6679 1342.13 L80.6679 1346.06 L50.9921 1346.06 L50.9921 1342.13 Z\" fill=\"#000000\" fill-rule=\"evenodd\" fill-opacity=\"1\" /><path clip-path=\"url(#clip370)\" d=\"M104.927 1340.32 Q108.283 1341.04 110.158 1343.31 Q112.057 1345.57 112.057 1348.91 Q112.057 1354.02 108.538 1356.82 Q105.02 1359.63 98.5382 1359.63 Q96.3623 1359.63 94.0475 1359.19 Q91.7558 1358.77 89.3021 1357.91 L89.3021 1353.4 Q91.2465 1354.53 93.5613 1355.11 Q95.8761 1355.69 98.3993 1355.69 Q102.797 1355.69 105.089 1353.95 Q107.404 1352.22 107.404 1348.91 Q107.404 1345.85 105.251 1344.14 Q103.121 1342.4 99.3021 1342.4 L95.2743 1342.4 L95.2743 1338.56 L99.4872 1338.56 Q102.936 1338.56 104.765 1337.19 Q106.594 1335.81 106.594 1333.21 Q106.594 1330.55 104.696 1329.14 Q102.821 1327.7 99.3021 1327.7 Q97.3808 1327.7 95.1817 1328.12 Q92.9826 1328.54 90.3438 1329.42 L90.3438 1325.25 Q93.0058 1324.51 95.3206 1324.14 Q97.6585 1323.77 99.7187 1323.77 Q105.043 1323.77 108.145 1326.2 Q111.246 1328.61 111.246 1332.73 Q111.246 1335.6 109.603 1337.59 Q107.959 1339.56 104.927 1340.32 Z\" fill=\"#000000\" fill-rule=\"evenodd\" fill-opacity=\"1\" /><path clip-path=\"url(#clip370)\" d=\"M120.922 1353.07 L125.807 1353.07 L125.807 1358.95 L120.922 1358.95 L120.922 1353.07 Z\" fill=\"#000000\" fill-rule=\"evenodd\" fill-opacity=\"1\" /><path clip-path=\"url(#clip370)\" d=\"M145.992 1327.47 Q142.381 1327.47 140.552 1331.04 Q138.746 1334.58 138.746 1341.71 Q138.746 1348.81 140.552 1352.38 Q142.381 1355.92 145.992 1355.92 Q149.626 1355.92 151.431 1352.38 Q153.26 1348.81 153.26 1341.71 Q153.26 1334.58 151.431 1331.04 Q149.626 1327.47 145.992 1327.47 M145.992 1323.77 Q151.802 1323.77 154.857 1328.38 Q157.936 1332.96 157.936 1341.71 Q157.936 1350.44 154.857 1355.04 Q151.802 1359.63 145.992 1359.63 Q140.181 1359.63 137.103 1355.04 Q134.047 1350.44 134.047 1341.71 Q134.047 1332.96 137.103 1328.38 Q140.181 1323.77 145.992 1323.77 Z\" fill=\"#000000\" fill-rule=\"evenodd\" fill-opacity=\"1\" /><path clip-path=\"url(#clip370)\" d=\"M194.325 1333.49 L183.746 1344.12 L194.325 1354.69 L191.57 1357.5 L180.945 1346.87 L170.32 1357.5 L167.589 1354.69 L178.144 1344.12 L167.589 1333.49 L170.32 1330.69 L180.945 1341.32 L191.57 1330.69 L194.325 1333.49 Z\" fill=\"#000000\" fill-rule=\"evenodd\" fill-opacity=\"1\" /><path clip-path=\"url(#clip370)\" d=\"M206.686 1355.02 L214.325 1355.02 L214.325 1328.65 L206.014 1330.32 L206.014 1326.06 L214.278 1324.39 L218.954 1324.39 L218.954 1355.02 L226.593 1355.02 L226.593 1358.95 L206.686 1358.95 L206.686 1355.02 Z\" fill=\"#000000\" fill-rule=\"evenodd\" fill-opacity=\"1\" /><path clip-path=\"url(#clip370)\" d=\"M246.037 1327.47 Q242.426 1327.47 240.598 1331.04 Q238.792 1334.58 238.792 1341.71 Q238.792 1348.81 240.598 1352.38 Q242.426 1355.92 246.037 1355.92 Q249.672 1355.92 251.477 1352.38 Q253.306 1348.81 253.306 1341.71 Q253.306 1334.58 251.477 1331.04 Q249.672 1327.47 246.037 1327.47 M246.037 1323.77 Q251.848 1323.77 254.903 1328.38 Q257.982 1332.96 257.982 1341.71 Q257.982 1350.44 254.903 1355.04 Q251.848 1359.63 246.037 1359.63 Q240.227 1359.63 237.149 1355.04 Q234.093 1350.44 234.093 1341.71 Q234.093 1332.96 237.149 1328.38 Q240.227 1323.77 246.037 1323.77 Z\" fill=\"#000000\" fill-rule=\"evenodd\" fill-opacity=\"1\" /><path clip-path=\"url(#clip370)\" d=\"M257.982 1317.87 L282.093 1317.87 L282.093 1321.07 L257.982 1321.07 L257.982 1317.87 Z\" fill=\"#000000\" fill-rule=\"evenodd\" fill-opacity=\"1\" /><path clip-path=\"url(#clip370)\" d=\"M290.952 1328.35 L297.158 1328.35 L297.158 1306.92 L290.406 1308.28 L290.406 1304.82 L297.121 1303.46 L300.92 1303.46 L300.92 1328.35 L307.126 1328.35 L307.126 1331.54 L290.952 1331.54 L290.952 1328.35 Z\" fill=\"#000000\" fill-rule=\"evenodd\" fill-opacity=\"1\" /><path clip-path=\"url(#clip370)\" d=\"M325.238 1306.77 L315.646 1321.76 L325.238 1321.76 L325.238 1306.77 M324.242 1303.46 L329.019 1303.46 L329.019 1321.76 L333.025 1321.76 L333.025 1324.92 L329.019 1324.92 L329.019 1331.54 L325.238 1331.54 L325.238 1324.92 L312.562 1324.92 L312.562 1321.26 L324.242 1303.46 Z\" fill=\"#000000\" fill-rule=\"evenodd\" fill-opacity=\"1\" /><path clip-path=\"url(#clip370)\" d=\"M50.9921 1152.67 L80.6679 1152.67 L80.6679 1156.6 L50.9921 1156.6 L50.9921 1152.67 Z\" fill=\"#000000\" fill-rule=\"evenodd\" fill-opacity=\"1\" /><path clip-path=\"url(#clip370)\" d=\"M94.7882 1165.56 L111.108 1165.56 L111.108 1169.49 L89.1632 1169.49 L89.1632 1165.56 Q91.8252 1162.8 96.4085 1158.17 Q101.015 1153.52 102.196 1152.18 Q104.441 1149.66 105.321 1147.92 Q106.223 1146.16 106.223 1144.47 Q106.223 1141.72 104.279 1139.98 Q102.358 1138.24 99.2558 1138.24 Q97.0567 1138.24 94.603 1139.01 Q92.1725 1139.77 89.3947 1141.32 L89.3947 1136.6 Q92.2188 1135.47 94.6724 1134.89 Q97.1261 1134.31 99.1632 1134.31 Q104.534 1134.31 107.728 1136.99 Q110.922 1139.68 110.922 1144.17 Q110.922 1146.3 110.112 1148.22 Q109.325 1150.12 107.219 1152.71 Q106.64 1153.38 103.538 1156.6 Q100.436 1159.79 94.7882 1165.56 Z\" fill=\"#000000\" fill-rule=\"evenodd\" fill-opacity=\"1\" /><path clip-path=\"url(#clip370)\" d=\"M120.922 1163.61 L125.807 1163.61 L125.807 1169.49 L120.922 1169.49 L120.922 1163.61 Z\" fill=\"#000000\" fill-rule=\"evenodd\" fill-opacity=\"1\" /><path clip-path=\"url(#clip370)\" d=\"M145.992 1138.01 Q142.381 1138.01 140.552 1141.58 Q138.746 1145.12 138.746 1152.25 Q138.746 1159.35 140.552 1162.92 Q142.381 1166.46 145.992 1166.46 Q149.626 1166.46 151.431 1162.92 Q153.26 1159.35 153.26 1152.25 Q153.26 1145.12 151.431 1141.58 Q149.626 1138.01 145.992 1138.01 M145.992 1134.31 Q151.802 1134.31 154.857 1138.92 Q157.936 1143.5 157.936 1152.25 Q157.936 1160.98 154.857 1165.58 Q151.802 1170.17 145.992 1170.17 Q140.181 1170.17 137.103 1165.58 Q134.047 1160.98 134.047 1152.25 Q134.047 1143.5 137.103 1138.92 Q140.181 1134.31 145.992 1134.31 Z\" fill=\"#000000\" fill-rule=\"evenodd\" fill-opacity=\"1\" /><path clip-path=\"url(#clip370)\" d=\"M194.325 1144.03 L183.746 1154.66 L194.325 1165.23 L191.57 1168.04 L180.945 1157.41 L170.32 1168.04 L167.589 1165.23 L178.144 1154.66 L167.589 1144.03 L170.32 1141.23 L180.945 1151.85 L191.57 1141.23 L194.325 1144.03 Z\" fill=\"#000000\" fill-rule=\"evenodd\" fill-opacity=\"1\" /><path clip-path=\"url(#clip370)\" d=\"M206.686 1165.56 L214.325 1165.56 L214.325 1139.19 L206.014 1140.86 L206.014 1136.6 L214.278 1134.93 L218.954 1134.93 L218.954 1165.56 L226.593 1165.56 L226.593 1169.49 L206.686 1169.49 L206.686 1165.56 Z\" fill=\"#000000\" fill-rule=\"evenodd\" fill-opacity=\"1\" /><path clip-path=\"url(#clip370)\" d=\"M246.037 1138.01 Q242.426 1138.01 240.598 1141.58 Q238.792 1145.12 238.792 1152.25 Q238.792 1159.35 240.598 1162.92 Q242.426 1166.46 246.037 1166.46 Q249.672 1166.46 251.477 1162.92 Q253.306 1159.35 253.306 1152.25 Q253.306 1145.12 251.477 1141.58 Q249.672 1138.01 246.037 1138.01 M246.037 1134.31 Q251.848 1134.31 254.903 1138.92 Q257.982 1143.5 257.982 1152.25 Q257.982 1160.98 254.903 1165.58 Q251.848 1170.17 246.037 1170.17 Q240.227 1170.17 237.149 1165.58 Q234.093 1160.98 234.093 1152.25 Q234.093 1143.5 237.149 1138.92 Q240.227 1134.31 246.037 1134.31 Z\" fill=\"#000000\" fill-rule=\"evenodd\" fill-opacity=\"1\" /><path clip-path=\"url(#clip370)\" d=\"M257.982 1128.41 L282.093 1128.41 L282.093 1131.61 L257.982 1131.61 L257.982 1128.41 Z\" fill=\"#000000\" fill-rule=\"evenodd\" fill-opacity=\"1\" /><path clip-path=\"url(#clip370)\" d=\"M290.952 1138.89 L297.158 1138.89 L297.158 1117.46 L290.406 1118.82 L290.406 1115.36 L297.121 1114 L300.92 1114 L300.92 1138.89 L307.126 1138.89 L307.126 1142.08 L290.952 1142.08 L290.952 1138.89 Z\" fill=\"#000000\" fill-rule=\"evenodd\" fill-opacity=\"1\" /><path clip-path=\"url(#clip370)\" d=\"M325.238 1117.31 L315.646 1132.3 L325.238 1132.3 L325.238 1117.31 M324.242 1114 L329.019 1114 L329.019 1132.3 L333.025 1132.3 L333.025 1135.46 L329.019 1135.46 L329.019 1142.08 L325.238 1142.08 L325.238 1135.46 L312.562 1135.46 L312.562 1131.8 L324.242 1114 Z\" fill=\"#000000\" fill-rule=\"evenodd\" fill-opacity=\"1\" /><path clip-path=\"url(#clip370)\" d=\"M50.9921 963.205 L80.6679 963.205 L80.6679 967.14 L50.9921 967.14 L50.9921 963.205 Z\" fill=\"#000000\" fill-rule=\"evenodd\" fill-opacity=\"1\" /><path clip-path=\"url(#clip370)\" d=\"M91.5706 976.098 L99.2095 976.098 L99.2095 949.733 L90.8993 951.4 L90.8993 947.14 L99.1632 945.474 L103.839 945.474 L103.839 976.098 L111.478 976.098 L111.478 980.034 L91.5706 980.034 L91.5706 976.098 Z\" fill=\"#000000\" fill-rule=\"evenodd\" fill-opacity=\"1\" /><path clip-path=\"url(#clip370)\" d=\"M120.922 974.154 L125.807 974.154 L125.807 980.034 L120.922 980.034 L120.922 974.154 Z\" fill=\"#000000\" fill-rule=\"evenodd\" fill-opacity=\"1\" /><path clip-path=\"url(#clip370)\" d=\"M145.992 948.552 Q142.381 948.552 140.552 952.117 Q138.746 955.659 138.746 962.788 Q138.746 969.895 140.552 973.46 Q142.381 977.001 145.992 977.001 Q149.626 977.001 151.431 973.46 Q153.26 969.895 153.26 962.788 Q153.26 955.659 151.431 952.117 Q149.626 948.552 145.992 948.552 M145.992 944.849 Q151.802 944.849 154.857 949.455 Q157.936 954.038 157.936 962.788 Q157.936 971.515 154.857 976.122 Q151.802 980.705 145.992 980.705 Q140.181 980.705 137.103 976.122 Q134.047 971.515 134.047 962.788 Q134.047 954.038 137.103 949.455 Q140.181 944.849 145.992 944.849 Z\" fill=\"#000000\" fill-rule=\"evenodd\" fill-opacity=\"1\" /><path clip-path=\"url(#clip370)\" d=\"M194.325 954.571 L183.746 965.196 L194.325 975.774 L191.57 978.575 L180.945 967.95 L170.32 978.575 L167.589 975.774 L178.144 965.196 L167.589 954.571 L170.32 951.77 L180.945 962.395 L191.57 951.77 L194.325 954.571 Z\" fill=\"#000000\" fill-rule=\"evenodd\" fill-opacity=\"1\" /><path clip-path=\"url(#clip370)\" d=\"M206.686 976.098 L214.325 976.098 L214.325 949.733 L206.014 951.4 L206.014 947.14 L214.278 945.474 L218.954 945.474 L218.954 976.098 L226.593 976.098 L226.593 980.034 L206.686 980.034 L206.686 976.098 Z\" fill=\"#000000\" fill-rule=\"evenodd\" fill-opacity=\"1\" /><path clip-path=\"url(#clip370)\" d=\"M246.037 948.552 Q242.426 948.552 240.598 952.117 Q238.792 955.659 238.792 962.788 Q238.792 969.895 240.598 973.46 Q242.426 977.001 246.037 977.001 Q249.672 977.001 251.477 973.46 Q253.306 969.895 253.306 962.788 Q253.306 955.659 251.477 952.117 Q249.672 948.552 246.037 948.552 M246.037 944.849 Q251.848 944.849 254.903 949.455 Q257.982 954.038 257.982 962.788 Q257.982 971.515 254.903 976.122 Q251.848 980.705 246.037 980.705 Q240.227 980.705 237.149 976.122 Q234.093 971.515 234.093 962.788 Q234.093 954.038 237.149 949.455 Q240.227 944.849 246.037 944.849 Z\" fill=\"#000000\" fill-rule=\"evenodd\" fill-opacity=\"1\" /><path clip-path=\"url(#clip370)\" d=\"M257.982 938.95 L282.093 938.95 L282.093 942.147 L257.982 942.147 L257.982 938.95 Z\" fill=\"#000000\" fill-rule=\"evenodd\" fill-opacity=\"1\" /><path clip-path=\"url(#clip370)\" d=\"M290.952 949.426 L297.158 949.426 L297.158 928.004 L290.406 929.358 L290.406 925.897 L297.121 924.543 L300.92 924.543 L300.92 949.426 L307.126 949.426 L307.126 952.623 L290.952 952.623 L290.952 949.426 Z\" fill=\"#000000\" fill-rule=\"evenodd\" fill-opacity=\"1\" /><path clip-path=\"url(#clip370)\" d=\"M325.238 927.853 L315.646 942.843 L325.238 942.843 L325.238 927.853 M324.242 924.543 L329.019 924.543 L329.019 942.843 L333.025 942.843 L333.025 946.003 L329.019 946.003 L329.019 952.623 L325.238 952.623 L325.238 946.003 L312.562 946.003 L312.562 942.335 L324.242 924.543 Z\" fill=\"#000000\" fill-rule=\"evenodd\" fill-opacity=\"1\" /><path clip-path=\"url(#clip370)\" d=\"M321.08 752.645 Q317.469 752.645 315.641 756.209 Q313.835 759.751 313.835 766.881 Q313.835 773.987 315.641 777.552 Q317.469 781.094 321.08 781.094 Q324.715 781.094 326.52 777.552 Q328.349 773.987 328.349 766.881 Q328.349 759.751 326.52 756.209 Q324.715 752.645 321.08 752.645 M321.08 748.941 Q326.891 748.941 329.946 753.547 Q333.025 758.131 333.025 766.881 Q333.025 775.608 329.946 780.214 Q326.891 784.797 321.08 784.797 Q315.27 784.797 312.192 780.214 Q309.136 775.608 309.136 766.881 Q309.136 758.131 312.192 753.547 Q315.27 748.941 321.08 748.941 Z\" fill=\"#000000\" fill-rule=\"evenodd\" fill-opacity=\"1\" /><path clip-path=\"url(#clip370)\" d=\"M91.5706 597.178 L99.2095 597.178 L99.2095 570.813 L90.8993 572.479 L90.8993 568.22 L99.1632 566.554 L103.839 566.554 L103.839 597.178 L111.478 597.178 L111.478 601.114 L91.5706 601.114 L91.5706 597.178 Z\" fill=\"#000000\" fill-rule=\"evenodd\" fill-opacity=\"1\" /><path clip-path=\"url(#clip370)\" d=\"M120.922 595.234 L125.807 595.234 L125.807 601.114 L120.922 601.114 L120.922 595.234 Z\" fill=\"#000000\" fill-rule=\"evenodd\" fill-opacity=\"1\" /><path clip-path=\"url(#clip370)\" d=\"M145.992 569.632 Q142.381 569.632 140.552 573.197 Q138.746 576.739 138.746 583.868 Q138.746 590.975 140.552 594.539 Q142.381 598.081 145.992 598.081 Q149.626 598.081 151.431 594.539 Q153.26 590.975 153.26 583.868 Q153.26 576.739 151.431 573.197 Q149.626 569.632 145.992 569.632 M145.992 565.929 Q151.802 565.929 154.857 570.535 Q157.936 575.118 157.936 583.868 Q157.936 592.595 154.857 597.201 Q151.802 601.785 145.992 601.785 Q140.181 601.785 137.103 597.201 Q134.047 592.595 134.047 583.868 Q134.047 575.118 137.103 570.535 Q140.181 565.929 145.992 565.929 Z\" fill=\"#000000\" fill-rule=\"evenodd\" fill-opacity=\"1\" /><path clip-path=\"url(#clip370)\" d=\"M194.325 575.651 L183.746 586.276 L194.325 596.854 L191.57 599.655 L180.945 589.03 L170.32 599.655 L167.589 596.854 L178.144 586.276 L167.589 575.651 L170.32 572.85 L180.945 583.475 L191.57 572.85 L194.325 575.651 Z\" fill=\"#000000\" fill-rule=\"evenodd\" fill-opacity=\"1\" /><path clip-path=\"url(#clip370)\" d=\"M206.686 597.178 L214.325 597.178 L214.325 570.813 L206.014 572.479 L206.014 568.22 L214.278 566.554 L218.954 566.554 L218.954 597.178 L226.593 597.178 L226.593 601.114 L206.686 601.114 L206.686 597.178 Z\" fill=\"#000000\" fill-rule=\"evenodd\" fill-opacity=\"1\" /><path clip-path=\"url(#clip370)\" d=\"M246.037 569.632 Q242.426 569.632 240.598 573.197 Q238.792 576.739 238.792 583.868 Q238.792 590.975 240.598 594.539 Q242.426 598.081 246.037 598.081 Q249.672 598.081 251.477 594.539 Q253.306 590.975 253.306 583.868 Q253.306 576.739 251.477 573.197 Q249.672 569.632 246.037 569.632 M246.037 565.929 Q251.848 565.929 254.903 570.535 Q257.982 575.118 257.982 583.868 Q257.982 592.595 254.903 597.201 Q251.848 601.785 246.037 601.785 Q240.227 601.785 237.149 597.201 Q234.093 592.595 234.093 583.868 Q234.093 575.118 237.149 570.535 Q240.227 565.929 246.037 565.929 Z\" fill=\"#000000\" fill-rule=\"evenodd\" fill-opacity=\"1\" /><path clip-path=\"url(#clip370)\" d=\"M257.982 560.03 L282.093 560.03 L282.093 563.227 L257.982 563.227 L257.982 560.03 Z\" fill=\"#000000\" fill-rule=\"evenodd\" fill-opacity=\"1\" /><path clip-path=\"url(#clip370)\" d=\"M290.952 570.506 L297.158 570.506 L297.158 549.084 L290.406 550.438 L290.406 546.977 L297.121 545.623 L300.92 545.623 L300.92 570.506 L307.126 570.506 L307.126 573.703 L290.952 573.703 L290.952 570.506 Z\" fill=\"#000000\" fill-rule=\"evenodd\" fill-opacity=\"1\" /><path clip-path=\"url(#clip370)\" d=\"M325.238 548.933 L315.646 563.923 L325.238 563.923 L325.238 548.933 M324.242 545.623 L329.019 545.623 L329.019 563.923 L333.025 563.923 L333.025 567.083 L329.019 567.083 L329.019 573.703 L325.238 573.703 L325.238 567.083 L312.562 567.083 L312.562 563.415 L324.242 545.623 Z\" fill=\"#000000\" fill-rule=\"evenodd\" fill-opacity=\"1\" /><path clip-path=\"url(#clip370)\" d=\"M94.7882 407.718 L111.108 407.718 L111.108 411.653 L89.1632 411.653 L89.1632 407.718 Q91.8252 404.964 96.4085 400.334 Q101.015 395.681 102.196 394.339 Q104.441 391.816 105.321 390.079 Q106.223 388.32 106.223 386.63 Q106.223 383.876 104.279 382.14 Q102.358 380.404 99.2558 380.404 Q97.0567 380.404 94.603 381.167 Q92.1725 381.931 89.3947 383.482 L89.3947 378.76 Q92.2188 377.626 94.6724 377.047 Q97.1261 376.468 99.1632 376.468 Q104.534 376.468 107.728 379.154 Q110.922 381.839 110.922 386.329 Q110.922 388.459 110.112 390.38 Q109.325 392.279 107.219 394.871 Q106.64 395.542 103.538 398.76 Q100.436 401.954 94.7882 407.718 Z\" fill=\"#000000\" fill-rule=\"evenodd\" fill-opacity=\"1\" /><path clip-path=\"url(#clip370)\" d=\"M120.922 405.774 L125.807 405.774 L125.807 411.653 L120.922 411.653 L120.922 405.774 Z\" fill=\"#000000\" fill-rule=\"evenodd\" fill-opacity=\"1\" /><path clip-path=\"url(#clip370)\" d=\"M145.992 380.172 Q142.381 380.172 140.552 383.737 Q138.746 387.279 138.746 394.408 Q138.746 401.515 140.552 405.079 Q142.381 408.621 145.992 408.621 Q149.626 408.621 151.431 405.079 Q153.26 401.515 153.26 394.408 Q153.26 387.279 151.431 383.737 Q149.626 380.172 145.992 380.172 M145.992 376.468 Q151.802 376.468 154.857 381.075 Q157.936 385.658 157.936 394.408 Q157.936 403.135 154.857 407.741 Q151.802 412.325 145.992 412.325 Q140.181 412.325 137.103 407.741 Q134.047 403.135 134.047 394.408 Q134.047 385.658 137.103 381.075 Q140.181 376.468 145.992 376.468 Z\" fill=\"#000000\" fill-rule=\"evenodd\" fill-opacity=\"1\" /><path clip-path=\"url(#clip370)\" d=\"M194.325 386.191 L183.746 396.816 L194.325 407.394 L191.57 410.195 L180.945 399.57 L170.32 410.195 L167.589 407.394 L178.144 396.816 L167.589 386.191 L170.32 383.39 L180.945 394.015 L191.57 383.39 L194.325 386.191 Z\" fill=\"#000000\" fill-rule=\"evenodd\" fill-opacity=\"1\" /><path clip-path=\"url(#clip370)\" d=\"M206.686 407.718 L214.325 407.718 L214.325 381.353 L206.014 383.019 L206.014 378.76 L214.278 377.093 L218.954 377.093 L218.954 407.718 L226.593 407.718 L226.593 411.653 L206.686 411.653 L206.686 407.718 Z\" fill=\"#000000\" fill-rule=\"evenodd\" fill-opacity=\"1\" /><path clip-path=\"url(#clip370)\" d=\"M246.037 380.172 Q242.426 380.172 240.598 383.737 Q238.792 387.279 238.792 394.408 Q238.792 401.515 240.598 405.079 Q242.426 408.621 246.037 408.621 Q249.672 408.621 251.477 405.079 Q253.306 401.515 253.306 394.408 Q253.306 387.279 251.477 383.737 Q249.672 380.172 246.037 380.172 M246.037 376.468 Q251.848 376.468 254.903 381.075 Q257.982 385.658 257.982 394.408 Q257.982 403.135 254.903 407.741 Q251.848 412.325 246.037 412.325 Q240.227 412.325 237.149 407.741 Q234.093 403.135 234.093 394.408 Q234.093 385.658 237.149 381.075 Q240.227 376.468 246.037 376.468 Z\" fill=\"#000000\" fill-rule=\"evenodd\" fill-opacity=\"1\" /><path clip-path=\"url(#clip370)\" d=\"M257.982 370.57 L282.093 370.57 L282.093 373.767 L257.982 373.767 L257.982 370.57 Z\" fill=\"#000000\" fill-rule=\"evenodd\" fill-opacity=\"1\" /><path clip-path=\"url(#clip370)\" d=\"M290.952 381.046 L297.158 381.046 L297.158 359.624 L290.406 360.978 L290.406 357.517 L297.121 356.163 L300.92 356.163 L300.92 381.046 L307.126 381.046 L307.126 384.243 L290.952 384.243 L290.952 381.046 Z\" fill=\"#000000\" fill-rule=\"evenodd\" fill-opacity=\"1\" /><path clip-path=\"url(#clip370)\" d=\"M325.238 359.473 L315.646 374.463 L325.238 374.463 L325.238 359.473 M324.242 356.163 L329.019 356.163 L329.019 374.463 L333.025 374.463 L333.025 377.623 L329.019 377.623 L329.019 384.243 L325.238 384.243 L325.238 377.623 L312.562 377.623 L312.562 373.955 L324.242 356.163 Z\" fill=\"#000000\" fill-rule=\"evenodd\" fill-opacity=\"1\" /><path clip-path=\"url(#clip370)\" d=\"M104.927 203.559 Q108.283 204.277 110.158 206.545 Q112.057 208.814 112.057 212.147 Q112.057 217.263 108.538 220.064 Q105.02 222.865 98.5382 222.865 Q96.3623 222.865 94.0475 222.425 Q91.7558 222.008 89.3021 221.152 L89.3021 216.638 Q91.2465 217.772 93.5613 218.351 Q95.8761 218.929 98.3993 218.929 Q102.797 218.929 105.089 217.193 Q107.404 215.457 107.404 212.147 Q107.404 209.092 105.251 207.379 Q103.121 205.643 99.3021 205.643 L95.2743 205.643 L95.2743 201.8 L99.4872 201.8 Q102.936 201.8 104.765 200.434 Q106.594 199.045 106.594 196.453 Q106.594 193.791 104.696 192.379 Q102.821 190.944 99.3021 190.944 Q97.3808 190.944 95.1817 191.36 Q92.9826 191.777 90.3438 192.656 L90.3438 188.49 Q93.0058 187.749 95.3206 187.379 Q97.6585 187.008 99.7187 187.008 Q105.043 187.008 108.145 189.439 Q111.246 191.846 111.246 195.967 Q111.246 198.837 109.603 200.828 Q107.959 202.795 104.927 203.559 Z\" fill=\"#000000\" fill-rule=\"evenodd\" fill-opacity=\"1\" /><path clip-path=\"url(#clip370)\" d=\"M120.922 216.314 L125.807 216.314 L125.807 222.193 L120.922 222.193 L120.922 216.314 Z\" fill=\"#000000\" fill-rule=\"evenodd\" fill-opacity=\"1\" /><path clip-path=\"url(#clip370)\" d=\"M145.992 190.712 Q142.381 190.712 140.552 194.277 Q138.746 197.818 138.746 204.948 Q138.746 212.055 140.552 215.619 Q142.381 219.161 145.992 219.161 Q149.626 219.161 151.431 215.619 Q153.26 212.055 153.26 204.948 Q153.26 197.818 151.431 194.277 Q149.626 190.712 145.992 190.712 M145.992 187.008 Q151.802 187.008 154.857 191.615 Q157.936 196.198 157.936 204.948 Q157.936 213.675 154.857 218.281 Q151.802 222.865 145.992 222.865 Q140.181 222.865 137.103 218.281 Q134.047 213.675 134.047 204.948 Q134.047 196.198 137.103 191.615 Q140.181 187.008 145.992 187.008 Z\" fill=\"#000000\" fill-rule=\"evenodd\" fill-opacity=\"1\" /><path clip-path=\"url(#clip370)\" d=\"M194.325 196.731 L183.746 207.355 L194.325 217.934 L191.57 220.735 L180.945 210.11 L170.32 220.735 L167.589 217.934 L178.144 207.355 L167.589 196.731 L170.32 193.93 L180.945 204.555 L191.57 193.93 L194.325 196.731 Z\" fill=\"#000000\" fill-rule=\"evenodd\" fill-opacity=\"1\" /><path clip-path=\"url(#clip370)\" d=\"M206.686 218.258 L214.325 218.258 L214.325 191.893 L206.014 193.559 L206.014 189.3 L214.278 187.633 L218.954 187.633 L218.954 218.258 L226.593 218.258 L226.593 222.193 L206.686 222.193 L206.686 218.258 Z\" fill=\"#000000\" fill-rule=\"evenodd\" fill-opacity=\"1\" /><path clip-path=\"url(#clip370)\" d=\"M246.037 190.712 Q242.426 190.712 240.598 194.277 Q238.792 197.818 238.792 204.948 Q238.792 212.055 240.598 215.619 Q242.426 219.161 246.037 219.161 Q249.672 219.161 251.477 215.619 Q253.306 212.055 253.306 204.948 Q253.306 197.818 251.477 194.277 Q249.672 190.712 246.037 190.712 M246.037 187.008 Q251.848 187.008 254.903 191.615 Q257.982 196.198 257.982 204.948 Q257.982 213.675 254.903 218.281 Q251.848 222.865 246.037 222.865 Q240.227 222.865 237.149 218.281 Q234.093 213.675 234.093 204.948 Q234.093 196.198 237.149 191.615 Q240.227 187.008 246.037 187.008 Z\" fill=\"#000000\" fill-rule=\"evenodd\" fill-opacity=\"1\" /><path clip-path=\"url(#clip370)\" d=\"M257.982 181.11 L282.093 181.11 L282.093 184.307 L257.982 184.307 L257.982 181.11 Z\" fill=\"#000000\" fill-rule=\"evenodd\" fill-opacity=\"1\" /><path clip-path=\"url(#clip370)\" d=\"M290.952 191.586 L297.158 191.586 L297.158 170.164 L290.406 171.518 L290.406 168.057 L297.121 166.703 L300.92 166.703 L300.92 191.586 L307.126 191.586 L307.126 194.783 L290.952 194.783 L290.952 191.586 Z\" fill=\"#000000\" fill-rule=\"evenodd\" fill-opacity=\"1\" /><path clip-path=\"url(#clip370)\" d=\"M325.238 170.013 L315.646 185.003 L325.238 185.003 L325.238 170.013 M324.242 166.703 L329.019 166.703 L329.019 185.003 L333.025 185.003 L333.025 188.163 L329.019 188.163 L329.019 194.783 L325.238 194.783 L325.238 188.163 L312.562 188.163 L312.562 184.495 L324.242 166.703 Z\" fill=\"#000000\" fill-rule=\"evenodd\" fill-opacity=\"1\" /><polyline clip-path=\"url(#clip372)\" style=\"stroke:#009af9; stroke-linecap:butt; stroke-linejoin:round; stroke-width:4; stroke-opacity:1; fill:none\" points=\"\n",
       "  425.168,1445.72 503.145,1136.05 581.122,956.306 659.099,857.464 737.076,806.579 815.052,782.449 893.029,772.15 971.006,768.326 1048.98,767.156 1126.96,766.887 \n",
       "  1204.94,766.848 1282.91,766.846 1360.89,766.846 1438.87,766.846 1516.84,766.844 1594.82,766.805 1672.8,766.536 1750.77,765.366 1828.75,761.542 1906.73,751.243 \n",
       "  1984.71,727.113 2062.68,676.228 2140.66,577.386 2218.64,397.642 2296.61,87.9763 \n",
       "  \"/>\n",
       "<path clip-path=\"url(#clip370)\" d=\"\n",
       "M2013.79 198.898 L2286.63 198.898 L2286.63 95.2176 L2013.79 95.2176  Z\n",
       "  \" fill=\"#ffffff\" fill-rule=\"evenodd\" fill-opacity=\"1\"/>\n",
       "<polyline clip-path=\"url(#clip370)\" style=\"stroke:#000000; stroke-linecap:butt; stroke-linejoin:round; stroke-width:4; stroke-opacity:1; fill:none\" points=\"\n",
       "  2013.79,198.898 2286.63,198.898 2286.63,95.2176 2013.79,95.2176 2013.79,198.898 \n",
       "  \"/>\n",
       "<polyline clip-path=\"url(#clip370)\" style=\"stroke:#009af9; stroke-linecap:butt; stroke-linejoin:round; stroke-width:4; stroke-opacity:1; fill:none\" points=\"\n",
       "  2035.83,147.058 2168.08,147.058 \n",
       "  \"/>\n",
       "<path clip-path=\"url(#clip370)\" d=\"M2203.96 166.745 Q2202.16 171.375 2200.44 172.787 Q2198.73 174.199 2195.86 174.199 L2192.46 174.199 L2192.46 170.634 L2194.96 170.634 Q2196.72 170.634 2197.69 169.8 Q2198.66 168.967 2199.84 165.865 L2200.6 163.921 L2190.12 138.412 L2194.63 138.412 L2202.73 158.689 L2210.84 138.412 L2215.35 138.412 L2203.96 166.745 Z\" fill=\"#000000\" fill-rule=\"evenodd\" fill-opacity=\"1\" /><path clip-path=\"url(#clip370)\" d=\"M2222.64 160.402 L2230.28 160.402 L2230.28 134.037 L2221.97 135.703 L2221.97 131.444 L2230.23 129.778 L2234.91 129.778 L2234.91 160.402 L2242.55 160.402 L2242.55 164.338 L2222.64 164.338 L2222.64 160.402 Z\" fill=\"#000000\" fill-rule=\"evenodd\" fill-opacity=\"1\" /></svg>\n"
      ]
     },
     "execution_count": 33,
     "metadata": {},
     "output_type": "execute_result"
    }
   ],
   "source": [
    "plot(x, y2s)"
   ]
  },
  {
   "cell_type": "markdown",
   "metadata": {},
   "source": [
    "Plotting y1 shows a plot that is jagged and not smooth, as a result of adding several floating point numbers together to compute each result, with the roundoff error aggregating at each floating point addition. Plotting y2 is noticeably smoother due to a single subtraction and a single exponentiation taking place.\n",
    "\n",
    "Mathematically, suppose each value $x$ is represented by a floating number $x'$, which differs from $x$ by some maximal error $\\epsilon$, so that $\\lvert x - x'\\rvert \\leq \\epsilon$ at each value we compute. Then $x = x' \\pm \\epsilon$ and the aggregate error for y2 would be:"
   ]
  },
  {
   "cell_type": "markdown",
   "metadata": {},
   "source": [
    "$$\n",
    "(x' - 1)^7 = (x - 1 \\pm \\epsilon)^7 = (x - 1)^7 \\pm 7(x - 1)^6\\epsilon + 14(x - 1)^5 \\epsilon^2 \\pm 35(x - 1)^4 \\epsilon^3 + 35(x - 1)^3 \\epsilon^4 \\pm 14(x - 1)^2 \\epsilon^5 + 7(x - 1)^1 \\epsilon^6 \\pm \\epsilon^7 = (x - 1)^7 \\pm 7O(\\epsilon)\n",
    "$$"
   ]
  },
  {
   "cell_type": "markdown",
   "metadata": {},
   "source": [
    "Note that we move the 7 outside of the big-O in order to emphasize its impact on the error, the other constant term multiplying the $\\epsilon$ consists of the difference term $(x - 1)^k$ for some power $k$, as well as higher powers of $\\epsilon$, which we treat as negligible terms, owing to the differences in order of magnitude (i.e., $\\lvert x - 1\\rvert \\approx 0.012$ at most, while $\\epsilon \\approx 10^{-16}$ for a 64-bit floating point number)."
   ]
  },
  {
   "cell_type": "markdown",
   "metadata": {},
   "source": [
    "With the same approach, we compute y1:"
   ]
  },
  {
   "cell_type": "markdown",
   "metadata": {},
   "source": [
    "\\begin{align*}\n",
    "&(x \\pm \\epsilon)^7 - 7(x \\pm \\epsilon)^6 + 14(x \\pm \\epsilon)^5 - 35(x \\pm \\epsilon)^4 + 35(x \\pm \\epsilon)^3 - 14(x \\pm \\epsilon)^2 + 7(x \\pm \\epsilon) - 1\\\\\n",
    "&= x^7 \\pm 7O(\\epsilon) - 7x^6 \\mp 42O(\\epsilon) + 14x^5 \\pm 90O(\\epsilon) - 35x^4 \\mp 140O(\\epsilon) + 35x^3 \\pm 105O(\\epsilon) - 14x'^2 \\mp 70O(\\epsilon) + 7x' \\pm 42O(\\epsilon) - 1\\\\\n",
    " &= (x - 1)^7 \\pm 496O(\\epsilon)\n",
    "\\end{align*}"
   ]
  },
  {
   "cell_type": "markdown",
   "metadata": {},
   "source": [
    "in the worst case aggregation of the error term. Indeed, if we take the values of y2 to be sufficiently close to the true values, we can compute the relative errors at each point and end up with some even more startling errors especially for values closer to $x = 1$, some orders of magnitude beyond the above worst case aggregated error term:"
   ]
  },
  {
   "cell_type": "code",
   "execution_count": 34,
   "metadata": {},
   "outputs": [
    {
     "data": {
      "text/plain": [
       "25-element Vector{Float64}:\n",
       "     -0.008502814370829673\n",
       "      0.18501751291673438\n",
       "      0.42108547152019166\n",
       "      0.6712643919082639\n",
       "      1.9646153153900328\n",
       "      4.392422858916412\n",
       "      5.34558198802669\n",
       "     44.474735088646135\n",
       "    107.42021724854976\n",
       "   1217.3517417011246\n",
       "   6937.893903907185\n",
       "      1.7763558394002393e6\n",
       "    NaN\n",
       "     -5.32907151820486e6\n",
       " -48573.25732735029\n",
       "    811.2344944676267\n",
       "   -109.42021724854976\n",
       "    -12.368683772163301\n",
       "     -7.345581988026691\n",
       "     -1.0\n",
       "      0.2705494208814425\n",
       "     -1.7427841741815149\n",
       "     -0.2894572642399042\n",
       "     -0.04287047033641605\n",
       "      0.2889463413179214"
      ]
     },
     "execution_count": 34,
     "metadata": {},
     "output_type": "execute_result"
    }
   ],
   "source": [
    "(y1s - y2s) ./ y2s"
   ]
  },
  {
   "cell_type": "markdown",
   "metadata": {},
   "source": [
    "The NaN value may be ignored, as $x = 1$ returns a value of $y = 0$ for both implementations of y1 and y2."
   ]
  },
  {
   "cell_type": "markdown",
   "metadata": {},
   "source": [
    "## Q5\n",
    "\n",
    "1. Show the **Sherman-Morrison formula**\n",
    "$$\n",
    "\t(\\mathbf{A} + \\mathbf{u} \\mathbf{u}^T)^{-1} = \\mathbf{A}^{-1} - \\frac{1}{1 + \\mathbf{u}^T \\mathbf{A}^{-1} \\mathbf{u}} \\mathbf{A}^{-1} \\mathbf{u} \\mathbf{u}^T \\mathbf{A}^{-1},\n",
    "$$\n",
    "where $\\mathbf{A} \\in \\mathbb{R}^{n \\times n}$ is nonsingular and $\\mathbf{u} \\in \\mathbb{R}^n$. This formula supplies the inverse of the symmetric, rank-one  perturbation of $\\mathbf{A}$.\n",
    "\n",
    "2. Show the **Woodbury formula**\n",
    "$$\n",
    "\t(\\mathbf{A} + \\mathbf{U} \\mathbf{V}^T)^{-1} = \\mathbf{A}^{-1} - \\mathbf{A}^{-1} \\mathbf{U} (\\mathbf{I}_m + \\mathbf{V}^T \\mathbf{A}^{-1} \\mathbf{U})^{-1} \\mathbf{V}^T \\mathbf{A}^{-1},\n",
    "$$\n",
    "where $\\mathbf{A} \\in \\mathbb{R}^{n \\times n}$ is nonsingular, $\\mathbf{U}, \\mathbf{V} \\in \\mathbb{R}^{n \\times m}$, and $\\mathbf{I}_m$ is the $m \\times m$ identity matrix. In many applications $m$ is much smaller than $n$. Woodbury formula generalizes Sherman-Morrison and is valuable because the smaller matrix $\\mathbf{I}_m + \\mathbf{V}^T \\mathbf{A}^{-1} \\mathbf{U}$ is cheaper to invert than the larger matrix $\\mathbf{A} + \\mathbf{U} \\mathbf{V}^T$.\n",
    "\n",
    "3. Show the **binomial inversion formula**\n",
    "$$\n",
    "\t(\\mathbf{A} + \\mathbf{U} \\mathbf{B} \\mathbf{V}^T)^{-1} = \\mathbf{A}^{-1} - \\mathbf{A}^{-1} \\mathbf{U} (\\mathbf{B}^{-1} + \\mathbf{V}^T \\mathbf{A}^{-1} \\mathbf{U})^{-1} \\mathbf{V}^T \\mathbf{A}^{-1},\n",
    "$$\n",
    "where $\\mathbf{A}$ and $\\mathbf{B}$ are nonsingular.\n",
    "\n",
    "4. Show the identity\n",
    "$$\n",
    "\t\\text{det}(\\mathbf{A} + \\mathbf{U} \\mathbf{V}^T) = \\text{det}(\\mathbf{A}) \\text{det}(\\mathbf{I}_m + \\mathbf{V}^T \\mathbf{A}^{-1} \\mathbf{U}).\n",
    "$$\n",
    "This formula is useful for evaluating the density of a multivariate normal with covariance matrix $\\mathbf{A} + \\mathbf{U} \\mathbf{V}^T$.\n",
    "\n",
    "**Hint**: 1 and 2 are special cases of 3."
   ]
  },
  {
   "cell_type": "markdown",
   "metadata": {},
   "source": [
    "### Answer"
   ]
  },
  {
   "cell_type": "markdown",
   "metadata": {},
   "source": [
    "#### Part 1"
   ]
  },
  {
   "cell_type": "markdown",
   "metadata": {},
   "source": [
    "The Sherman-Morrison formula may be shown by simply computing the product (this is the same approach taken by Seber and Lee, 2nd Edition):"
   ]
  },
  {
   "cell_type": "markdown",
   "metadata": {},
   "source": [
    "\\begin{align*}\n",
    "&(A + uu^{T})\\left(A^{-1} - \\frac{1}{1 + u^{T}A^{-1}u}A^{-1}uu^{T}A^{-1}\\right)\\\\\n",
    " &= I_{n} + uu^{T}A^{-1} - \\frac{1}{1 + u^{T}A^{-1}u}uu^{T}A^{-1} - \\frac{1}{1 + u^{T}A^{-1}u}uu^{T}A^{-1}uu^{T}A^{-1}\\\\\n",
    " &= I_{n} + uu^{T}A^{-1} - \\frac{1}{1 + u^{T}A^{-1}u}uu^{T}A^{-1} - \\frac{u^{T}A^{-1}u}{1 + u^{T}A^{-1}u}uu^{T}A^{-1}\\\\\n",
    " &= I_{n} + uu^{T}A^{-1} - \\frac{1 + u^{T}A^{-1}u}{1 + u^{T}A^{-1}u}uu^{T}A^{-1} = I_{n}\\\\\n",
    "\\end{align*}"
   ]
  },
  {
   "cell_type": "markdown",
   "metadata": {},
   "source": [
    "#### Part 2"
   ]
  },
  {
   "cell_type": "markdown",
   "metadata": {},
   "source": [
    "We do the same for the Woodbury formula:"
   ]
  },
  {
   "cell_type": "markdown",
   "metadata": {},
   "source": [
    "\\begin{align*}\n",
    "&(A + UV^{T})\\left(A^{-1} - A^{-1}U(I_{m} + V^{T}A^{-1}U)^{-1}V^{T}A^{-1}\\right)\\\\\n",
    "&= I_{n} + UV^{T}A^{-1} - U(I_{m} + V^{T}A^{-1}U)^{-1}V^{T}A^{-1} - UV^{T}A^{-1}U(I_{m} + V^{T}A^{-1}U)^{-1}V^{T}A^{-1}\\\\\n",
    "&= I_{n} + UV^{T}A^{-1} - U(I_{m} + V^{T}A^{-1}U)(I_{m} + V^{T}A^{-1}U)^{-1}V^{T}A^{-1}\\\\\n",
    "&= I_{n} + UV^{T}A^{-1} - UV^{T}A^{-1} = I_{n}\n",
    "\\end{align*}"
   ]
  },
  {
   "cell_type": "markdown",
   "metadata": {},
   "source": [
    "#### Part 3"
   ]
  },
  {
   "cell_type": "markdown",
   "metadata": {},
   "source": [
    "Finally, we proceed to the binomial inversion formula, a.k.a. the Woodbury Matrix Identity, or the Sherman-Morrison-Woodbury formula:"
   ]
  },
  {
   "cell_type": "markdown",
   "metadata": {},
   "source": [
    "\\begin{align*}\n",
    "&(A + UBV^{T})\\left(A^{-1} - A^{-1}U(B^{-1} + V^{T}A^{-1}U)^{-1}V^{T}A^{-1}\\right)\\\\\n",
    "&= I_{n} + UBV^{T}A^{-1} - U(B^{-1} + V^{T}A^{-1}U)^{-1}V^{T}A^{-1} - UBV^{T}A^{-1}U(B^{-1} + V^{T}A^{-1}U)^{-1}V^{T}A^{-1}\\\\\n",
    "&= I_{n} + UBV^{T}A^{-1} - U(I_{m} + BV^{T}A^{-1}U)(B^{-1} + V^{T}A^{-1}U)^{-1}V^{T}A^{-1}\\\\\n",
    "&= I_{n} + UBV^{T}A^{-1} - UB(B^{-1} + V^{T}A^{-1}U)(B^{-1} + V^{T}A^{-1}U)^{-1}V^{T}A^{-1}\\\\\n",
    "&= I_{n} + UBV^{T}A^{-1} - UBV^{T}A^{-1} = I_{n}\\\\\n",
    "\\end{align*}"
   ]
  },
  {
   "cell_type": "markdown",
   "metadata": {},
   "source": [
    "#### Part 4"
   ]
  },
  {
   "cell_type": "markdown",
   "metadata": {},
   "source": [
    "Given the above three parts, we try to prove the following identity:"
   ]
  },
  {
   "cell_type": "markdown",
   "metadata": {},
   "source": [
    "\\begin{align*}\n",
    "\\mathrm{det}(A + UV^{T}) &= \\mathrm{det}(A)\\mathrm{det}(I_{m} + V^{T}A^{-1}U)\n",
    "\\end{align*}"
   ]
  },
  {
   "cell_type": "markdown",
   "metadata": {},
   "source": [
    "We use the Woodbury formula:"
   ]
  },
  {
   "cell_type": "markdown",
   "metadata": {},
   "source": [
    "\\begin{align*}\n",
    "&\\mathrm{det}(A + UV^{T})\\left(A^{-1} - A^{-1}U(I_{m} + V^{T}A^{-1}U)^{-1}V^{T}A^{-1}\\right) = 1\\\\\n",
    "&= \\mathrm{det}(A + UV^{T})\\mathrm{det}\\left(A^{-1} - A^{-1}U(I_{m} + V^{T}A^{-1}U)^{-1}V^{T}A^{-1}\\right)\n",
    "\\end{align*}"
   ]
  },
  {
   "cell_type": "markdown",
   "metadata": {},
   "source": [
    "We focus on the term $\\mathrm{det}\\left(A^{-1} - A^{-1}U(I_{m} + V^{T}A^{-1}U)^{-1}V^{T}A^{-1}\\right)$:"
   ]
  },
  {
   "cell_type": "markdown",
   "metadata": {},
   "source": [
    "\\begin{align*}\n",
    "&\\mathrm{det}\\left(A^{-1} - A^{-1}U(I_{m} + V^{T}A^{-1}U)^{-1}V^{T}A^{-1}\\right) = \\mathrm{det}(A^{-1})\\mathrm{det}\\left(I_{n} - U(I_{m} + V^{T}A^{-1}U)^{-1}V^{T}A^{-1}\\right)\n",
    "\\end{align*}"
   ]
  },
  {
   "cell_type": "markdown",
   "metadata": {},
   "source": [
    "Briefly, we turn aside to the Weinstein-Aronszajn identity: if $A \\in \\mathbb{R}^{n\\times m}$ and $B \\in \\mathbb{R}^{m\\times n}$, then $\\mathrm{det}(I_{n} + AB) = \\mathrm{det}(I_{m} + BA)$. We duplicate the proof from Wikipedia (https://en.wikipedia.org/wiki/Weinstein%E2%80%93Aronszajn_identity):"
   ]
  },
  {
   "cell_type": "markdown",
   "metadata": {},
   "source": [
    "Begin with the following block matrix:\n",
    "\n",
    "\\begin{align*}\n",
    "M = \\begin{bmatrix}I_{m} & -A\\\\\n",
    "B & I_{n}\\end{bmatrix}\n",
    "\\end{align*}\n",
    "\n",
    "Column reduction by block matrix multiplication gives us:\n",
    "\n",
    "\\begin{align*}\n",
    "\\begin{bmatrix}I_{m} & -A\\\\\n",
    "B & I_{n}\\end{bmatrix}\\begin{bmatrix}I_{m} & 0\\\\\n",
    "-B & I_{n}\\end{bmatrix} &= \\begin{bmatrix}I_{m} + AB & -A\\\\\n",
    "0 & I_{n}\n",
    "\\end{bmatrix}\n",
    "\\end{align*}\n",
    "\n",
    "Row reduction would give us:\n",
    "\n",
    "\\begin{align*}\n",
    "\\begin{bmatrix}I_{m} & A\\\\\n",
    "0 & I_{n}\\end{bmatrix}\\begin{bmatrix}I_{m} + AB & -A\\\\\n",
    "0 & I_{n}\n",
    "\\end{bmatrix} &= \\begin{bmatrix}I_{m} + AB & 0\\\\\n",
    "0 & I_{n}\\end{bmatrix}\n",
    "\\end{align*}\n",
    "\n",
    "Since the determinant of the column and row reduction operation matrices is 1, the determinant of $M$ is simply the row-reduced matrix, or $\\mathrm{det}(I_{m} + AB)$.\n",
    "\n",
    "We reverse the order of reduction operations on $M$ and reduce in the other direction; i.e. to achieve a lower-triangular matrix\n",
    "\n",
    "\\begin{align*}\n",
    "\\begin{bmatrix}I_{m} & 0\\\\\n",
    "-B & I_{n}\\end{bmatrix}\\begin{bmatrix}I_{m} & -A\\\\\n",
    "B & I_{n}\\end{bmatrix} &= \\begin{bmatrix}I_{m} & -A\\\\\n",
    "0 & I_{n} + BA\\end{bmatrix}\n",
    "\\end{align*}\n",
    "\n",
    "Column reduction gives us:\n",
    "\\begin{align*}\n",
    "\\begin{bmatrix}I_{m} & -A\\\\\n",
    "0 & I_{n} + BA\\end{bmatrix}\\begin{bmatrix}I_{m} & A\\\\\n",
    "0 & I_{n}\\end{bmatrix} &= \\begin{bmatrix}I_{m} & 0\\\\\n",
    "0 & I_{n} + BA\\end{bmatrix}\n",
    "\\end{align*}\n",
    "\n",
    "so that the determinant of $M$ is also $\\mathrm{det}(I_{n} + BA)$. Hence, $\\mathrm{det}(M) = \\mathrm{det}(I_{m} + AB) = \\mathrm{det}(I_{n} + BA)$, and the Weinstein-Aronszajn identity is proven."
   ]
  },
  {
   "cell_type": "markdown",
   "metadata": {},
   "source": [
    "We use the Weinstein-Aronszajn identity to simplify $\\mathrm{det}\\left(I_{n} - U(I_{m} + V^{T}A^{-1}U)^{-1}V^{T}A^{-1}\\right)$:"
   ]
  },
  {
   "cell_type": "markdown",
   "metadata": {},
   "source": [
    "\\begin{align*}\n",
    "&\\mathrm{det}\\left(I_{n} - U(I_{m} + V^{T}A^{-1}U)^{-1}V^{T}A^{-1}\\right)\\\\\n",
    "&= \\mathrm{det}\\left(I_{m} - (I_{m} + V^{T}A^{-1}U)^{-1}V^{T}A^{-1}U\\right)\\\\\n",
    "&= \\mathrm{det}\\left(I_{m} + (I_{m} + V^{T}A^{-1}U)^{-1} - (I_{m} + V^{T}A^{-1}U)^{-1} - (I_{m} + V^{T}A^{-1}U)^{-1}V^{T}A^{-1}U\\right)\\\\\n",
    "&= \\mathrm{det}\\left(I_{m} + (I_{m} + V^{T}A^{-1}U)^{-1} - (I_{m} + V^{T}A^{-1}U)^{-1}(I_{m} + V^{T}A^{-1}U)\\right)\\\\\n",
    "&= \\mathrm{det}\\left(I_{m} + (I_{m} + V^{T}A^{-1}U)^{-1} - I_{m}\\right)\\\\\n",
    "&= \\mathrm{det}((I_{m} + V^{T}A^{-1}U)^{-1})\n",
    "\\end{align*}"
   ]
  },
  {
   "cell_type": "markdown",
   "metadata": {},
   "source": [
    "Hence,"
   ]
  },
  {
   "cell_type": "markdown",
   "metadata": {},
   "source": [
    "\\begin{align*}\n",
    "&\\mathrm{det}(A + UV^{T})\\mathrm{det}\\left(A^{-1} - A^{-1}U(I_{m} + V^{T}A^{-1}U)^{-1}V^{T}A^{-1}\\right)\\\\\n",
    "&= \\mathrm{det}(A + UV^{T})\\mathrm{det}(A^{-1})\\mathrm{det}((I_{m} + V^{T}A^{-1}U)^{-1}) = 1\\\\\n",
    "\\mathrm{det}(A + UV^{T}) &= \\mathrm{det}(A^{-1})^{-1}\\mathrm{det}((I_{m} + V^{T}A^{-1}U)^{-1})^{-1}\\\\\n",
    " &= \\mathrm{det}(A)\\mathrm{det}(I_{m} + V^{T}A^{-1}U)\n",
    "\\end{align*}"
   ]
  },
  {
   "cell_type": "markdown",
   "metadata": {},
   "source": [
    "$\\square$"
   ]
  },
  {
   "cell_type": "markdown",
   "metadata": {},
   "source": [
    "## Q6\n",
    "\n",
    "Demonstrate the following facts about triangular matrices in Julia (one example for each fact). Mathematically curious ones are also encouraged to prove them. \n",
    "\n",
    "Note a unit triangular matrix is a triangular matrix with all diagonal entries being 1.\n",
    "\n",
    "1. The product of two upper (lower) triangular matrices is upper (lower) triangular.\n",
    "\n",
    "2. The inverse of an upper (lower) triangular matrix is upper (lower) triangular.\n",
    "\n",
    "3. The product of two unit upper (lower) triangular matrices is unit upper (lower) triangular.\n",
    "\n",
    "4. The inverse of a unit upper (lower) triangular matrix is unit upper (lower) triangular.\n",
    "\n",
    "5. An orthogonal upper (lower) triangular matrix is diagonal."
   ]
  },
  {
   "cell_type": "markdown",
   "metadata": {},
   "source": [
    "### Answer"
   ]
  },
  {
   "cell_type": "markdown",
   "metadata": {},
   "source": [
    "We proceed to demonstrate the following parts by proving such statements:"
   ]
  },
  {
   "cell_type": "markdown",
   "metadata": {},
   "source": [
    "#### Part 1"
   ]
  },
  {
   "cell_type": "markdown",
   "metadata": {},
   "source": [
    "The product of two upper (lower) triangular matrices is upper (lower) triangular."
   ]
  },
  {
   "cell_type": "markdown",
   "metadata": {},
   "source": [
    "An example is supplied below for both upper and lower triangular matrices:"
   ]
  },
  {
   "cell_type": "code",
   "execution_count": 35,
   "metadata": {},
   "outputs": [
    {
     "data": {
      "text/plain": [
       "5×5 UpperTriangular{Float64, Matrix{Float64}}:\n",
       " 0.41465  -0.670474  -0.0619065  -2.51388     0.149012\n",
       "  ⋅        0.122319  -0.264377   -0.29526     0.194798\n",
       "  ⋅         ⋅         0.0299737  -0.0781009   0.0565113\n",
       "  ⋅         ⋅          ⋅          0.10059    -1.14204\n",
       "  ⋅         ⋅          ⋅           ⋅          0.524722"
      ]
     },
     "execution_count": 35,
     "metadata": {},
     "output_type": "execute_result"
    }
   ],
   "source": [
    "using Random, LinearAlgebra\n",
    "Random.seed!(123)\n",
    "n = 5\n",
    "T = Float64\n",
    "A = UpperTriangular(randn(T,(n,n)))\n",
    "B = UpperTriangular(randn(T,(n,n)))\n",
    "A * B"
   ]
  },
  {
   "cell_type": "code",
   "execution_count": 36,
   "metadata": {},
   "outputs": [
    {
     "data": {
      "text/plain": [
       "5×5 LowerTriangular{Float64, Matrix{Float64}}:\n",
       " -1.11402     ⋅          ⋅          ⋅          ⋅ \n",
       "  1.32811    0.615347    ⋅          ⋅          ⋅ \n",
       " -0.23285    2.66032    0.0902688   ⋅          ⋅ \n",
       " -0.200543  -1.21355   -1.62274    0.630603    ⋅ \n",
       "  1.90686   -0.513563  -0.678835   2.14582   -1.51082"
      ]
     },
     "execution_count": 36,
     "metadata": {},
     "output_type": "execute_result"
    }
   ],
   "source": [
    "A = LowerTriangular(randn(T,(n,n)))\n",
    "B = LowerTriangular(randn(T,(n,n)))\n",
    "A * B"
   ]
  },
  {
   "cell_type": "markdown",
   "metadata": {},
   "source": [
    "**Proof**: An upper triangular matrix is defined as a square matrix $\\{a_{ij}\\}_{i,j = 1,\\ldots,n}$ where $a_{ij} = 0$ if $j > i$. We may illustrate such a matrix $A \\in \\mathbb{R}^{n\\times n}$ as follows:"
   ]
  },
  {
   "cell_type": "markdown",
   "metadata": {},
   "source": [
    "\\begin{align*}\n",
    "A = \\begin{bmatrix}a_{11} & a_{12} & \\cdots & a_{1n}\\\\\n",
    "        0 & a_{22} & \\cdots & a_{2n}\\\\\n",
    "        \\vdots & \\ddots & \\ddots & \\vdots\\\\\n",
    "        0 & \\cdots & 0 & a_{nn}\\end{bmatrix}\n",
    "\\end{align*}"
   ]
  },
  {
   "cell_type": "markdown",
   "metadata": {},
   "source": [
    "Take another upper-triangular matrix $B \\in \\mathbb{R}^{n\\times n}$. We compute $[AB]_{ij}$ for $i > j$ as follows:"
   ]
  },
  {
   "cell_type": "markdown",
   "metadata": {},
   "source": [
    "\\begin{align*}\n",
    "a_{i,:} &= \\begin{bmatrix}0 & \\cdots & 0 & a_{ii} & a_{i,i+1} & \\cdots & a_{in}\\end{bmatrix}\\\\\n",
    "b_{:,j} &= \\begin{bmatrix}b_{1j} & b_{2j} & \\cdots & b_{jj} & 0 & \\cdots & 0\\end{bmatrix}\\\\\n",
    "[AB]_{ij} &= a_{i,:}b_{:,j} = \\sum_{k=1}^{n}a_{ik}b_{kj}\n",
    "\\end{align*}"
   ]
  },
  {
   "cell_type": "markdown",
   "metadata": {},
   "source": [
    "But $a_{ik} = 0$ for $k < i$ and $b_{kj} = 0$ for $k > j$. Since $i > j$, $k \\leq j$ implies $k < i$ and $k \\geq i$ implies $k > j$. So $a_{ik} = 0$ or $b_{kj} = 0$ for all $k = 1,\\ldots,n$ and $[AB]_{ij} = \\sum_{k=1}^{n}a_{ik}b_{kj} = 0$. This shows that all entries below the diagonal for the product of two upper-triangular matrices is still 0, which proves that the product of two upper-triangular matrices is also upper-triangular.\n",
    "\n",
    "For the product of two lower-triangular matrices, just take the transpose of the above case. Hence, $A^{T}$ and $B^{T}$ are lower triangular, and $B^{T}A^{T} = (AB)^{T}$ is also lower-triangular. $\\square$"
   ]
  },
  {
   "cell_type": "markdown",
   "metadata": {},
   "source": [
    "#### Part 2"
   ]
  },
  {
   "cell_type": "markdown",
   "metadata": {},
   "source": [
    "The inverse of an upper (lower) triangular matrix is upper (lower) triangular."
   ]
  },
  {
   "cell_type": "markdown",
   "metadata": {},
   "source": [
    "Examples in Julia are supplied below, followed by the proof:"
   ]
  },
  {
   "cell_type": "code",
   "execution_count": 37,
   "metadata": {},
   "outputs": [
    {
     "data": {
      "text/plain": [
       "5×5 UpperTriangular{Float64, Matrix{Float64}}:\n",
       " 1.23718   0.674132   54.7685   57.0564   118.207\n",
       "  ⋅       -2.37097   -22.2964  -30.2502   -61.7595\n",
       "  ⋅         ⋅        -32.1047  -34.4115   -69.4758\n",
       "  ⋅         ⋅           ⋅       -3.13607   -5.847\n",
       "  ⋅         ⋅           ⋅         ⋅        -0.918933"
      ]
     },
     "execution_count": 37,
     "metadata": {},
     "output_type": "execute_result"
    }
   ],
   "source": [
    "Random.seed!(123)\n",
    "n = 5\n",
    "A = UpperTriangular(randn((n,n)))\n",
    "inv(A)"
   ]
  },
  {
   "cell_type": "markdown",
   "metadata": {},
   "source": [
    "Alternatively, with an optimized LinearAlgebra function:"
   ]
  },
  {
   "cell_type": "code",
   "execution_count": 38,
   "metadata": {},
   "outputs": [
    {
     "data": {
      "text/plain": [
       "5×5 Matrix{Float64}:\n",
       "  1.23718   0.674132   54.7685   57.0564   118.207\n",
       " -0.0      -2.37097   -22.2964  -30.2502   -61.7595\n",
       " -0.0      -0.0       -32.1047  -34.4115   -69.4758\n",
       " -0.0      -0.0        -0.0      -3.13607   -5.847\n",
       " -0.0      -0.0        -0.0      -0.0       -0.918933"
      ]
     },
     "execution_count": 38,
     "metadata": {},
     "output_type": "execute_result"
    }
   ],
   "source": [
    "import LinearAlgebra: BlasReal\n",
    "Ainv = Matrix{T}(I, n, n)\n",
    "LAPACK.trtrs!('U', 'N', 'N', Matrix(A), Ainv)\n",
    "Ainv"
   ]
  },
  {
   "cell_type": "markdown",
   "metadata": {},
   "source": [
    "Similarly with a lower triangular matrix:"
   ]
  },
  {
   "cell_type": "code",
   "execution_count": 39,
   "metadata": {},
   "outputs": [
    {
     "data": {
      "text/plain": [
       "5×5 Matrix{Float64}:\n",
       "  1.94932     0.0        0.0       0.0       0.0\n",
       "  7.87546    -3.44811   -0.0      -0.0      -0.0\n",
       "  0.393337   -0.444762  -1.03918  -0.0      -0.0\n",
       " 45.4668    -12.6109     1.43421  -3.17     -0.0\n",
       " 63.9102    -19.2004     3.16097  -4.35301  -2.07389"
      ]
     },
     "execution_count": 39,
     "metadata": {},
     "output_type": "execute_result"
    }
   ],
   "source": [
    "A = LowerTriangular(randn((n,n)))\n",
    "Ainv = Matrix{T}(I, n, n)\n",
    "LAPACK.trtrs!('L', 'N', 'N', Matrix(A), Ainv)\n",
    "Ainv"
   ]
  },
  {
   "cell_type": "markdown",
   "metadata": {},
   "source": [
    "**Proof**: Let $A \\in \\mathbb{R}^{n \\times n}$ be upper triangular. We compute the inverse of $A$ via bottom-to-top row reduction:"
   ]
  },
  {
   "cell_type": "markdown",
   "metadata": {},
   "source": [
    "\\begin{align*}\n",
    "A &= \\begin{bmatrix}a_{11} & a_{12} & \\cdots & a_{1n}\\\\\n",
    "        0 & a_{22} & \\cdots & a_{2n}\\\\\n",
    "        \\vdots & \\ddots & \\ddots & \\vdots\\\\\n",
    "        0 & \\cdots & 0 & a_{nn}\\end{bmatrix}\\\\\n",
    "A_{1}' = S_{1}A = \\begin{bmatrix}1 & 0 & \\cdots & 0\\\\\n",
    "0 & 1 & \\cdots & 0\\\\\n",
    "\\vdots & \\ddots & \\ddots & \\vdots\\\\\n",
    "0 & \\cdots & 0 & \\frac{1}{a_{nn}}\\end{bmatrix}A &= \\begin{bmatrix}a_{11} & a_{12} & \\cdots & a_{1n}\\\\\n",
    "        0 & a_{22} & \\cdots & a_{2n}\\\\\n",
    "        \\vdots & \\ddots & \\ddots & \\vdots\\\\\n",
    "        0 & \\cdots & 0 & 1\\end{bmatrix}\\\\\n",
    "A_{2}' = R_{1}A_{1}' = \\begin{bmatrix}1 & 0 & \\cdots & -a_{1n}\\\\\n",
    "0 & 1 & \\cdots & -a_{2n}\\\\\n",
    "\\vdots & \\ddots & \\ddots & \\vdots\\\\\n",
    "0 & \\cdots & 0 & 1\\end{bmatrix}A_{1}' &= \\begin{bmatrix}a_{11} & a_{12} & \\cdots & 0\\\\\n",
    "        0 & a_{22} & \\cdots & 0\\\\\n",
    "        \\vdots & \\ddots & \\ddots & \\vdots\\\\\n",
    "        0 & \\cdots & 0 & 1\\end{bmatrix}\\\\\n",
    "\\end{align*}"
   ]
  },
  {
   "cell_type": "markdown",
   "metadata": {},
   "source": [
    "The above steps are successively repeated for the $(n - 1) \\times (n - 1)$ submatrix of $A_{2}'$ to generate another column of the identity matrix. The product of such reduction matrices $R_{n}S_{n}\\cdots R_{2}S_{2}R_{1}S_{1}$ is then the inverse $A^{-1}$. In each case the matrices multiplying $A$ to generate $I_{n}$, $R_{k}$ and $S_{k}$, are all upper triangular matrices. Per Part 1, the resulting product of upper triangular matrices is also an upper-triangular matrix. Hence, $A^{-1} = R_{n}S_{n}\\cdots R_{2}S_{2}R_{1}S_{1}$ is also upper-triangular."
   ]
  },
  {
   "cell_type": "markdown",
   "metadata": {},
   "source": [
    "Note that if any of the diagonals $a_{ii} = 0$, then the above row-reduction algorithm would not work. In such a case, said algorithm would eventually yield a row of zeros, showing $A$ to be singular, contradicting the requirement that $A$ be nonsingular."
   ]
  },
  {
   "cell_type": "markdown",
   "metadata": {},
   "source": [
    "The proof for lower-triangular matrices may be duplicated by taking the transpose of the above matrices:\n",
    "\n",
    "\\begin{align*}\n",
    "A^{-1,T} = A^{T,-1} &= S_{1}^{T}R_{1}^{T}\\cdots S_{n}^{T}R_{n}\n",
    "\\end{align*}\n",
    "\n",
    "which is a product of lower triangular matrices. Hence, the inverse of $A^{T}$, a lower triangular matrix $A^{T,-1}$, is also a lower triangular matrix.\n",
    "\n",
    "$\\square$"
   ]
  },
  {
   "cell_type": "markdown",
   "metadata": {},
   "source": [
    "#### Part 3"
   ]
  },
  {
   "cell_type": "markdown",
   "metadata": {},
   "source": [
    "We demonstrate again:"
   ]
  },
  {
   "cell_type": "code",
   "execution_count": 40,
   "metadata": {},
   "outputs": [
    {
     "data": {
      "text/plain": [
       "5×5 UnitUpperTriangular{Float64, Matrix{Float64}}:\n",
       " 1.0  -0.517221  2.59655   -4.0389     3.17827\n",
       "  ⋅    1.0       0.251438  -0.0266581  1.92368\n",
       "  ⋅     ⋅        1.0       -0.612265   1.38525\n",
       "  ⋅     ⋅         ⋅         1.0        2.54238\n",
       "  ⋅     ⋅         ⋅          ⋅         1.0"
      ]
     },
     "execution_count": 40,
     "metadata": {},
     "output_type": "execute_result"
    }
   ],
   "source": [
    "Random.seed!(123)\n",
    "n = 5\n",
    "T = Float64\n",
    "A = UnitUpperTriangular(randn(T,(n,n)))\n",
    "B = UnitUpperTriangular(randn(T,(n,n)))\n",
    "A * B"
   ]
  },
  {
   "cell_type": "code",
   "execution_count": 41,
   "metadata": {},
   "outputs": [
    {
     "data": {
      "text/plain": [
       "5×5 UnitLowerTriangular{Float64, Matrix{Float64}}:\n",
       "  1.0         ⋅          ⋅         ⋅         ⋅ \n",
       " -1.54332    1.0         ⋅         ⋅         ⋅ \n",
       "  2.5422    -1.9484     1.0        ⋅         ⋅ \n",
       " -0.253127   1.3071     1.21166   1.0        ⋅ \n",
       "  0.326879  -0.418754  -0.290714  0.665763  1.0"
      ]
     },
     "execution_count": 41,
     "metadata": {},
     "output_type": "execute_result"
    }
   ],
   "source": [
    "A = UnitLowerTriangular(randn(T,(n,n)))\n",
    "B = UnitLowerTriangular(randn(T,(n,n)))\n",
    "A * B"
   ]
  },
  {
   "cell_type": "markdown",
   "metadata": {},
   "source": [
    "**Proof**: We duplicate the proof for Part 1, except this time, we include the proof for the diagonal entries. For two upper triangular matrices $A$ and $B$, it is established that $[AB]_{ij} = 0$ for $i > j$. We next consider the case where the diagonals of $A$ and $B$ are 1, and aim to prove that the diagonals are also 1, i.e. for $i = j$:"
   ]
  },
  {
   "cell_type": "markdown",
   "metadata": {},
   "source": [
    "\\begin{align*}\n",
    "[AB]_{ii} &= \\sum_{k=1}^{n}a_{ik}b_{ki}\n",
    "\\end{align*}"
   ]
  },
  {
   "cell_type": "markdown",
   "metadata": {},
   "source": [
    "As with Part 1, $a_{ik} = 0$ for $k < i$ and $b_{ki} = 0$ for $k > i$. Clearly then,"
   ]
  },
  {
   "cell_type": "markdown",
   "metadata": {},
   "source": [
    "\\begin{align*}\n",
    "[AB]_{ii} &= a_{ii}b_{ii} = 1\\times 1 = 1\n",
    "\\end{align*}"
   ]
  },
  {
   "cell_type": "markdown",
   "metadata": {},
   "source": [
    "As before, the proof for the lower-diagonal case may be proven by taking the transposes of $A$, $B$, and computing $B^{T}A^{T} = (AB)^{T}$ as above. $\\square$"
   ]
  },
  {
   "cell_type": "markdown",
   "metadata": {},
   "source": [
    "#### Part 4"
   ]
  },
  {
   "cell_type": "markdown",
   "metadata": {},
   "source": [
    "The code examples follow:"
   ]
  },
  {
   "cell_type": "code",
   "execution_count": 42,
   "metadata": {},
   "outputs": [
    {
     "data": {
      "text/plain": [
       "5×5 Matrix{Float64}:\n",
       " 1.0  -0.229819  -1.15196    1.48012   -4.62768\n",
       " 0.0   1.0       -0.292914  -0.75413    0.817831\n",
       " 0.0   0.0        1.0       -0.341782   0.513192\n",
       " 0.0   0.0        0.0        1.0       -2.02891\n",
       " 0.0   0.0        0.0        0.0        1.0"
      ]
     },
     "execution_count": 42,
     "metadata": {},
     "output_type": "execute_result"
    }
   ],
   "source": [
    "Random.seed!(123)\n",
    "n = 5\n",
    "T = Float64\n",
    "A = UnitUpperTriangular(randn(T,(n,n)))\n",
    "Ainv = Matrix{T}(I, n, n)\n",
    "LAPACK.trtrs!('U', 'N', 'N', Matrix(A), Ainv)\n",
    "Ainv"
   ]
  },
  {
   "cell_type": "code",
   "execution_count": 43,
   "metadata": {},
   "outputs": [
    {
     "data": {
      "text/plain": [
       "5×5 Matrix{Float64}:\n",
       "  1.0        0.0       0.0        0.0       0.0\n",
       " -1.17169    1.0       0.0        0.0       0.0\n",
       "  0.452734  -0.124124  1.0        0.0       0.0\n",
       " -0.94292   -1.26393   0.435373   1.0       0.0\n",
       "  2.1423     0.433594  0.264599  -0.662131  1.0"
      ]
     },
     "execution_count": 43,
     "metadata": {},
     "output_type": "execute_result"
    }
   ],
   "source": [
    "A = UnitLowerTriangular(randn(T,(n,n)))\n",
    "Ainv = Matrix{T}(I, n, n)\n",
    "LAPACK.trtrs!('L', 'N', 'N', Matrix(A), Ainv)\n",
    "Ainv"
   ]
  },
  {
   "cell_type": "markdown",
   "metadata": {},
   "source": [
    "We duplicate the steps in Part 2 without the inverse scaling matrices, since the diagonals of the matrix under consideration are all $1$. Indeed, row reduction would proceed as before:"
   ]
  },
  {
   "cell_type": "markdown",
   "metadata": {},
   "source": [
    "\\begin{align*}\n",
    "A &= \\begin{bmatrix}1 & a_{12} & \\cdots & a_{1,n-1} & a_{1n}\\\\\n",
    "        0 & 1 & \\cdots & a_{2,n-1} & a_{2n}\\\\\n",
    "        0 & 0 & 1 & \\cdots & a_{3n}\\\\\n",
    "        \\vdots & \\ddots & \\ddots & \\ddots & \\vdots\\\\\n",
    "        0 & \\cdots & 0 & 0 & 1\\end{bmatrix}\\\\\n",
    "A_{1}' = R_{1}A_{1} &= \\begin{bmatrix}1 & 0 & \\cdots & 0 & -a_{1n}\\\\\n",
    "0 & 1 & \\cdots & 0 & -a_{2n}\\\\\n",
    "0 & 0 & 1 & \\cdots & -a_{3n}\\\\\n",
    "\\vdots & \\ddots & \\ddots & \\ddots & \\vdots\\\\\n",
    "0 & \\cdots & 0 & 0 & 1\\end{bmatrix}A_{1} = \\begin{bmatrix}1 & a_{12} & \\cdots & a_{1,n-1} & 0\\\\\n",
    "        0 & 1 & \\cdots & a_{2,n-1} & 0\\\\\n",
    "        0 & 0 & 1 & \\cdots & 0\\\\\n",
    "        \\vdots & \\ddots & \\ddots & \\ddots & \\vdots\\\\\n",
    "        0 & \\cdots & 0 & 0 & 1\\end{bmatrix}\\\\\n",
    "A_{2}' = R_{2}A_{1}' &= \\begin{bmatrix}1 & 0 & \\cdots & -a_{1,n-1} & 0\\\\\n",
    "0 & 1 & \\cdots & -a_{2,n-1} & 0\\\\\n",
    "0 & 0 & 1 & \\cdots & 0\\\\\n",
    "\\vdots & \\ddots & \\ddots & \\ddots & \\vdots\\\\\n",
    "0 & \\cdots & 0 & 0 & 1\\end{bmatrix}A_{1} = \\begin{bmatrix}1 & a_{12} & \\cdots & 0 & 0\\\\\n",
    "        0 & 1 & \\cdots & 0 & 0\\\\\n",
    "        0 & 0 & 1 & \\cdots & 0\\\\\n",
    "        \\vdots & \\ddots & \\ddots & \\ddots & \\vdots\\\\\n",
    "        0 & \\cdots & 0 & 0 & 1\\end{bmatrix}\\\\\n",
    "\\end{align*}"
   ]
  },
  {
   "cell_type": "markdown",
   "metadata": {},
   "source": [
    "Reduction proceeds as for Part 2. Since each of the $R_{k}$ are unit upper triangular matrices, so is their product $R_{n}\\cdots R_{1} = A^{-1}$. Hence, the inverse of unit upper triangular matrices is also unit upper triangular.\n",
    "\n",
    "The proof for lower triangular matrices, as in the previous parts, may be acquired by taking the transpose of the above matrix products. Thus, $R_{1}^{T}\\cdots R_{n}^{T} = A^{T,-1}$ is lower triangular, as is $A^{T}$. $\\square$"
   ]
  },
  {
   "cell_type": "markdown",
   "metadata": {},
   "source": [
    "#### Part 5"
   ]
  },
  {
   "cell_type": "markdown",
   "metadata": {},
   "source": [
    "An orthogonal upper (lower) triangular matrix is diagonal."
   ]
  },
  {
   "cell_type": "markdown",
   "metadata": {},
   "source": [
    "A code example follows:"
   ]
  },
  {
   "cell_type": "code",
   "execution_count": 44,
   "metadata": {},
   "outputs": [
    {
     "data": {
      "text/plain": [
       "5×5 Diagonal{Int64, Vector{Int64}}:\n",
       " 1  ⋅  ⋅  ⋅  ⋅\n",
       " ⋅  1  ⋅  ⋅  ⋅\n",
       " ⋅  ⋅  1  ⋅  ⋅\n",
       " ⋅  ⋅  ⋅  1  ⋅\n",
       " ⋅  ⋅  ⋅  ⋅  1"
      ]
     },
     "execution_count": 44,
     "metadata": {},
     "output_type": "execute_result"
    }
   ],
   "source": [
    "A = Diagonal([1, -1, 1, 1, -1])\n",
    "A * transpose(A)"
   ]
  },
  {
   "cell_type": "markdown",
   "metadata": {},
   "source": [
    "**Proof**: Assume $A \\in \\mathbb{C}^{n}$ is orhtogonal upper triangular. Then $A^{T}A = I_{n}$. Since $A^{T} = A^{-1}$, if $A$ is upper triangular, so much $A^{T}$. But since $A^{-1} = A^{T}$, $A^{-1}$ must also be lower triangular. Then $A$ must be lower triangular also. Hence, $A$ is diagonal.\n",
    "\n",
    "The proof follows analogously if we begin with $A$ as a lower triangular matrix, and then conclude from $A^{T} = A^{-1}$ that $A$ is also upper triangular and hence diagonal. $\\square$"
   ]
  },
  {
   "cell_type": "markdown",
   "metadata": {},
   "source": [
    "#### Part 6"
   ]
  },
  {
   "cell_type": "markdown",
   "metadata": {},
   "source": [
    "The product of two orthogonal matrices is orthogonal."
   ]
  },
  {
   "cell_type": "markdown",
   "metadata": {},
   "source": [
    "A code example follows:"
   ]
  },
  {
   "cell_type": "code",
   "execution_count": 45,
   "metadata": {},
   "outputs": [
    {
     "data": {
      "text/plain": [
       "5×5 Matrix{Float64}:\n",
       "  1.0          -2.92688e-16   9.26352e-17   9.94723e-17   1.96329e-16\n",
       " -2.92688e-16   1.0           4.16631e-16  -2.0422e-16   -4.06018e-17\n",
       "  9.26352e-17   4.16631e-16   1.0           1.25344e-16  -3.28403e-16\n",
       "  9.94723e-17  -2.0422e-16    1.25344e-16   1.0          -1.30698e-17\n",
       "  1.96329e-16  -4.06018e-17  -3.28403e-16  -1.30698e-17   1.0"
      ]
     },
     "execution_count": 45,
     "metadata": {},
     "output_type": "execute_result"
    }
   ],
   "source": [
    "Random.seed!(123)\n",
    "n = 5\n",
    "A = randn((n, n))\n",
    "B = randn((n,n))\n",
    "QA, _ = qr(A)\n",
    "QB, _ = qr(B)\n",
    "\n",
    "QA * QB * transpose(QA * QB)"
   ]
  },
  {
   "cell_type": "markdown",
   "metadata": {},
   "source": [
    "It should be noted that off-diagonal numbers in the resulting matrix are not exactly zero, but are very close to zero owing to numerical error. In many applications, they would be sufficiently close to zero."
   ]
  },
  {
   "cell_type": "markdown",
   "metadata": {},
   "source": [
    "**Proof**: Let $Q_{A}$ and $Q_{B}$ be two orthogonal matrices. Then,\n",
    "\n",
    "\\begin{align*}\n",
    "Q_{A}Q_{B}(Q_{A}Q_{B})^{T} &= Q_{A}Q_{B}Q_{B}^{T}Q_{A}^{T}\\\\\n",
    " &= Q_{A}Q_{A}^{T} = I\n",
    "\\end{align*}\n",
    "\n",
    "$\\square$"
   ]
  }
 ],
 "metadata": {
  "kernelspec": {
   "display_name": "Julia 1.7.1",
   "language": "julia",
   "name": "julia-1.7"
  },
  "language_info": {
   "file_extension": ".jl",
   "mimetype": "application/julia",
   "name": "julia",
   "version": "1.7.1"
  },
  "toc": {
   "colors": {
    "hover_highlight": "#DAA520",
    "running_highlight": "#FF0000",
    "selected_highlight": "#FFD700"
   },
   "moveMenuLeft": true,
   "nav_menu": {
    "height": "153px",
    "width": "252px"
   },
   "navigate_menu": true,
   "number_sections": false,
   "sideBar": true,
   "skip_h1_title": true,
   "threshold": 4,
   "toc_cell": false,
   "toc_section_display": "block",
   "toc_window_display": true,
   "widenNotebook": false
  },
  "toc-autonumbering": false
 },
 "nbformat": 4,
 "nbformat_minor": 4
}
